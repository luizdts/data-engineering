{
 "cells": [
  {
   "cell_type": "code",
   "execution_count": 0,
   "metadata": {
    "application/vnd.databricks.v1+cell": {
     "cellMetadata": {
      "byteLimit": 2048000,
      "rowLimit": 10000
     },
     "inputWidgets": {},
     "nuid": "e8fa703b-0df5-4add-a6c0-7320dd078738",
     "showTitle": false,
     "title": ""
    }
   },
   "outputs": [],
   "source": [
    "df = spark.read.format('com.databricks.spark.csv')\\\n",
    "    .options(header=\"True\", inferschema=\"True\")\\\n",
    "    .load('/FileStore/tables/diabetes.csv')"
   ]
  },
  {
   "cell_type": "code",
   "execution_count": 0,
   "metadata": {
    "application/vnd.databricks.v1+cell": {
     "cellMetadata": {
      "byteLimit": 2048000,
      "rowLimit": 10000
     },
     "inputWidgets": {},
     "nuid": "913f20a6-4cec-4b53-8fc4-58904e0f7c2c",
     "showTitle": false,
     "title": ""
    }
   },
   "outputs": [
    {
     "output_type": "stream",
     "name": "stdout",
     "output_type": "stream",
     "text": [
      "root\n |-- Pregnancies: integer (nullable = true)\n |-- Glucose: integer (nullable = true)\n |-- BloodPressure: integer (nullable = true)\n |-- SkinThickness: integer (nullable = true)\n |-- Insulin: integer (nullable = true)\n |-- BMI: double (nullable = true)\n |-- DiabetesPedigreeFunction: double (nullable = true)\n |-- Age: integer (nullable = true)\n |-- Outcome: integer (nullable = true)\n\n"
     ]
    }
   ],
   "source": [
    "df.printSchema()"
   ]
  },
  {
   "cell_type": "code",
   "execution_count": 0,
   "metadata": {
    "application/vnd.databricks.v1+cell": {
     "cellMetadata": {
      "byteLimit": 2048000,
      "rowLimit": 10000
     },
     "inputWidgets": {},
     "nuid": "49da74ee-f97d-41d1-8449-c9581561a33f",
     "showTitle": false,
     "title": ""
    }
   },
   "outputs": [
    {
     "output_type": "execute_result",
     "data": {
      "text/html": [
       "<div>\n",
       "<style scoped>\n",
       "    .dataframe tbody tr th:only-of-type {\n",
       "        vertical-align: middle;\n",
       "    }\n",
       "\n",
       "    .dataframe tbody tr th {\n",
       "        vertical-align: top;\n",
       "    }\n",
       "\n",
       "    .dataframe thead th {\n",
       "        text-align: right;\n",
       "    }\n",
       "</style>\n",
       "<table border=\"1\" class=\"dataframe\">\n",
       "  <thead>\n",
       "    <tr style=\"text-align: right;\">\n",
       "      <th></th>\n",
       "      <th>Pregnancies</th>\n",
       "      <th>Glucose</th>\n",
       "      <th>BloodPressure</th>\n",
       "      <th>SkinThickness</th>\n",
       "      <th>Insulin</th>\n",
       "      <th>BMI</th>\n",
       "      <th>DiabetesPedigreeFunction</th>\n",
       "      <th>Age</th>\n",
       "      <th>Outcome</th>\n",
       "    </tr>\n",
       "  </thead>\n",
       "  <tbody>\n",
       "    <tr>\n",
       "      <th>0</th>\n",
       "      <td>6</td>\n",
       "      <td>148</td>\n",
       "      <td>72</td>\n",
       "      <td>35</td>\n",
       "      <td>0</td>\n",
       "      <td>33.6</td>\n",
       "      <td>0.627</td>\n",
       "      <td>50</td>\n",
       "      <td>1</td>\n",
       "    </tr>\n",
       "    <tr>\n",
       "      <th>1</th>\n",
       "      <td>1</td>\n",
       "      <td>85</td>\n",
       "      <td>66</td>\n",
       "      <td>29</td>\n",
       "      <td>0</td>\n",
       "      <td>26.6</td>\n",
       "      <td>0.351</td>\n",
       "      <td>31</td>\n",
       "      <td>0</td>\n",
       "    </tr>\n",
       "    <tr>\n",
       "      <th>2</th>\n",
       "      <td>8</td>\n",
       "      <td>183</td>\n",
       "      <td>64</td>\n",
       "      <td>0</td>\n",
       "      <td>0</td>\n",
       "      <td>23.3</td>\n",
       "      <td>0.672</td>\n",
       "      <td>32</td>\n",
       "      <td>1</td>\n",
       "    </tr>\n",
       "    <tr>\n",
       "      <th>3</th>\n",
       "      <td>1</td>\n",
       "      <td>89</td>\n",
       "      <td>66</td>\n",
       "      <td>23</td>\n",
       "      <td>94</td>\n",
       "      <td>28.1</td>\n",
       "      <td>0.167</td>\n",
       "      <td>21</td>\n",
       "      <td>0</td>\n",
       "    </tr>\n",
       "    <tr>\n",
       "      <th>4</th>\n",
       "      <td>0</td>\n",
       "      <td>137</td>\n",
       "      <td>40</td>\n",
       "      <td>35</td>\n",
       "      <td>168</td>\n",
       "      <td>43.1</td>\n",
       "      <td>2.288</td>\n",
       "      <td>33</td>\n",
       "      <td>1</td>\n",
       "    </tr>\n",
       "  </tbody>\n",
       "</table>\n",
       "</div>"
      ],
      "text/plain": [
       "   Pregnancies  Glucose  BloodPressure  ...  DiabetesPedigreeFunction  Age  Outcome\n",
       "0            6      148             72  ...                     0.627   50        1\n",
       "1            1       85             66  ...                     0.351   31        0\n",
       "2            8      183             64  ...                     0.672   32        1\n",
       "3            1       89             66  ...                     0.167   21        0\n",
       "4            0      137             40  ...                     2.288   33        1\n",
       "\n",
       "[5 rows x 9 columns]"
      ]
     },
     "execution_count": 7,
     "metadata": {},
     "output_type": "execute_result"
    }
   ],
   "source": [
    "import pandas as pd\n",
    "pd.DataFrame(df.take(5), columns=df.columns)"
   ]
  },
  {
   "cell_type": "code",
   "execution_count": 0,
   "metadata": {
    "application/vnd.databricks.v1+cell": {
     "cellMetadata": {
      "byteLimit": 2048000,
      "rowLimit": 10000
     },
     "inputWidgets": {},
     "nuid": "2d8cb31c-da4f-4668-912f-359833b11774",
     "showTitle": false,
     "title": ""
    }
   },
   "outputs": [
    {
     "output_type": "execute_result",
     "data": {
      "text/plain": [
       "[Row(outcome=1, count=268), Row(outcome=0, count=500)]"
      ]
     },
     "execution_count": 8,
     "metadata": {},
     "output_type": "execute_result"
    }
   ],
   "source": [
    "df.groupBy('outcome').count().collect()"
   ]
  },
  {
   "cell_type": "code",
   "execution_count": 0,
   "metadata": {
    "application/vnd.databricks.v1+cell": {
     "cellMetadata": {
      "byteLimit": 2048000,
      "rowLimit": 10000
     },
     "inputWidgets": {},
     "nuid": "575b0ae3-3021-455c-8c9d-6d88a365504b",
     "showTitle": false,
     "title": ""
    }
   },
   "outputs": [
    {
     "output_type": "execute_result",
     "data": {
      "text/plain": [
       "([<matplotlib.axis.XTick at 0x7fa566f89c00>,\n",
       "  <matplotlib.axis.XTick at 0x7fa566f8ac20>],\n",
       " [Text(0.175, 0, '1'), Text(1.175, 0, '0')])"
      ]
     },
     "execution_count": 10,
     "metadata": {},
     "output_type": "execute_result"
    },
    {
     "output_type": "display_data",
     "data": {
      "image/png": "[encoded data removed]",
      "text/plain": [
       "<Figure size 640x480 with 1 Axes>"
      ]
     },
     "metadata": {},
     "output_type": "display_data"
    }
   ],
   "source": [
    "import numpy as np\n",
    "import matplotlib.pyplot as plt\n",
    "\n",
    "responses = df.groupBy('outcome').count().collect()\n",
    "categories = [i[0] for i in responses]\n",
    "counts = [i[1] for i in responses]\n",
    "\n",
    "ind = np.array(range(len(categories)))\n",
    "\n",
    "width = 0.35\n",
    "plt.bar(ind, counts, width=width, color='r')\n",
    "\n",
    "plt.ylabel('counts')\n",
    "plt.title('outcome')\n",
    "plt.xticks(ind + width/2., categories)"
   ]
  },
  {
   "cell_type": "code",
   "execution_count": 0,
   "metadata": {
    "application/vnd.databricks.v1+cell": {
     "cellMetadata": {
      "byteLimit": 2048000,
      "rowLimit": 10000
     },
     "inputWidgets": {},
     "nuid": "1cc65ab9-1d93-4fad-8dd1-0d0b995cfba9",
     "showTitle": false,
     "title": ""
    }
   },
   "outputs": [
    {
     "output_type": "stream",
     "name": "stdout",
     "output_type": "stream",
     "text": [
      "+-------+------------------+-----------------+------------------+------------------+------------------+------------------+------------------------+------------------+------------------+\n|summary|       Pregnancies|          Glucose|     BloodPressure|     SkinThickness|           Insulin|               BMI|DiabetesPedigreeFunction|               Age|           Outcome|\n+-------+------------------+-----------------+------------------+------------------+------------------+------------------+------------------------+------------------+------------------+\n|  count|               768|              768|               768|               768|               768|               768|                     768|               768|               768|\n|   mean|3.8450520833333335|     120.89453125|       69.10546875|20.536458333333332| 79.79947916666667|31.992578124999977|      0.4718763020833327|33.240885416666664|0.3489583333333333|\n| stddev|  3.36957806269887|31.97261819513622|19.355807170644777|15.952217567727642|115.24400235133803| 7.884160320375441|       0.331328595012775|11.760231540678689| 0.476951377242799|\n|    min|                 0|                0|                 0|                 0|                 0|               0.0|                   0.078|                21|                 0|\n|    max|                17|              199|               122|                99|               846|              67.1|                    2.42|                81|                 1|\n+-------+------------------+-----------------+------------------+------------------+------------------+------------------+------------------------+------------------+------------------+\n\n"
     ]
    }
   ],
   "source": [
    "df.describe().show()"
   ]
  },
  {
   "cell_type": "code",
   "execution_count": 0,
   "metadata": {
    "application/vnd.databricks.v1+cell": {
     "cellMetadata": {
      "byteLimit": 2048000,
      "rowLimit": 10000
     },
     "inputWidgets": {},
     "nuid": "1482be74-cc82-44c3-87bb-08e463f49ade",
     "showTitle": true,
     "title": "Spark MLlib"
    }
   },
   "outputs": [],
   "source": [
    "from pyspark.ml.classification import LogisticRegression\n",
    "lr = LogisticRegression()"
   ]
  },
  {
   "cell_type": "code",
   "execution_count": 0,
   "metadata": {
    "application/vnd.databricks.v1+cell": {
     "cellMetadata": {
      "byteLimit": 2048000,
      "rowLimit": 10000
     },
     "inputWidgets": {},
     "nuid": "eee99b8d-f7a4-411b-a274-af8a483ed80e",
     "showTitle": false,
     "title": ""
    }
   },
   "outputs": [],
   "source": [
    "from pyspark.ml.feature import VectorAssembler\n",
    "\n",
    "assembler = VectorAssembler(\n",
    "    inputCols = ['Pregnancies', 'Glucose', 'BloodPressure', 'SkinThickness', 'Insulin', 'BMI' , 'DiabetesPedigreeFunction', 'Age'],\n",
    "    outputCol=\"features\")"
   ]
  },
  {
   "cell_type": "code",
   "execution_count": 0,
   "metadata": {
    "application/vnd.databricks.v1+cell": {
     "cellMetadata": {
      "byteLimit": 2048000,
      "rowLimit": 10000
     },
     "inputWidgets": {},
     "nuid": "2dc51f5d-28ca-4777-98a7-187f7234d242",
     "showTitle": false,
     "title": ""
    }
   },
   "outputs": [],
   "source": [
    "#aplicando o assembler\n",
    "df_transform = assembler.transform(df)"
   ]
  },
  {
   "cell_type": "code",
   "execution_count": 0,
   "metadata": {
    "application/vnd.databricks.v1+cell": {
     "cellMetadata": {
      "byteLimit": 2048000,
      "rowLimit": 10000
     },
     "inputWidgets": {},
     "nuid": "220f0a6c-9284-4655-af68-ae82aea750cf",
     "showTitle": false,
     "title": ""
    }
   },
   "outputs": [
    {
     "output_type": "stream",
     "name": "stdout",
     "output_type": "stream",
     "text": [
      "+-----------+-------+-------------+-------------+-------+----+------------------------+---+-------+--------------------+\n|Pregnancies|Glucose|BloodPressure|SkinThickness|Insulin| BMI|DiabetesPedigreeFunction|Age|Outcome|            features|\n+-----------+-------+-------------+-------------+-------+----+------------------------+---+-------+--------------------+\n|          6|    148|           72|           35|      0|33.6|                   0.627| 50|      1|[6.0,148.0,72.0,3...|\n|          1|     85|           66|           29|      0|26.6|                   0.351| 31|      0|[1.0,85.0,66.0,29...|\n|          8|    183|           64|            0|      0|23.3|                   0.672| 32|      1|[8.0,183.0,64.0,0...|\n|          1|     89|           66|           23|     94|28.1|                   0.167| 21|      0|[1.0,89.0,66.0,23...|\n|          0|    137|           40|           35|    168|43.1|                   2.288| 33|      1|[0.0,137.0,40.0,3...|\n|          5|    116|           74|            0|      0|25.6|                   0.201| 30|      0|[5.0,116.0,74.0,0...|\n|          3|     78|           50|           32|     88|31.0|                   0.248| 26|      1|[3.0,78.0,50.0,32...|\n|         10|    115|            0|            0|      0|35.3|                   0.134| 29|      0|[10.0,115.0,0.0,0...|\n|          2|    197|           70|           45|    543|30.5|                   0.158| 53|      1|[2.0,197.0,70.0,4...|\n|          8|    125|           96|            0|      0| 0.0|                   0.232| 54|      1|[8.0,125.0,96.0,0...|\n|          4|    110|           92|            0|      0|37.6|                   0.191| 30|      0|[4.0,110.0,92.0,0...|\n|         10|    168|           74|            0|      0|38.0|                   0.537| 34|      1|[10.0,168.0,74.0,...|\n|         10|    139|           80|            0|      0|27.1|                   1.441| 57|      0|[10.0,139.0,80.0,...|\n|          1|    189|           60|           23|    846|30.1|                   0.398| 59|      1|[1.0,189.0,60.0,2...|\n|          5|    166|           72|           19|    175|25.8|                   0.587| 51|      1|[5.0,166.0,72.0,1...|\n|          7|    100|            0|            0|      0|30.0|                   0.484| 32|      1|[7.0,100.0,0.0,0....|\n|          0|    118|           84|           47|    230|45.8|                   0.551| 31|      1|[0.0,118.0,84.0,4...|\n|          7|    107|           74|            0|      0|29.6|                   0.254| 31|      1|[7.0,107.0,74.0,0...|\n|          1|    103|           30|           38|     83|43.3|                   0.183| 33|      0|[1.0,103.0,30.0,3...|\n|          1|    115|           70|           30|     96|34.6|                   0.529| 32|      1|[1.0,115.0,70.0,3...|\n+-----------+-------+-------------+-------------+-------+----+------------------------+---+-------+--------------------+\nonly showing top 20 rows\n\n"
     ]
    }
   ],
   "source": [
    "df_transform.show()"
   ]
  },
  {
   "cell_type": "code",
   "execution_count": 0,
   "metadata": {
    "application/vnd.databricks.v1+cell": {
     "cellMetadata": {
      "byteLimit": 2048000,
      "rowLimit": 10000
     },
     "inputWidgets": {},
     "nuid": "23e95a1c-7649-4d59-82cd-405178f89565",
     "showTitle": false,
     "title": ""
    }
   },
   "outputs": [],
   "source": [
    "df_2 = df_transform.select(\"features\", \"outcome\")"
   ]
  },
  {
   "cell_type": "code",
   "execution_count": 0,
   "metadata": {
    "application/vnd.databricks.v1+cell": {
     "cellMetadata": {
      "byteLimit": 2048000,
      "rowLimit": 10000
     },
     "inputWidgets": {},
     "nuid": "8a775383-136c-4828-af5a-a9b6e794e00d",
     "showTitle": false,
     "title": ""
    }
   },
   "outputs": [
    {
     "output_type": "stream",
     "name": "stdout",
     "output_type": "stream",
     "text": [
      "+--------------------+-------+\n|            features|outcome|\n+--------------------+-------+\n|[6.0,148.0,72.0,3...|      1|\n|[1.0,85.0,66.0,29...|      0|\n|[8.0,183.0,64.0,0...|      1|\n|[1.0,89.0,66.0,23...|      0|\n|[0.0,137.0,40.0,3...|      1|\n+--------------------+-------+\nonly showing top 5 rows\n\n"
     ]
    }
   ],
   "source": [
    "df_2.show(5)"
   ]
  },
  {
   "cell_type": "code",
   "execution_count": 0,
   "metadata": {
    "application/vnd.databricks.v1+cell": {
     "cellMetadata": {
      "byteLimit": 2048000,
      "rowLimit": 10000
     },
     "inputWidgets": {},
     "nuid": "f35e4c7c-db4d-467e-a907-281715055cbf",
     "showTitle": false,
     "title": ""
    }
   },
   "outputs": [],
   "source": [
    "df_2 = df_2.withColumnRenamed('outcome','label')"
   ]
  },
  {
   "cell_type": "code",
   "execution_count": 0,
   "metadata": {
    "application/vnd.databricks.v1+cell": {
     "cellMetadata": {
      "byteLimit": 2048000,
      "rowLimit": 10000
     },
     "inputWidgets": {},
     "nuid": "c9e0716b-2ea7-4d43-8a0d-32d0390610cb",
     "showTitle": false,
     "title": ""
    }
   },
   "outputs": [],
   "source": [
    "train, test = df_2.randomSplit([0.8, 0.2], seed = 100)"
   ]
  },
  {
   "cell_type": "code",
   "execution_count": 0,
   "metadata": {
    "application/vnd.databricks.v1+cell": {
     "cellMetadata": {
      "byteLimit": 2048000,
      "rowLimit": 10000
     },
     "inputWidgets": {},
     "nuid": "5a7bbbab-dd18-45f1-9d2b-c90e0b984b14",
     "showTitle": false,
     "title": ""
    }
   },
   "outputs": [
    {
     "output_type": "display_data",
     "data": {
      "application/vnd.jupyter.widget-view+json": {
       "model_id": "56972976337345b3b54e28de7def3b60",
       "version_major": 2,
       "version_minor": 0
      },
      "text/plain": [
       "Downloading artifacts:   0%|          | 0/9 [00:00<?, ?it/s]"
      ]
     },
     "metadata": {},
     "output_type": "display_data"
    },
    {
     "output_type": "display_data",
     "data": {
      "application/vnd.jupyter.widget-view+json": {
       "model_id": "228db6615c2540d8b2698e2a53076761",
       "version_major": 2,
       "version_minor": 0
      },
      "text/plain": [
       "Uploading artifacts:   0%|          | 0/4 [00:00<?, ?it/s]"
      ]
     },
     "metadata": {},
     "output_type": "display_data"
    }
   ],
   "source": [
    "lrModel = lr.fit(train)"
   ]
  },
  {
   "cell_type": "code",
   "execution_count": 0,
   "metadata": {
    "application/vnd.databricks.v1+cell": {
     "cellMetadata": {
      "byteLimit": 2048000,
      "rowLimit": 10000
     },
     "inputWidgets": {},
     "nuid": "07a4fdd3-e9a0-44be-b3e8-b18db0eb4401",
     "showTitle": false,
     "title": ""
    }
   },
   "outputs": [],
   "source": [
    "predictions = lrModel.transform(test)"
   ]
  },
  {
   "cell_type": "code",
   "execution_count": 0,
   "metadata": {
    "application/vnd.databricks.v1+cell": {
     "cellMetadata": {
      "byteLimit": 2048000,
      "rowLimit": 10000
     },
     "inputWidgets": {},
     "nuid": "66eb9a18-225e-4dcf-bda1-636d2785216c",
     "showTitle": false,
     "title": ""
    }
   },
   "outputs": [
    {
     "output_type": "stream",
     "name": "stdout",
     "output_type": "stream",
     "text": [
      "+--------------------+-----+--------------------+--------------------+----------+\n|            features|label|       rawPrediction|         probability|prediction|\n+--------------------+-----+--------------------+--------------------+----------+\n|(8,[0,1,6,7],[6.0...|    0|[3.25162386561716...|[0.96273142015816...|       0.0|\n|(8,[1,5,6,7],[131...|    1|[-0.3424712768943...|[0.41520929953799...|       1.0|\n|(8,[1,5,6,7],[167...|    1|[-1.5647631858748...|[0.17296422296500...|       1.0|\n|[0.0,84.0,64.0,22...|    0|[2.44610788484443...|[0.92027636166669...|       0.0|\n|[0.0,93.0,60.0,0....|    0|[2.28487547803117...|[0.90761666239394...|       0.0|\n|[0.0,95.0,64.0,39...|    0|[1.58277138326314...|[0.82959665541050...|       0.0|\n|[0.0,100.0,70.0,2...|    0|[2.26587982852499...|[0.90601152246091...|       0.0|\n|[0.0,100.0,88.0,6...|    0|[0.60200132277245...|[0.64611404375051...|       0.0|\n|[0.0,101.0,64.0,1...|    0|[3.35162509276083...|[0.96615801129647...|       0.0|\n|[0.0,101.0,65.0,2...|    0|[3.10616825827779...|[0.95714646382207...|       0.0|\n|[0.0,102.0,52.0,0...|    0|[3.01761624923570...|[0.95336365506286...|       0.0|\n|[0.0,102.0,64.0,4...|    0|[1.53898302748667...|[0.82331683871016...|       0.0|\n|[0.0,106.0,70.0,3...|    0|[1.35742543657359...|[0.79534094507367...|       0.0|\n|[0.0,111.0,65.0,0...|    0|[1.92334248948291...|[0.87251070126580...|       0.0|\n|[0.0,113.0,76.0,0...|    1|[1.87688840927913...|[0.86725331374147...|       0.0|\n|[0.0,118.0,84.0,4...|    1|[0.42959536935822...|[0.60577704223260...|       0.0|\n|[0.0,124.0,56.0,1...|    0|[2.10744557748387...|[0.89162474605515...|       0.0|\n|[0.0,127.0,80.0,3...|    0|[0.66168884266979...|[0.65963966142907...|       0.0|\n|[0.0,134.0,58.0,2...|    0|[1.53339077369095...|[0.82250188330670...|       0.0|\n|[0.0,146.0,82.0,0...|    0|[-2.1472096266613...|[0.10459226099014...|       1.0|\n+--------------------+-----+--------------------+--------------------+----------+\nonly showing top 20 rows\n\n"
     ]
    }
   ],
   "source": [
    "predictions.show()"
   ]
  },
  {
   "cell_type": "code",
   "execution_count": 0,
   "metadata": {
    "application/vnd.databricks.v1+cell": {
     "cellMetadata": {
      "byteLimit": 2048000,
      "rowLimit": 10000
     },
     "inputWidgets": {},
     "nuid": "ea682450-6f42-43ca-983c-ce26086b329b",
     "showTitle": false,
     "title": ""
    }
   },
   "outputs": [],
   "source": [
    "from pyspark.ml.evaluation import MulticlassClassificationEvaluator"
   ]
  },
  {
   "cell_type": "code",
   "execution_count": 0,
   "metadata": {
    "application/vnd.databricks.v1+cell": {
     "cellMetadata": {
      "byteLimit": 2048000,
      "rowLimit": 10000
     },
     "inputWidgets": {},
     "nuid": "3c7d4703-f211-49bf-b93b-aee63c2d23c9",
     "showTitle": false,
     "title": ""
    }
   },
   "outputs": [
    {
     "output_type": "stream",
     "name": "stdout",
     "output_type": "stream",
     "text": [
      "Coefficients: [0.10757824613947747,0.037076390070314616,-0.009102076031397585,-0.0037895468261887047,-2.8006681602326473e-05,0.08128507010998798,1.206801967920205,0.021719702725356584]\nIntercept: -8.916599653266085\n"
     ]
    }
   ],
   "source": [
    "print(\"Coefficients: \" + str(lrModel.coefficients))\n",
    "print(\"Intercept: \" + str(lrModel.intercept))"
   ]
  },
  {
   "cell_type": "code",
   "execution_count": 0,
   "metadata": {
    "application/vnd.databricks.v1+cell": {
     "cellMetadata": {
      "byteLimit": 2048000,
      "rowLimit": 10000
     },
     "inputWidgets": {},
     "nuid": "b1758f05-e96d-440c-b309-d9c119975819",
     "showTitle": false,
     "title": ""
    }
   },
   "outputs": [
    {
     "output_type": "stream",
     "name": "stdout",
     "output_type": "stream",
     "text": [
      "Test set accuracy = 0.7310344827586207\n"
     ]
    }
   ],
   "source": [
    "evaluator = MulticlassClassificationEvaluator(labelCol=\"label\", predictionCol=\"prediction\", metricName=\"accuracy\")\n",
    "accuracy = evaluator.evaluate(predictions)\n",
    "\n",
    "print(\"Test set accuracy = \" + str(accuracy))"
   ]
  },
  {
   "cell_type": "code",
   "execution_count": 0,
   "metadata": {
    "application/vnd.databricks.v1+cell": {
     "cellMetadata": {
      "byteLimit": 2048000,
      "rowLimit": 10000
     },
     "inputWidgets": {},
     "nuid": "5918a813-5c44-4b5b-9124-63ff203b1c5c",
     "showTitle": true,
     "title": "Preprocessing"
    }
   },
   "outputs": [],
   "source": [
    "from pyspark.ml.feature import StandardScaler"
   ]
  },
  {
   "cell_type": "code",
   "execution_count": 0,
   "metadata": {
    "application/vnd.databricks.v1+cell": {
     "cellMetadata": {
      "byteLimit": 2048000,
      "rowLimit": 10000
     },
     "inputWidgets": {},
     "nuid": "c2aa0017-b388-4d54-84df-f317a1705f06",
     "showTitle": false,
     "title": ""
    }
   },
   "outputs": [],
   "source": [
    "scaler = StandardScaler(inputCol=\"features\", outputCol=\"scaledFeatures\", withStd=True, withMean=False)"
   ]
  },
  {
   "cell_type": "code",
   "execution_count": 0,
   "metadata": {
    "application/vnd.databricks.v1+cell": {
     "cellMetadata": {
      "byteLimit": 2048000,
      "rowLimit": 10000
     },
     "inputWidgets": {},
     "nuid": "aab30451-6fc9-48cc-b532-42b493045fd8",
     "showTitle": false,
     "title": ""
    }
   },
   "outputs": [],
   "source": [
    "scalerModel = scaler.fit(train)"
   ]
  },
  {
   "cell_type": "code",
   "execution_count": 0,
   "metadata": {
    "application/vnd.databricks.v1+cell": {
     "cellMetadata": {
      "byteLimit": 2048000,
      "rowLimit": 10000
     },
     "inputWidgets": {},
     "nuid": "6c57de4e-b8f7-41c4-bcaf-14b2fc97da82",
     "showTitle": false,
     "title": ""
    }
   },
   "outputs": [
    {
     "output_type": "stream",
     "name": "stdout",
     "output_type": "stream",
     "text": [
      "+--------------------+-----+--------------------+\n|            features|label|      scaledFeatures|\n+--------------------+-----+--------------------+\n|(8,[0,1,6,7],[2.0...|    0|(8,[0,1,6,7],[0.5...|\n|(8,[0,1,6,7],[2.0...|    0|(8,[0,1,6,7],[0.5...|\n|(8,[0,1,6,7],[3.0...|    0|(8,[0,1,6,7],[0.8...|\n|(8,[0,1,6,7],[7.0...|    0|(8,[0,1,6,7],[2.0...|\n|(8,[0,1,6,7],[10....|    1|(8,[0,1,6,7],[2.9...|\n|(8,[1,5,6,7],[73....|    0|(8,[1,5,6,7],[2.2...|\n|(8,[1,5,6,7],[99....|    0|(8,[1,5,6,7],[3.0...|\n|(8,[1,5,6,7],[117...|    0|(8,[1,5,6,7],[3.6...|\n|(8,[1,5,6,7],[119...|    1|(8,[1,5,6,7],[3.6...|\n|(8,[1,5,6,7],[138...|    1|(8,[1,5,6,7],[4.2...|\n|(8,[1,5,6,7],[141...|    1|(8,[1,5,6,7],[4.3...|\n|(8,[1,5,6,7],[145...|    1|(8,[1,5,6,7],[4.5...|\n|(8,[1,6,7],[94.0,...|    0|(8,[1,6,7],[2.919...|\n|[0.0,57.0,60.0,0....|    0|[0.0,1.7704871306...|\n|[0.0,67.0,76.0,0....|    0|[0.0,2.0810989079...|\n|[0.0,74.0,52.0,10...|    0|[0.0,2.2985271520...|\n|[0.0,78.0,88.0,29...|    0|[0.0,2.4227718629...|\n|[0.0,84.0,82.0,31...|    0|[0.0,2.6091389293...|\n|[0.0,86.0,68.0,32...|    0|[0.0,2.6712612847...|\n|[0.0,91.0,68.0,32...|    0|[0.0,2.8265671734...|\n+--------------------+-----+--------------------+\nonly showing top 20 rows\n\n"
     ]
    }
   ],
   "source": [
    "scaledData = scalerModel.transform(train)\n",
    "scaledData.show()"
   ]
  },
  {
   "cell_type": "code",
   "execution_count": 0,
   "metadata": {
    "application/vnd.databricks.v1+cell": {
     "cellMetadata": {
      "byteLimit": 2048000,
      "rowLimit": 10000
     },
     "inputWidgets": {},
     "nuid": "24ceb748-1428-4013-84d6-2f8564efdee1",
     "showTitle": false,
     "title": ""
    }
   },
   "outputs": [
    {
     "output_type": "stream",
     "name": "stdout",
     "output_type": "stream",
     "text": [
      "+-----+--------------------+\n|label|      scaledFeatures|\n+-----+--------------------+\n|    0|(8,[0,1,6,7],[0.5...|\n|    0|(8,[0,1,6,7],[0.5...|\n|    0|(8,[0,1,6,7],[0.8...|\n|    0|(8,[0,1,6,7],[2.0...|\n|    1|(8,[0,1,6,7],[2.9...|\n|    0|(8,[1,5,6,7],[2.2...|\n|    0|(8,[1,5,6,7],[3.0...|\n|    0|(8,[1,5,6,7],[3.6...|\n|    1|(8,[1,5,6,7],[3.6...|\n|    1|(8,[1,5,6,7],[4.2...|\n|    1|(8,[1,5,6,7],[4.3...|\n|    1|(8,[1,5,6,7],[4.5...|\n|    0|(8,[1,6,7],[2.919...|\n|    0|[0.0,1.7704871306...|\n|    0|[0.0,2.0810989079...|\n|    0|[0.0,2.2985271520...|\n|    0|[0.0,2.4227718629...|\n|    0|[0.0,2.6091389293...|\n|    0|[0.0,2.6712612847...|\n|    0|[0.0,2.8265671734...|\n+-----+--------------------+\nonly showing top 20 rows\n\n"
     ]
    }
   ],
   "source": [
    "scaledData = scaledData.drop(\"features\")\n",
    "scaledData.show()"
   ]
  },
  {
   "cell_type": "code",
   "execution_count": 0,
   "metadata": {
    "application/vnd.databricks.v1+cell": {
     "cellMetadata": {
      "byteLimit": 2048000,
      "rowLimit": 10000
     },
     "inputWidgets": {},
     "nuid": "ad8e06c5-7922-4375-b944-5350b3f5709d",
     "showTitle": false,
     "title": ""
    }
   },
   "outputs": [
    {
     "output_type": "stream",
     "name": "stdout",
     "output_type": "stream",
     "text": [
      "+-----+--------------------+\n|label|            features|\n+-----+--------------------+\n|    0|(8,[0,1,6,7],[0.5...|\n|    0|(8,[0,1,6,7],[0.5...|\n|    0|(8,[0,1,6,7],[0.8...|\n|    0|(8,[0,1,6,7],[2.0...|\n|    1|(8,[0,1,6,7],[2.9...|\n|    0|(8,[1,5,6,7],[2.2...|\n|    0|(8,[1,5,6,7],[3.0...|\n|    0|(8,[1,5,6,7],[3.6...|\n|    1|(8,[1,5,6,7],[3.6...|\n|    1|(8,[1,5,6,7],[4.2...|\n|    1|(8,[1,5,6,7],[4.3...|\n|    1|(8,[1,5,6,7],[4.5...|\n|    0|(8,[1,6,7],[2.919...|\n|    0|[0.0,1.7704871306...|\n|    0|[0.0,2.0810989079...|\n|    0|[0.0,2.2985271520...|\n|    0|[0.0,2.4227718629...|\n|    0|[0.0,2.6091389293...|\n|    0|[0.0,2.6712612847...|\n|    0|[0.0,2.8265671734...|\n+-----+--------------------+\nonly showing top 20 rows\n\n"
     ]
    }
   ],
   "source": [
    "scaledData = scaledData.withColumnRenamed('scaledFeatures','features')\n",
    "scaledData.show()"
   ]
  },
  {
   "cell_type": "code",
   "execution_count": 0,
   "metadata": {
    "application/vnd.databricks.v1+cell": {
     "cellMetadata": {
      "byteLimit": 2048000,
      "rowLimit": 10000
     },
     "inputWidgets": {},
     "nuid": "df77c23c-b031-4dbf-8556-8e670bb18365",
     "showTitle": false,
     "title": ""
    }
   },
   "outputs": [
    {
     "output_type": "display_data",
     "data": {
      "application/vnd.jupyter.widget-view+json": {
       "model_id": "d2cfcd4db3d54a53bdddaf4b28dcf734",
       "version_major": 2,
       "version_minor": 0
      },
      "text/plain": [
       "Downloading artifacts:   0%|          | 0/9 [00:00<?, ?it/s]"
      ]
     },
     "metadata": {},
     "output_type": "display_data"
    },
    {
     "output_type": "display_data",
     "data": {
      "application/vnd.jupyter.widget-view+json": {
       "model_id": "4c48f512f97141ceb857a0bc7638fe42",
       "version_major": 2,
       "version_minor": 0
      },
      "text/plain": [
       "Uploading artifacts:   0%|          | 0/4 [00:00<?, ?it/s]"
      ]
     },
     "metadata": {},
     "output_type": "display_data"
    }
   ],
   "source": [
    "lrModel = lr.fit(scaledData)"
   ]
  },
  {
   "cell_type": "code",
   "execution_count": 0,
   "metadata": {
    "application/vnd.databricks.v1+cell": {
     "cellMetadata": {
      "byteLimit": 2048000,
      "rowLimit": 10000
     },
     "inputWidgets": {},
     "nuid": "42a4c894-cc11-46c5-b670-230bbf51ee16",
     "showTitle": true,
     "title": "Aplicando Scaler nos dados de teste"
    }
   },
   "outputs": [
    {
     "output_type": "stream",
     "name": "stdout",
     "output_type": "stream",
     "text": [
      "+-----+--------------------+\n|label|      scaledFeatures|\n+-----+--------------------+\n|    0|(8,[0,1,6,7],[1.8...|\n|    1|(8,[1,5,6,7],[4.2...|\n|    1|(8,[1,5,6,7],[5.3...|\n|    0|[0.0,2.7006556591...|\n|    0|[0.0,2.9900116225...|\n|    0|[0.0,3.0543129478...|\n|    0|[0.0,3.2150662608...|\n|    0|[0.0,3.2150662608...|\n|    0|[0.0,3.2472169234...|\n|    0|[0.0,3.2472169234...|\n|    0|[0.0,3.2793675860...|\n|    0|[0.0,3.2793675860...|\n|    0|[0.0,3.4079702365...|\n|    0|[0.0,3.5687235495...|\n|    1|[0.0,3.6330248747...|\n|    1|[0.0,3.7937781878...|\n|    0|[0.0,3.9866821634...|\n|    0|[0.0,4.0831341512...|\n|    0|[0.0,4.3081887895...|\n|    0|[0.0,4.6939967408...|\n+-----+--------------------+\nonly showing top 20 rows\n\n+-----+--------------------+\n|label|            features|\n+-----+--------------------+\n|    0|(8,[0,1,6,7],[1.8...|\n|    1|(8,[1,5,6,7],[4.2...|\n|    1|(8,[1,5,6,7],[5.3...|\n|    0|[0.0,2.7006556591...|\n|    0|[0.0,2.9900116225...|\n|    0|[0.0,3.0543129478...|\n|    0|[0.0,3.2150662608...|\n|    0|[0.0,3.2150662608...|\n|    0|[0.0,3.2472169234...|\n|    0|[0.0,3.2472169234...|\n|    0|[0.0,3.2793675860...|\n|    0|[0.0,3.2793675860...|\n|    0|[0.0,3.4079702365...|\n|    0|[0.0,3.5687235495...|\n|    1|[0.0,3.6330248747...|\n|    1|[0.0,3.7937781878...|\n|    0|[0.0,3.9866821634...|\n|    0|[0.0,4.0831341512...|\n|    0|[0.0,4.3081887895...|\n|    0|[0.0,4.6939967408...|\n+-----+--------------------+\nonly showing top 20 rows\n\n"
     ]
    }
   ],
   "source": [
    "scalerModel = scaler.fit(test)\n",
    "scaledData  = scalerModel.transform(test)\n",
    "\n",
    "scaledData = scaledData.drop('features')\n",
    "scaledData.show()\n",
    "\n",
    "scaledData = scaledData.withColumnRenamed('scaledFeatures','features')\n",
    "scaledData.show()"
   ]
  },
  {
   "cell_type": "code",
   "execution_count": 0,
   "metadata": {
    "application/vnd.databricks.v1+cell": {
     "cellMetadata": {
      "byteLimit": 2048000,
      "rowLimit": 10000
     },
     "inputWidgets": {},
     "nuid": "3ee7ddf0-4bcc-4f44-a929-fec163e9b53f",
     "showTitle": false,
     "title": ""
    }
   },
   "outputs": [],
   "source": [
    "predictions = lrModel.transform(scaledData)"
   ]
  },
  {
   "cell_type": "code",
   "execution_count": 0,
   "metadata": {
    "application/vnd.databricks.v1+cell": {
     "cellMetadata": {
      "byteLimit": 2048000,
      "rowLimit": 10000
     },
     "inputWidgets": {},
     "nuid": "7934ee02-1b61-4a41-81c5-2de94feedafe",
     "showTitle": false,
     "title": ""
    }
   },
   "outputs": [
    {
     "output_type": "stream",
     "name": "stdout",
     "output_type": "stream",
     "text": [
      "Test set accuracy = 0.7172413793103448\n"
     ]
    }
   ],
   "source": [
    "evaluator = MulticlassClassificationEvaluator(labelCol=\"label\", predictionCol=\"prediction\", metricName=\"accuracy\")\n",
    "accuracy = evaluator.evaluate(predictions)\n",
    "\n",
    "print(\"Test set accuracy = \" + str(accuracy))"
   ]
  },
  {
   "cell_type": "code",
   "execution_count": 0,
   "metadata": {
    "application/vnd.databricks.v1+cell": {
     "cellMetadata": {
      "byteLimit": 2048000,
      "rowLimit": 10000
     },
     "inputWidgets": {},
     "nuid": "b8ef60b1-cb0a-4106-a0ed-aa38adb0aa44",
     "showTitle": true,
     "title": "CrossValidation"
    }
   },
   "outputs": [],
   "source": [
    "from pyspark.ml.tuning import ParamGridBuilder, TrainValidationSplit\n",
    "from pyspark.ml.evaluation import MulticlassClassificationEvaluator"
   ]
  },
  {
   "cell_type": "code",
   "execution_count": 0,
   "metadata": {
    "application/vnd.databricks.v1+cell": {
     "cellMetadata": {
      "byteLimit": 2048000,
      "rowLimit": 10000
     },
     "inputWidgets": {},
     "nuid": "b0d87075-9f49-41b8-9a1d-b8f13dd91030",
     "showTitle": false,
     "title": ""
    }
   },
   "outputs": [],
   "source": [
    "train, test = df_2.randomSplit([0.8, 0.2], seed=12345)"
   ]
  },
  {
   "cell_type": "code",
   "execution_count": 0,
   "metadata": {
    "application/vnd.databricks.v1+cell": {
     "cellMetadata": {
      "byteLimit": 2048000,
      "rowLimit": 10000
     },
     "inputWidgets": {},
     "nuid": "af888d5e-76c3-4897-ae6a-bbb437c40dbc",
     "showTitle": false,
     "title": ""
    }
   },
   "outputs": [],
   "source": [
    "lr = LogisticRegression(maxIter=10)"
   ]
  },
  {
   "cell_type": "code",
   "execution_count": 0,
   "metadata": {
    "application/vnd.databricks.v1+cell": {
     "cellMetadata": {
      "byteLimit": 2048000,
      "rowLimit": 10000
     },
     "inputWidgets": {},
     "nuid": "be0592c7-c689-41e7-8527-81914fa5a644",
     "showTitle": false,
     "title": ""
    }
   },
   "outputs": [],
   "source": [
    "paramGrid = ParamGridBuilder()\\\n",
    "    .addGrid(lr.regParam, [0.1, 0.01])\\\n",
    "    .addGrid(lr.fitIntercept, [False, True])\\\n",
    "    .addGrid(lr.elasticNetParam, [0.0, 0.5, 1.0])\\\n",
    "    .build()"
   ]
  },
  {
   "cell_type": "code",
   "execution_count": 0,
   "metadata": {
    "application/vnd.databricks.v1+cell": {
     "cellMetadata": {
      "byteLimit": 2048000,
      "rowLimit": 10000
     },
     "inputWidgets": {},
     "nuid": "15e4ba0c-8e2b-4cbf-8211-dc30b649e036",
     "showTitle": false,
     "title": ""
    }
   },
   "outputs": [],
   "source": [
    "tvs = TrainValidationSplit(estimator=lr,\n",
    "                           estimatorParamMaps=paramGrid,\n",
    "                           evaluator=MulticlassClassificationEvaluator(),\n",
    "                           trainRatio=0.8)"
   ]
  },
  {
   "cell_type": "code",
   "execution_count": 0,
   "metadata": {
    "application/vnd.databricks.v1+cell": {
     "cellMetadata": {
      "byteLimit": 2048000,
      "rowLimit": 10000
     },
     "inputWidgets": {},
     "nuid": "3e070e67-7c0d-44fd-910d-61672aa37d4f",
     "showTitle": false,
     "title": ""
    }
   },
   "outputs": [
    {
     "output_type": "display_data",
     "data": {
      "application/vnd.jupyter.widget-view+json": {
       "model_id": "29b3aca688044c1e8aef999c0d9ea3c6",
       "version_major": 2,
       "version_minor": 0
      },
      "text/plain": [
       "Downloading artifacts:   0%|          | 0/15 [00:00<?, ?it/s]"
      ]
     },
     "metadata": {},
     "output_type": "display_data"
    },
    {
     "output_type": "display_data",
     "data": {
      "application/vnd.jupyter.widget-view+json": {
       "model_id": "5152a6de78ad42aa8513a343381f5056",
       "version_major": 2,
       "version_minor": 0
      },
      "text/plain": [
       "Uploading artifacts:   0%|          | 0/4 [00:00<?, ?it/s]"
      ]
     },
     "metadata": {},
     "output_type": "display_data"
    },
    {
     "output_type": "display_data",
     "data": {
      "application/vnd.jupyter.widget-view+json": {
       "model_id": "c669f6b4bb8146338291114b156bb545",
       "version_major": 2,
       "version_minor": 0
      },
      "text/plain": [
       "Downloading artifacts:   0%|          | 0/9 [00:00<?, ?it/s]"
      ]
     },
     "metadata": {},
     "output_type": "display_data"
    },
    {
     "output_type": "display_data",
     "data": {
      "application/vnd.jupyter.widget-view+json": {
       "model_id": "5be694c0cf9c4c94ac883899d1aa1d73",
       "version_major": 2,
       "version_minor": 0
      },
      "text/plain": [
       "Uploading artifacts:   0%|          | 0/4 [00:00<?, ?it/s]"
      ]
     },
     "metadata": {},
     "output_type": "display_data"
    }
   ],
   "source": [
    "model = tvs.fit(train)"
   ]
  },
  {
   "cell_type": "code",
   "execution_count": 0,
   "metadata": {
    "application/vnd.databricks.v1+cell": {
     "cellMetadata": {
      "byteLimit": 2048000,
      "rowLimit": 10000
     },
     "inputWidgets": {},
     "nuid": "e6c708d7-acc8-445d-b1bd-123140935732",
     "showTitle": false,
     "title": ""
    }
   },
   "outputs": [
    {
     "output_type": "stream",
     "name": "stdout",
     "output_type": "stream",
     "text": [
      "+--------------------+-----+----------+\n|            features|label|prediction|\n+--------------------+-----+----------+\n|(8,[1,5,6,7],[73....|    0|       0.0|\n|[0.0,91.0,80.0,0....|    0|       0.0|\n|[0.0,93.0,60.0,0....|    0|       0.0|\n|[0.0,95.0,64.0,39...|    0|       0.0|\n|[0.0,101.0,62.0,0...|    0|       0.0|\n|[0.0,104.0,76.0,0...|    0|       0.0|\n|[0.0,105.0,84.0,0...|    1|       0.0|\n|[0.0,119.0,66.0,2...|    0|       0.0|\n|[0.0,138.0,60.0,3...|    1|       0.0|\n|[0.0,141.0,84.0,2...|    0|       0.0|\n|[0.0,147.0,85.0,5...|    0|       1.0|\n|[0.0,180.0,90.0,2...|    1|       1.0|\n|[0.0,198.0,66.0,3...|    1|       1.0|\n|[1.0,0.0,74.0,20....|    0|       0.0|\n|[1.0,71.0,78.0,50...|    0|       0.0|\n|[1.0,77.0,56.0,30...|    0|       0.0|\n|[1.0,79.0,75.0,30...|    0|       0.0|\n|[1.0,80.0,74.0,11...|    0|       0.0|\n|[1.0,83.0,68.0,0....|    0|       0.0|\n|[1.0,85.0,66.0,29...|    0|       0.0|\n+--------------------+-----+----------+\nonly showing top 20 rows\n\n"
     ]
    }
   ],
   "source": [
    "model.transform(test)\\\n",
    "    .select(\"features\", \"label\", \"prediction\").show()"
   ]
  },
  {
   "cell_type": "code",
   "execution_count": 0,
   "metadata": {
    "application/vnd.databricks.v1+cell": {
     "cellMetadata": {
      "byteLimit": 2048000,
      "rowLimit": 10000
     },
     "inputWidgets": {},
     "nuid": "36d08a1b-25f5-4760-bcfb-b6bf1a206585",
     "showTitle": false,
     "title": ""
    }
   },
   "outputs": [
    {
     "output_type": "execute_result",
     "data": {
      "text/plain": [
       "[0.5500147362216328,\n",
       " 0.4657650042265427,\n",
       " 0.43755169561621177,\n",
       " 0.7046431046431046,\n",
       " 0.6973822925042437,\n",
       " 0.6245852187028658,\n",
       " 0.5981489910483994,\n",
       " 0.5525863025863026,\n",
       " 0.5105980162159938,\n",
       " 0.7468770545693623,\n",
       " 0.7210645894190197,\n",
       " 0.7287968441814596]"
      ]
     },
     "execution_count": 48,
     "metadata": {},
     "output_type": "execute_result"
    }
   ],
   "source": [
    "model.validationMetrics"
   ]
  },
  {
   "cell_type": "code",
   "execution_count": 0,
   "metadata": {
    "application/vnd.databricks.v1+cell": {
     "cellMetadata": {
      "byteLimit": 2048000,
      "rowLimit": 10000
     },
     "inputWidgets": {},
     "nuid": "67d2da2c-5e5f-4fb5-b710-8e7f8c10eefb",
     "showTitle": false,
     "title": ""
    }
   },
   "outputs": [],
   "source": [
    "predictions = model.transform(test)"
   ]
  },
  {
   "cell_type": "code",
   "execution_count": 0,
   "metadata": {
    "application/vnd.databricks.v1+cell": {
     "cellMetadata": {
      "byteLimit": 2048000,
      "rowLimit": 10000
     },
     "inputWidgets": {},
     "nuid": "dca9c740-a1bf-4b7e-b85d-55fe7e825fec",
     "showTitle": false,
     "title": ""
    }
   },
   "outputs": [
    {
     "output_type": "stream",
     "name": "stdout",
     "output_type": "stream",
     "text": [
      "Test set accuracy = 0.7801418439716312\n"
     ]
    }
   ],
   "source": [
    "evaluator = MulticlassClassificationEvaluator(labelCol=\"label\", predictionCol=\"prediction\", metricName=\"accuracy\")\n",
    "accuracy = evaluator.evaluate(predictions)\n",
    "\n",
    "print(\"Test set accuracy = \" + str(accuracy))"
   ]
  }
 ],
 "metadata": {
  "application/vnd.databricks.v1+notebook": {
   "dashboards": [],
   "language": "python",
   "notebookMetadata": {
    "pythonIndentUnit": 4
   },
   "notebookName": "BigData-ML-Diabetes",
   "widgets": {}
  }
 },
 "nbformat": 4,
 "nbformat_minor": 0
}
