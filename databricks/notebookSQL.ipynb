{
 "cells": [
  {
   "cell_type": "code",
   "execution_count": 0,
   "metadata": {
    "application/vnd.databricks.v1+cell": {
     "cellMetadata": {
      "byteLimit": 2048000,
      "implicitDf": true,
      "rowLimit": 10000
     },
     "inputWidgets": {},
     "nuid": "b74dac18-a4b7-40d6-8513-cfc8ba5d94a6",
     "showTitle": false,
     "title": ""
    }
   },
   "outputs": [
    {
     "output_type": "display_data",
     "data": {
      "text/html": [
       "<style scoped>\n",
       "  .table-result-container {\n",
       "    max-height: 300px;\n",
       "    overflow: auto;\n",
       "  }\n",
       "  table, th, td {\n",
       "    border: 1px solid black;\n",
       "    border-collapse: collapse;\n",
       "  }\n",
       "  th, td {\n",
       "    padding: 5px;\n",
       "  }\n",
       "  th {\n",
       "    text-align: left;\n",
       "  }\n",
       "</style><div class='table-result-container'><table class='table-result'><thead style='background-color: white'><tr></tr></thead><tbody></tbody></table></div>"
      ]
     },
     "metadata": {
      "application/vnd.databricks.v1+output": {
       "addedWidgets": {},
       "aggData": [],
       "aggError": "",
       "aggOverflow": false,
       "aggSchema": [],
       "aggSeriesLimitReached": false,
       "aggType": "",
       "arguments": {},
       "columnCustomDisplayInfos": {},
       "data": [],
       "datasetInfos": [],
       "dbfsResultPath": null,
       "isJsonSchema": true,
       "metadata": {
        "dataframeName": null
       },
       "overflow": false,
       "plotOptions": {
        "customPlotOptions": {},
        "displayType": "table",
        "pivotAggregation": null,
        "pivotColumns": null,
        "xColumns": null,
        "yColumns": null
       },
       "removedWidgets": [],
       "schema": [],
       "type": "table"
      }
     },
     "output_type": "display_data"
    }
   ],
   "source": [
    "%sql\n",
    "DROP TABLE IF EXISTS all_files;"
   ]
  },
  {
   "cell_type": "code",
   "execution_count": 0,
   "metadata": {
    "application/vnd.databricks.v1+cell": {
     "cellMetadata": {
      "byteLimit": 2048000,
      "implicitDf": true,
      "rowLimit": 10000
     },
     "inputWidgets": {},
     "nuid": "fe6bb420-488e-47bd-9be1-bd532025c1d4",
     "showTitle": false,
     "title": ""
    }
   },
   "outputs": [
    {
     "output_type": "display_data",
     "data": {
      "text/html": [
       "<style scoped>\n",
       "  .table-result-container {\n",
       "    max-height: 300px;\n",
       "    overflow: auto;\n",
       "  }\n",
       "  table, th, td {\n",
       "    border: 1px solid black;\n",
       "    border-collapse: collapse;\n",
       "  }\n",
       "  th, td {\n",
       "    padding: 5px;\n",
       "  }\n",
       "  th {\n",
       "    text-align: left;\n",
       "  }\n",
       "</style><div class='table-result-container'><table class='table-result'><thead style='background-color: white'><tr></tr></thead><tbody></tbody></table></div>"
      ]
     },
     "metadata": {
      "application/vnd.databricks.v1+output": {
       "addedWidgets": {},
       "aggData": [],
       "aggError": "",
       "aggOverflow": false,
       "aggSchema": [],
       "aggSeriesLimitReached": false,
       "aggType": "",
       "arguments": {},
       "columnCustomDisplayInfos": {},
       "data": [],
       "datasetInfos": [],
       "dbfsResultPath": null,
       "isJsonSchema": true,
       "metadata": {
        "dataframeName": null
       },
       "overflow": false,
       "plotOptions": {
        "customPlotOptions": {},
        "displayType": "table",
        "pivotAggregation": null,
        "pivotColumns": null,
        "xColumns": null,
        "yColumns": null
       },
       "removedWidgets": [],
       "schema": [],
       "type": "table"
      }
     },
     "output_type": "display_data"
    }
   ],
   "source": [
    "%sql\n",
    "CREATE TABLE all_files\n",
    "USING CSV\n",
    "OPTIONS (path \"/FileStore/tables/spk/*.CSV\", header \"True\")"
   ]
  },
  {
   "cell_type": "code",
   "execution_count": 0,
   "metadata": {
    "application/vnd.databricks.v1+cell": {
     "cellMetadata": {
      "byteLimit": 2048000,
      "implicitDf": true,
      "rowLimit": 10000
     },
     "inputWidgets": {},
     "nuid": "60942d3f-dedf-4f3d-8837-0450c1b45316",
     "showTitle": false,
     "title": ""
    }
   },
   "outputs": [
    {
     "output_type": "display_data",
     "data": {
      "text/html": [
       "<style scoped>\n",
       "  .table-result-container {\n",
       "    max-height: 300px;\n",
       "    overflow: auto;\n",
       "  }\n",
       "  table, th, td {\n",
       "    border: 1px solid black;\n",
       "    border-collapse: collapse;\n",
       "  }\n",
       "  th, td {\n",
       "    padding: 5px;\n",
       "  }\n",
       "  th {\n",
       "    text-align: left;\n",
       "  }\n",
       "</style><div class='table-result-container'><table class='table-result'><thead style='background-color: white'><tr><th>DEST_COUNTRY_NAME</th><th>ORIGIN_COUNTRY_NAME</th><th>count</th></tr></thead><tbody><tr><td>United States</td><td>Romania</td><td>1</td></tr><tr><td>United States</td><td>Ireland</td><td>264</td></tr><tr><td>United States</td><td>India</td><td>69</td></tr><tr><td>Egypt</td><td>United States</td><td>24</td></tr><tr><td>Equatorial Guinea</td><td>United States</td><td>1</td></tr><tr><td>United States</td><td>Singapore</td><td>25</td></tr><tr><td>United States</td><td>Grenada</td><td>54</td></tr><tr><td>Costa Rica</td><td>United States</td><td>477</td></tr><tr><td>Senegal</td><td>United States</td><td>29</td></tr><tr><td>United States</td><td>Marshall Islands</td><td>44</td></tr><tr><td>Guyana</td><td>United States</td><td>17</td></tr><tr><td>United States</td><td>Sint Maarten</td><td>53</td></tr><tr><td>Malta</td><td>United States</td><td>1</td></tr><tr><td>Bolivia</td><td>United States</td><td>46</td></tr><tr><td>Anguilla</td><td>United States</td><td>21</td></tr><tr><td>Turks and Caicos Islands</td><td>United States</td><td>136</td></tr><tr><td>United States</td><td>Afghanistan</td><td>2</td></tr><tr><td>Saint Vincent and the Grenadines</td><td>United States</td><td>1</td></tr><tr><td>Italy</td><td>United States</td><td>390</td></tr><tr><td>United States</td><td>Russia</td><td>156</td></tr><tr><td>United States</td><td>Federated States of Micronesia</td><td>48</td></tr><tr><td>Pakistan</td><td>United States</td><td>9</td></tr><tr><td>United States</td><td>Netherlands</td><td>570</td></tr><tr><td>Iceland</td><td>United States</td><td>118</td></tr><tr><td>Marshall Islands</td><td>United States</td><td>77</td></tr><tr><td>Luxembourg</td><td>United States</td><td>91</td></tr><tr><td>Honduras</td><td>United States</td><td>391</td></tr><tr><td>The Bahamas</td><td>United States</td><td>903</td></tr><tr><td>El Salvador</td><td>United States</td><td>519</td></tr><tr><td>United States</td><td>Senegal</td><td>46</td></tr><tr><td>Samoa</td><td>United States</td><td>28</td></tr><tr><td>United States</td><td>Angola</td><td>18</td></tr><tr><td>Kazakhstan</td><td>United States</td><td>3</td></tr><tr><td>Switzerland</td><td>United States</td><td>315</td></tr><tr><td>United States</td><td>Anguilla</td><td>20</td></tr><tr><td>Sint Maarten</td><td>United States</td><td>61</td></tr><tr><td>Hong Kong</td><td>United States</td><td>252</td></tr><tr><td>Trinidad and Tobago</td><td>United States</td><td>187</td></tr><tr><td>Latvia</td><td>United States</td><td>12</td></tr><tr><td>United States</td><td>Ecuador</td><td>345</td></tr><tr><td>Slovakia</td><td>United States</td><td>1</td></tr><tr><td>Suriname</td><td>United States</td><td>12</td></tr><tr><td>Mexico</td><td>United States</td><td>6200</td></tr><tr><td>United States</td><td>Cyprus</td><td>1</td></tr><tr><td>Ecuador</td><td>United States</td><td>272</td></tr><tr><td>United States</td><td>Bosnia and Herzegovina</td><td>1</td></tr><tr><td>United States</td><td>Portugal</td><td>104</td></tr><tr><td>United States</td><td>Costa Rica</td><td>501</td></tr><tr><td>United States</td><td>Guatemala</td><td>333</td></tr><tr><td>United States</td><td>Suriname</td><td>13</td></tr><tr><td>Colombia</td><td>United States</td><td>785</td></tr><tr><td>United States</td><td>Cape Verde</td><td>18</td></tr><tr><td>United States</td><td>Jamaica</td><td>757</td></tr><tr><td>United States</td><td>Malaysia</td><td>3</td></tr><tr><td>Norway</td><td>United States</td><td>29</td></tr><tr><td>United States</td><td>Morocco</td><td>16</td></tr><tr><td>Thailand</td><td>United States</td><td>16</td></tr><tr><td>Venezuela</td><td>United States</td><td>377</td></tr><tr><td>United States</td><td>Palau</td><td>30</td></tr><tr><td>United States</td><td>Samoa</td><td>28</td></tr><tr><td>United States</td><td>Algeria</td><td>1</td></tr><tr><td>United States</td><td>Venezuela</td><td>341</td></tr><tr><td>Panama</td><td>United States</td><td>355</td></tr><tr><td>United States</td><td>Finland</td><td>20</td></tr><tr><td>United States</td><td>Chile</td><td>176</td></tr><tr><td>Morocco</td><td>United States</td><td>16</td></tr><tr><td>United States</td><td>Greece</td><td>61</td></tr><tr><td>Antigua and Barbuda</td><td>United States</td><td>123</td></tr><tr><td>Azerbaijan</td><td>United States</td><td>1</td></tr><tr><td>United States</td><td>The Bahamas</td><td>959</td></tr><tr><td>New Zealand</td><td>United States</td><td>86</td></tr><tr><td>Liberia</td><td>United States</td><td>1</td></tr><tr><td>United States</td><td>Hong Kong</td><td>293</td></tr><tr><td>Hungary</td><td>United States</td><td>14</td></tr><tr><td>United States</td><td>China</td><td>505</td></tr><tr><td>United States</td><td>Vietnam</td><td>1</td></tr><tr><td>Sweden</td><td>United States</td><td>65</td></tr><tr><td>United States</td><td>Kuwait</td><td>25</td></tr><tr><td>United States</td><td>Dominican Republic</td><td>1150</td></tr><tr><td>United States</td><td>Egypt</td><td>25</td></tr><tr><td>Israel</td><td>United States</td><td>117</td></tr><tr><td>United States</td><td>United States</td><td>348113</td></tr><tr><td>United States</td><td>Luxembourg</td><td>90</td></tr><tr><td>Ethiopia</td><td>United States</td><td>12</td></tr><tr><td>United States</td><td>Poland</td><td>61</td></tr><tr><td>Martinique</td><td>United States</td><td>23</td></tr><tr><td>Saint Barthelemy</td><td>United States</td><td>28</td></tr><tr><td>United States</td><td>Saint Barthelemy</td><td>29</td></tr><tr><td>United States</td><td>Turkey</td><td>87</td></tr><tr><td>Barbados</td><td>United States</td><td>130</td></tr><tr><td>United States</td><td>Estonia</td><td>1</td></tr><tr><td>United States</td><td>Azerbaijan</td><td>1</td></tr><tr><td>Germany</td><td>United States</td><td>1392</td></tr><tr><td>Kyrgyzstan</td><td>United States</td><td>2</td></tr><tr><td>United States</td><td>South Korea</td><td>621</td></tr><tr><td>United States</td><td>El Salvador</td><td>464</td></tr><tr><td>Ireland</td><td>United States</td><td>231</td></tr><tr><td>United States</td><td>Hungary</td><td>15</td></tr><tr><td>United States</td><td>Serbia</td><td>1</td></tr><tr><td>Malaysia</td><td>United States</td><td>1</td></tr><tr><td>United States</td><td>Panama</td><td>363</td></tr><tr><td>United States</td><td>Ethiopia</td><td>12</td></tr><tr><td>United States</td><td>Aruba</td><td>349</td></tr><tr><td>United States</td><td>Thailand</td><td>13</td></tr><tr><td>United States</td><td>Netherlands Antilles</td><td>289</td></tr><tr><td>United States</td><td>Turks and Caicos Islands</td><td>147</td></tr><tr><td>Cyprus</td><td>United States</td><td>2</td></tr><tr><td>United States</td><td>Pakistan</td><td>15</td></tr><tr><td>United States</td><td>Honduras</td><td>393</td></tr><tr><td>Qatar</td><td>United States</td><td>41</td></tr><tr><td>Fiji</td><td>United States</td><td>53</td></tr><tr><td>Saint Kitts and Nevis</td><td>United States</td><td>113</td></tr><tr><td>Taiwan</td><td>United States</td><td>275</td></tr><tr><td>Haiti</td><td>United States</td><td>238</td></tr><tr><td>Kuwait</td><td>United States</td><td>26</td></tr><tr><td>Canada</td><td>United States</td><td>8271</td></tr><tr><td>Federated States of Micronesia</td><td>United States</td><td>46</td></tr><tr><td>United States</td><td>Liberia</td><td>1</td></tr><tr><td>Jamaica</td><td>United States</td><td>733</td></tr><tr><td>United States</td><td>Malta</td><td>2</td></tr><tr><td>Dominican Republic</td><td>United States</td><td>1109</td></tr><tr><td>Japan</td><td>United States</td><td>1383</td></tr><tr><td>United States</td><td>Saint Vincent and the Grenadines</td><td>16</td></tr><tr><td>United States</td><td>Guadeloupe</td><td>33</td></tr><tr><td>Finland</td><td>United States</td><td>24</td></tr><tr><td>United States</td><td>Ukraine</td><td>17</td></tr><tr><td>United States</td><td>France</td><td>776</td></tr><tr><td>United States</td><td>Norway</td><td>36</td></tr><tr><td>Aruba</td><td>United States</td><td>359</td></tr><tr><td>French Guiana</td><td>United States</td><td>4</td></tr><tr><td>United States</td><td>Kiribati</td><td>18</td></tr><tr><td>India</td><td>United States</td><td>66</td></tr><tr><td>British Virgin Islands</td><td>United States</td><td>49</td></tr><tr><td>United States</td><td>Germany</td><td>1406</td></tr><tr><td>Brazil</td><td>United States</td><td>995</td></tr><tr><td>United States</td><td>New Zealand</td><td>71</td></tr><tr><td>French Polynesia</td><td>United States</td><td>38</td></tr><tr><td>United Arab Emirates</td><td>United States</td><td>165</td></tr><tr><td>Singapore</td><td>United States</td><td>25</td></tr><tr><td>United States</td><td>Mexico</td><td>6220</td></tr><tr><td>Netherlands</td><td>United States</td><td>586</td></tr><tr><td>United States</td><td>Sweden</td><td>73</td></tr><tr><td>United States</td><td>Gabon</td><td>1</td></tr><tr><td>United States</td><td>Martinique</td><td>20</td></tr><tr><td>United States</td><td>United Arab Emirates</td><td>156</td></tr><tr><td>United States</td><td>Bulgaria</td><td>2</td></tr><tr><td>China</td><td>United States</td><td>448</td></tr><tr><td>Denmark</td><td>United States</td><td>98</td></tr><tr><td>United States</td><td>Philippines</td><td>116</td></tr><tr><td>United States</td><td>Nicaragua</td><td>181</td></tr><tr><td>United States</td><td>Belgium</td><td>355</td></tr><tr><td>Peru</td><td>United States</td><td>212</td></tr><tr><td>Argentina</td><td>United States</td><td>184</td></tr><tr><td>Cayman Islands</td><td>United States</td><td>247</td></tr><tr><td>South Africa</td><td>United States</td><td>25</td></tr><tr><td>United States</td><td>Iceland</td><td>129</td></tr><tr><td>United States</td><td>Argentina</td><td>159</td></tr><tr><td>Spain</td><td>United States</td><td>422</td></tr><tr><td>Netherlands Antilles</td><td>United States</td><td>286</td></tr><tr><td>Bermuda</td><td>United States</td><td>183</td></tr><tr><td>United States</td><td>Austria</td><td>34</td></tr><tr><td>United States</td><td>Nigeria</td><td>18</td></tr><tr><td>United States</td><td>Bonaire, Sint Eustatius, and Saba</td><td>16</td></tr><tr><td>Kiribati</td><td>United States</td><td>17</td></tr><tr><td>Saudi Arabia</td><td>United States</td><td>42</td></tr><tr><td>Czech Republic</td><td>United States</td><td>21</td></tr><tr><td>Belgium</td><td>United States</td><td>408</td></tr><tr><td>United States</td><td>Israel</td><td>122</td></tr><tr><td>United States</td><td>Bahrain</td><td>1</td></tr><tr><td>United States</td><td>Saint Lucia</td><td>121</td></tr><tr><td>Afghanistan</td><td>United States</td><td>11</td></tr><tr><td>United States</td><td>British Virgin Islands</td><td>47</td></tr><tr><td>Curacao</td><td>United States</td><td>20</td></tr><tr><td>Georgia</td><td>United States</td><td>2</td></tr><tr><td>United States</td><td>Guyana</td><td>20</td></tr><tr><td>United States</td><td>Denmark</td><td>107</td></tr><tr><td>Philippines</td><td>United States</td><td>132</td></tr><tr><td>Grenada</td><td>United States</td><td>65</td></tr><tr><td>Cape Verde</td><td>United States</td><td>18</td></tr><tr><td>Ukraine</td><td>United States</td><td>19</td></tr><tr><td>United States</td><td>Papua New Guinea</td><td>1</td></tr><tr><td>United States</td><td>Saudi Arabia</td><td>54</td></tr><tr><td>Russia</td><td>United States</td><td>152</td></tr><tr><td>Guatemala</td><td>United States</td><td>386</td></tr><tr><td>Saint Lucia</td><td>United States</td><td>116</td></tr><tr><td>Paraguay</td><td>United States</td><td>90</td></tr><tr><td>United States</td><td>Curacao</td><td>14</td></tr><tr><td>United States</td><td>Taiwan</td><td>252</td></tr><tr><td>United States</td><td>South Africa</td><td>15</td></tr><tr><td>Turkey</td><td>United States</td><td>75</td></tr><tr><td>United Kingdom</td><td>United States</td><td>1629</td></tr><tr><td>United States</td><td>Greenland</td><td>2</td></tr><tr><td>United States</td><td>Spain</td><td>442</td></tr><tr><td>Cuba</td><td>United States</td><td>243</td></tr><tr><td>United States</td><td>Italy</td><td>433</td></tr><tr><td>United States</td><td>Switzerland</td><td>334</td></tr><tr><td>Dominica</td><td>United States</td><td>28</td></tr><tr><td>United States</td><td>Japan</td><td>1307</td></tr><tr><td>Portugal</td><td>United States</td><td>102</td></tr><tr><td>United States</td><td>Brazil</td><td>578</td></tr><tr><td>Bahrain</td><td>United States</td><td>30</td></tr><tr><td>United States</td><td>Peru</td><td>284</td></tr><tr><td>Vietnam</td><td>United States</td><td>1</td></tr><tr><td>United States</td><td>United Kingdom</td><td>1503</td></tr><tr><td>United States</td><td>Belize</td><td>118</td></tr><tr><td>Belize</td><td>United States</td><td>121</td></tr><tr><td>United States</td><td>Ghana</td><td>28</td></tr><tr><td>United States</td><td>Indonesia</td><td>1</td></tr><tr><td>United States</td><td>Fiji</td><td>51</td></tr><tr><td>United States</td><td>Canada</td><td>8305</td></tr><tr><td>United States</td><td>French Polynesia</td><td>38</td></tr><tr><td>United States</td><td>Antigua and Barbuda</td><td>121</td></tr><tr><td>United States</td><td>Burkina Faso</td><td>1</td></tr><tr><td>Nicaragua</td><td>United States</td><td>178</td></tr><tr><td>United States</td><td>Latvia</td><td>13</td></tr><tr><td>United States</td><td>Dominica</td><td>32</td></tr><tr><td>United States</td><td>Czech Republic</td><td>22</td></tr><tr><td>United States</td><td>Australia</td><td>216</td></tr><tr><td>Austria</td><td>United States</td><td>36</td></tr><tr><td>United States</td><td>Cook Islands</td><td>12</td></tr><tr><td>Jordan</td><td>United States</td><td>50</td></tr><tr><td>Palau</td><td>United States</td><td>31</td></tr><tr><td>Uganda</td><td>United States</td><td>2</td></tr><tr><td>United States</td><td>Cameroon</td><td>1</td></tr><tr><td>South Korea</td><td>United States</td><td>683</td></tr><tr><td>Angola</td><td>United States</td><td>14</td></tr><tr><td>Ghana</td><td>United States</td><td>27</td></tr><tr><td>Guadeloupe</td><td>United States</td><td>40</td></tr><tr><td>France</td><td>United States</td><td>774</td></tr><tr><td>United States</td><td>Kyrgyzstan</td><td>12</td></tr><tr><td>Poland</td><td>United States</td><td>62</td></tr><tr><td>Nigeria</td><td>United States</td><td>16</td></tr><tr><td>United States</td><td>Uruguay</td><td>24</td></tr><tr><td>Greenland</td><td>United States</td><td>2</td></tr><tr><td>Chile</td><td>United States</td><td>166</td></tr><tr><td>United States</td><td>Bermuda</td><td>180</td></tr><tr><td>United States</td><td>Cuba</td><td>235</td></tr><tr><td>United States</td><td>Colombia</td><td>832</td></tr><tr><td>United States</td><td>Qatar</td><td>40</td></tr><tr><td>United States</td><td>Barbados</td><td>119</td></tr><tr><td>Australia</td><td>United States</td><td>290</td></tr><tr><td>United States</td><td>Jordan</td><td>51</td></tr><tr><td>United States</td><td>Cayman Islands</td><td>251</td></tr><tr><td>United States</td><td>Trinidad and Tobago</td><td>200</td></tr><tr><td>United States</td><td>Bolivia</td><td>39</td></tr><tr><td>United States</td><td>Slovakia</td><td>1</td></tr><tr><td>Uruguay</td><td>United States</td><td>54</td></tr><tr><td>Cook Islands</td><td>United States</td><td>13</td></tr><tr><td>United States</td><td>Saint Kitts and Nevis</td><td>127</td></tr><tr><td>Bulgaria</td><td>United States</td><td>1</td></tr><tr><td>United States</td><td>French Guiana</td><td>1</td></tr><tr><td>United States</td><td>Haiti</td><td>226</td></tr><tr><td>United States</td><td>Uganda</td><td>1</td></tr><tr><td>Bonaire, Sint Eustatius, and Saba</td><td>United States</td><td>16</td></tr><tr><td>Greece</td><td>United States</td><td>50</td></tr><tr><td>United States</td><td>Romania</td><td>15</td></tr><tr><td>United States</td><td>Croatia</td><td>1</td></tr><tr><td>United States</td><td>Ireland</td><td>344</td></tr><tr><td>Egypt</td><td>United States</td><td>15</td></tr><tr><td>United States</td><td>India</td><td>62</td></tr><tr><td>United States</td><td>Singapore</td><td>1</td></tr><tr><td>United States</td><td>Grenada</td><td>62</td></tr><tr><td>Costa Rica</td><td>United States</td><td>588</td></tr><tr><td>Senegal</td><td>United States</td><td>40</td></tr><tr><td>Moldova</td><td>United States</td><td>1</td></tr><tr><td>United States</td><td>Sint Maarten</td><td>325</td></tr><tr><td>United States</td><td>Marshall Islands</td><td>39</td></tr><tr><td>Guyana</td><td>United States</td><td>64</td></tr><tr><td>Malta</td><td>United States</td><td>1</td></tr><tr><td>Anguilla</td><td>United States</td><td>41</td></tr><tr><td>Bolivia</td><td>United States</td><td>30</td></tr><tr><td>United States</td><td>Paraguay</td><td>6</td></tr><tr><td>Algeria</td><td>United States</td><td>4</td></tr><tr><td>Turks and Caicos Islands</td><td>United States</td><td>230</td></tr><tr><td>United States</td><td>Gibraltar</td><td>1</td></tr><tr><td>Saint Vincent and the Grenadines</td><td>United States</td><td>1</td></tr><tr><td>Italy</td><td>United States</td><td>382</td></tr><tr><td>United States</td><td>Federated States of Micronesia</td><td>69</td></tr><tr><td>United States</td><td>Russia</td><td>161</td></tr><tr><td>Pakistan</td><td>United States</td><td>12</td></tr><tr><td>United States</td><td>Netherlands</td><td>660</td></tr><tr><td>Iceland</td><td>United States</td><td>181</td></tr><tr><td>Marshall Islands</td><td>United States</td><td>42</td></tr><tr><td>Luxembourg</td><td>United States</td><td>155</td></tr><tr><td>Honduras</td><td>United States</td><td>362</td></tr><tr><td>The Bahamas</td><td>United States</td><td>955</td></tr><tr><td>United States</td><td>Senegal</td><td>42</td></tr><tr><td>El Salvador</td><td>United States</td><td>561</td></tr><tr><td>Samoa</td><td>United States</td><td>25</td></tr><tr><td>United States</td><td>Angola</td><td>13</td></tr><tr><td>Switzerland</td><td>United States</td><td>294</td></tr><tr><td>United States</td><td>Anguilla</td><td>38</td></tr><tr><td>Sint Maarten</td><td>United States</td><td>325</td></tr><tr><td>Hong Kong</td><td>United States</td><td>332</td></tr><tr><td>Trinidad and Tobago</td><td>United States</td><td>211</td></tr><tr><td>Latvia</td><td>United States</td><td>19</td></tr><tr><td>United States</td><td>Ecuador</td><td>300</td></tr><tr><td>Suriname</td><td>United States</td><td>1</td></tr><tr><td>Mexico</td><td>United States</td><td>7140</td></tr><tr><td>United States</td><td>Cyprus</td><td>1</td></tr><tr><td>Ecuador</td><td>United States</td><td>268</td></tr><tr><td>United States</td><td>Portugal</td><td>134</td></tr><tr><td>United States</td><td>Costa Rica</td><td>608</td></tr><tr><td>United States</td><td>Guatemala</td><td>318</td></tr><tr><td>United States</td><td>Suriname</td><td>34</td></tr><tr><td>Colombia</td><td>United States</td><td>873</td></tr><tr><td>United States</td><td>Cape Verde</td><td>14</td></tr><tr><td>United States</td><td>Jamaica</td><td>712</td></tr><tr><td>Norway</td><td>United States</td><td>121</td></tr><tr><td>United States</td><td>Malaysia</td><td>3</td></tr><tr><td>United States</td><td>Morocco</td><td>19</td></tr><tr><td>Thailand</td><td>United States</td><td>3</td></tr><tr><td>United States</td><td>Samoa</td><td>25</td></tr><tr><td>Venezuela</td><td>United States</td><td>290</td></tr><tr><td>United States</td><td>Palau</td><td>31</td></tr><tr><td>United States</td><td>Venezuela</td><td>246</td></tr><tr><td>Panama</td><td>United States</td><td>510</td></tr><tr><td>Antigua and Barbuda</td><td>United States</td><td>126</td></tr><tr><td>United States</td><td>Chile</td><td>185</td></tr><tr><td>Morocco</td><td>United States</td><td>15</td></tr><tr><td>United States</td><td>Finland</td><td>28</td></tr><tr><td>Azerbaijan</td><td>United States</td><td>21</td></tr><tr><td>United States</td><td>Greece</td><td>23</td></tr><tr><td>United States</td><td>The Bahamas</td><td>986</td></tr><tr><td>New Zealand</td><td>United States</td><td>111</td></tr><tr><td>Liberia</td><td>United States</td><td>2</td></tr><tr><td>United States</td><td>Hong Kong</td><td>414</td></tr><tr><td>Hungary</td><td>United States</td><td>2</td></tr><tr><td>United States</td><td>China</td><td>920</td></tr><tr><td>United States</td><td>Vietnam</td><td>2</td></tr><tr><td>Burkina Faso</td><td>United States</td><td>1</td></tr><tr><td>Sweden</td><td>United States</td><td>118</td></tr><tr><td>United States</td><td>Kuwait</td><td>28</td></tr><tr><td>United States</td><td>Dominican Republic</td><td>1420</td></tr><tr><td>United States</td><td>Egypt</td><td>12</td></tr><tr><td>Israel</td><td>United States</td><td>134</td></tr><tr><td>United States</td><td>United States</td><td>370002</td></tr><tr><td>Ethiopia</td><td>United States</td><td>13</td></tr><tr><td>United States</td><td>Luxembourg</td><td>134</td></tr><tr><td>United States</td><td>Poland</td><td>33</td></tr><tr><td>Martinique</td><td>United States</td><td>44</td></tr><tr><td>United States</td><td>Saint Barthelemy</td><td>41</td></tr><tr><td>Saint Barthelemy</td><td>United States</td><td>39</td></tr><tr><td>Barbados</td><td>United States</td><td>154</td></tr><tr><td>United States</td><td>Turkey</td><td>129</td></tr><tr><td>Djibouti</td><td>United States</td><td>1</td></tr><tr><td>United States</td><td>Azerbaijan</td><td>21</td></tr><tr><td>United States</td><td>Estonia</td><td>1</td></tr><tr><td>Germany</td><td>United States</td><td>1468</td></tr><tr><td>United States</td><td>South Korea</td><td>827</td></tr><tr><td>United States</td><td>El Salvador</td><td>508</td></tr><tr><td>Ireland</td><td>United States</td><td>335</td></tr><tr><td>United States</td><td>Hungary</td><td>3</td></tr><tr><td>Zambia</td><td>United States</td><td>1</td></tr><tr><td>Malaysia</td><td>United States</td><td>2</td></tr><tr><td>United States</td><td>Ethiopia</td><td>12</td></tr><tr><td>United States</td><td>Panama</td><td>465</td></tr><tr><td>United States</td><td>Aruba</td><td>342</td></tr><tr><td>United States</td><td>Thailand</td><td>4</td></tr><tr><td>United States</td><td>Turks and Caicos Islands</td><td>236</td></tr><tr><td>Croatia</td><td>United States</td><td>2</td></tr><tr><td>United States</td><td>Pakistan</td><td>12</td></tr><tr><td>Cyprus</td><td>United States</td><td>1</td></tr><tr><td>United States</td><td>Honduras</td><td>407</td></tr><tr><td>Fiji</td><td>United States</td><td>24</td></tr><tr><td>Qatar</td><td>United States</td><td>108</td></tr><tr><td>Saint Kitts and Nevis</td><td>United States</td><td>139</td></tr><tr><td>Kuwait</td><td>United States</td><td>32</td></tr><tr><td>Taiwan</td><td>United States</td><td>266</td></tr><tr><td>Haiti</td><td>United States</td><td>226</td></tr><tr><td>Canada</td><td>United States</td><td>8399</td></tr><tr><td>Federated States of Micronesia</td><td>United States</td><td>69</td></tr><tr><td>United States</td><td>Liberia</td><td>2</td></tr><tr><td>Jamaica</td><td>United States</td><td>666</td></tr><tr><td>United States</td><td>Malta</td><td>2</td></tr><tr><td>Dominican Republic</td><td>United States</td><td>1353</td></tr><tr><td>Japan</td><td>United States</td><td>1548</td></tr><tr><td>United States</td><td>Lithuania</td><td>1</td></tr><tr><td>Finland</td><td>United States</td><td>26</td></tr><tr><td>United States</td><td>Guadeloupe</td><td>59</td></tr><tr><td>United States</td><td>Ukraine</td><td>13</td></tr><tr><td>United States</td><td>France</td><td>952</td></tr><tr><td>United States</td><td>Norway</td><td>115</td></tr><tr><td>Aruba</td><td>United States</td><td>346</td></tr><tr><td>French Guiana</td><td>United States</td><td>5</td></tr><tr><td>United States</td><td>Kiribati</td><td>35</td></tr><tr><td>India</td><td>United States</td><td>61</td></tr><tr><td>British Virgin Islands</td><td>United States</td><td>107</td></tr><tr><td>Brazil</td><td>United States</td><td>853</td></tr><tr><td>United States</td><td>Germany</td><td>1336</td></tr><tr><td>United States</td><td>New Zealand</td><td>74</td></tr><tr><td>French Polynesia</td><td>United States</td><td>43</td></tr><tr><td>United Arab Emirates</td><td>United States</td><td>320</td></tr><tr><td>Singapore</td><td>United States</td><td>3</td></tr><tr><td>United States</td><td>Mexico</td><td>7187</td></tr><tr><td>United States</td><td>Sweden</td><td>119</td></tr><tr><td>Netherlands</td><td>United States</td><td>776</td></tr><tr><td>United States</td><td>Martinique</td><td>43</td></tr><tr><td>United States</td><td>United Arab Emirates</td><td>313</td></tr><tr><td>United States</td><td>Bulgaria</td><td>1</td></tr><tr><td>Denmark</td><td>United States</td><td>153</td></tr><tr><td>China</td><td>United States</td><td>772</td></tr><tr><td>United States</td><td>Nicaragua</td><td>201</td></tr><tr><td>United States</td><td>Philippines</td><td>126</td></tr><tr><td>United States</td><td>Georgia</td><td>1</td></tr><tr><td>United States</td><td>Belgium</td><td>228</td></tr><tr><td>Cayman Islands</td><td>United States</td><td>314</td></tr><tr><td>Argentina</td><td>United States</td><td>180</td></tr><tr><td>Peru</td><td>United States</td><td>279</td></tr><tr><td>South Africa</td><td>United States</td><td>36</td></tr><tr><td>United States</td><td>Iceland</td><td>202</td></tr><tr><td>United States</td><td>Argentina</td><td>141</td></tr><tr><td>Spain</td><td>United States</td><td>420</td></tr><tr><td>Bermuda</td><td>United States</td><td>183</td></tr><tr><td>United States</td><td>Nigeria</td><td>50</td></tr><tr><td>United States</td><td>Austria</td><td>63</td></tr><tr><td>United States</td><td>Bonaire, Sint Eustatius, and Saba</td><td>59</td></tr><tr><td>Kiribati</td><td>United States</td><td>26</td></tr><tr><td>Saudi Arabia</td><td>United States</td><td>83</td></tr><tr><td>Czech Republic</td><td>United States</td><td>13</td></tr><tr><td>United States</td><td>Israel</td><td>127</td></tr><tr><td>Belgium</td><td>United States</td><td>259</td></tr><tr><td>United States</td><td>Saint Lucia</td><td>136</td></tr><tr><td>United States</td><td>Bahrain</td><td>1</td></tr><tr><td>United States</td><td>British Virgin Islands</td><td>80</td></tr><tr><td>Curacao</td><td>United States</td><td>90</td></tr><tr><td>Georgia</td><td>United States</td><td>2</td></tr><tr><td>United States</td><td>Denmark</td><td>152</td></tr><tr><td>United States</td><td>Guyana</td><td>63</td></tr><tr><td>Philippines</td><td>United States</td><td>134</td></tr><tr><td>Grenada</td><td>United States</td><td>53</td></tr><tr><td>Cape Verde</td><td>United States</td><td>20</td></tr><tr><td>Cote d'Ivoire</td><td>United States</td><td>1</td></tr><tr><td>Ukraine</td><td>United States</td><td>14</td></tr><tr><td>United States</td><td>Papua New Guinea</td><td>1</td></tr><tr><td>Russia</td><td>United States</td><td>176</td></tr><tr><td>United States</td><td>Saudi Arabia</td><td>70</td></tr><tr><td>Guatemala</td><td>United States</td><td>397</td></tr><tr><td>Saint Lucia</td><td>United States</td><td>123</td></tr><tr><td>Paraguay</td><td>United States</td><td>60</td></tr><tr><td>United States</td><td>Curacao</td><td>83</td></tr><tr><td>Kosovo</td><td>United States</td><td>1</td></tr><tr><td>United States</td><td>Taiwan</td><td>235</td></tr><tr><td>Tunisia</td><td>United States</td><td>3</td></tr><tr><td>United States</td><td>South Africa</td><td>40</td></tr><tr><td>Niger</td><td>United States</td><td>2</td></tr><tr><td>Turkey</td><td>United States</td><td>138</td></tr><tr><td>United Kingdom</td><td>United States</td><td>2025</td></tr><tr><td>Romania</td><td>United States</td><td>14</td></tr><tr><td>United States</td><td>Greenland</td><td>4</td></tr><tr><td>Papua New Guinea</td><td>United States</td><td>3</td></tr><tr><td>United States</td><td>Spain</td><td>442</td></tr><tr><td>Iraq</td><td>United States</td><td>1</td></tr><tr><td>United States</td><td>Italy</td><td>438</td></tr><tr><td>Cuba</td><td>United States</td><td>466</td></tr><tr><td>United States</td><td>Switzerland</td><td>305</td></tr><tr><td>Dominica</td><td>United States</td><td>20</td></tr><tr><td>United States</td><td>Japan</td><td>1496</td></tr><tr><td>Portugal</td><td>United States</td><td>127</td></tr><tr><td>United States</td><td>Brazil</td><td>619</td></tr><tr><td>Bahrain</td><td>United States</td><td>19</td></tr><tr><td>United States</td><td>Peru</td><td>337</td></tr><tr><td>Indonesia</td><td>United States</td><td>1</td></tr><tr><td>United States</td><td>Belize</td><td>193</td></tr><tr><td>United States</td><td>United Kingdom</td><td>1970</td></tr><tr><td>Belize</td><td>United States</td><td>188</td></tr><tr><td>United States</td><td>Ghana</td><td>20</td></tr><tr><td>United States</td><td>Indonesia</td><td>2</td></tr><tr><td>United States</td><td>Fiji</td><td>25</td></tr><tr><td>United States</td><td>Canada</td><td>8483</td></tr><tr><td>United States</td><td>Antigua and Barbuda</td><td>117</td></tr><tr><td>United States</td><td>French Polynesia</td><td>40</td></tr><tr><td>Nicaragua</td><td>United States</td><td>179</td></tr><tr><td>United States</td><td>Latvia</td><td>15</td></tr><tr><td>United States</td><td>Dominica</td><td>27</td></tr><tr><td>United States</td><td>Czech Republic</td><td>12</td></tr><tr><td>United States</td><td>Australia</td><td>258</td></tr><tr><td>United States</td><td>Cook Islands</td><td>13</td></tr><tr><td>Austria</td><td>United States</td><td>62</td></tr><tr><td>Jordan</td><td>United States</td><td>44</td></tr><tr><td>Palau</td><td>United States</td><td>30</td></tr><tr><td>South Korea</td><td>United States</td><td>1048</td></tr><tr><td>Angola</td><td>United States</td><td>15</td></tr><tr><td>Ghana</td><td>United States</td><td>18</td></tr><tr><td>New Caledonia</td><td>United States</td><td>1</td></tr><tr><td>Guadeloupe</td><td>United States</td><td>56</td></tr><tr><td>France</td><td>United States</td><td>935</td></tr><tr><td>Poland</td><td>United States</td><td>32</td></tr><tr><td>Nigeria</td><td>United States</td><td>59</td></tr><tr><td>United States</td><td>Uruguay</td><td>13</td></tr><tr><td>Greenland</td><td>United States</td><td>2</td></tr><tr><td>United States</td><td>Bermuda</td><td>193</td></tr><tr><td>Chile</td><td>United States</td><td>174</td></tr><tr><td>United States</td><td>Cuba</td><td>478</td></tr><tr><td>United States</td><td>Montenegro</td><td>1</td></tr><tr><td>United States</td><td>Colombia</td><td>867</td></tr><tr><td>United States</td><td>Barbados</td><td>130</td></tr><tr><td>United States</td><td>Qatar</td><td>109</td></tr><tr><td>Australia</td><td>United States</td><td>329</td></tr><tr><td>United States</td><td>Cayman Islands</td><td>310</td></tr><tr><td>United States</td><td>Jordan</td><td>44</td></tr><tr><td>United States</td><td>Namibia</td><td>1</td></tr><tr><td>United States</td><td>Trinidad and Tobago</td><td>217</td></tr><tr><td>United States</td><td>Bolivia</td><td>13</td></tr><tr><td>Cook Islands</td><td>United States</td><td>13</td></tr><tr><td>Bulgaria</td><td>United States</td><td>3</td></tr><tr><td>United States</td><td>Saint Kitts and Nevis</td><td>145</td></tr><tr><td>Uruguay</td><td>United States</td><td>43</td></tr><tr><td>United States</td><td>Haiti</td><td>225</td></tr><tr><td>Bonaire, Sint Eustatius, and Saba</td><td>United States</td><td>58</td></tr><tr><td>Greece</td><td>United States</td><td>30</td></tr><tr><td>United States</td><td>Romania</td><td>15</td></tr><tr><td>United States</td><td>Croatia</td><td>1</td></tr><tr><td>United States</td><td>Ireland</td><td>344</td></tr><tr><td>Egypt</td><td>United States</td><td>15</td></tr><tr><td>United States</td><td>India</td><td>62</td></tr><tr><td>United States</td><td>Singapore</td><td>1</td></tr><tr><td>United States</td><td>Grenada</td><td>62</td></tr><tr><td>Costa Rica</td><td>United States</td><td>588</td></tr><tr><td>Senegal</td><td>United States</td><td>40</td></tr><tr><td>Moldova</td><td>United States</td><td>1</td></tr><tr><td>United States</td><td>Sint Maarten</td><td>325</td></tr><tr><td>United States</td><td>Marshall Islands</td><td>39</td></tr><tr><td>Guyana</td><td>United States</td><td>64</td></tr><tr><td>Malta</td><td>United States</td><td>1</td></tr><tr><td>Anguilla</td><td>United States</td><td>41</td></tr><tr><td>Bolivia</td><td>United States</td><td>30</td></tr><tr><td>United States</td><td>Paraguay</td><td>6</td></tr><tr><td>Algeria</td><td>United States</td><td>4</td></tr><tr><td>Turks and Caicos Islands</td><td>United States</td><td>230</td></tr><tr><td>United States</td><td>Gibraltar</td><td>1</td></tr><tr><td>Saint Vincent and the Grenadines</td><td>United States</td><td>1</td></tr><tr><td>Italy</td><td>United States</td><td>382</td></tr><tr><td>United States</td><td>Federated States of Micronesia</td><td>69</td></tr><tr><td>United States</td><td>Russia</td><td>161</td></tr><tr><td>Pakistan</td><td>United States</td><td>12</td></tr><tr><td>United States</td><td>Netherlands</td><td>660</td></tr><tr><td>Iceland</td><td>United States</td><td>181</td></tr><tr><td>Marshall Islands</td><td>United States</td><td>42</td></tr><tr><td>Luxembourg</td><td>United States</td><td>155</td></tr><tr><td>Honduras</td><td>United States</td><td>362</td></tr><tr><td>The Bahamas</td><td>United States</td><td>955</td></tr><tr><td>United States</td><td>Senegal</td><td>42</td></tr><tr><td>El Salvador</td><td>United States</td><td>561</td></tr><tr><td>Samoa</td><td>United States</td><td>25</td></tr><tr><td>United States</td><td>Angola</td><td>13</td></tr><tr><td>Switzerland</td><td>United States</td><td>294</td></tr><tr><td>United States</td><td>Anguilla</td><td>38</td></tr><tr><td>Sint Maarten</td><td>United States</td><td>325</td></tr><tr><td>Hong Kong</td><td>United States</td><td>332</td></tr><tr><td>Trinidad and Tobago</td><td>United States</td><td>211</td></tr><tr><td>Latvia</td><td>United States</td><td>19</td></tr><tr><td>United States</td><td>Ecuador</td><td>300</td></tr><tr><td>Suriname</td><td>United States</td><td>1</td></tr><tr><td>Mexico</td><td>United States</td><td>7140</td></tr><tr><td>United States</td><td>Cyprus</td><td>1</td></tr><tr><td>Ecuador</td><td>United States</td><td>268</td></tr><tr><td>United States</td><td>Portugal</td><td>134</td></tr><tr><td>United States</td><td>Costa Rica</td><td>608</td></tr><tr><td>United States</td><td>Guatemala</td><td>318</td></tr><tr><td>United States</td><td>Suriname</td><td>34</td></tr><tr><td>Colombia</td><td>United States</td><td>873</td></tr><tr><td>United States</td><td>Cape Verde</td><td>14</td></tr><tr><td>United States</td><td>Jamaica</td><td>712</td></tr><tr><td>Norway</td><td>United States</td><td>121</td></tr><tr><td>United States</td><td>Malaysia</td><td>3</td></tr><tr><td>United States</td><td>Morocco</td><td>19</td></tr><tr><td>Thailand</td><td>United States</td><td>3</td></tr><tr><td>United States</td><td>Samoa</td><td>25</td></tr><tr><td>Venezuela</td><td>United States</td><td>290</td></tr><tr><td>United States</td><td>Palau</td><td>31</td></tr><tr><td>United States</td><td>Venezuela</td><td>246</td></tr><tr><td>Panama</td><td>United States</td><td>510</td></tr><tr><td>Antigua and Barbuda</td><td>United States</td><td>126</td></tr><tr><td>United States</td><td>Chile</td><td>185</td></tr><tr><td>Morocco</td><td>United States</td><td>15</td></tr><tr><td>United States</td><td>Finland</td><td>28</td></tr><tr><td>Azerbaijan</td><td>United States</td><td>21</td></tr><tr><td>United States</td><td>Greece</td><td>23</td></tr><tr><td>United States</td><td>The Bahamas</td><td>986</td></tr><tr><td>New Zealand</td><td>United States</td><td>111</td></tr><tr><td>Liberia</td><td>United States</td><td>2</td></tr><tr><td>United States</td><td>Hong Kong</td><td>414</td></tr><tr><td>Hungary</td><td>United States</td><td>2</td></tr><tr><td>United States</td><td>China</td><td>920</td></tr><tr><td>United States</td><td>Vietnam</td><td>2</td></tr><tr><td>Burkina Faso</td><td>United States</td><td>1</td></tr><tr><td>Sweden</td><td>United States</td><td>118</td></tr><tr><td>United States</td><td>Kuwait</td><td>28</td></tr><tr><td>United States</td><td>Dominican Republic</td><td>1420</td></tr><tr><td>United States</td><td>Egypt</td><td>12</td></tr><tr><td>Israel</td><td>United States</td><td>134</td></tr><tr><td>United States</td><td>United States</td><td>370002</td></tr><tr><td>Ethiopia</td><td>United States</td><td>13</td></tr><tr><td>United States</td><td>Luxembourg</td><td>134</td></tr><tr><td>United States</td><td>Poland</td><td>33</td></tr><tr><td>Martinique</td><td>United States</td><td>44</td></tr><tr><td>United States</td><td>Saint Barthelemy</td><td>41</td></tr><tr><td>Saint Barthelemy</td><td>United States</td><td>39</td></tr><tr><td>Barbados</td><td>United States</td><td>154</td></tr><tr><td>United States</td><td>Turkey</td><td>129</td></tr><tr><td>Djibouti</td><td>United States</td><td>1</td></tr><tr><td>United States</td><td>Azerbaijan</td><td>21</td></tr><tr><td>United States</td><td>Estonia</td><td>1</td></tr><tr><td>Germany</td><td>United States</td><td>1468</td></tr><tr><td>United States</td><td>South Korea</td><td>827</td></tr><tr><td>United States</td><td>El Salvador</td><td>508</td></tr><tr><td>Ireland</td><td>United States</td><td>335</td></tr><tr><td>United States</td><td>Hungary</td><td>3</td></tr><tr><td>Zambia</td><td>United States</td><td>1</td></tr><tr><td>Malaysia</td><td>United States</td><td>2</td></tr><tr><td>United States</td><td>Ethiopia</td><td>12</td></tr><tr><td>United States</td><td>Panama</td><td>465</td></tr><tr><td>United States</td><td>Aruba</td><td>342</td></tr><tr><td>United States</td><td>Thailand</td><td>4</td></tr><tr><td>United States</td><td>Turks and Caicos Islands</td><td>236</td></tr><tr><td>Croatia</td><td>United States</td><td>2</td></tr><tr><td>United States</td><td>Pakistan</td><td>12</td></tr><tr><td>Cyprus</td><td>United States</td><td>1</td></tr><tr><td>United States</td><td>Honduras</td><td>407</td></tr><tr><td>Fiji</td><td>United States</td><td>24</td></tr><tr><td>Qatar</td><td>United States</td><td>108</td></tr><tr><td>Saint Kitts and Nevis</td><td>United States</td><td>139</td></tr><tr><td>Kuwait</td><td>United States</td><td>32</td></tr><tr><td>Taiwan</td><td>United States</td><td>266</td></tr><tr><td>Haiti</td><td>United States</td><td>226</td></tr><tr><td>Canada</td><td>United States</td><td>8399</td></tr><tr><td>Federated States of Micronesia</td><td>United States</td><td>69</td></tr><tr><td>United States</td><td>Liberia</td><td>2</td></tr><tr><td>Jamaica</td><td>United States</td><td>666</td></tr><tr><td>United States</td><td>Malta</td><td>2</td></tr><tr><td>Dominican Republic</td><td>United States</td><td>1353</td></tr><tr><td>Japan</td><td>United States</td><td>1548</td></tr><tr><td>United States</td><td>Lithuania</td><td>1</td></tr><tr><td>Finland</td><td>United States</td><td>26</td></tr><tr><td>United States</td><td>Guadeloupe</td><td>59</td></tr><tr><td>United States</td><td>Ukraine</td><td>13</td></tr><tr><td>United States</td><td>France</td><td>952</td></tr><tr><td>United States</td><td>Norway</td><td>115</td></tr><tr><td>Aruba</td><td>United States</td><td>346</td></tr><tr><td>French Guiana</td><td>United States</td><td>5</td></tr><tr><td>United States</td><td>Kiribati</td><td>35</td></tr><tr><td>India</td><td>United States</td><td>61</td></tr><tr><td>British Virgin Islands</td><td>United States</td><td>107</td></tr><tr><td>Brazil</td><td>United States</td><td>853</td></tr><tr><td>United States</td><td>Germany</td><td>1336</td></tr><tr><td>United States</td><td>New Zealand</td><td>74</td></tr><tr><td>French Polynesia</td><td>United States</td><td>43</td></tr><tr><td>United Arab Emirates</td><td>United States</td><td>320</td></tr><tr><td>Singapore</td><td>United States</td><td>3</td></tr><tr><td>United States</td><td>Mexico</td><td>7187</td></tr><tr><td>United States</td><td>Sweden</td><td>119</td></tr><tr><td>Netherlands</td><td>United States</td><td>776</td></tr><tr><td>United States</td><td>Martinique</td><td>43</td></tr><tr><td>United States</td><td>United Arab Emirates</td><td>313</td></tr><tr><td>United States</td><td>Bulgaria</td><td>1</td></tr><tr><td>Denmark</td><td>United States</td><td>153</td></tr><tr><td>China</td><td>United States</td><td>772</td></tr><tr><td>United States</td><td>Nicaragua</td><td>201</td></tr><tr><td>United States</td><td>Philippines</td><td>126</td></tr><tr><td>United States</td><td>Georgia</td><td>1</td></tr><tr><td>United States</td><td>Belgium</td><td>228</td></tr><tr><td>Cayman Islands</td><td>United States</td><td>314</td></tr><tr><td>Argentina</td><td>United States</td><td>180</td></tr><tr><td>Peru</td><td>United States</td><td>279</td></tr><tr><td>South Africa</td><td>United States</td><td>36</td></tr><tr><td>United States</td><td>Iceland</td><td>202</td></tr><tr><td>United States</td><td>Argentina</td><td>141</td></tr><tr><td>Spain</td><td>United States</td><td>420</td></tr><tr><td>Bermuda</td><td>United States</td><td>183</td></tr><tr><td>United States</td><td>Nigeria</td><td>50</td></tr><tr><td>United States</td><td>Austria</td><td>63</td></tr><tr><td>United States</td><td>Bonaire, Sint Eustatius, and Saba</td><td>59</td></tr><tr><td>Kiribati</td><td>United States</td><td>26</td></tr><tr><td>Saudi Arabia</td><td>United States</td><td>83</td></tr><tr><td>Czech Republic</td><td>United States</td><td>13</td></tr><tr><td>United States</td><td>Israel</td><td>127</td></tr><tr><td>Belgium</td><td>United States</td><td>259</td></tr><tr><td>United States</td><td>Saint Lucia</td><td>136</td></tr><tr><td>United States</td><td>Bahrain</td><td>1</td></tr><tr><td>United States</td><td>British Virgin Islands</td><td>80</td></tr><tr><td>Curacao</td><td>United States</td><td>90</td></tr><tr><td>Georgia</td><td>United States</td><td>2</td></tr><tr><td>United States</td><td>Denmark</td><td>152</td></tr><tr><td>United States</td><td>Guyana</td><td>63</td></tr><tr><td>Philippines</td><td>United States</td><td>134</td></tr><tr><td>Grenada</td><td>United States</td><td>53</td></tr><tr><td>Cape Verde</td><td>United States</td><td>20</td></tr><tr><td>Cote d'Ivoire</td><td>United States</td><td>1</td></tr><tr><td>Ukraine</td><td>United States</td><td>14</td></tr><tr><td>United States</td><td>Papua New Guinea</td><td>1</td></tr><tr><td>Russia</td><td>United States</td><td>176</td></tr><tr><td>United States</td><td>Saudi Arabia</td><td>70</td></tr><tr><td>Guatemala</td><td>United States</td><td>397</td></tr><tr><td>Saint Lucia</td><td>United States</td><td>123</td></tr><tr><td>Paraguay</td><td>United States</td><td>60</td></tr><tr><td>United States</td><td>Curacao</td><td>83</td></tr><tr><td>Kosovo</td><td>United States</td><td>1</td></tr><tr><td>United States</td><td>Taiwan</td><td>235</td></tr><tr><td>Tunisia</td><td>United States</td><td>3</td></tr><tr><td>United States</td><td>South Africa</td><td>40</td></tr><tr><td>Niger</td><td>United States</td><td>2</td></tr><tr><td>Turkey</td><td>United States</td><td>138</td></tr><tr><td>United Kingdom</td><td>United States</td><td>2025</td></tr><tr><td>Romania</td><td>United States</td><td>14</td></tr><tr><td>United States</td><td>Greenland</td><td>4</td></tr><tr><td>Papua New Guinea</td><td>United States</td><td>3</td></tr><tr><td>United States</td><td>Spain</td><td>442</td></tr><tr><td>Iraq</td><td>United States</td><td>1</td></tr><tr><td>United States</td><td>Italy</td><td>438</td></tr><tr><td>Cuba</td><td>United States</td><td>466</td></tr><tr><td>United States</td><td>Switzerland</td><td>305</td></tr><tr><td>Dominica</td><td>United States</td><td>20</td></tr><tr><td>United States</td><td>Japan</td><td>1496</td></tr><tr><td>Portugal</td><td>United States</td><td>127</td></tr><tr><td>United States</td><td>Brazil</td><td>619</td></tr><tr><td>Bahrain</td><td>United States</td><td>19</td></tr><tr><td>United States</td><td>Peru</td><td>337</td></tr><tr><td>Indonesia</td><td>United States</td><td>1</td></tr><tr><td>United States</td><td>Belize</td><td>193</td></tr><tr><td>United States</td><td>United Kingdom</td><td>1970</td></tr><tr><td>Belize</td><td>United States</td><td>188</td></tr><tr><td>United States</td><td>Ghana</td><td>20</td></tr><tr><td>United States</td><td>Indonesia</td><td>2</td></tr><tr><td>United States</td><td>Fiji</td><td>25</td></tr><tr><td>United States</td><td>Canada</td><td>8483</td></tr><tr><td>United States</td><td>Antigua and Barbuda</td><td>117</td></tr><tr><td>United States</td><td>French Polynesia</td><td>40</td></tr><tr><td>Nicaragua</td><td>United States</td><td>179</td></tr><tr><td>United States</td><td>Latvia</td><td>15</td></tr><tr><td>United States</td><td>Dominica</td><td>27</td></tr><tr><td>United States</td><td>Czech Republic</td><td>12</td></tr><tr><td>United States</td><td>Australia</td><td>258</td></tr><tr><td>United States</td><td>Cook Islands</td><td>13</td></tr><tr><td>Austria</td><td>United States</td><td>62</td></tr><tr><td>Jordan</td><td>United States</td><td>44</td></tr><tr><td>Palau</td><td>United States</td><td>30</td></tr><tr><td>South Korea</td><td>United States</td><td>1048</td></tr><tr><td>Angola</td><td>United States</td><td>15</td></tr><tr><td>Ghana</td><td>United States</td><td>18</td></tr><tr><td>New Caledonia</td><td>United States</td><td>1</td></tr><tr><td>Guadeloupe</td><td>United States</td><td>56</td></tr><tr><td>France</td><td>United States</td><td>935</td></tr><tr><td>Poland</td><td>United States</td><td>32</td></tr><tr><td>Nigeria</td><td>United States</td><td>59</td></tr><tr><td>United States</td><td>Uruguay</td><td>13</td></tr><tr><td>Greenland</td><td>United States</td><td>2</td></tr><tr><td>United States</td><td>Bermuda</td><td>193</td></tr><tr><td>Chile</td><td>United States</td><td>174</td></tr><tr><td>United States</td><td>Cuba</td><td>478</td></tr><tr><td>United States</td><td>Montenegro</td><td>1</td></tr><tr><td>United States</td><td>Colombia</td><td>867</td></tr><tr><td>United States</td><td>Barbados</td><td>130</td></tr><tr><td>United States</td><td>Qatar</td><td>109</td></tr><tr><td>Australia</td><td>United States</td><td>329</td></tr><tr><td>United States</td><td>Cayman Islands</td><td>310</td></tr><tr><td>United States</td><td>Jordan</td><td>44</td></tr><tr><td>United States</td><td>Namibia</td><td>1</td></tr><tr><td>United States</td><td>Trinidad and Tobago</td><td>217</td></tr><tr><td>United States</td><td>Bolivia</td><td>13</td></tr><tr><td>Cook Islands</td><td>United States</td><td>13</td></tr><tr><td>Bulgaria</td><td>United States</td><td>3</td></tr><tr><td>United States</td><td>Saint Kitts and Nevis</td><td>145</td></tr><tr><td>Uruguay</td><td>United States</td><td>43</td></tr><tr><td>United States</td><td>Haiti</td><td>225</td></tr><tr><td>Bonaire, Sint Eustatius, and Saba</td><td>United States</td><td>58</td></tr><tr><td>Greece</td><td>United States</td><td>30</td></tr><tr><td>United States</td><td>Romania</td><td>15</td></tr><tr><td>United States</td><td>Croatia</td><td>1</td></tr><tr><td>United States</td><td>Ireland</td><td>344</td></tr><tr><td>Egypt</td><td>United States</td><td>15</td></tr><tr><td>United States</td><td>India</td><td>62</td></tr><tr><td>United States</td><td>Singapore</td><td>1</td></tr><tr><td>United States</td><td>Grenada</td><td>62</td></tr><tr><td>Costa Rica</td><td>United States</td><td>588</td></tr><tr><td>Senegal</td><td>United States</td><td>40</td></tr><tr><td>Moldova</td><td>United States</td><td>1</td></tr><tr><td>United States</td><td>Sint Maarten</td><td>325</td></tr><tr><td>United States</td><td>Marshall Islands</td><td>39</td></tr><tr><td>Guyana</td><td>United States</td><td>64</td></tr><tr><td>Malta</td><td>United States</td><td>1</td></tr><tr><td>Anguilla</td><td>United States</td><td>41</td></tr><tr><td>Bolivia</td><td>United States</td><td>30</td></tr><tr><td>United States</td><td>Paraguay</td><td>6</td></tr><tr><td>Algeria</td><td>United States</td><td>4</td></tr><tr><td>Turks and Caicos Islands</td><td>United States</td><td>230</td></tr><tr><td>United States</td><td>Gibraltar</td><td>1</td></tr><tr><td>Saint Vincent and the Grenadines</td><td>United States</td><td>1</td></tr><tr><td>Italy</td><td>United States</td><td>382</td></tr><tr><td>United States</td><td>Federated States of Micronesia</td><td>69</td></tr><tr><td>United States</td><td>Russia</td><td>161</td></tr><tr><td>Pakistan</td><td>United States</td><td>12</td></tr><tr><td>United States</td><td>Netherlands</td><td>660</td></tr><tr><td>Iceland</td><td>United States</td><td>181</td></tr><tr><td>Marshall Islands</td><td>United States</td><td>42</td></tr><tr><td>Luxembourg</td><td>United States</td><td>155</td></tr><tr><td>Honduras</td><td>United States</td><td>362</td></tr><tr><td>The Bahamas</td><td>United States</td><td>955</td></tr><tr><td>United States</td><td>Senegal</td><td>42</td></tr><tr><td>El Salvador</td><td>United States</td><td>561</td></tr><tr><td>Samoa</td><td>United States</td><td>25</td></tr><tr><td>United States</td><td>Angola</td><td>13</td></tr><tr><td>Switzerland</td><td>United States</td><td>294</td></tr><tr><td>United States</td><td>Anguilla</td><td>38</td></tr><tr><td>Sint Maarten</td><td>United States</td><td>325</td></tr><tr><td>Hong Kong</td><td>United States</td><td>332</td></tr><tr><td>Trinidad and Tobago</td><td>United States</td><td>211</td></tr><tr><td>Latvia</td><td>United States</td><td>19</td></tr><tr><td>United States</td><td>Ecuador</td><td>300</td></tr><tr><td>Suriname</td><td>United States</td><td>1</td></tr><tr><td>Mexico</td><td>United States</td><td>7140</td></tr><tr><td>United States</td><td>Cyprus</td><td>1</td></tr><tr><td>Ecuador</td><td>United States</td><td>268</td></tr><tr><td>United States</td><td>Portugal</td><td>134</td></tr><tr><td>United States</td><td>Costa Rica</td><td>608</td></tr><tr><td>United States</td><td>Guatemala</td><td>318</td></tr><tr><td>United States</td><td>Suriname</td><td>34</td></tr><tr><td>Colombia</td><td>United States</td><td>873</td></tr><tr><td>United States</td><td>Cape Verde</td><td>14</td></tr><tr><td>United States</td><td>Jamaica</td><td>712</td></tr><tr><td>Norway</td><td>United States</td><td>121</td></tr><tr><td>United States</td><td>Malaysia</td><td>3</td></tr><tr><td>United States</td><td>Morocco</td><td>19</td></tr><tr><td>Thailand</td><td>United States</td><td>3</td></tr><tr><td>United States</td><td>Samoa</td><td>25</td></tr><tr><td>Venezuela</td><td>United States</td><td>290</td></tr><tr><td>United States</td><td>Palau</td><td>31</td></tr><tr><td>United States</td><td>Venezuela</td><td>246</td></tr><tr><td>Panama</td><td>United States</td><td>510</td></tr><tr><td>Antigua and Barbuda</td><td>United States</td><td>126</td></tr><tr><td>United States</td><td>Chile</td><td>185</td></tr><tr><td>Morocco</td><td>United States</td><td>15</td></tr><tr><td>United States</td><td>Finland</td><td>28</td></tr><tr><td>Azerbaijan</td><td>United States</td><td>21</td></tr><tr><td>United States</td><td>Greece</td><td>23</td></tr><tr><td>United States</td><td>The Bahamas</td><td>986</td></tr><tr><td>New Zealand</td><td>United States</td><td>111</td></tr><tr><td>Liberia</td><td>United States</td><td>2</td></tr><tr><td>United States</td><td>Hong Kong</td><td>414</td></tr><tr><td>Hungary</td><td>United States</td><td>2</td></tr><tr><td>United States</td><td>China</td><td>920</td></tr><tr><td>United States</td><td>Vietnam</td><td>2</td></tr><tr><td>Burkina Faso</td><td>United States</td><td>1</td></tr><tr><td>Sweden</td><td>United States</td><td>118</td></tr><tr><td>United States</td><td>Kuwait</td><td>28</td></tr><tr><td>United States</td><td>Dominican Republic</td><td>1420</td></tr><tr><td>United States</td><td>Egypt</td><td>12</td></tr><tr><td>Israel</td><td>United States</td><td>134</td></tr><tr><td>United States</td><td>United States</td><td>370002</td></tr><tr><td>Ethiopia</td><td>United States</td><td>13</td></tr><tr><td>United States</td><td>Luxembourg</td><td>134</td></tr><tr><td>United States</td><td>Poland</td><td>33</td></tr><tr><td>Martinique</td><td>United States</td><td>44</td></tr><tr><td>United States</td><td>Saint Barthelemy</td><td>41</td></tr><tr><td>Saint Barthelemy</td><td>United States</td><td>39</td></tr><tr><td>Barbados</td><td>United States</td><td>154</td></tr><tr><td>United States</td><td>Turkey</td><td>129</td></tr><tr><td>Djibouti</td><td>United States</td><td>1</td></tr><tr><td>United States</td><td>Azerbaijan</td><td>21</td></tr><tr><td>United States</td><td>Estonia</td><td>1</td></tr><tr><td>Germany</td><td>United States</td><td>1468</td></tr><tr><td>United States</td><td>South Korea</td><td>827</td></tr><tr><td>United States</td><td>El Salvador</td><td>508</td></tr><tr><td>Ireland</td><td>United States</td><td>335</td></tr><tr><td>United States</td><td>Hungary</td><td>3</td></tr><tr><td>Zambia</td><td>United States</td><td>1</td></tr><tr><td>Malaysia</td><td>United States</td><td>2</td></tr><tr><td>United States</td><td>Ethiopia</td><td>12</td></tr><tr><td>United States</td><td>Panama</td><td>465</td></tr><tr><td>United States</td><td>Aruba</td><td>342</td></tr><tr><td>United States</td><td>Thailand</td><td>4</td></tr><tr><td>United States</td><td>Turks and Caicos Islands</td><td>236</td></tr><tr><td>Croatia</td><td>United States</td><td>2</td></tr><tr><td>United States</td><td>Pakistan</td><td>12</td></tr><tr><td>Cyprus</td><td>United States</td><td>1</td></tr><tr><td>United States</td><td>Honduras</td><td>407</td></tr><tr><td>Fiji</td><td>United States</td><td>24</td></tr><tr><td>Qatar</td><td>United States</td><td>108</td></tr><tr><td>Saint Kitts and Nevis</td><td>United States</td><td>139</td></tr><tr><td>Kuwait</td><td>United States</td><td>32</td></tr><tr><td>Taiwan</td><td>United States</td><td>266</td></tr><tr><td>Haiti</td><td>United States</td><td>226</td></tr><tr><td>Canada</td><td>United States</td><td>8399</td></tr><tr><td>Federated States of Micronesia</td><td>United States</td><td>69</td></tr><tr><td>United States</td><td>Liberia</td><td>2</td></tr><tr><td>Jamaica</td><td>United States</td><td>666</td></tr><tr><td>United States</td><td>Malta</td><td>2</td></tr><tr><td>Dominican Republic</td><td>United States</td><td>1353</td></tr><tr><td>Japan</td><td>United States</td><td>1548</td></tr><tr><td>United States</td><td>Lithuania</td><td>1</td></tr><tr><td>Finland</td><td>United States</td><td>26</td></tr><tr><td>United States</td><td>Guadeloupe</td><td>59</td></tr><tr><td>United States</td><td>Ukraine</td><td>13</td></tr><tr><td>United States</td><td>France</td><td>952</td></tr><tr><td>United States</td><td>Norway</td><td>115</td></tr><tr><td>Aruba</td><td>United States</td><td>346</td></tr><tr><td>French Guiana</td><td>United States</td><td>5</td></tr><tr><td>United States</td><td>Kiribati</td><td>35</td></tr><tr><td>India</td><td>United States</td><td>61</td></tr><tr><td>British Virgin Islands</td><td>United States</td><td>107</td></tr><tr><td>Brazil</td><td>United States</td><td>853</td></tr><tr><td>United States</td><td>Germany</td><td>1336</td></tr><tr><td>United States</td><td>New Zealand</td><td>74</td></tr><tr><td>French Polynesia</td><td>United States</td><td>43</td></tr><tr><td>United Arab Emirates</td><td>United States</td><td>320</td></tr><tr><td>Singapore</td><td>United States</td><td>3</td></tr><tr><td>United States</td><td>Mexico</td><td>7187</td></tr><tr><td>United States</td><td>Sweden</td><td>119</td></tr><tr><td>Netherlands</td><td>United States</td><td>776</td></tr><tr><td>United States</td><td>Martinique</td><td>43</td></tr><tr><td>United States</td><td>United Arab Emirates</td><td>313</td></tr><tr><td>United States</td><td>Bulgaria</td><td>1</td></tr><tr><td>Denmark</td><td>United States</td><td>153</td></tr><tr><td>China</td><td>United States</td><td>772</td></tr><tr><td>United States</td><td>Nicaragua</td><td>201</td></tr><tr><td>United States</td><td>Philippines</td><td>126</td></tr><tr><td>United States</td><td>Georgia</td><td>1</td></tr><tr><td>United States</td><td>Belgium</td><td>228</td></tr><tr><td>Cayman Islands</td><td>United States</td><td>314</td></tr><tr><td>Argentina</td><td>United States</td><td>180</td></tr><tr><td>Peru</td><td>United States</td><td>279</td></tr><tr><td>South Africa</td><td>United States</td><td>36</td></tr><tr><td>United States</td><td>Iceland</td><td>202</td></tr><tr><td>United States</td><td>Argentina</td><td>141</td></tr><tr><td>Spain</td><td>United States</td><td>420</td></tr><tr><td>Bermuda</td><td>United States</td><td>183</td></tr><tr><td>United States</td><td>Nigeria</td><td>50</td></tr><tr><td>United States</td><td>Austria</td><td>63</td></tr><tr><td>United States</td><td>Bonaire, Sint Eustatius, and Saba</td><td>59</td></tr><tr><td>Kiribati</td><td>United States</td><td>26</td></tr><tr><td>Saudi Arabia</td><td>United States</td><td>83</td></tr><tr><td>Czech Republic</td><td>United States</td><td>13</td></tr><tr><td>United States</td><td>Israel</td><td>127</td></tr><tr><td>Belgium</td><td>United States</td><td>259</td></tr><tr><td>United States</td><td>Saint Lucia</td><td>136</td></tr><tr><td>United States</td><td>Bahrain</td><td>1</td></tr><tr><td>United States</td><td>British Virgin Islands</td><td>80</td></tr><tr><td>Curacao</td><td>United States</td><td>90</td></tr><tr><td>Georgia</td><td>United States</td><td>2</td></tr><tr><td>United States</td><td>Denmark</td><td>152</td></tr><tr><td>United States</td><td>Guyana</td><td>63</td></tr><tr><td>Philippines</td><td>United States</td><td>134</td></tr><tr><td>Grenada</td><td>United States</td><td>53</td></tr><tr><td>Cape Verde</td><td>United States</td><td>20</td></tr><tr><td>Cote d'Ivoire</td><td>United States</td><td>1</td></tr><tr><td>Ukraine</td><td>United States</td><td>14</td></tr><tr><td>United States</td><td>Papua New Guinea</td><td>1</td></tr><tr><td>Russia</td><td>United States</td><td>176</td></tr><tr><td>United States</td><td>Saudi Arabia</td><td>70</td></tr><tr><td>Guatemala</td><td>United States</td><td>397</td></tr><tr><td>Saint Lucia</td><td>United States</td><td>123</td></tr><tr><td>Paraguay</td><td>United States</td><td>60</td></tr><tr><td>United States</td><td>Curacao</td><td>83</td></tr><tr><td>Kosovo</td><td>United States</td><td>1</td></tr><tr><td>United States</td><td>Taiwan</td><td>235</td></tr><tr><td>Tunisia</td><td>United States</td><td>3</td></tr><tr><td>United States</td><td>South Africa</td><td>40</td></tr><tr><td>Niger</td><td>United States</td><td>2</td></tr><tr><td>Turkey</td><td>United States</td><td>138</td></tr><tr><td>United Kingdom</td><td>United States</td><td>2025</td></tr><tr><td>Romania</td><td>United States</td><td>14</td></tr><tr><td>United States</td><td>Greenland</td><td>4</td></tr><tr><td>Papua New Guinea</td><td>United States</td><td>3</td></tr><tr><td>United States</td><td>Spain</td><td>442</td></tr><tr><td>Iraq</td><td>United States</td><td>1</td></tr><tr><td>United States</td><td>Italy</td><td>438</td></tr><tr><td>Cuba</td><td>United States</td><td>466</td></tr><tr><td>United States</td><td>Switzerland</td><td>305</td></tr><tr><td>Dominica</td><td>United States</td><td>20</td></tr><tr><td>United States</td><td>Japan</td><td>1496</td></tr><tr><td>Portugal</td><td>United States</td><td>127</td></tr><tr><td>United States</td><td>Brazil</td><td>619</td></tr><tr><td>Bahrain</td><td>United States</td><td>19</td></tr><tr><td>United States</td><td>Peru</td><td>337</td></tr><tr><td>Indonesia</td><td>United States</td><td>1</td></tr><tr><td>United States</td><td>Belize</td><td>193</td></tr><tr><td>United States</td><td>United Kingdom</td><td>1970</td></tr><tr><td>Belize</td><td>United States</td><td>188</td></tr><tr><td>United States</td><td>Ghana</td><td>20</td></tr><tr><td>United States</td><td>Indonesia</td><td>2</td></tr><tr><td>United States</td><td>Fiji</td><td>25</td></tr><tr><td>United States</td><td>Canada</td><td>8483</td></tr><tr><td>United States</td><td>Antigua and Barbuda</td><td>117</td></tr><tr><td>United States</td><td>French Polynesia</td><td>40</td></tr><tr><td>Nicaragua</td><td>United States</td><td>179</td></tr><tr><td>United States</td><td>Latvia</td><td>15</td></tr><tr><td>United States</td><td>Dominica</td><td>27</td></tr><tr><td>United States</td><td>Czech Republic</td><td>12</td></tr><tr><td>United States</td><td>Australia</td><td>258</td></tr><tr><td>United States</td><td>Cook Islands</td><td>13</td></tr><tr><td>Austria</td><td>United States</td><td>62</td></tr><tr><td>Jordan</td><td>United States</td><td>44</td></tr><tr><td>Palau</td><td>United States</td><td>30</td></tr><tr><td>South Korea</td><td>United States</td><td>1048</td></tr><tr><td>Angola</td><td>United States</td><td>15</td></tr><tr><td>Ghana</td><td>United States</td><td>18</td></tr><tr><td>New Caledonia</td><td>United States</td><td>1</td></tr><tr><td>Guadeloupe</td><td>United States</td><td>56</td></tr><tr><td>France</td><td>United States</td><td>935</td></tr><tr><td>Poland</td><td>United States</td><td>32</td></tr><tr><td>Nigeria</td><td>United States</td><td>59</td></tr><tr><td>United States</td><td>Uruguay</td><td>13</td></tr><tr><td>Greenland</td><td>United States</td><td>2</td></tr><tr><td>United States</td><td>Bermuda</td><td>193</td></tr><tr><td>Chile</td><td>United States</td><td>174</td></tr><tr><td>United States</td><td>Cuba</td><td>478</td></tr><tr><td>United States</td><td>Montenegro</td><td>1</td></tr><tr><td>United States</td><td>Colombia</td><td>867</td></tr><tr><td>United States</td><td>Barbados</td><td>130</td></tr><tr><td>United States</td><td>Qatar</td><td>109</td></tr><tr><td>Australia</td><td>United States</td><td>329</td></tr><tr><td>United States</td><td>Cayman Islands</td><td>310</td></tr><tr><td>United States</td><td>Jordan</td><td>44</td></tr><tr><td>United States</td><td>Namibia</td><td>1</td></tr><tr><td>United States</td><td>Trinidad and Tobago</td><td>217</td></tr><tr><td>United States</td><td>Bolivia</td><td>13</td></tr><tr><td>Cook Islands</td><td>United States</td><td>13</td></tr><tr><td>Bulgaria</td><td>United States</td><td>3</td></tr><tr><td>United States</td><td>Saint Kitts and Nevis</td><td>145</td></tr><tr><td>Uruguay</td><td>United States</td><td>43</td></tr><tr><td>United States</td><td>Haiti</td><td>225</td></tr><tr><td>Bonaire, Sint Eustatius, and Saba</td><td>United States</td><td>58</td></tr><tr><td>Greece</td><td>United States</td><td>30</td></tr><tr><td>United States</td><td>Romania</td><td>15</td></tr><tr><td>United States</td><td>Croatia</td><td>1</td></tr><tr><td>United States</td><td>Ireland</td><td>344</td></tr><tr><td>Egypt</td><td>United States</td><td>15</td></tr><tr><td>United States</td><td>India</td><td>62</td></tr><tr><td>United States</td><td>Singapore</td><td>1</td></tr><tr><td>United States</td><td>Grenada</td><td>62</td></tr><tr><td>Costa Rica</td><td>United States</td><td>588</td></tr><tr><td>Senegal</td><td>United States</td><td>40</td></tr><tr><td>Moldova</td><td>United States</td><td>1</td></tr><tr><td>United States</td><td>Sint Maarten</td><td>325</td></tr><tr><td>United States</td><td>Marshall Islands</td><td>39</td></tr><tr><td>Guyana</td><td>United States</td><td>64</td></tr><tr><td>Malta</td><td>United States</td><td>1</td></tr><tr><td>Anguilla</td><td>United States</td><td>41</td></tr><tr><td>Bolivia</td><td>United States</td><td>30</td></tr><tr><td>United States</td><td>Paraguay</td><td>6</td></tr><tr><td>Algeria</td><td>United States</td><td>4</td></tr><tr><td>Turks and Caicos Islands</td><td>United States</td><td>230</td></tr><tr><td>United States</td><td>Gibraltar</td><td>1</td></tr><tr><td>Saint Vincent and the Grenadines</td><td>United States</td><td>1</td></tr><tr><td>Italy</td><td>United States</td><td>382</td></tr><tr><td>United States</td><td>Federated States of Micronesia</td><td>69</td></tr><tr><td>United States</td><td>Russia</td><td>161</td></tr><tr><td>Pakistan</td><td>United States</td><td>12</td></tr><tr><td>United States</td><td>Netherlands</td><td>660</td></tr><tr><td>Iceland</td><td>United States</td><td>181</td></tr><tr><td>Marshall Islands</td><td>United States</td><td>42</td></tr><tr><td>Luxembourg</td><td>United States</td><td>155</td></tr><tr><td>Honduras</td><td>United States</td><td>362</td></tr><tr><td>The Bahamas</td><td>United States</td><td>955</td></tr><tr><td>United States</td><td>Senegal</td><td>42</td></tr><tr><td>El Salvador</td><td>United States</td><td>561</td></tr><tr><td>Samoa</td><td>United States</td><td>25</td></tr><tr><td>United States</td><td>Angola</td><td>13</td></tr><tr><td>Switzerland</td><td>United States</td><td>294</td></tr><tr><td>United States</td><td>Anguilla</td><td>38</td></tr><tr><td>Sint Maarten</td><td>United States</td><td>325</td></tr><tr><td>Hong Kong</td><td>United States</td><td>332</td></tr><tr><td>Trinidad and Tobago</td><td>United States</td><td>211</td></tr><tr><td>Latvia</td><td>United States</td><td>19</td></tr><tr><td>United States</td><td>Ecuador</td><td>300</td></tr><tr><td>Suriname</td><td>United States</td><td>1</td></tr><tr><td>Mexico</td><td>United States</td><td>7140</td></tr><tr><td>United States</td><td>Cyprus</td><td>1</td></tr><tr><td>Ecuador</td><td>United States</td><td>268</td></tr><tr><td>United States</td><td>Portugal</td><td>134</td></tr><tr><td>United States</td><td>Costa Rica</td><td>608</td></tr><tr><td>United States</td><td>Guatemala</td><td>318</td></tr><tr><td>United States</td><td>Suriname</td><td>34</td></tr><tr><td>Colombia</td><td>United States</td><td>873</td></tr><tr><td>United States</td><td>Cape Verde</td><td>14</td></tr><tr><td>United States</td><td>Jamaica</td><td>712</td></tr><tr><td>Norway</td><td>United States</td><td>121</td></tr><tr><td>United States</td><td>Malaysia</td><td>3</td></tr><tr><td>United States</td><td>Morocco</td><td>19</td></tr><tr><td>Thailand</td><td>United States</td><td>3</td></tr><tr><td>United States</td><td>Samoa</td><td>25</td></tr><tr><td>Venezuela</td><td>United States</td><td>290</td></tr><tr><td>United States</td><td>Palau</td><td>31</td></tr><tr><td>United States</td><td>Venezuela</td><td>246</td></tr><tr><td>Panama</td><td>United States</td><td>510</td></tr><tr><td>Antigua and Barbuda</td><td>United States</td><td>126</td></tr><tr><td>United States</td><td>Chile</td><td>185</td></tr><tr><td>Morocco</td><td>United States</td><td>15</td></tr><tr><td>United States</td><td>Finland</td><td>28</td></tr><tr><td>Azerbaijan</td><td>United States</td><td>21</td></tr><tr><td>United States</td><td>Greece</td><td>23</td></tr><tr><td>United States</td><td>The Bahamas</td><td>986</td></tr><tr><td>New Zealand</td><td>United States</td><td>111</td></tr><tr><td>Liberia</td><td>United States</td><td>2</td></tr><tr><td>United States</td><td>Hong Kong</td><td>414</td></tr><tr><td>Hungary</td><td>United States</td><td>2</td></tr><tr><td>United States</td><td>China</td><td>920</td></tr><tr><td>United States</td><td>Vietnam</td><td>2</td></tr><tr><td>Burkina Faso</td><td>United States</td><td>1</td></tr><tr><td>Sweden</td><td>United States</td><td>118</td></tr><tr><td>United States</td><td>Kuwait</td><td>28</td></tr><tr><td>United States</td><td>Dominican Republic</td><td>1420</td></tr><tr><td>United States</td><td>Egypt</td><td>12</td></tr><tr><td>Israel</td><td>United States</td><td>134</td></tr><tr><td>United States</td><td>United States</td><td>370002</td></tr><tr><td>Ethiopia</td><td>United States</td><td>13</td></tr><tr><td>United States</td><td>Luxembourg</td><td>134</td></tr><tr><td>United States</td><td>Poland</td><td>33</td></tr><tr><td>Martinique</td><td>United States</td><td>44</td></tr><tr><td>United States</td><td>Saint Barthelemy</td><td>41</td></tr><tr><td>Saint Barthelemy</td><td>United States</td><td>39</td></tr><tr><td>Barbados</td><td>United States</td><td>154</td></tr><tr><td>United States</td><td>Turkey</td><td>129</td></tr><tr><td>Djibouti</td><td>United States</td><td>1</td></tr><tr><td>United States</td><td>Azerbaijan</td><td>21</td></tr><tr><td>United States</td><td>Estonia</td><td>1</td></tr><tr><td>Germany</td><td>United States</td><td>1468</td></tr><tr><td>United States</td><td>South Korea</td><td>827</td></tr><tr><td>United States</td><td>El Salvador</td><td>508</td></tr><tr><td>Ireland</td><td>United States</td><td>335</td></tr><tr><td>United States</td><td>Hungary</td><td>3</td></tr><tr><td>Zambia</td><td>United States</td><td>1</td></tr><tr><td>Malaysia</td><td>United States</td><td>2</td></tr><tr><td>United States</td><td>Ethiopia</td><td>12</td></tr><tr><td>United States</td><td>Panama</td><td>465</td></tr><tr><td>United States</td><td>Aruba</td><td>342</td></tr><tr><td>United States</td><td>Thailand</td><td>4</td></tr><tr><td>United States</td><td>Turks and Caicos Islands</td><td>236</td></tr><tr><td>Croatia</td><td>United States</td><td>2</td></tr><tr><td>United States</td><td>Pakistan</td><td>12</td></tr><tr><td>Cyprus</td><td>United States</td><td>1</td></tr><tr><td>United States</td><td>Honduras</td><td>407</td></tr><tr><td>Fiji</td><td>United States</td><td>24</td></tr><tr><td>Qatar</td><td>United States</td><td>108</td></tr><tr><td>Saint Kitts and Nevis</td><td>United States</td><td>139</td></tr><tr><td>Kuwait</td><td>United States</td><td>32</td></tr><tr><td>Taiwan</td><td>United States</td><td>266</td></tr><tr><td>Haiti</td><td>United States</td><td>226</td></tr><tr><td>Canada</td><td>United States</td><td>8399</td></tr><tr><td>Federated States of Micronesia</td><td>United States</td><td>69</td></tr><tr><td>United States</td><td>Liberia</td><td>2</td></tr><tr><td>Jamaica</td><td>United States</td><td>666</td></tr><tr><td>United States</td><td>Malta</td><td>2</td></tr><tr><td>Dominican Republic</td><td>United States</td><td>1353</td></tr><tr><td>Japan</td><td>United States</td><td>1548</td></tr><tr><td>United States</td><td>Lithuania</td><td>1</td></tr><tr><td>Finland</td><td>United States</td><td>26</td></tr><tr><td>United States</td><td>Guadeloupe</td><td>59</td></tr><tr><td>United States</td><td>Ukraine</td><td>13</td></tr><tr><td>United States</td><td>France</td><td>952</td></tr><tr><td>United States</td><td>Norway</td><td>115</td></tr><tr><td>Aruba</td><td>United States</td><td>346</td></tr><tr><td>French Guiana</td><td>United States</td><td>5</td></tr><tr><td>United States</td><td>Kiribati</td><td>35</td></tr><tr><td>India</td><td>United States</td><td>61</td></tr><tr><td>British Virgin Islands</td><td>United States</td><td>107</td></tr><tr><td>Brazil</td><td>United States</td><td>853</td></tr><tr><td>United States</td><td>Germany</td><td>1336</td></tr><tr><td>United States</td><td>New Zealand</td><td>74</td></tr><tr><td>French Polynesia</td><td>United States</td><td>43</td></tr><tr><td>United Arab Emirates</td><td>United States</td><td>320</td></tr><tr><td>Singapore</td><td>United States</td><td>3</td></tr><tr><td>United States</td><td>Mexico</td><td>7187</td></tr><tr><td>United States</td><td>Sweden</td><td>119</td></tr><tr><td>Netherlands</td><td>United States</td><td>776</td></tr><tr><td>United States</td><td>Martinique</td><td>43</td></tr><tr><td>United States</td><td>United Arab Emirates</td><td>313</td></tr><tr><td>United States</td><td>Bulgaria</td><td>1</td></tr><tr><td>Denmark</td><td>United States</td><td>153</td></tr><tr><td>China</td><td>United States</td><td>772</td></tr><tr><td>United States</td><td>Nicaragua</td><td>201</td></tr><tr><td>United States</td><td>Philippines</td><td>126</td></tr><tr><td>United States</td><td>Georgia</td><td>1</td></tr><tr><td>United States</td><td>Belgium</td><td>228</td></tr><tr><td>Cayman Islands</td><td>United States</td><td>314</td></tr><tr><td>Argentina</td><td>United States</td><td>180</td></tr><tr><td>Peru</td><td>United States</td><td>279</td></tr><tr><td>South Africa</td><td>United States</td><td>36</td></tr><tr><td>United States</td><td>Iceland</td><td>202</td></tr><tr><td>United States</td><td>Argentina</td><td>141</td></tr><tr><td>Spain</td><td>United States</td><td>420</td></tr><tr><td>Bermuda</td><td>United States</td><td>183</td></tr><tr><td>United States</td><td>Nigeria</td><td>50</td></tr><tr><td>United States</td><td>Austria</td><td>63</td></tr><tr><td>United States</td><td>Bonaire, Sint Eustatius, and Saba</td><td>59</td></tr><tr><td>Kiribati</td><td>United States</td><td>26</td></tr><tr><td>Saudi Arabia</td><td>United States</td><td>83</td></tr><tr><td>Czech Republic</td><td>United States</td><td>13</td></tr><tr><td>United States</td><td>Israel</td><td>127</td></tr><tr><td>Belgium</td><td>United States</td><td>259</td></tr><tr><td>United States</td><td>Saint Lucia</td><td>136</td></tr><tr><td>United States</td><td>Bahrain</td><td>1</td></tr><tr><td>United States</td><td>British Virgin Islands</td><td>80</td></tr><tr><td>Curacao</td><td>United States</td><td>90</td></tr><tr><td>Georgia</td><td>United States</td><td>2</td></tr><tr><td>United States</td><td>Denmark</td><td>152</td></tr><tr><td>United States</td><td>Guyana</td><td>63</td></tr><tr><td>Philippines</td><td>United States</td><td>134</td></tr><tr><td>Grenada</td><td>United States</td><td>53</td></tr><tr><td>Cape Verde</td><td>United States</td><td>20</td></tr><tr><td>Cote d'Ivoire</td><td>United States</td><td>1</td></tr><tr><td>Ukraine</td><td>United States</td><td>14</td></tr><tr><td>United States</td><td>Papua New Guinea</td><td>1</td></tr><tr><td>Russia</td><td>United States</td><td>176</td></tr><tr><td>United States</td><td>Saudi Arabia</td><td>70</td></tr><tr><td>Guatemala</td><td>United States</td><td>397</td></tr><tr><td>Saint Lucia</td><td>United States</td><td>123</td></tr><tr><td>Paraguay</td><td>United States</td><td>60</td></tr><tr><td>United States</td><td>Curacao</td><td>83</td></tr><tr><td>Kosovo</td><td>United States</td><td>1</td></tr><tr><td>United States</td><td>Taiwan</td><td>235</td></tr><tr><td>Tunisia</td><td>United States</td><td>3</td></tr><tr><td>United States</td><td>South Africa</td><td>40</td></tr><tr><td>Niger</td><td>United States</td><td>2</td></tr><tr><td>Turkey</td><td>United States</td><td>138</td></tr><tr><td>United Kingdom</td><td>United States</td><td>2025</td></tr><tr><td>Romania</td><td>United States</td><td>14</td></tr><tr><td>United States</td><td>Greenland</td><td>4</td></tr><tr><td>Papua New Guinea</td><td>United States</td><td>3</td></tr><tr><td>United States</td><td>Spain</td><td>442</td></tr><tr><td>Iraq</td><td>United States</td><td>1</td></tr><tr><td>United States</td><td>Italy</td><td>438</td></tr><tr><td>Cuba</td><td>United States</td><td>466</td></tr><tr><td>United States</td><td>Switzerland</td><td>305</td></tr><tr><td>Dominica</td><td>United States</td><td>20</td></tr><tr><td>United States</td><td>Japan</td><td>1496</td></tr><tr><td>Portugal</td><td>United States</td><td>127</td></tr><tr><td>United States</td><td>Brazil</td><td>619</td></tr><tr><td>Bahrain</td><td>United States</td><td>19</td></tr><tr><td>United States</td><td>Peru</td><td>337</td></tr><tr><td>Indonesia</td><td>United States</td><td>1</td></tr><tr><td>United States</td><td>Belize</td><td>193</td></tr><tr><td>United States</td><td>United Kingdom</td><td>1970</td></tr><tr><td>Belize</td><td>United States</td><td>188</td></tr><tr><td>United States</td><td>Ghana</td><td>20</td></tr><tr><td>United States</td><td>Indonesia</td><td>2</td></tr><tr><td>United States</td><td>Fiji</td><td>25</td></tr><tr><td>United States</td><td>Canada</td><td>8483</td></tr><tr><td>United States</td><td>Antigua and Barbuda</td><td>117</td></tr><tr><td>United States</td><td>French Polynesia</td><td>40</td></tr><tr><td>Nicaragua</td><td>United States</td><td>179</td></tr><tr><td>United States</td><td>Latvia</td><td>15</td></tr><tr><td>United States</td><td>Dominica</td><td>27</td></tr><tr><td>United States</td><td>Czech Republic</td><td>12</td></tr><tr><td>United States</td><td>Australia</td><td>258</td></tr><tr><td>United States</td><td>Cook Islands</td><td>13</td></tr><tr><td>Austria</td><td>United States</td><td>62</td></tr><tr><td>Jordan</td><td>United States</td><td>44</td></tr><tr><td>Palau</td><td>United States</td><td>30</td></tr><tr><td>South Korea</td><td>United States</td><td>1048</td></tr><tr><td>Angola</td><td>United States</td><td>15</td></tr><tr><td>Ghana</td><td>United States</td><td>18</td></tr><tr><td>New Caledonia</td><td>United States</td><td>1</td></tr><tr><td>Guadeloupe</td><td>United States</td><td>56</td></tr><tr><td>France</td><td>United States</td><td>935</td></tr><tr><td>Poland</td><td>United States</td><td>32</td></tr><tr><td>Nigeria</td><td>United States</td><td>59</td></tr><tr><td>United States</td><td>Uruguay</td><td>13</td></tr><tr><td>Greenland</td><td>United States</td><td>2</td></tr><tr><td>United States</td><td>Bermuda</td><td>193</td></tr><tr><td>Chile</td><td>United States</td><td>174</td></tr><tr><td>United States</td><td>Cuba</td><td>478</td></tr><tr><td>United States</td><td>Montenegro</td><td>1</td></tr><tr><td>United States</td><td>Colombia</td><td>867</td></tr><tr><td>United States</td><td>Barbados</td><td>130</td></tr><tr><td>United States</td><td>Qatar</td><td>109</td></tr><tr><td>Australia</td><td>United States</td><td>329</td></tr><tr><td>United States</td><td>Cayman Islands</td><td>310</td></tr><tr><td>United States</td><td>Jordan</td><td>44</td></tr><tr><td>United States</td><td>Namibia</td><td>1</td></tr><tr><td>United States</td><td>Trinidad and Tobago</td><td>217</td></tr><tr><td>United States</td><td>Bolivia</td><td>13</td></tr><tr><td>Cook Islands</td><td>United States</td><td>13</td></tr><tr><td>Bulgaria</td><td>United States</td><td>3</td></tr><tr><td>United States</td><td>Saint Kitts and Nevis</td><td>145</td></tr><tr><td>Uruguay</td><td>United States</td><td>43</td></tr><tr><td>United States</td><td>Haiti</td><td>225</td></tr><tr><td>Bonaire, Sint Eustatius, and Saba</td><td>United States</td><td>58</td></tr><tr><td>Greece</td><td>United States</td><td>30</td></tr><tr><td>United States</td><td>Saint Martin</td><td>2</td></tr><tr><td>United States</td><td>Guinea</td><td>2</td></tr><tr><td>United States</td><td>Croatia</td><td>1</td></tr><tr><td>United States</td><td>Romania</td><td>3</td></tr><tr><td>United States</td><td>Ireland</td><td>268</td></tr><tr><td>Egypt</td><td>United States</td><td>13</td></tr><tr><td>United States</td><td>India</td><td>76</td></tr><tr><td>United States</td><td>Singapore</td><td>24</td></tr><tr><td>United States</td><td>Grenada</td><td>59</td></tr><tr><td>Costa Rica</td><td>United States</td><td>494</td></tr><tr><td>Senegal</td><td>United States</td><td>29</td></tr><tr><td>Guyana</td><td>United States</td><td>26</td></tr><tr><td>United States</td><td>Marshall Islands</td><td>49</td></tr><tr><td>United States</td><td>Sint Maarten</td><td>223</td></tr><tr><td>Malta</td><td>United States</td><td>1</td></tr><tr><td>Bolivia</td><td>United States</td><td>61</td></tr><tr><td>Anguilla</td><td>United States</td><td>21</td></tr><tr><td>United States</td><td>Paraguay</td><td>3</td></tr><tr><td>United States</td><td>Gibraltar</td><td>1</td></tr><tr><td>Turks and Caicos Islands</td><td>United States</td><td>163</td></tr><tr><td>United States</td><td>Afghanistan</td><td>3</td></tr><tr><td>Saint Vincent and the Grenadines</td><td>United States</td><td>6</td></tr><tr><td>Italy</td><td>United States</td><td>428</td></tr><tr><td>United States</td><td>Russia</td><td>153</td></tr><tr><td>United States</td><td>Federated States of Micronesia</td><td>54</td></tr><tr><td>Pakistan</td><td>United States</td><td>12</td></tr><tr><td>Iceland</td><td>United States</td><td>113</td></tr><tr><td>United States</td><td>Netherlands</td><td>622</td></tr><tr><td>Marshall Islands</td><td>United States</td><td>81</td></tr><tr><td>Luxembourg</td><td>United States</td><td>120</td></tr><tr><td>Honduras</td><td>United States</td><td>386</td></tr><tr><td>The Bahamas</td><td>United States</td><td>811</td></tr><tr><td>El Salvador</td><td>United States</td><td>495</td></tr><tr><td>United States</td><td>Senegal</td><td>33</td></tr><tr><td>Samoa</td><td>United States</td><td>25</td></tr><tr><td>United States</td><td>Angola</td><td>12</td></tr><tr><td>Switzerland</td><td>United States</td><td>314</td></tr><tr><td>United States</td><td>Anguilla</td><td>20</td></tr><tr><td>Sint Maarten</td><td>United States</td><td>240</td></tr><tr><td>Hong Kong</td><td>United States</td><td>282</td></tr><tr><td>Trinidad and Tobago</td><td>United States</td><td>205</td></tr><tr><td>Latvia</td><td>United States</td><td>12</td></tr><tr><td>Yemen</td><td>United States</td><td>1</td></tr><tr><td>United States</td><td>Ecuador</td><td>351</td></tr><tr><td>Suriname</td><td>United States</td><td>11</td></tr><tr><td>Mexico</td><td>United States</td><td>5953</td></tr><tr><td>United States</td><td>Cyprus</td><td>1</td></tr><tr><td>Ecuador</td><td>United States</td><td>280</td></tr><tr><td>United States</td><td>Portugal</td><td>109</td></tr><tr><td>United States</td><td>Guatemala</td><td>340</td></tr><tr><td>United States</td><td>Costa Rica</td><td>526</td></tr><tr><td>United States</td><td>Suriname</td><td>20</td></tr><tr><td>Colombia</td><td>United States</td><td>707</td></tr><tr><td>United States</td><td>Cape Verde</td><td>19</td></tr><tr><td>United States</td><td>Jamaica</td><td>695</td></tr><tr><td>Norway</td><td>United States</td><td>25</td></tr><tr><td>United States</td><td>Malaysia</td><td>1</td></tr><tr><td>The Gambia</td><td>United States</td><td>1</td></tr><tr><td>United States</td><td>Morocco</td><td>17</td></tr><tr><td>Thailand</td><td>United States</td><td>12</td></tr><tr><td>United States</td><td>Palau</td><td>41</td></tr><tr><td>Venezuela</td><td>United States</td><td>373</td></tr><tr><td>United States</td><td>Samoa</td><td>25</td></tr><tr><td>United States</td><td>Algeria</td><td>1</td></tr><tr><td>Panama</td><td>United States</td><td>397</td></tr><tr><td>United States</td><td>Venezuela</td><td>352</td></tr><tr><td>Guinea</td><td>United States</td><td>5</td></tr><tr><td>Antigua and Barbuda</td><td>United States</td><td>146</td></tr><tr><td>United States</td><td>Finland</td><td>32</td></tr><tr><td>United States</td><td>Chile</td><td>182</td></tr><tr><td>United States</td><td>Greece</td><td>45</td></tr><tr><td>Morocco</td><td>United States</td><td>19</td></tr><tr><td>United States</td><td>The Bahamas</td><td>888</td></tr><tr><td>United States</td><td>Brunei</td><td>1</td></tr><tr><td>New Zealand</td><td>United States</td><td>96</td></tr><tr><td>United States</td><td>Hong Kong</td><td>317</td></tr><tr><td>Hungary</td><td>United States</td><td>13</td></tr><tr><td>United States</td><td>China</td><td>605</td></tr><tr><td>Sweden</td><td>United States</td><td>59</td></tr><tr><td>United States</td><td>Kuwait</td><td>27</td></tr><tr><td>United States</td><td>Dominican Republic</td><td>1100</td></tr><tr><td>United States</td><td>Egypt</td><td>15</td></tr><tr><td>Israel</td><td>United States</td><td>121</td></tr><tr><td>United States</td><td>United States</td><td>352742</td></tr><tr><td>United States</td><td>Luxembourg</td><td>170</td></tr><tr><td>Ethiopia</td><td>United States</td><td>12</td></tr><tr><td>United States</td><td>Poland</td><td>42</td></tr><tr><td>Martinique</td><td>United States</td><td>20</td></tr><tr><td>Saint Barthelemy</td><td>United States</td><td>38</td></tr><tr><td>United States</td><td>Saint Barthelemy</td><td>39</td></tr><tr><td>Barbados</td><td>United States</td><td>129</td></tr><tr><td>United States</td><td>Turkey</td><td>99</td></tr><tr><td>United States</td><td>Azerbaijan</td><td>3</td></tr><tr><td>Germany</td><td>United States</td><td>1423</td></tr><tr><td>United States</td><td>South Korea</td><td>661</td></tr><tr><td>United States</td><td>El Salvador</td><td>443</td></tr><tr><td>Ireland</td><td>United States</td><td>250</td></tr><tr><td>United States</td><td>Hungary</td><td>17</td></tr><tr><td>Malaysia</td><td>United States</td><td>2</td></tr><tr><td>United States</td><td>Panama</td><td>380</td></tr><tr><td>United States</td><td>Ethiopia</td><td>12</td></tr><tr><td>United States</td><td>Thailand</td><td>14</td></tr><tr><td>United States</td><td>Aruba</td><td>332</td></tr><tr><td>United States</td><td>Turks and Caicos Islands</td><td>177</td></tr><tr><td>Croatia</td><td>United States</td><td>2</td></tr><tr><td>United States</td><td>Pakistan</td><td>24</td></tr><tr><td>United States</td><td>Honduras</td><td>388</td></tr><tr><td>Qatar</td><td>United States</td><td>48</td></tr><tr><td>Fiji</td><td>United States</td><td>49</td></tr><tr><td>Saint Kitts and Nevis</td><td>United States</td><td>105</td></tr><tr><td>Taiwan</td><td>United States</td><td>248</td></tr><tr><td>Haiti</td><td>United States</td><td>188</td></tr><tr><td>Kuwait</td><td>United States</td><td>27</td></tr><tr><td>Canada</td><td>United States</td><td>8514</td></tr><tr><td>Belarus</td><td>United States</td><td>1</td></tr><tr><td>Federated States of Micronesia</td><td>United States</td><td>48</td></tr><tr><td>Jamaica</td><td>United States</td><td>675</td></tr><tr><td>United States</td><td>Malta</td><td>3</td></tr><tr><td>Dominican Republic</td><td>United States</td><td>1020</td></tr><tr><td>Japan</td><td>United States</td><td>1532</td></tr><tr><td>United States</td><td>Lithuania</td><td>1</td></tr><tr><td>United States</td><td>Saint Vincent and the Grenadines</td><td>17</td></tr><tr><td>Finland</td><td>United States</td><td>33</td></tr><tr><td>United States</td><td>Ukraine</td><td>15</td></tr><tr><td>United States</td><td>Guadeloupe</td><td>31</td></tr><tr><td>United States</td><td>France</td><td>914</td></tr><tr><td>Aruba</td><td>United States</td><td>347</td></tr><tr><td>French Guiana</td><td>United States</td><td>14</td></tr><tr><td>United States</td><td>Norway</td><td>33</td></tr><tr><td>United States</td><td>Kiribati</td><td>28</td></tr><tr><td>India</td><td>United States</td><td>73</td></tr><tr><td>British Virgin Islands</td><td>United States</td><td>73</td></tr><tr><td>United States</td><td>Germany</td><td>1480</td></tr><tr><td>Brazil</td><td>United States</td><td>969</td></tr><tr><td>United States</td><td>New Zealand</td><td>77</td></tr><tr><td>French Polynesia</td><td>United States</td><td>36</td></tr><tr><td>United Arab Emirates</td><td>United States</td><td>157</td></tr><tr><td>Singapore</td><td>United States</td><td>27</td></tr><tr><td>United States</td><td>Mexico</td><td>6000</td></tr><tr><td>Netherlands</td><td>United States</td><td>635</td></tr><tr><td>United States</td><td>Sweden</td><td>68</td></tr><tr><td>United States</td><td>Martinique</td><td>20</td></tr><tr><td>United States</td><td>United Arab Emirates</td><td>142</td></tr><tr><td>China</td><td>United States</td><td>504</td></tr><tr><td>United States</td><td>Philippines</td><td>109</td></tr><tr><td>United States</td><td>Nicaragua</td><td>173</td></tr><tr><td>Denmark</td><td>United States</td><td>95</td></tr><tr><td>United States</td><td>Georgia</td><td>1</td></tr><tr><td>United States</td><td>Belgium</td><td>369</td></tr><tr><td>Libya</td><td>United States</td><td>1</td></tr><tr><td>Argentina</td><td>United States</td><td>183</td></tr><tr><td>Peru</td><td>United States</td><td>246</td></tr><tr><td>Cayman Islands</td><td>United States</td><td>251</td></tr><tr><td>South Africa</td><td>United States</td><td>24</td></tr><tr><td>United States</td><td>Argentina</td><td>152</td></tr><tr><td>United States</td><td>Iceland</td><td>138</td></tr><tr><td>Spain</td><td>United States</td><td>445</td></tr><tr><td>Bermuda</td><td>United States</td><td>191</td></tr><tr><td>United States</td><td>Austria</td><td>34</td></tr><tr><td>United States</td><td>Nigeria</td><td>26</td></tr><tr><td>United States</td><td>Bonaire, Sint Eustatius, and Saba</td><td>49</td></tr><tr><td>Kiribati</td><td>United States</td><td>28</td></tr><tr><td>Czech Republic</td><td>United States</td><td>23</td></tr><tr><td>Saudi Arabia</td><td>United States</td><td>83</td></tr><tr><td>Macau</td><td>United States</td><td>2</td></tr><tr><td>Belgium</td><td>United States</td><td>376</td></tr><tr><td>United States</td><td>Israel</td><td>126</td></tr><tr><td>United States</td><td>Saint Lucia</td><td>102</td></tr><tr><td>United States</td><td>Bahrain</td><td>2</td></tr><tr><td>United States</td><td>British Virgin Islands</td><td>65</td></tr><tr><td>Afghanistan</td><td>United States</td><td>8</td></tr><tr><td>Curacao</td><td>United States</td><td>106</td></tr><tr><td>Georgia</td><td>United States</td><td>1</td></tr><tr><td>United States</td><td>Guyana</td><td>29</td></tr><tr><td>Philippines</td><td>United States</td><td>127</td></tr><tr><td>United States</td><td>Denmark</td><td>103</td></tr><tr><td>Grenada</td><td>United States</td><td>67</td></tr><tr><td>Cape Verde</td><td>United States</td><td>13</td></tr><tr><td>Ukraine</td><td>United States</td><td>15</td></tr><tr><td>United States</td><td>Papua New Guinea</td><td>1</td></tr><tr><td>Russia</td><td>United States</td><td>199</td></tr><tr><td>United States</td><td>Saudi Arabia</td><td>77</td></tr><tr><td>Guatemala</td><td>United States</td><td>407</td></tr><tr><td>Saint Lucia</td><td>United States</td><td>102</td></tr><tr><td>Paraguay</td><td>United States</td><td>85</td></tr><tr><td>United States</td><td>Curacao</td><td>97</td></tr><tr><td>United States</td><td>Taiwan</td><td>231</td></tr><tr><td>United States</td><td>South Africa</td><td>21</td></tr><tr><td>Togo</td><td>United States</td><td>1</td></tr><tr><td>Turkey</td><td>United States</td><td>104</td></tr><tr><td>United Kingdom</td><td>United States</td><td>1726</td></tr><tr><td>Romania</td><td>United States</td><td>4</td></tr><tr><td>United States</td><td>Greenland</td><td>2</td></tr><tr><td>United States</td><td>Spain</td><td>472</td></tr><tr><td>Cuba</td><td>United States</td><td>320</td></tr><tr><td>United States</td><td>Italy</td><td>447</td></tr><tr><td>United States</td><td>Switzerland</td><td>319</td></tr><tr><td>Dominica</td><td>United States</td><td>25</td></tr><tr><td>United States</td><td>Japan</td><td>1412</td></tr><tr><td>Portugal</td><td>United States</td><td>95</td></tr><tr><td>United States</td><td>Brazil</td><td>575</td></tr><tr><td>Bahrain</td><td>United States</td><td>40</td></tr><tr><td>United States</td><td>Peru</td><td>288</td></tr><tr><td>Vietnam</td><td>United States</td><td>1</td></tr><tr><td>United States</td><td>United Kingdom</td><td>1649</td></tr><tr><td>United States</td><td>Belize</td><td>112</td></tr><tr><td>Belize</td><td>United States</td><td>113</td></tr><tr><td>United States</td><td>Ghana</td><td>39</td></tr><tr><td>Mauritania</td><td>United States</td><td>1</td></tr><tr><td>Saint Martin</td><td>United States</td><td>1</td></tr><tr><td>United States</td><td>Indonesia</td><td>1</td></tr><tr><td>United States</td><td>Fiji</td><td>48</td></tr><tr><td>United States</td><td>Mauritania</td><td>1</td></tr><tr><td>United States</td><td>Canada</td><td>8650</td></tr><tr><td>United States</td><td>Antigua and Barbuda</td><td>152</td></tr><tr><td>United States</td><td>French Polynesia</td><td>36</td></tr><tr><td>Nicaragua</td><td>United States</td><td>180</td></tr><tr><td>Namibia</td><td>United States</td><td>1</td></tr><tr><td>United States</td><td>Latvia</td><td>12</td></tr><tr><td>United States</td><td>Dominica</td><td>29</td></tr><tr><td>United States</td><td>Czech Republic</td><td>25</td></tr><tr><td>United States</td><td>Australia</td><td>231</td></tr><tr><td>United States</td><td>Cook Islands</td><td>12</td></tr><tr><td>Austria</td><td>United States</td><td>34</td></tr><tr><td>Palau</td><td>United States</td><td>41</td></tr><tr><td>Jordan</td><td>United States</td><td>42</td></tr><tr><td>South Korea</td><td>United States</td><td>713</td></tr><tr><td>Ghana</td><td>United States</td><td>39</td></tr><tr><td>Angola</td><td>United States</td><td>13</td></tr><tr><td>Guadeloupe</td><td>United States</td><td>33</td></tr><tr><td>France</td><td>United States</td><td>876</td></tr><tr><td>Nigeria</td><td>United States</td><td>31</td></tr><tr><td>Poland</td><td>United States</td><td>39</td></tr><tr><td>United States</td><td>Uruguay</td><td>27</td></tr><tr><td>Greenland</td><td>United States</td><td>1</td></tr><tr><td>Chile</td><td>United States</td><td>178</td></tr><tr><td>United States</td><td>Bermuda</td><td>196</td></tr><tr><td>Lebanon</td><td>United States</td><td>1</td></tr><tr><td>United States</td><td>Cuba</td><td>326</td></tr><tr><td>United States</td><td>Colombia</td><td>777</td></tr><tr><td>United States</td><td>Barbados</td><td>125</td></tr><tr><td>United States</td><td>Qatar</td><td>48</td></tr><tr><td>Australia</td><td>United States</td><td>280</td></tr><tr><td>United States</td><td>Cayman Islands</td><td>262</td></tr><tr><td>United States</td><td>Jordan</td><td>45</td></tr><tr><td>United States</td><td>Bolivia</td><td>51</td></tr><tr><td>United States</td><td>Trinidad and Tobago</td><td>213</td></tr><tr><td>Uruguay</td><td>United States</td><td>50</td></tr><tr><td>Cook Islands</td><td>United States</td><td>12</td></tr><tr><td>United States</td><td>Saint Kitts and Nevis</td><td>120</td></tr><tr><td>Bulgaria</td><td>United States</td><td>4</td></tr><tr><td>United States</td><td>French Guiana</td><td>11</td></tr><tr><td>United States</td><td>Haiti</td><td>197</td></tr><tr><td>Bonaire, Sint Eustatius, and Saba</td><td>United States</td><td>50</td></tr><tr><td>Greece</td><td>United States</td><td>38</td></tr><tr><td>United States</td><td>Romania</td><td>12</td></tr><tr><td>United States</td><td>Croatia</td><td>1</td></tr><tr><td>United States</td><td>Ireland</td><td>266</td></tr><tr><td>Egypt</td><td>United States</td><td>13</td></tr><tr><td>United States</td><td>India</td><td>60</td></tr><tr><td>Equatorial Guinea</td><td>United States</td><td>1</td></tr><tr><td>United States</td><td>Niger</td><td>1</td></tr><tr><td>United States</td><td>Singapore</td><td>22</td></tr><tr><td>United States</td><td>Grenada</td><td>40</td></tr><tr><td>Costa Rica</td><td>United States</td><td>509</td></tr><tr><td>Senegal</td><td>United States</td><td>28</td></tr><tr><td>Guyana</td><td>United States</td><td>34</td></tr><tr><td>United States</td><td>Sint Maarten</td><td>260</td></tr><tr><td>United States</td><td>Marshall Islands</td><td>33</td></tr><tr><td>Bolivia</td><td>United States</td><td>33</td></tr><tr><td>Anguilla</td><td>United States</td><td>22</td></tr><tr><td>United States</td><td>Paraguay</td><td>15</td></tr><tr><td>Algeria</td><td>United States</td><td>2</td></tr><tr><td>Turks and Caicos Islands</td><td>United States</td><td>181</td></tr><tr><td>Saint Vincent and the Grenadines</td><td>United States</td><td>4</td></tr><tr><td>Lithuania</td><td>United States</td><td>1</td></tr><tr><td>Pakistan</td><td>United States</td><td>14</td></tr><tr><td>Italy</td><td>United States</td><td>327</td></tr><tr><td>United States</td><td>Russia</td><td>167</td></tr><tr><td>United States</td><td>Federated States of Micronesia</td><td>62</td></tr><tr><td>United States</td><td>Netherlands</td><td>618</td></tr><tr><td>Iceland</td><td>United States</td><td>146</td></tr><tr><td>Marshall Islands</td><td>United States</td><td>50</td></tr><tr><td>Luxembourg</td><td>United States</td><td>160</td></tr><tr><td>Honduras</td><td>United States</td><td>423</td></tr><tr><td>Rwanda</td><td>United States</td><td>1</td></tr><tr><td>The Bahamas</td><td>United States</td><td>865</td></tr><tr><td>El Salvador</td><td>United States</td><td>551</td></tr><tr><td>United States</td><td>Senegal</td><td>32</td></tr><tr><td>Samoa</td><td>United States</td><td>25</td></tr><tr><td>United States</td><td>Angola</td><td>12</td></tr><tr><td>Kazakhstan</td><td>United States</td><td>2</td></tr><tr><td>Switzerland</td><td>United States</td><td>288</td></tr><tr><td>United States</td><td>Anguilla</td><td>18</td></tr><tr><td>United States</td><td>Mali</td><td>1</td></tr><tr><td>Sint Maarten</td><td>United States</td><td>271</td></tr><tr><td>Hong Kong</td><td>United States</td><td>282</td></tr><tr><td>Trinidad and Tobago</td><td>United States</td><td>183</td></tr><tr><td>Latvia</td><td>United States</td><td>29</td></tr><tr><td>United States</td><td>Ecuador</td><td>307</td></tr><tr><td>Suriname</td><td>United States</td><td>15</td></tr><tr><td>Mexico</td><td>United States</td><td>6372</td></tr><tr><td>Ecuador</td><td>United States</td><td>252</td></tr><tr><td>United States</td><td>Portugal</td><td>126</td></tr><tr><td>United States</td><td>Costa Rica</td><td>549</td></tr><tr><td>United States</td><td>Guatemala</td><td>331</td></tr><tr><td>United States</td><td>Suriname</td><td>21</td></tr><tr><td>Colombia</td><td>United States</td><td>798</td></tr><tr><td>United States</td><td>Cape Verde</td><td>15</td></tr><tr><td>Norway</td><td>United States</td><td>48</td></tr><tr><td>United States</td><td>Jamaica</td><td>599</td></tr><tr><td>United States</td><td>Malaysia</td><td>1</td></tr><tr><td>United States</td><td>Morocco</td><td>16</td></tr><tr><td>Thailand</td><td>United States</td><td>2</td></tr><tr><td>Burundi</td><td>United States</td><td>1</td></tr><tr><td>Venezuela</td><td>United States</td><td>350</td></tr><tr><td>United States</td><td>Samoa</td><td>25</td></tr><tr><td>United States</td><td>Palau</td><td>35</td></tr><tr><td>United States</td><td>Venezuela</td><td>295</td></tr><tr><td>Panama</td><td>United States</td><td>418</td></tr><tr><td>United States</td><td>Finland</td><td>15</td></tr><tr><td>Morocco</td><td>United States</td><td>18</td></tr><tr><td>Antigua and Barbuda</td><td>United States</td><td>123</td></tr><tr><td>United States</td><td>Chile</td><td>171</td></tr><tr><td>Azerbaijan</td><td>United States</td><td>3</td></tr><tr><td>United States</td><td>Greece</td><td>14</td></tr><tr><td>United States</td><td>The Bahamas</td><td>897</td></tr><tr><td>New Zealand</td><td>United States</td><td>114</td></tr><tr><td>United States</td><td>Hong Kong</td><td>344</td></tr><tr><td>Hungary</td><td>United States</td><td>1</td></tr><tr><td>United States</td><td>China</td><td>614</td></tr><tr><td>United States</td><td>Kuwait</td><td>24</td></tr><tr><td>Sweden</td><td>United States</td><td>70</td></tr><tr><td>United States</td><td>Egypt</td><td>12</td></tr><tr><td>United States</td><td>Dominican Republic</td><td>1119</td></tr><tr><td>Israel</td><td>United States</td><td>119</td></tr><tr><td>United States</td><td>United States</td><td>343132</td></tr><tr><td>United States</td><td>Luxembourg</td><td>134</td></tr><tr><td>Ethiopia</td><td>United States</td><td>12</td></tr><tr><td>United States</td><td>Poland</td><td>37</td></tr><tr><td>Martinique</td><td>United States</td><td>26</td></tr><tr><td>United States</td><td>Zimbabwe</td><td>2</td></tr><tr><td>United States</td><td>Saint Barthelemy</td><td>58</td></tr><tr><td>Saint Barthelemy</td><td>United States</td><td>67</td></tr><tr><td>United States</td><td>Turkey</td><td>100</td></tr><tr><td>Barbados</td><td>United States</td><td>97</td></tr><tr><td>Germany</td><td>United States</td><td>1423</td></tr><tr><td>Kyrgyzstan</td><td>United States</td><td>1</td></tr><tr><td>United States</td><td>South Korea</td><td>687</td></tr><tr><td>United States</td><td>El Salvador</td><td>466</td></tr><tr><td>Ireland</td><td>United States</td><td>255</td></tr><tr><td>Malaysia</td><td>United States</td><td>2</td></tr><tr><td>United States</td><td>Aruba</td><td>344</td></tr><tr><td>United States</td><td>Panama</td><td>419</td></tr><tr><td>United States</td><td>Ethiopia</td><td>12</td></tr><tr><td>United States</td><td>Turks and Caicos Islands</td><td>178</td></tr><tr><td>United States</td><td>Pakistan</td><td>12</td></tr><tr><td>Cyprus</td><td>United States</td><td>2</td></tr><tr><td>United States</td><td>Honduras</td><td>392</td></tr><tr><td>Fiji</td><td>United States</td><td>34</td></tr><tr><td>Qatar</td><td>United States</td><td>71</td></tr><tr><td>Saint Kitts and Nevis</td><td>United States</td><td>99</td></tr><tr><td>Kuwait</td><td>United States</td><td>24</td></tr><tr><td>Haiti</td><td>United States</td><td>199</td></tr><tr><td>Taiwan</td><td>United States</td><td>243</td></tr><tr><td>Canada</td><td>United States</td><td>7860</td></tr><tr><td>Federated States of Micronesia</td><td>United States</td><td>53</td></tr><tr><td>Jamaica</td><td>United States</td><td>581</td></tr><tr><td>Dominican Republic</td><td>United States</td><td>1068</td></tr><tr><td>Japan</td><td>United States</td><td>1613</td></tr><tr><td>United States</td><td>Saint Vincent and the Grenadines</td><td>10</td></tr><tr><td>Finland</td><td>United States</td><td>17</td></tr><tr><td>United States</td><td>Ukraine</td><td>4</td></tr><tr><td>United States</td><td>Guadeloupe</td><td>42</td></tr><tr><td>United States</td><td>France</td><td>848</td></tr><tr><td>United States</td><td>Norway</td><td>46</td></tr><tr><td>Aruba</td><td>United States</td><td>352</td></tr><tr><td>French Guiana</td><td>United States</td><td>7</td></tr><tr><td>United States</td><td>Kiribati</td><td>29</td></tr><tr><td>Zimbabwe</td><td>United States</td><td>2</td></tr><tr><td>India</td><td>United States</td><td>61</td></tr><tr><td>British Virgin Islands</td><td>United States</td><td>101</td></tr><tr><td>United States</td><td>Germany</td><td>1402</td></tr><tr><td>United States</td><td>New Zealand</td><td>77</td></tr><tr><td>Brazil</td><td>United States</td><td>912</td></tr><tr><td>Saint Helena, Ascension, and Tristan da Cunha</td><td>United States</td><td>1</td></tr><tr><td>United States</td><td>Cambodia</td><td>3</td></tr><tr><td>French Polynesia</td><td>United States</td><td>43</td></tr><tr><td>United Arab Emirates</td><td>United States</td><td>202</td></tr><tr><td>Singapore</td><td>United States</td><td>21</td></tr><tr><td>Tanzania</td><td>United States</td><td>2</td></tr><tr><td>United States</td><td>Mexico</td><td>6354</td></tr><tr><td>Netherlands</td><td>United States</td><td>640</td></tr><tr><td>United States</td><td>Sweden</td><td>73</td></tr><tr><td>United States</td><td>Martinique</td><td>24</td></tr><tr><td>United States</td><td>United Arab Emirates</td><td>187</td></tr><tr><td>Denmark</td><td>United States</td><td>104</td></tr><tr><td>China</td><td>United States</td><td>543</td></tr><tr><td>United States</td><td>Nicaragua</td><td>185</td></tr><tr><td>United States</td><td>Philippines</td><td>112</td></tr><tr><td>United States</td><td>Belgium</td><td>193</td></tr><tr><td>Nepal</td><td>United States</td><td>1</td></tr><tr><td>Libya</td><td>United States</td><td>1</td></tr><tr><td>Argentina</td><td>United States</td><td>176</td></tr><tr><td>Peru</td><td>United States</td><td>255</td></tr><tr><td>Cayman Islands</td><td>United States</td><td>274</td></tr><tr><td>South Africa</td><td>United States</td><td>24</td></tr><tr><td>United States</td><td>Iceland</td><td>151</td></tr><tr><td>United States</td><td>Argentina</td><td>140</td></tr><tr><td>Spain</td><td>United States</td><td>370</td></tr><tr><td>Bermuda</td><td>United States</td><td>163</td></tr><tr><td>United States</td><td>Nigeria</td><td>49</td></tr><tr><td>United States</td><td>Austria</td><td>39</td></tr><tr><td>United States</td><td>Bonaire, Sint Eustatius, and Saba</td><td>54</td></tr><tr><td>Kiribati</td><td>United States</td><td>29</td></tr><tr><td>Saudi Arabia</td><td>United States</td><td>86</td></tr><tr><td>Czech Republic</td><td>United States</td><td>10</td></tr><tr><td>Macau</td><td>United States</td><td>2</td></tr><tr><td>Belgium</td><td>United States</td><td>265</td></tr><tr><td>United States</td><td>Israel</td><td>107</td></tr><tr><td>United States</td><td>Saint Lucia</td><td>92</td></tr><tr><td>Sierra Leone</td><td>United States</td><td>1</td></tr><tr><td>United States</td><td>Bahrain</td><td>1</td></tr><tr><td>United States</td><td>British Virgin Islands</td><td>94</td></tr><tr><td>United States</td><td>Saint Helena, Ascension, and Tristan da Cunha</td><td>2</td></tr><tr><td>Curacao</td><td>United States</td><td>97</td></tr><tr><td>United States</td><td>Denmark</td><td>106</td></tr><tr><td>United States</td><td>Guyana</td><td>52</td></tr><tr><td>Philippines</td><td>United States</td><td>136</td></tr><tr><td>Grenada</td><td>United States</td><td>42</td></tr><tr><td>Cape Verde</td><td>United States</td><td>21</td></tr><tr><td>Ukraine</td><td>United States</td><td>4</td></tr><tr><td>Russia</td><td>United States</td><td>194</td></tr><tr><td>United States</td><td>Saudi Arabia</td><td>84</td></tr><tr><td>Guatemala</td><td>United States</td><td>376</td></tr><tr><td>Saint Lucia</td><td>United States</td><td>91</td></tr><tr><td>Paraguay</td><td>United States</td><td>75</td></tr><tr><td>United States</td><td>Curacao</td><td>89</td></tr><tr><td>United States</td><td>Taiwan</td><td>235</td></tr><tr><td>United States</td><td>South Africa</td><td>26</td></tr><tr><td>Niger</td><td>United States</td><td>1</td></tr><tr><td>Turkey</td><td>United States</td><td>99</td></tr><tr><td>United Kingdom</td><td>United States</td><td>1802</td></tr><tr><td>Romania</td><td>United States</td><td>14</td></tr><tr><td>United States</td><td>Greenland</td><td>3</td></tr><tr><td>Papua New Guinea</td><td>United States</td><td>2</td></tr><tr><td>United States</td><td>Spain</td><td>377</td></tr><tr><td>United States</td><td>Italy</td><td>333</td></tr><tr><td>Cuba</td><td>United States</td><td>337</td></tr><tr><td>United States</td><td>Switzerland</td><td>285</td></tr><tr><td>Dominica</td><td>United States</td><td>19</td></tr><tr><td>Portugal</td><td>United States</td><td>116</td></tr><tr><td>United States</td><td>Japan</td><td>1476</td></tr><tr><td>United States</td><td>Brazil</td><td>510</td></tr><tr><td>Bahrain</td><td>United States</td><td>50</td></tr><tr><td>United States</td><td>Peru</td><td>300</td></tr><tr><td>Indonesia</td><td>United States</td><td>1</td></tr><tr><td>United States</td><td>United Kingdom</td><td>1711</td></tr><tr><td>United States</td><td>Belize</td><td>127</td></tr><tr><td>Belize</td><td>United States</td><td>137</td></tr><tr><td>Kenya</td><td>United States</td><td>1</td></tr><tr><td>United States</td><td>Ghana</td><td>16</td></tr><tr><td>United States</td><td>Fiji</td><td>30</td></tr><tr><td>United States</td><td>Canada</td><td>7983</td></tr><tr><td>United States</td><td>French Polynesia</td><td>40</td></tr><tr><td>United States</td><td>Antigua and Barbuda</td><td>123</td></tr><tr><td>Brunei</td><td>United States</td><td>1</td></tr><tr><td>Nicaragua</td><td>United States</td><td>178</td></tr><tr><td>United States</td><td>Latvia</td><td>12</td></tr><tr><td>United States</td><td>Dominica</td><td>25</td></tr><tr><td>United States</td><td>Czech Republic</td><td>9</td></tr><tr><td>United States</td><td>Cook Islands</td><td>12</td></tr><tr><td>Austria</td><td>United States</td><td>35</td></tr><tr><td>United States</td><td>Australia</td><td>222</td></tr><tr><td>Jordan</td><td>United States</td><td>74</td></tr><tr><td>Palau</td><td>United States</td><td>35</td></tr><tr><td>South Korea</td><td>United States</td><td>842</td></tr><tr><td>Angola</td><td>United States</td><td>12</td></tr><tr><td>Ghana</td><td>United States</td><td>16</td></tr><tr><td>New Caledonia</td><td>United States</td><td>1</td></tr><tr><td>Guadeloupe</td><td>United States</td><td>41</td></tr><tr><td>France</td><td>United States</td><td>837</td></tr><tr><td>Poland</td><td>United States</td><td>40</td></tr><tr><td>Nigeria</td><td>United States</td><td>58</td></tr><tr><td>United States</td><td>Uruguay</td><td>20</td></tr><tr><td>Greenland</td><td>United States</td><td>1</td></tr><tr><td>Chile</td><td>United States</td><td>147</td></tr><tr><td>United States</td><td>Bermuda</td><td>166</td></tr><tr><td>Lebanon</td><td>United States</td><td>1</td></tr><tr><td>United States</td><td>Cuba</td><td>336</td></tr><tr><td>United States</td><td>Colombia</td><td>811</td></tr><tr><td>United States</td><td>Qatar</td><td>72</td></tr><tr><td>United States</td><td>Barbados</td><td>78</td></tr><tr><td>Australia</td><td>United States</td><td>295</td></tr><tr><td>United States</td><td>Cayman Islands</td><td>274</td></tr><tr><td>United States</td><td>Jordan</td><td>77</td></tr><tr><td>United States</td><td>Trinidad and Tobago</td><td>184</td></tr><tr><td>United States</td><td>Bolivia</td><td>13</td></tr><tr><td>Uruguay</td><td>United States</td><td>57</td></tr><tr><td>Cook Islands</td><td>United States</td><td>12</td></tr><tr><td>United States</td><td>Saint Kitts and Nevis</td><td>115</td></tr><tr><td>United States</td><td>French Guiana</td><td>3</td></tr><tr><td>United States</td><td>Haiti</td><td>186</td></tr><tr><td>Bonaire, Sint Eustatius, and Saba</td><td>United States</td><td>53</td></tr><tr><td>Greece</td><td>United States</td><td>12</td></tr><tr><td>United States</td><td>Croatia</td><td>1</td></tr><tr><td>United States</td><td>Ireland</td><td>252</td></tr><tr><td>Egypt</td><td>United States</td><td>13</td></tr><tr><td>United States</td><td>India</td><td>62</td></tr><tr><td>United States</td><td>Singapore</td><td>25</td></tr><tr><td>United States</td><td>Grenada</td><td>46</td></tr><tr><td>Costa Rica</td><td>United States</td><td>522</td></tr><tr><td>Senegal</td><td>United States</td><td>31</td></tr><tr><td>Guyana</td><td>United States</td><td>65</td></tr><tr><td>United States</td><td>Marshall Islands</td><td>30</td></tr><tr><td>United States</td><td>Sint Maarten</td><td>245</td></tr><tr><td>Bolivia</td><td>United States</td><td>35</td></tr><tr><td>Anguilla</td><td>United States</td><td>19</td></tr><tr><td>United States</td><td>Paraguay</td><td>5</td></tr><tr><td>United States</td><td>Afghanistan</td><td>5</td></tr><tr><td>Turks and Caicos Islands</td><td>United States</td><td>183</td></tr><tr><td>Saint Vincent and the Grenadines</td><td>United States</td><td>6</td></tr><tr><td>Italy</td><td>United States</td><td>381</td></tr><tr><td>Pakistan</td><td>United States</td><td>12</td></tr><tr><td>United States</td><td>Russia</td><td>148</td></tr><tr><td>United States</td><td>Federated States of Micronesia</td><td>63</td></tr><tr><td>United States</td><td>Netherlands</td><td>607</td></tr><tr><td>Iceland</td><td>United States</td><td>137</td></tr><tr><td>Marshall Islands</td><td>United States</td><td>60</td></tr><tr><td>United States</td><td>Togo</td><td>1</td></tr><tr><td>Luxembourg</td><td>United States</td><td>111</td></tr><tr><td>Honduras</td><td>United States</td><td>413</td></tr><tr><td>The Bahamas</td><td>United States</td><td>975</td></tr><tr><td>El Salvador</td><td>United States</td><td>539</td></tr><tr><td>United States</td><td>Senegal</td><td>33</td></tr><tr><td>United States</td><td>Solomon Islands</td><td>1</td></tr><tr><td>United States</td><td>Angola</td><td>12</td></tr><tr><td>Samoa</td><td>United States</td><td>25</td></tr><tr><td>Kazakhstan</td><td>United States</td><td>1</td></tr><tr><td>Switzerland</td><td>United States</td><td>285</td></tr><tr><td>United States</td><td>Anguilla</td><td>19</td></tr><tr><td>Sint Maarten</td><td>United States</td><td>243</td></tr><tr><td>Hong Kong</td><td>United States</td><td>296</td></tr><tr><td>Trinidad and Tobago</td><td>United States</td><td>216</td></tr><tr><td>Latvia</td><td>United States</td><td>13</td></tr><tr><td>United States</td><td>Ecuador</td><td>321</td></tr><tr><td>Suriname</td><td>United States</td><td>14</td></tr><tr><td>Mexico</td><td>United States</td><td>5983</td></tr><tr><td>Ecuador</td><td>United States</td><td>239</td></tr><tr><td>United States</td><td>Portugal</td><td>111</td></tr><tr><td>United States</td><td>Costa Rica</td><td>555</td></tr><tr><td>United States</td><td>Guatemala</td><td>345</td></tr><tr><td>United States</td><td>Suriname</td><td>26</td></tr><tr><td>Colombia</td><td>United States</td><td>759</td></tr><tr><td>United States</td><td>The Gambia</td><td>1</td></tr><tr><td>United States</td><td>Cape Verde</td><td>18</td></tr><tr><td>United States</td><td>Jamaica</td><td>610</td></tr><tr><td>Norway</td><td>United States</td><td>31</td></tr><tr><td>The Gambia</td><td>United States</td><td>2</td></tr><tr><td>United States</td><td>Morocco</td><td>16</td></tr><tr><td>Thailand</td><td>United States</td><td>6</td></tr><tr><td>Venezuela</td><td>United States</td><td>389</td></tr><tr><td>United States</td><td>Samoa</td><td>25</td></tr><tr><td>United States</td><td>Palau</td><td>35</td></tr><tr><td>United States</td><td>Venezuela</td><td>360</td></tr><tr><td>Panama</td><td>United States</td><td>394</td></tr><tr><td>United States</td><td>Chile</td><td>201</td></tr><tr><td>United States</td><td>Finland</td><td>21</td></tr><tr><td>Antigua and Barbuda</td><td>United States</td><td>145</td></tr><tr><td>Morocco</td><td>United States</td><td>15</td></tr><tr><td>United States</td><td>Greece</td><td>21</td></tr><tr><td>United States</td><td>The Bahamas</td><td>1054</td></tr><tr><td>New Zealand</td><td>United States</td><td>92</td></tr><tr><td>United States</td><td>Hong Kong</td><td>331</td></tr><tr><td>Hungary</td><td>United States</td><td>2</td></tr><tr><td>United States</td><td>Tunisia</td><td>1</td></tr><tr><td>United States</td><td>China</td><td>610</td></tr><tr><td>Sweden</td><td>United States</td><td>50</td></tr><tr><td>United States</td><td>Kuwait</td><td>28</td></tr><tr><td>United States</td><td>Dominican Republic</td><td>1123</td></tr><tr><td>United States</td><td>Egypt</td><td>12</td></tr><tr><td>Israel</td><td>United States</td><td>117</td></tr><tr><td>United States</td><td>United States</td><td>347452</td></tr><tr><td>United States</td><td>Luxembourg</td><td>123</td></tr><tr><td>Ethiopia</td><td>United States</td><td>12</td></tr><tr><td>United States</td><td>Poland</td><td>40</td></tr><tr><td>Martinique</td><td>United States</td><td>17</td></tr><tr><td>United States</td><td>Saint Barthelemy</td><td>49</td></tr><tr><td>Saint Barthelemy</td><td>United States</td><td>49</td></tr><tr><td>Barbados</td><td>United States</td><td>121</td></tr><tr><td>United States</td><td>Azerbaijan</td><td>1</td></tr><tr><td>United States</td><td>Turkey</td><td>89</td></tr><tr><td>Germany</td><td>United States</td><td>1404</td></tr><tr><td>Kyrgyzstan</td><td>United States</td><td>1</td></tr><tr><td>United States</td><td>South Korea</td><td>703</td></tr><tr><td>United States</td><td>El Salvador</td><td>465</td></tr><tr><td>Ireland</td><td>United States</td><td>255</td></tr><tr><td>United States</td><td>Panama</td><td>393</td></tr><tr><td>United States</td><td>Ethiopia</td><td>12</td></tr><tr><td>United States</td><td>Thailand</td><td>6</td></tr><tr><td>United States</td><td>Aruba</td><td>332</td></tr><tr><td>United States</td><td>Turks and Caicos Islands</td><td>183</td></tr><tr><td>Croatia</td><td>United States</td><td>1</td></tr><tr><td>United States</td><td>Pakistan</td><td>16</td></tr><tr><td>United States</td><td>Honduras</td><td>372</td></tr><tr><td>Qatar</td><td>United States</td><td>56</td></tr><tr><td>Fiji</td><td>United States</td><td>28</td></tr><tr><td>Saint Kitts and Nevis</td><td>United States</td><td>109</td></tr><tr><td>Taiwan</td><td>United States</td><td>229</td></tr><tr><td>Haiti</td><td>United States</td><td>224</td></tr><tr><td>Kuwait</td><td>United States</td><td>26</td></tr><tr><td>Canada</td><td>United States</td><td>8034</td></tr><tr><td>Belarus</td><td>United States</td><td>1</td></tr><tr><td>Federated States of Micronesia</td><td>United States</td><td>54</td></tr><tr><td>Jamaica</td><td>United States</td><td>617</td></tr><tr><td>Dominican Republic</td><td>United States</td><td>1078</td></tr><tr><td>Japan</td><td>United States</td><td>1538</td></tr><tr><td>United States</td><td>Saint Vincent and the Grenadines</td><td>11</td></tr><tr><td>Finland</td><td>United States</td><td>22</td></tr><tr><td>United States</td><td>Ukraine</td><td>13</td></tr><tr><td>United States</td><td>Guadeloupe</td><td>34</td></tr><tr><td>United States</td><td>France</td><td>840</td></tr><tr><td>United States</td><td>Norway</td><td>33</td></tr><tr><td>Aruba</td><td>United States</td><td>349</td></tr><tr><td>French Guiana</td><td>United States</td><td>8</td></tr><tr><td>United States</td><td>Kiribati</td><td>26</td></tr><tr><td>India</td><td>United States</td><td>61</td></tr><tr><td>British Virgin Islands</td><td>United States</td><td>83</td></tr><tr><td>Brazil</td><td>United States</td><td>979</td></tr><tr><td>United States</td><td>Germany</td><td>1413</td></tr><tr><td>United States</td><td>New Zealand</td><td>65</td></tr><tr><td>United States</td><td>Cambodia</td><td>1</td></tr><tr><td>French Polynesia</td><td>United States</td><td>39</td></tr><tr><td>United Arab Emirates</td><td>United States</td><td>188</td></tr><tr><td>Singapore</td><td>United States</td><td>26</td></tr><tr><td>United States</td><td>Mexico</td><td>5974</td></tr><tr><td>Netherlands</td><td>United States</td><td>640</td></tr><tr><td>United States</td><td>Sweden</td><td>54</td></tr><tr><td>United States</td><td>Martinique</td><td>17</td></tr><tr><td>United States</td><td>United Arab Emirates</td><td>176</td></tr><tr><td>China</td><td>United States</td><td>509</td></tr><tr><td>United States</td><td>Philippines</td><td>112</td></tr><tr><td>Denmark</td><td>United States</td><td>83</td></tr><tr><td>United States</td><td>Nicaragua</td><td>183</td></tr><tr><td>Oman</td><td>United States</td><td>1</td></tr><tr><td>United States</td><td>Belgium</td><td>275</td></tr><tr><td>Argentina</td><td>United States</td><td>208</td></tr><tr><td>Peru</td><td>United States</td><td>249</td></tr><tr><td>Cayman Islands</td><td>United States</td><td>258</td></tr><tr><td>South Africa</td><td>United States</td><td>24</td></tr><tr><td>United States</td><td>Argentina</td><td>170</td></tr><tr><td>United States</td><td>Iceland</td><td>150</td></tr><tr><td>Cameroon</td><td>United States</td><td>1</td></tr><tr><td>Spain</td><td>United States</td><td>390</td></tr><tr><td>Bermuda</td><td>United States</td><td>190</td></tr><tr><td>United States</td><td>Austria</td><td>31</td></tr><tr><td>United States</td><td>Nigeria</td><td>44</td></tr><tr><td>United States</td><td>Bonaire, Sint Eustatius, and Saba</td><td>44</td></tr><tr><td>Kiribati</td><td>United States</td><td>26</td></tr><tr><td>Saudi Arabia</td><td>United States</td><td>72</td></tr><tr><td>Czech Republic</td><td>United States</td><td>15</td></tr><tr><td>Macau</td><td>United States</td><td>1</td></tr><tr><td>United States</td><td>Bahrain</td><td>2</td></tr><tr><td>Belgium</td><td>United States</td><td>352</td></tr><tr><td>United States</td><td>Israel</td><td>117</td></tr><tr><td>United States</td><td>Saint Lucia</td><td>84</td></tr><tr><td>Sierra Leone</td><td>United States</td><td>1</td></tr><tr><td>Afghanistan</td><td>United States</td><td>5</td></tr><tr><td>United States</td><td>British Virgin Islands</td><td>78</td></tr><tr><td>Curacao</td><td>United States</td><td>107</td></tr><tr><td>Georgia</td><td>United States</td><td>2</td></tr><tr><td>United States</td><td>Guyana</td><td>79</td></tr><tr><td>Philippines</td><td>United States</td><td>136</td></tr><tr><td>United States</td><td>Denmark</td><td>82</td></tr><tr><td>Grenada</td><td>United States</td><td>51</td></tr><tr><td>Cape Verde</td><td>United States</td><td>19</td></tr><tr><td>Ukraine</td><td>United States</td><td>14</td></tr><tr><td>United States</td><td>Papua New Guinea</td><td>2</td></tr><tr><td>Russia</td><td>United States</td><td>183</td></tr><tr><td>United States</td><td>Saudi Arabia</td><td>70</td></tr><tr><td>Guatemala</td><td>United States</td><td>413</td></tr><tr><td>Saint Lucia</td><td>United States</td><td>81</td></tr><tr><td>Paraguay</td><td>United States</td><td>85</td></tr><tr><td>United States</td><td>Curacao</td><td>96</td></tr><tr><td>United States</td><td>Taiwan</td><td>214</td></tr><tr><td>Tunisia</td><td>United States</td><td>2</td></tr><tr><td>United States</td><td>South Africa</td><td>29</td></tr><tr><td>Turkey</td><td>United States</td><td>94</td></tr><tr><td>United Kingdom</td><td>United States</td><td>1852</td></tr><tr><td>Solomon Islands</td><td>United States</td><td>2</td></tr><tr><td>United States</td><td>Greenland</td><td>1</td></tr><tr><td>United States</td><td>Spain</td><td>393</td></tr><tr><td>United States</td><td>Italy</td><td>377</td></tr><tr><td>Cuba</td><td>United States</td><td>340</td></tr><tr><td>United States</td><td>Switzerland</td><td>282</td></tr><tr><td>Dominica</td><td>United States</td><td>26</td></tr><tr><td>United States</td><td>Japan</td><td>1451</td></tr><tr><td>Portugal</td><td>United States</td><td>112</td></tr><tr><td>Bahrain</td><td>United States</td><td>65</td></tr><tr><td>United States</td><td>Brazil</td><td>567</td></tr><tr><td>United States</td><td>Peru</td><td>292</td></tr><tr><td>Vietnam</td><td>United States</td><td>2</td></tr><tr><td>United States</td><td>United Kingdom</td><td>1713</td></tr><tr><td>United States</td><td>Belize</td><td>108</td></tr><tr><td>Belize</td><td>United States</td><td>113</td></tr><tr><td>United States</td><td>Ghana</td><td>31</td></tr><tr><td>Mauritania</td><td>United States</td><td>1</td></tr><tr><td>United States</td><td>Fiji</td><td>26</td></tr><tr><td>United States</td><td>Canada</td><td>8097</td></tr><tr><td>United States</td><td>French Polynesia</td><td>38</td></tr><tr><td>United States</td><td>Antigua and Barbuda</td><td>146</td></tr><tr><td>Nicaragua</td><td>United States</td><td>174</td></tr><tr><td>United States</td><td>Latvia</td><td>14</td></tr><tr><td>United States</td><td>Dominica</td><td>25</td></tr><tr><td>United States</td><td>Czech Republic</td><td>13</td></tr><tr><td>United States</td><td>Australia</td><td>211</td></tr><tr><td>United States</td><td>Cook Islands</td><td>12</td></tr><tr><td>Austria</td><td>United States</td><td>34</td></tr><tr><td>Jordan</td><td>United States</td><td>41</td></tr><tr><td>Palau</td><td>United States</td><td>35</td></tr><tr><td>United States</td><td>Equatorial Guinea</td><td>4</td></tr><tr><td>South Korea</td><td>United States</td><td>819</td></tr><tr><td>Angola</td><td>United States</td><td>12</td></tr><tr><td>Ghana</td><td>United States</td><td>30</td></tr><tr><td>New Caledonia</td><td>United States</td><td>1</td></tr><tr><td>Guadeloupe</td><td>United States</td><td>36</td></tr><tr><td>France</td><td>United States</td><td>818</td></tr><tr><td>Poland</td><td>United States</td><td>38</td></tr><tr><td>Nigeria</td><td>United States</td><td>57</td></tr><tr><td>United States</td><td>Uruguay</td><td>17</td></tr><tr><td>Greenland</td><td>United States</td><td>1</td></tr><tr><td>Chile</td><td>United States</td><td>178</td></tr><tr><td>United States</td><td>Bermuda</td><td>194</td></tr><tr><td>United States</td><td>Cuba</td><td>341</td></tr><tr><td>United States</td><td>Colombia</td><td>806</td></tr><tr><td>United States</td><td>Barbados</td><td>109</td></tr><tr><td>United States</td><td>Qatar</td><td>56</td></tr><tr><td>Australia</td><td>United States</td><td>277</td></tr><tr><td>United States</td><td>Cayman Islands</td><td>247</td></tr><tr><td>United States</td><td>Jordan</td><td>43</td></tr><tr><td>United States</td><td>Trinidad and Tobago</td><td>213</td></tr><tr><td>United States</td><td>Bolivia</td><td>21</td></tr><tr><td>Uruguay</td><td>United States</td><td>53</td></tr><tr><td>Cook Islands</td><td>United States</td><td>12</td></tr><tr><td>United States</td><td>Saint Kitts and Nevis</td><td>124</td></tr><tr><td>Bulgaria</td><td>United States</td><td>6</td></tr><tr><td>United States</td><td>French Guiana</td><td>1</td></tr><tr><td>United States</td><td>Haiti</td><td>234</td></tr><tr><td>Bonaire, Sint Eustatius, and Saba</td><td>United States</td><td>46</td></tr><tr><td>Greece</td><td>United States</td><td>17</td></tr><tr><td>United States</td><td>Saint Martin</td><td>1</td></tr><tr><td>United States</td><td>Romania</td><td>12</td></tr><tr><td>United States</td><td>Croatia</td><td>2</td></tr><tr><td>United States</td><td>Ireland</td><td>291</td></tr><tr><td>United States</td><td>India</td><td>62</td></tr><tr><td>Egypt</td><td>United States</td><td>11</td></tr><tr><td>United States</td><td>Grenada</td><td>47</td></tr><tr><td>Costa Rica</td><td>United States</td><td>529</td></tr><tr><td>Senegal</td><td>United States</td><td>35</td></tr><tr><td>United States</td><td>Sint Maarten</td><td>290</td></tr><tr><td>Guyana</td><td>United States</td><td>52</td></tr><tr><td>United States</td><td>Marshall Islands</td><td>35</td></tr><tr><td>Malta</td><td>United States</td><td>2</td></tr><tr><td>Malawi</td><td>United States</td><td>1</td></tr><tr><td>Bolivia</td><td>United States</td><td>33</td></tr><tr><td>Anguilla</td><td>United States</td><td>34</td></tr><tr><td>Algeria</td><td>United States</td><td>9</td></tr><tr><td>United States</td><td>Paraguay</td><td>14</td></tr><tr><td>Gibraltar</td><td>United States</td><td>1</td></tr><tr><td>Turks and Caicos Islands</td><td>United States</td><td>193</td></tr><tr><td>Saint Vincent and the Grenadines</td><td>United States</td><td>1</td></tr><tr><td>United States</td><td>Russia</td><td>151</td></tr><tr><td>Italy</td><td>United States</td><td>366</td></tr><tr><td>Pakistan</td><td>United States</td><td>12</td></tr><tr><td>United States</td><td>Federated States of Micronesia</td><td>71</td></tr><tr><td>Iceland</td><td>United States</td><td>150</td></tr><tr><td>United States</td><td>Netherlands</td><td>702</td></tr><tr><td>Marshall Islands</td><td>United States</td><td>46</td></tr><tr><td>Luxembourg</td><td>United States</td><td>161</td></tr><tr><td>Honduras</td><td>United States</td><td>411</td></tr><tr><td>The Bahamas</td><td>United States</td><td>950</td></tr><tr><td>El Salvador</td><td>United States</td><td>572</td></tr><tr><td>United States</td><td>Senegal</td><td>28</td></tr><tr><td>Samoa</td><td>United States</td><td>24</td></tr><tr><td>United States</td><td>Angola</td><td>12</td></tr><tr><td>Kazakhstan</td><td>United States</td><td>1</td></tr><tr><td>Switzerland</td><td>United States</td><td>302</td></tr><tr><td>United States</td><td>Anguilla</td><td>35</td></tr><tr><td>Sint Maarten</td><td>United States</td><td>290</td></tr><tr><td>Hong Kong</td><td>United States</td><td>338</td></tr><tr><td>United States</td><td>Congo (Brazaville)</td><td>1</td></tr><tr><td>Latvia</td><td>United States</td><td>40</td></tr><tr><td>Trinidad and Tobago</td><td>United States</td><td>188</td></tr><tr><td>United States</td><td>Ecuador</td><td>326</td></tr><tr><td>Slovakia</td><td>United States</td><td>1</td></tr><tr><td>Suriname</td><td>United States</td><td>10</td></tr><tr><td>Mexico</td><td>United States</td><td>6427</td></tr><tr><td>Ecuador</td><td>United States</td><td>256</td></tr><tr><td>United States</td><td>Portugal</td><td>122</td></tr><tr><td>United States</td><td>Guatemala</td><td>327</td></tr><tr><td>United States</td><td>Costa Rica</td><td>560</td></tr><tr><td>United States</td><td>Suriname</td><td>27</td></tr><tr><td>Colombia</td><td>United States</td><td>872</td></tr><tr><td>United States</td><td>Cape Verde</td><td>16</td></tr><tr><td>United States</td><td>Jamaica</td><td>714</td></tr><tr><td>Norway</td><td>United States</td><td>86</td></tr><tr><td>United States</td><td>Morocco</td><td>15</td></tr><tr><td>Venezuela</td><td>United States</td><td>335</td></tr><tr><td>United States</td><td>Samoa</td><td>25</td></tr><tr><td>United States</td><td>Palau</td><td>38</td></tr><tr><td>United States</td><td>Venezuela</td><td>258</td></tr><tr><td>Panama</td><td>United States</td><td>456</td></tr><tr><td>United States</td><td>Chile</td><td>168</td></tr><tr><td>United States</td><td>Finland</td><td>19</td></tr><tr><td>Antigua and Barbuda</td><td>United States</td><td>115</td></tr><tr><td>Morocco</td><td>United States</td><td>18</td></tr><tr><td>United States</td><td>Greece</td><td>19</td></tr><tr><td>Azerbaijan</td><td>United States</td><td>7</td></tr><tr><td>United States</td><td>The Bahamas</td><td>991</td></tr><tr><td>New Zealand</td><td>United States</td><td>114</td></tr><tr><td>Liberia</td><td>United States</td><td>3</td></tr><tr><td>United States</td><td>Hong Kong</td><td>381</td></tr><tr><td>Hungary</td><td>United States</td><td>2</td></tr><tr><td>United States</td><td>Tunisia</td><td>1</td></tr><tr><td>United States</td><td>China</td><td>767</td></tr><tr><td>Burkina Faso</td><td>United States</td><td>2</td></tr><tr><td>Sweden</td><td>United States</td><td>94</td></tr><tr><td>United States</td><td>Kuwait</td><td>24</td></tr><tr><td>United States</td><td>Dominican Republic</td><td>1282</td></tr><tr><td>United States</td><td>Egypt</td><td>11</td></tr><tr><td>Israel</td><td>United States</td><td>108</td></tr><tr><td>United States</td><td>United States</td><td>358354</td></tr><tr><td>United States</td><td>Luxembourg</td><td>115</td></tr><tr><td>Ethiopia</td><td>United States</td><td>11</td></tr><tr><td>United States</td><td>Poland</td><td>33</td></tr><tr><td>Martinique</td><td>United States</td><td>31</td></tr><tr><td>United States</td><td>Saint Barthelemy</td><td>53</td></tr><tr><td>Saint Barthelemy</td><td>United States</td><td>53</td></tr><tr><td>United States</td><td>Turkey</td><td>92</td></tr><tr><td>Barbados</td><td>United States</td><td>102</td></tr><tr><td>United States</td><td>Kazakhstan</td><td>1</td></tr><tr><td>United States</td><td>Azerbaijan</td><td>5</td></tr><tr><td>Germany</td><td>United States</td><td>1391</td></tr><tr><td>United States</td><td>South Korea</td><td>754</td></tr><tr><td>United States</td><td>El Salvador</td><td>486</td></tr><tr><td>Ireland</td><td>United States</td><td>267</td></tr><tr><td>United States</td><td>Hungary</td><td>1</td></tr><tr><td>Malaysia</td><td>United States</td><td>2</td></tr><tr><td>United States</td><td>Panama</td><td>460</td></tr><tr><td>United States</td><td>Aruba</td><td>348</td></tr><tr><td>United States</td><td>Ethiopia</td><td>11</td></tr><tr><td>United States</td><td>Turks and Caicos Islands</td><td>204</td></tr><tr><td>United States</td><td>Pakistan</td><td>12</td></tr><tr><td>United States</td><td>Honduras</td><td>412</td></tr><tr><td>Fiji</td><td>United States</td><td>25</td></tr><tr><td>Qatar</td><td>United States</td><td>95</td></tr><tr><td>Saint Kitts and Nevis</td><td>United States</td><td>118</td></tr><tr><td>Haiti</td><td>United States</td><td>201</td></tr><tr><td>Taiwan</td><td>United States</td><td>265</td></tr><tr><td>Kuwait</td><td>United States</td><td>24</td></tr><tr><td>Canada</td><td>United States</td><td>7974</td></tr><tr><td>Federated States of Micronesia</td><td>United States</td><td>60</td></tr><tr><td>Jamaica</td><td>United States</td><td>673</td></tr><tr><td>United States</td><td>Malta</td><td>2</td></tr><tr><td>Dominican Republic</td><td>United States</td><td>1230</td></tr><tr><td>Japan</td><td>United States</td><td>1591</td></tr><tr><td>United States</td><td>Saint Vincent and the Grenadines</td><td>3</td></tr><tr><td>Finland</td><td>United States</td><td>18</td></tr><tr><td>United States</td><td>Ukraine</td><td>1</td></tr><tr><td>United States</td><td>Guadeloupe</td><td>47</td></tr><tr><td>United States</td><td>France</td><td>960</td></tr><tr><td>Aruba</td><td>United States</td><td>351</td></tr><tr><td>United States</td><td>Norway</td><td>87</td></tr><tr><td>French Guiana</td><td>United States</td><td>11</td></tr><tr><td>United States</td><td>Kiribati</td><td>27</td></tr><tr><td>India</td><td>United States</td><td>61</td></tr><tr><td>British Virgin Islands</td><td>United States</td><td>108</td></tr><tr><td>Brazil</td><td>United States</td><td>927</td></tr><tr><td>United States</td><td>Germany</td><td>1343</td></tr><tr><td>United States</td><td>New Zealand</td><td>77</td></tr><tr><td>United States</td><td>Cambodia</td><td>1</td></tr><tr><td>French Polynesia</td><td>United States</td><td>39</td></tr><tr><td>United Arab Emirates</td><td>United States</td><td>247</td></tr><tr><td>United States</td><td>Mexico</td><td>6490</td></tr><tr><td>Netherlands</td><td>United States</td><td>773</td></tr><tr><td>United States</td><td>Sweden</td><td>101</td></tr><tr><td>United States</td><td>Martinique</td><td>32</td></tr><tr><td>United States</td><td>United Arab Emirates</td><td>226</td></tr><tr><td>United States</td><td>Bulgaria</td><td>1</td></tr><tr><td>Denmark</td><td>United States</td><td>114</td></tr><tr><td>China</td><td>United States</td><td>653</td></tr><tr><td>United States</td><td>Nicaragua</td><td>170</td></tr><tr><td>United States</td><td>Philippines</td><td>116</td></tr><tr><td>United States</td><td>Belgium</td><td>230</td></tr><tr><td>Peru</td><td>United States</td><td>277</td></tr><tr><td>Argentina</td><td>United States</td><td>195</td></tr><tr><td>Cayman Islands</td><td>United States</td><td>283</td></tr><tr><td>South Africa</td><td>United States</td><td>32</td></tr><tr><td>United States</td><td>Argentina</td><td>153</td></tr><tr><td>United States</td><td>Iceland</td><td>177</td></tr><tr><td>Chad</td><td>United States</td><td>1</td></tr><tr><td>Spain</td><td>United States</td><td>388</td></tr><tr><td>Bermuda</td><td>United States</td><td>185</td></tr><tr><td>United States</td><td>Nigeria</td><td>43</td></tr><tr><td>United States</td><td>Austria</td><td>46</td></tr><tr><td>United States</td><td>Bonaire, Sint Eustatius, and Saba</td><td>63</td></tr><tr><td>Kiribati</td><td>United States</td><td>26</td></tr><tr><td>Saudi Arabia</td><td>United States</td><td>79</td></tr><tr><td>Czech Republic</td><td>United States</td><td>11</td></tr><tr><td>Macau</td><td>United States</td><td>3</td></tr><tr><td>Belgium</td><td>United States</td><td>259</td></tr><tr><td>United States</td><td>Israel</td><td>112</td></tr><tr><td>United States</td><td>Saint Lucia</td><td>109</td></tr><tr><td>United States</td><td>British Virgin Islands</td><td>101</td></tr><tr><td>Curacao</td><td>United States</td><td>74</td></tr><tr><td>United States</td><td>Denmark</td><td>116</td></tr><tr><td>United States</td><td>Guyana</td><td>55</td></tr><tr><td>Philippines</td><td>United States</td><td>134</td></tr><tr><td>Grenada</td><td>United States</td><td>43</td></tr><tr><td>Cape Verde</td><td>United States</td><td>24</td></tr><tr><td>Ukraine</td><td>United States</td><td>11</td></tr><tr><td>Russia</td><td>United States</td><td>213</td></tr><tr><td>United States</td><td>Saudi Arabia</td><td>74</td></tr><tr><td>Guatemala</td><td>United States</td><td>383</td></tr><tr><td>Saint Lucia</td><td>United States</td><td>107</td></tr><tr><td>Paraguay</td><td>United States</td><td>90</td></tr><tr><td>United States</td><td>Curacao</td><td>77</td></tr><tr><td>United States</td><td>Taiwan</td><td>240</td></tr><tr><td>Tunisia</td><td>United States</td><td>2</td></tr><tr><td>United States</td><td>South Africa</td><td>32</td></tr><tr><td>Turkey</td><td>United States</td><td>91</td></tr><tr><td>United Kingdom</td><td>United States</td><td>1912</td></tr><tr><td>Romania</td><td>United States</td><td>11</td></tr><tr><td>United States</td><td>Greenland</td><td>1</td></tr><tr><td>United States</td><td>Spain</td><td>424</td></tr><tr><td>Cuba</td><td>United States</td><td>417</td></tr><tr><td>United States</td><td>Italy</td><td>385</td></tr><tr><td>United States</td><td>Switzerland</td><td>300</td></tr><tr><td>Dominica</td><td>United States</td><td>25</td></tr><tr><td>United States</td><td>Japan</td><td>1501</td></tr><tr><td>Portugal</td><td>United States</td><td>124</td></tr><tr><td>United States</td><td>Brazil</td><td>578</td></tr><tr><td>Bahrain</td><td>United States</td><td>41</td></tr><tr><td>United States</td><td>Peru</td><td>315</td></tr><tr><td>Indonesia</td><td>United States</td><td>1</td></tr><tr><td>United States</td><td>United Kingdom</td><td>1812</td></tr><tr><td>United States</td><td>Belize</td><td>143</td></tr><tr><td>Belize</td><td>United States</td><td>142</td></tr><tr><td>United States</td><td>Ghana</td><td>15</td></tr><tr><td>Mauritania</td><td>United States</td><td>1</td></tr><tr><td>United States</td><td>Indonesia</td><td>1</td></tr><tr><td>United States</td><td>Fiji</td><td>27</td></tr><tr><td>United States</td><td>Canada</td><td>8177</td></tr><tr><td>United States</td><td>Antigua and Barbuda</td><td>112</td></tr><tr><td>United States</td><td>French Polynesia</td><td>40</td></tr><tr><td>Nicaragua</td><td>United States</td><td>168</td></tr><tr><td>United States</td><td>Latvia</td><td>13</td></tr><tr><td>United States</td><td>Dominica</td><td>36</td></tr><tr><td>United States</td><td>Czech Republic</td><td>11</td></tr><tr><td>United States</td><td>Cook Islands</td><td>12</td></tr><tr><td>United States</td><td>Australia</td><td>235</td></tr><tr><td>Austria</td><td>United States</td><td>47</td></tr><tr><td>Jordan</td><td>United States</td><td>65</td></tr><tr><td>Palau</td><td>United States</td><td>38</td></tr><tr><td>South Korea</td><td>United States</td><td>968</td></tr><tr><td>Angola</td><td>United States</td><td>13</td></tr><tr><td>Ghana</td><td>United States</td><td>13</td></tr><tr><td>Guadeloupe</td><td>United States</td><td>43</td></tr><tr><td>France</td><td>United States</td><td>966</td></tr><tr><td>Poland</td><td>United States</td><td>35</td></tr><tr><td>Nigeria</td><td>United States</td><td>49</td></tr><tr><td>United States</td><td>Uruguay</td><td>18</td></tr><tr><td>Greenland</td><td>United States</td><td>2</td></tr><tr><td>Chile</td><td>United States</td><td>156</td></tr><tr><td>United States</td><td>Bermuda</td><td>190</td></tr><tr><td>United States</td><td>Cuba</td><td>419</td></tr><tr><td>United States</td><td>Qatar</td><td>96</td></tr><tr><td>United States</td><td>Colombia</td><td>888</td></tr><tr><td>United States</td><td>Barbados</td><td>89</td></tr><tr><td>Australia</td><td>United States</td><td>293</td></tr><tr><td>United States</td><td>Cayman Islands</td><td>278</td></tr><tr><td>United States</td><td>Jordan</td><td>64</td></tr><tr><td>United States</td><td>Trinidad and Tobago</td><td>175</td></tr><tr><td>United States</td><td>Bolivia</td><td>14</td></tr><tr><td>Uruguay</td><td>United States</td><td>60</td></tr><tr><td>Cook Islands</td><td>United States</td><td>12</td></tr><tr><td>United States</td><td>French Guiana</td><td>4</td></tr><tr><td>United States</td><td>Saint Kitts and Nevis</td><td>123</td></tr><tr><td>United States</td><td>Haiti</td><td>193</td></tr><tr><td>Bonaire, Sint Eustatius, and Saba</td><td>United States</td><td>62</td></tr><tr><td>Greece</td><td>United States</td><td>20</td></tr></tbody></table></div>"
      ]
     },
     "metadata": {
      "application/vnd.databricks.v1+output": {
       "addedWidgets": {},
       "aggData": [],
       "aggError": "",
       "aggOverflow": false,
       "aggSchema": [],
       "aggSeriesLimitReached": false,
       "aggType": "",
       "arguments": {},
       "columnCustomDisplayInfos": {},
       "data": [
        [
         "United States",
         "Romania",
         "1"
        ],
        [
         "United States",
         "Ireland",
         "264"
        ],
        [
         "United States",
         "India",
         "69"
        ],
        [
         "Egypt",
         "United States",
         "24"
        ],
        [
         "Equatorial Guinea",
         "United States",
         "1"
        ],
        [
         "United States",
         "Singapore",
         "25"
        ],
        [
         "United States",
         "Grenada",
         "54"
        ],
        [
         "Costa Rica",
         "United States",
         "477"
        ],
        [
         "Senegal",
         "United States",
         "29"
        ],
        [
         "United States",
         "Marshall Islands",
         "44"
        ],
        [
         "Guyana",
         "United States",
         "17"
        ],
        [
         "United States",
         "Sint Maarten",
         "53"
        ],
        [
         "Malta",
         "United States",
         "1"
        ],
        [
         "Bolivia",
         "United States",
         "46"
        ],
        [
         "Anguilla",
         "United States",
         "21"
        ],
        [
         "Turks and Caicos Islands",
         "United States",
         "136"
        ],
        [
         "United States",
         "Afghanistan",
         "2"
        ],
        [
         "Saint Vincent and the Grenadines",
         "United States",
         "1"
        ],
        [
         "Italy",
         "United States",
         "390"
        ],
        [
         "United States",
         "Russia",
         "156"
        ],
        [
         "United States",
         "Federated States of Micronesia",
         "48"
        ],
        [
         "Pakistan",
         "United States",
         "9"
        ],
        [
         "United States",
         "Netherlands",
         "570"
        ],
        [
         "Iceland",
         "United States",
         "118"
        ],
        [
         "Marshall Islands",
         "United States",
         "77"
        ],
        [
         "Luxembourg",
         "United States",
         "91"
        ],
        [
         "Honduras",
         "United States",
         "391"
        ],
        [
         "The Bahamas",
         "United States",
         "903"
        ],
        [
         "El Salvador",
         "United States",
         "519"
        ],
        [
         "United States",
         "Senegal",
         "46"
        ],
        [
         "Samoa",
         "United States",
         "28"
        ],
        [
         "United States",
         "Angola",
         "18"
        ],
        [
         "Kazakhstan",
         "United States",
         "3"
        ],
        [
         "Switzerland",
         "United States",
         "315"
        ],
        [
         "United States",
         "Anguilla",
         "20"
        ],
        [
         "Sint Maarten",
         "United States",
         "61"
        ],
        [
         "Hong Kong",
         "United States",
         "252"
        ],
        [
         "Trinidad and Tobago",
         "United States",
         "187"
        ],
        [
         "Latvia",
         "United States",
         "12"
        ],
        [
         "United States",
         "Ecuador",
         "345"
        ],
        [
         "Slovakia",
         "United States",
         "1"
        ],
        [
         "Suriname",
         "United States",
         "12"
        ],
        [
         "Mexico",
         "United States",
         "6200"
        ],
        [
         "United States",
         "Cyprus",
         "1"
        ],
        [
         "Ecuador",
         "United States",
         "272"
        ],
        [
         "United States",
         "Bosnia and Herzegovina",
         "1"
        ],
        [
         "United States",
         "Portugal",
         "104"
        ],
        [
         "United States",
         "Costa Rica",
         "501"
        ],
        [
         "United States",
         "Guatemala",
         "333"
        ],
        [
         "United States",
         "Suriname",
         "13"
        ],
        [
         "Colombia",
         "United States",
         "785"
        ],
        [
         "United States",
         "Cape Verde",
         "18"
        ],
        [
         "United States",
         "Jamaica",
         "757"
        ],
        [
         "United States",
         "Malaysia",
         "3"
        ],
        [
         "Norway",
         "United States",
         "29"
        ],
        [
         "United States",
         "Morocco",
         "16"
        ],
        [
         "Thailand",
         "United States",
         "16"
        ],
        [
         "Venezuela",
         "United States",
         "377"
        ],
        [
         "United States",
         "Palau",
         "30"
        ],
        [
         "United States",
         "Samoa",
         "28"
        ],
        [
         "United States",
         "Algeria",
         "1"
        ],
        [
         "United States",
         "Venezuela",
         "341"
        ],
        [
         "Panama",
         "United States",
         "355"
        ],
        [
         "United States",
         "Finland",
         "20"
        ],
        [
         "United States",
         "Chile",
         "176"
        ],
        [
         "Morocco",
         "United States",
         "16"
        ],
        [
         "United States",
         "Greece",
         "61"
        ],
        [
         "Antigua and Barbuda",
         "United States",
         "123"
        ],
        [
         "Azerbaijan",
         "United States",
         "1"
        ],
        [
         "United States",
         "The Bahamas",
         "959"
        ],
        [
         "New Zealand",
         "United States",
         "86"
        ],
        [
         "Liberia",
         "United States",
         "1"
        ],
        [
         "United States",
         "Hong Kong",
         "293"
        ],
        [
         "Hungary",
         "United States",
         "14"
        ],
        [
         "United States",
         "China",
         "505"
        ],
        [
         "United States",
         "Vietnam",
         "1"
        ],
        [
         "Sweden",
         "United States",
         "65"
        ],
        [
         "United States",
         "Kuwait",
         "25"
        ],
        [
         "United States",
         "Dominican Republic",
         "1150"
        ],
        [
         "United States",
         "Egypt",
         "25"
        ],
        [
         "Israel",
         "United States",
         "117"
        ],
        [
         "United States",
         "United States",
         "348113"
        ],
        [
         "United States",
         "Luxembourg",
         "90"
        ],
        [
         "Ethiopia",
         "United States",
         "12"
        ],
        [
         "United States",
         "Poland",
         "61"
        ],
        [
         "Martinique",
         "United States",
         "23"
        ],
        [
         "Saint Barthelemy",
         "United States",
         "28"
        ],
        [
         "United States",
         "Saint Barthelemy",
         "29"
        ],
        [
         "United States",
         "Turkey",
         "87"
        ],
        [
         "Barbados",
         "United States",
         "130"
        ],
        [
         "United States",
         "Estonia",
         "1"
        ],
        [
         "United States",
         "Azerbaijan",
         "1"
        ],
        [
         "Germany",
         "United States",
         "1392"
        ],
        [
         "Kyrgyzstan",
         "United States",
         "2"
        ],
        [
         "United States",
         "South Korea",
         "621"
        ],
        [
         "United States",
         "El Salvador",
         "464"
        ],
        [
         "Ireland",
         "United States",
         "231"
        ],
        [
         "United States",
         "Hungary",
         "15"
        ],
        [
         "United States",
         "Serbia",
         "1"
        ],
        [
         "Malaysia",
         "United States",
         "1"
        ],
        [
         "United States",
         "Panama",
         "363"
        ],
        [
         "United States",
         "Ethiopia",
         "12"
        ],
        [
         "United States",
         "Aruba",
         "349"
        ],
        [
         "United States",
         "Thailand",
         "13"
        ],
        [
         "United States",
         "Netherlands Antilles",
         "289"
        ],
        [
         "United States",
         "Turks and Caicos Islands",
         "147"
        ],
        [
         "Cyprus",
         "United States",
         "2"
        ],
        [
         "United States",
         "Pakistan",
         "15"
        ],
        [
         "United States",
         "Honduras",
         "393"
        ],
        [
         "Qatar",
         "United States",
         "41"
        ],
        [
         "Fiji",
         "United States",
         "53"
        ],
        [
         "Saint Kitts and Nevis",
         "United States",
         "113"
        ],
        [
         "Taiwan",
         "United States",
         "275"
        ],
        [
         "Haiti",
         "United States",
         "238"
        ],
        [
         "Kuwait",
         "United States",
         "26"
        ],
        [
         "Canada",
         "United States",
         "8271"
        ],
        [
         "Federated States of Micronesia",
         "United States",
         "46"
        ],
        [
         "United States",
         "Liberia",
         "1"
        ],
        [
         "Jamaica",
         "United States",
         "733"
        ],
        [
         "United States",
         "Malta",
         "2"
        ],
        [
         "Dominican Republic",
         "United States",
         "1109"
        ],
        [
         "Japan",
         "United States",
         "1383"
        ],
        [
         "United States",
         "Saint Vincent and the Grenadines",
         "16"
        ],
        [
         "United States",
         "Guadeloupe",
         "33"
        ],
        [
         "Finland",
         "United States",
         "24"
        ],
        [
         "United States",
         "Ukraine",
         "17"
        ],
        [
         "United States",
         "France",
         "776"
        ],
        [
         "United States",
         "Norway",
         "36"
        ],
        [
         "Aruba",
         "United States",
         "359"
        ],
        [
         "French Guiana",
         "United States",
         "4"
        ],
        [
         "United States",
         "Kiribati",
         "18"
        ],
        [
         "India",
         "United States",
         "66"
        ],
        [
         "British Virgin Islands",
         "United States",
         "49"
        ],
        [
         "United States",
         "Germany",
         "1406"
        ],
        [
         "Brazil",
         "United States",
         "995"
        ],
        [
         "United States",
         "New Zealand",
         "71"
        ],
        [
         "French Polynesia",
         "United States",
         "38"
        ],
        [
         "United Arab Emirates",
         "United States",
         "165"
        ],
        [
         "Singapore",
         "United States",
         "25"
        ],
        [
         "United States",
         "Mexico",
         "6220"
        ],
        [
         "Netherlands",
         "United States",
         "586"
        ],
        [
         "United States",
         "Sweden",
         "73"
        ],
        [
         "United States",
         "Gabon",
         "1"
        ],
        [
         "United States",
         "Martinique",
         "20"
        ],
        [
         "United States",
         "United Arab Emirates",
         "156"
        ],
        [
         "United States",
         "Bulgaria",
         "2"
        ],
        [
         "China",
         "United States",
         "448"
        ],
        [
         "Denmark",
         "United States",
         "98"
        ],
        [
         "United States",
         "Philippines",
         "116"
        ],
        [
         "United States",
         "Nicaragua",
         "181"
        ],
        [
         "United States",
         "Belgium",
         "355"
        ],
        [
         "Peru",
         "United States",
         "212"
        ],
        [
         "Argentina",
         "United States",
         "184"
        ],
        [
         "Cayman Islands",
         "United States",
         "247"
        ],
        [
         "South Africa",
         "United States",
         "25"
        ],
        [
         "United States",
         "Iceland",
         "129"
        ],
        [
         "United States",
         "Argentina",
         "159"
        ],
        [
         "Spain",
         "United States",
         "422"
        ],
        [
         "Netherlands Antilles",
         "United States",
         "286"
        ],
        [
         "Bermuda",
         "United States",
         "183"
        ],
        [
         "United States",
         "Austria",
         "34"
        ],
        [
         "United States",
         "Nigeria",
         "18"
        ],
        [
         "United States",
         "Bonaire, Sint Eustatius, and Saba",
         "16"
        ],
        [
         "Kiribati",
         "United States",
         "17"
        ],
        [
         "Saudi Arabia",
         "United States",
         "42"
        ],
        [
         "Czech Republic",
         "United States",
         "21"
        ],
        [
         "Belgium",
         "United States",
         "408"
        ],
        [
         "United States",
         "Israel",
         "122"
        ],
        [
         "United States",
         "Bahrain",
         "1"
        ],
        [
         "United States",
         "Saint Lucia",
         "121"
        ],
        [
         "Afghanistan",
         "United States",
         "11"
        ],
        [
         "United States",
         "British Virgin Islands",
         "47"
        ],
        [
         "Curacao",
         "United States",
         "20"
        ],
        [
         "Georgia",
         "United States",
         "2"
        ],
        [
         "United States",
         "Guyana",
         "20"
        ],
        [
         "United States",
         "Denmark",
         "107"
        ],
        [
         "Philippines",
         "United States",
         "132"
        ],
        [
         "Grenada",
         "United States",
         "65"
        ],
        [
         "Cape Verde",
         "United States",
         "18"
        ],
        [
         "Ukraine",
         "United States",
         "19"
        ],
        [
         "United States",
         "Papua New Guinea",
         "1"
        ],
        [
         "United States",
         "Saudi Arabia",
         "54"
        ],
        [
         "Russia",
         "United States",
         "152"
        ],
        [
         "Guatemala",
         "United States",
         "386"
        ],
        [
         "Saint Lucia",
         "United States",
         "116"
        ],
        [
         "Paraguay",
         "United States",
         "90"
        ],
        [
         "United States",
         "Curacao",
         "14"
        ],
        [
         "United States",
         "Taiwan",
         "252"
        ],
        [
         "United States",
         "South Africa",
         "15"
        ],
        [
         "Turkey",
         "United States",
         "75"
        ],
        [
         "United Kingdom",
         "United States",
         "1629"
        ],
        [
         "United States",
         "Greenland",
         "2"
        ],
        [
         "United States",
         "Spain",
         "442"
        ],
        [
         "Cuba",
         "United States",
         "243"
        ],
        [
         "United States",
         "Italy",
         "433"
        ],
        [
         "United States",
         "Switzerland",
         "334"
        ],
        [
         "Dominica",
         "United States",
         "28"
        ],
        [
         "United States",
         "Japan",
         "1307"
        ],
        [
         "Portugal",
         "United States",
         "102"
        ],
        [
         "United States",
         "Brazil",
         "578"
        ],
        [
         "Bahrain",
         "United States",
         "30"
        ],
        [
         "United States",
         "Peru",
         "284"
        ],
        [
         "Vietnam",
         "United States",
         "1"
        ],
        [
         "United States",
         "United Kingdom",
         "1503"
        ],
        [
         "United States",
         "Belize",
         "118"
        ],
        [
         "Belize",
         "United States",
         "121"
        ],
        [
         "United States",
         "Ghana",
         "28"
        ],
        [
         "United States",
         "Indonesia",
         "1"
        ],
        [
         "United States",
         "Fiji",
         "51"
        ],
        [
         "United States",
         "Canada",
         "8305"
        ],
        [
         "United States",
         "French Polynesia",
         "38"
        ],
        [
         "United States",
         "Antigua and Barbuda",
         "121"
        ],
        [
         "United States",
         "Burkina Faso",
         "1"
        ],
        [
         "Nicaragua",
         "United States",
         "178"
        ],
        [
         "United States",
         "Latvia",
         "13"
        ],
        [
         "United States",
         "Dominica",
         "32"
        ],
        [
         "United States",
         "Czech Republic",
         "22"
        ],
        [
         "United States",
         "Australia",
         "216"
        ],
        [
         "Austria",
         "United States",
         "36"
        ],
        [
         "United States",
         "Cook Islands",
         "12"
        ],
        [
         "Jordan",
         "United States",
         "50"
        ],
        [
         "Palau",
         "United States",
         "31"
        ],
        [
         "Uganda",
         "United States",
         "2"
        ],
        [
         "United States",
         "Cameroon",
         "1"
        ],
        [
         "South Korea",
         "United States",
         "683"
        ],
        [
         "Angola",
         "United States",
         "14"
        ],
        [
         "Ghana",
         "United States",
         "27"
        ],
        [
         "Guadeloupe",
         "United States",
         "40"
        ],
        [
         "France",
         "United States",
         "774"
        ],
        [
         "United States",
         "Kyrgyzstan",
         "12"
        ],
        [
         "Poland",
         "United States",
         "62"
        ],
        [
         "Nigeria",
         "United States",
         "16"
        ],
        [
         "United States",
         "Uruguay",
         "24"
        ],
        [
         "Greenland",
         "United States",
         "2"
        ],
        [
         "Chile",
         "United States",
         "166"
        ],
        [
         "United States",
         "Bermuda",
         "180"
        ],
        [
         "United States",
         "Cuba",
         "235"
        ],
        [
         "United States",
         "Colombia",
         "832"
        ],
        [
         "United States",
         "Qatar",
         "40"
        ],
        [
         "United States",
         "Barbados",
         "119"
        ],
        [
         "Australia",
         "United States",
         "290"
        ],
        [
         "United States",
         "Jordan",
         "51"
        ],
        [
         "United States",
         "Cayman Islands",
         "251"
        ],
        [
         "United States",
         "Trinidad and Tobago",
         "200"
        ],
        [
         "United States",
         "Bolivia",
         "39"
        ],
        [
         "United States",
         "Slovakia",
         "1"
        ],
        [
         "Uruguay",
         "United States",
         "54"
        ],
        [
         "Cook Islands",
         "United States",
         "13"
        ],
        [
         "United States",
         "Saint Kitts and Nevis",
         "127"
        ],
        [
         "Bulgaria",
         "United States",
         "1"
        ],
        [
         "United States",
         "French Guiana",
         "1"
        ],
        [
         "United States",
         "Haiti",
         "226"
        ],
        [
         "United States",
         "Uganda",
         "1"
        ],
        [
         "Bonaire, Sint Eustatius, and Saba",
         "United States",
         "16"
        ],
        [
         "Greece",
         "United States",
         "50"
        ],
        [
         "United States",
         "Romania",
         "15"
        ],
        [
         "United States",
         "Croatia",
         "1"
        ],
        [
         "United States",
         "Ireland",
         "344"
        ],
        [
         "Egypt",
         "United States",
         "15"
        ],
        [
         "United States",
         "India",
         "62"
        ],
        [
         "United States",
         "Singapore",
         "1"
        ],
        [
         "United States",
         "Grenada",
         "62"
        ],
        [
         "Costa Rica",
         "United States",
         "588"
        ],
        [
         "Senegal",
         "United States",
         "40"
        ],
        [
         "Moldova",
         "United States",
         "1"
        ],
        [
         "United States",
         "Sint Maarten",
         "325"
        ],
        [
         "United States",
         "Marshall Islands",
         "39"
        ],
        [
         "Guyana",
         "United States",
         "64"
        ],
        [
         "Malta",
         "United States",
         "1"
        ],
        [
         "Anguilla",
         "United States",
         "41"
        ],
        [
         "Bolivia",
         "United States",
         "30"
        ],
        [
         "United States",
         "Paraguay",
         "6"
        ],
        [
         "Algeria",
         "United States",
         "4"
        ],
        [
         "Turks and Caicos Islands",
         "United States",
         "230"
        ],
        [
         "United States",
         "Gibraltar",
         "1"
        ],
        [
         "Saint Vincent and the Grenadines",
         "United States",
         "1"
        ],
        [
         "Italy",
         "United States",
         "382"
        ],
        [
         "United States",
         "Federated States of Micronesia",
         "69"
        ],
        [
         "United States",
         "Russia",
         "161"
        ],
        [
         "Pakistan",
         "United States",
         "12"
        ],
        [
         "United States",
         "Netherlands",
         "660"
        ],
        [
         "Iceland",
         "United States",
         "181"
        ],
        [
         "Marshall Islands",
         "United States",
         "42"
        ],
        [
         "Luxembourg",
         "United States",
         "155"
        ],
        [
         "Honduras",
         "United States",
         "362"
        ],
        [
         "The Bahamas",
         "United States",
         "955"
        ],
        [
         "United States",
         "Senegal",
         "42"
        ],
        [
         "El Salvador",
         "United States",
         "561"
        ],
        [
         "Samoa",
         "United States",
         "25"
        ],
        [
         "United States",
         "Angola",
         "13"
        ],
        [
         "Switzerland",
         "United States",
         "294"
        ],
        [
         "United States",
         "Anguilla",
         "38"
        ],
        [
         "Sint Maarten",
         "United States",
         "325"
        ],
        [
         "Hong Kong",
         "United States",
         "332"
        ],
        [
         "Trinidad and Tobago",
         "United States",
         "211"
        ],
        [
         "Latvia",
         "United States",
         "19"
        ],
        [
         "United States",
         "Ecuador",
         "300"
        ],
        [
         "Suriname",
         "United States",
         "1"
        ],
        [
         "Mexico",
         "United States",
         "7140"
        ],
        [
         "United States",
         "Cyprus",
         "1"
        ],
        [
         "Ecuador",
         "United States",
         "268"
        ],
        [
         "United States",
         "Portugal",
         "134"
        ],
        [
         "United States",
         "Costa Rica",
         "608"
        ],
        [
         "United States",
         "Guatemala",
         "318"
        ],
        [
         "United States",
         "Suriname",
         "34"
        ],
        [
         "Colombia",
         "United States",
         "873"
        ],
        [
         "United States",
         "Cape Verde",
         "14"
        ],
        [
         "United States",
         "Jamaica",
         "712"
        ],
        [
         "Norway",
         "United States",
         "121"
        ],
        [
         "United States",
         "Malaysia",
         "3"
        ],
        [
         "United States",
         "Morocco",
         "19"
        ],
        [
         "Thailand",
         "United States",
         "3"
        ],
        [
         "United States",
         "Samoa",
         "25"
        ],
        [
         "Venezuela",
         "United States",
         "290"
        ],
        [
         "United States",
         "Palau",
         "31"
        ],
        [
         "United States",
         "Venezuela",
         "246"
        ],
        [
         "Panama",
         "United States",
         "510"
        ],
        [
         "Antigua and Barbuda",
         "United States",
         "126"
        ],
        [
         "United States",
         "Chile",
         "185"
        ],
        [
         "Morocco",
         "United States",
         "15"
        ],
        [
         "United States",
         "Finland",
         "28"
        ],
        [
         "Azerbaijan",
         "United States",
         "21"
        ],
        [
         "United States",
         "Greece",
         "23"
        ],
        [
         "United States",
         "The Bahamas",
         "986"
        ],
        [
         "New Zealand",
         "United States",
         "111"
        ],
        [
         "Liberia",
         "United States",
         "2"
        ],
        [
         "United States",
         "Hong Kong",
         "414"
        ],
        [
         "Hungary",
         "United States",
         "2"
        ],
        [
         "United States",
         "China",
         "920"
        ],
        [
         "United States",
         "Vietnam",
         "2"
        ],
        [
         "Burkina Faso",
         "United States",
         "1"
        ],
        [
         "Sweden",
         "United States",
         "118"
        ],
        [
         "United States",
         "Kuwait",
         "28"
        ],
        [
         "United States",
         "Dominican Republic",
         "1420"
        ],
        [
         "United States",
         "Egypt",
         "12"
        ],
        [
         "Israel",
         "United States",
         "134"
        ],
        [
         "United States",
         "United States",
         "370002"
        ],
        [
         "Ethiopia",
         "United States",
         "13"
        ],
        [
         "United States",
         "Luxembourg",
         "134"
        ],
        [
         "United States",
         "Poland",
         "33"
        ],
        [
         "Martinique",
         "United States",
         "44"
        ],
        [
         "United States",
         "Saint Barthelemy",
         "41"
        ],
        [
         "Saint Barthelemy",
         "United States",
         "39"
        ],
        [
         "Barbados",
         "United States",
         "154"
        ],
        [
         "United States",
         "Turkey",
         "129"
        ],
        [
         "Djibouti",
         "United States",
         "1"
        ],
        [
         "United States",
         "Azerbaijan",
         "21"
        ],
        [
         "United States",
         "Estonia",
         "1"
        ],
        [
         "Germany",
         "United States",
         "1468"
        ],
        [
         "United States",
         "South Korea",
         "827"
        ],
        [
         "United States",
         "El Salvador",
         "508"
        ],
        [
         "Ireland",
         "United States",
         "335"
        ],
        [
         "United States",
         "Hungary",
         "3"
        ],
        [
         "Zambia",
         "United States",
         "1"
        ],
        [
         "Malaysia",
         "United States",
         "2"
        ],
        [
         "United States",
         "Ethiopia",
         "12"
        ],
        [
         "United States",
         "Panama",
         "465"
        ],
        [
         "United States",
         "Aruba",
         "342"
        ],
        [
         "United States",
         "Thailand",
         "4"
        ],
        [
         "United States",
         "Turks and Caicos Islands",
         "236"
        ],
        [
         "Croatia",
         "United States",
         "2"
        ],
        [
         "United States",
         "Pakistan",
         "12"
        ],
        [
         "Cyprus",
         "United States",
         "1"
        ],
        [
         "United States",
         "Honduras",
         "407"
        ],
        [
         "Fiji",
         "United States",
         "24"
        ],
        [
         "Qatar",
         "United States",
         "108"
        ],
        [
         "Saint Kitts and Nevis",
         "United States",
         "139"
        ],
        [
         "Kuwait",
         "United States",
         "32"
        ],
        [
         "Taiwan",
         "United States",
         "266"
        ],
        [
         "Haiti",
         "United States",
         "226"
        ],
        [
         "Canada",
         "United States",
         "8399"
        ],
        [
         "Federated States of Micronesia",
         "United States",
         "69"
        ],
        [
         "United States",
         "Liberia",
         "2"
        ],
        [
         "Jamaica",
         "United States",
         "666"
        ],
        [
         "United States",
         "Malta",
         "2"
        ],
        [
         "Dominican Republic",
         "United States",
         "1353"
        ],
        [
         "Japan",
         "United States",
         "1548"
        ],
        [
         "United States",
         "Lithuania",
         "1"
        ],
        [
         "Finland",
         "United States",
         "26"
        ],
        [
         "United States",
         "Guadeloupe",
         "59"
        ],
        [
         "United States",
         "Ukraine",
         "13"
        ],
        [
         "United States",
         "France",
         "952"
        ],
        [
         "United States",
         "Norway",
         "115"
        ],
        [
         "Aruba",
         "United States",
         "346"
        ],
        [
         "French Guiana",
         "United States",
         "5"
        ],
        [
         "United States",
         "Kiribati",
         "35"
        ],
        [
         "India",
         "United States",
         "61"
        ],
        [
         "British Virgin Islands",
         "United States",
         "107"
        ],
        [
         "Brazil",
         "United States",
         "853"
        ],
        [
         "United States",
         "Germany",
         "1336"
        ],
        [
         "United States",
         "New Zealand",
         "74"
        ],
        [
         "French Polynesia",
         "United States",
         "43"
        ],
        [
         "United Arab Emirates",
         "United States",
         "320"
        ],
        [
         "Singapore",
         "United States",
         "3"
        ],
        [
         "United States",
         "Mexico",
         "7187"
        ],
        [
         "United States",
         "Sweden",
         "119"
        ],
        [
         "Netherlands",
         "United States",
         "776"
        ],
        [
         "United States",
         "Martinique",
         "43"
        ],
        [
         "United States",
         "United Arab Emirates",
         "313"
        ],
        [
         "United States",
         "Bulgaria",
         "1"
        ],
        [
         "Denmark",
         "United States",
         "153"
        ],
        [
         "China",
         "United States",
         "772"
        ],
        [
         "United States",
         "Nicaragua",
         "201"
        ],
        [
         "United States",
         "Philippines",
         "126"
        ],
        [
         "United States",
         "Georgia",
         "1"
        ],
        [
         "United States",
         "Belgium",
         "228"
        ],
        [
         "Cayman Islands",
         "United States",
         "314"
        ],
        [
         "Argentina",
         "United States",
         "180"
        ],
        [
         "Peru",
         "United States",
         "279"
        ],
        [
         "South Africa",
         "United States",
         "36"
        ],
        [
         "United States",
         "Iceland",
         "202"
        ],
        [
         "United States",
         "Argentina",
         "141"
        ],
        [
         "Spain",
         "United States",
         "420"
        ],
        [
         "Bermuda",
         "United States",
         "183"
        ],
        [
         "United States",
         "Nigeria",
         "50"
        ],
        [
         "United States",
         "Austria",
         "63"
        ],
        [
         "United States",
         "Bonaire, Sint Eustatius, and Saba",
         "59"
        ],
        [
         "Kiribati",
         "United States",
         "26"
        ],
        [
         "Saudi Arabia",
         "United States",
         "83"
        ],
        [
         "Czech Republic",
         "United States",
         "13"
        ],
        [
         "United States",
         "Israel",
         "127"
        ],
        [
         "Belgium",
         "United States",
         "259"
        ],
        [
         "United States",
         "Saint Lucia",
         "136"
        ],
        [
         "United States",
         "Bahrain",
         "1"
        ],
        [
         "United States",
         "British Virgin Islands",
         "80"
        ],
        [
         "Curacao",
         "United States",
         "90"
        ],
        [
         "Georgia",
         "United States",
         "2"
        ],
        [
         "United States",
         "Denmark",
         "152"
        ],
        [
         "United States",
         "Guyana",
         "63"
        ],
        [
         "Philippines",
         "United States",
         "134"
        ],
        [
         "Grenada",
         "United States",
         "53"
        ],
        [
         "Cape Verde",
         "United States",
         "20"
        ],
        [
         "Cote d'Ivoire",
         "United States",
         "1"
        ],
        [
         "Ukraine",
         "United States",
         "14"
        ],
        [
         "United States",
         "Papua New Guinea",
         "1"
        ],
        [
         "Russia",
         "United States",
         "176"
        ],
        [
         "United States",
         "Saudi Arabia",
         "70"
        ],
        [
         "Guatemala",
         "United States",
         "397"
        ],
        [
         "Saint Lucia",
         "United States",
         "123"
        ],
        [
         "Paraguay",
         "United States",
         "60"
        ],
        [
         "United States",
         "Curacao",
         "83"
        ],
        [
         "Kosovo",
         "United States",
         "1"
        ],
        [
         "United States",
         "Taiwan",
         "235"
        ],
        [
         "Tunisia",
         "United States",
         "3"
        ],
        [
         "United States",
         "South Africa",
         "40"
        ],
        [
         "Niger",
         "United States",
         "2"
        ],
        [
         "Turkey",
         "United States",
         "138"
        ],
        [
         "United Kingdom",
         "United States",
         "2025"
        ],
        [
         "Romania",
         "United States",
         "14"
        ],
        [
         "United States",
         "Greenland",
         "4"
        ],
        [
         "Papua New Guinea",
         "United States",
         "3"
        ],
        [
         "United States",
         "Spain",
         "442"
        ],
        [
         "Iraq",
         "United States",
         "1"
        ],
        [
         "United States",
         "Italy",
         "438"
        ],
        [
         "Cuba",
         "United States",
         "466"
        ],
        [
         "United States",
         "Switzerland",
         "305"
        ],
        [
         "Dominica",
         "United States",
         "20"
        ],
        [
         "United States",
         "Japan",
         "1496"
        ],
        [
         "Portugal",
         "United States",
         "127"
        ],
        [
         "United States",
         "Brazil",
         "619"
        ],
        [
         "Bahrain",
         "United States",
         "19"
        ],
        [
         "United States",
         "Peru",
         "337"
        ],
        [
         "Indonesia",
         "United States",
         "1"
        ],
        [
         "United States",
         "Belize",
         "193"
        ],
        [
         "United States",
         "United Kingdom",
         "1970"
        ],
        [
         "Belize",
         "United States",
         "188"
        ],
        [
         "United States",
         "Ghana",
         "20"
        ],
        [
         "United States",
         "Indonesia",
         "2"
        ],
        [
         "United States",
         "Fiji",
         "25"
        ],
        [
         "United States",
         "Canada",
         "8483"
        ],
        [
         "United States",
         "Antigua and Barbuda",
         "117"
        ],
        [
         "United States",
         "French Polynesia",
         "40"
        ],
        [
         "Nicaragua",
         "United States",
         "179"
        ],
        [
         "United States",
         "Latvia",
         "15"
        ],
        [
         "United States",
         "Dominica",
         "27"
        ],
        [
         "United States",
         "Czech Republic",
         "12"
        ],
        [
         "United States",
         "Australia",
         "258"
        ],
        [
         "United States",
         "Cook Islands",
         "13"
        ],
        [
         "Austria",
         "United States",
         "62"
        ],
        [
         "Jordan",
         "United States",
         "44"
        ],
        [
         "Palau",
         "United States",
         "30"
        ],
        [
         "South Korea",
         "United States",
         "1048"
        ],
        [
         "Angola",
         "United States",
         "15"
        ],
        [
         "Ghana",
         "United States",
         "18"
        ],
        [
         "New Caledonia",
         "United States",
         "1"
        ],
        [
         "Guadeloupe",
         "United States",
         "56"
        ],
        [
         "France",
         "United States",
         "935"
        ],
        [
         "Poland",
         "United States",
         "32"
        ],
        [
         "Nigeria",
         "United States",
         "59"
        ],
        [
         "United States",
         "Uruguay",
         "13"
        ],
        [
         "Greenland",
         "United States",
         "2"
        ],
        [
         "United States",
         "Bermuda",
         "193"
        ],
        [
         "Chile",
         "United States",
         "174"
        ],
        [
         "United States",
         "Cuba",
         "478"
        ],
        [
         "United States",
         "Montenegro",
         "1"
        ],
        [
         "United States",
         "Colombia",
         "867"
        ],
        [
         "United States",
         "Barbados",
         "130"
        ],
        [
         "United States",
         "Qatar",
         "109"
        ],
        [
         "Australia",
         "United States",
         "329"
        ],
        [
         "United States",
         "Cayman Islands",
         "310"
        ],
        [
         "United States",
         "Jordan",
         "44"
        ],
        [
         "United States",
         "Namibia",
         "1"
        ],
        [
         "United States",
         "Trinidad and Tobago",
         "217"
        ],
        [
         "United States",
         "Bolivia",
         "13"
        ],
        [
         "Cook Islands",
         "United States",
         "13"
        ],
        [
         "Bulgaria",
         "United States",
         "3"
        ],
        [
         "United States",
         "Saint Kitts and Nevis",
         "145"
        ],
        [
         "Uruguay",
         "United States",
         "43"
        ],
        [
         "United States",
         "Haiti",
         "225"
        ],
        [
         "Bonaire, Sint Eustatius, and Saba",
         "United States",
         "58"
        ],
        [
         "Greece",
         "United States",
         "30"
        ],
        [
         "United States",
         "Romania",
         "15"
        ],
        [
         "United States",
         "Croatia",
         "1"
        ],
        [
         "United States",
         "Ireland",
         "344"
        ],
        [
         "Egypt",
         "United States",
         "15"
        ],
        [
         "United States",
         "India",
         "62"
        ],
        [
         "United States",
         "Singapore",
         "1"
        ],
        [
         "United States",
         "Grenada",
         "62"
        ],
        [
         "Costa Rica",
         "United States",
         "588"
        ],
        [
         "Senegal",
         "United States",
         "40"
        ],
        [
         "Moldova",
         "United States",
         "1"
        ],
        [
         "United States",
         "Sint Maarten",
         "325"
        ],
        [
         "United States",
         "Marshall Islands",
         "39"
        ],
        [
         "Guyana",
         "United States",
         "64"
        ],
        [
         "Malta",
         "United States",
         "1"
        ],
        [
         "Anguilla",
         "United States",
         "41"
        ],
        [
         "Bolivia",
         "United States",
         "30"
        ],
        [
         "United States",
         "Paraguay",
         "6"
        ],
        [
         "Algeria",
         "United States",
         "4"
        ],
        [
         "Turks and Caicos Islands",
         "United States",
         "230"
        ],
        [
         "United States",
         "Gibraltar",
         "1"
        ],
        [
         "Saint Vincent and the Grenadines",
         "United States",
         "1"
        ],
        [
         "Italy",
         "United States",
         "382"
        ],
        [
         "United States",
         "Federated States of Micronesia",
         "69"
        ],
        [
         "United States",
         "Russia",
         "161"
        ],
        [
         "Pakistan",
         "United States",
         "12"
        ],
        [
         "United States",
         "Netherlands",
         "660"
        ],
        [
         "Iceland",
         "United States",
         "181"
        ],
        [
         "Marshall Islands",
         "United States",
         "42"
        ],
        [
         "Luxembourg",
         "United States",
         "155"
        ],
        [
         "Honduras",
         "United States",
         "362"
        ],
        [
         "The Bahamas",
         "United States",
         "955"
        ],
        [
         "United States",
         "Senegal",
         "42"
        ],
        [
         "El Salvador",
         "United States",
         "561"
        ],
        [
         "Samoa",
         "United States",
         "25"
        ],
        [
         "United States",
         "Angola",
         "13"
        ],
        [
         "Switzerland",
         "United States",
         "294"
        ],
        [
         "United States",
         "Anguilla",
         "38"
        ],
        [
         "Sint Maarten",
         "United States",
         "325"
        ],
        [
         "Hong Kong",
         "United States",
         "332"
        ],
        [
         "Trinidad and Tobago",
         "United States",
         "211"
        ],
        [
         "Latvia",
         "United States",
         "19"
        ],
        [
         "United States",
         "Ecuador",
         "300"
        ],
        [
         "Suriname",
         "United States",
         "1"
        ],
        [
         "Mexico",
         "United States",
         "7140"
        ],
        [
         "United States",
         "Cyprus",
         "1"
        ],
        [
         "Ecuador",
         "United States",
         "268"
        ],
        [
         "United States",
         "Portugal",
         "134"
        ],
        [
         "United States",
         "Costa Rica",
         "608"
        ],
        [
         "United States",
         "Guatemala",
         "318"
        ],
        [
         "United States",
         "Suriname",
         "34"
        ],
        [
         "Colombia",
         "United States",
         "873"
        ],
        [
         "United States",
         "Cape Verde",
         "14"
        ],
        [
         "United States",
         "Jamaica",
         "712"
        ],
        [
         "Norway",
         "United States",
         "121"
        ],
        [
         "United States",
         "Malaysia",
         "3"
        ],
        [
         "United States",
         "Morocco",
         "19"
        ],
        [
         "Thailand",
         "United States",
         "3"
        ],
        [
         "United States",
         "Samoa",
         "25"
        ],
        [
         "Venezuela",
         "United States",
         "290"
        ],
        [
         "United States",
         "Palau",
         "31"
        ],
        [
         "United States",
         "Venezuela",
         "246"
        ],
        [
         "Panama",
         "United States",
         "510"
        ],
        [
         "Antigua and Barbuda",
         "United States",
         "126"
        ],
        [
         "United States",
         "Chile",
         "185"
        ],
        [
         "Morocco",
         "United States",
         "15"
        ],
        [
         "United States",
         "Finland",
         "28"
        ],
        [
         "Azerbaijan",
         "United States",
         "21"
        ],
        [
         "United States",
         "Greece",
         "23"
        ],
        [
         "United States",
         "The Bahamas",
         "986"
        ],
        [
         "New Zealand",
         "United States",
         "111"
        ],
        [
         "Liberia",
         "United States",
         "2"
        ],
        [
         "United States",
         "Hong Kong",
         "414"
        ],
        [
         "Hungary",
         "United States",
         "2"
        ],
        [
         "United States",
         "China",
         "920"
        ],
        [
         "United States",
         "Vietnam",
         "2"
        ],
        [
         "Burkina Faso",
         "United States",
         "1"
        ],
        [
         "Sweden",
         "United States",
         "118"
        ],
        [
         "United States",
         "Kuwait",
         "28"
        ],
        [
         "United States",
         "Dominican Republic",
         "1420"
        ],
        [
         "United States",
         "Egypt",
         "12"
        ],
        [
         "Israel",
         "United States",
         "134"
        ],
        [
         "United States",
         "United States",
         "370002"
        ],
        [
         "Ethiopia",
         "United States",
         "13"
        ],
        [
         "United States",
         "Luxembourg",
         "134"
        ],
        [
         "United States",
         "Poland",
         "33"
        ],
        [
         "Martinique",
         "United States",
         "44"
        ],
        [
         "United States",
         "Saint Barthelemy",
         "41"
        ],
        [
         "Saint Barthelemy",
         "United States",
         "39"
        ],
        [
         "Barbados",
         "United States",
         "154"
        ],
        [
         "United States",
         "Turkey",
         "129"
        ],
        [
         "Djibouti",
         "United States",
         "1"
        ],
        [
         "United States",
         "Azerbaijan",
         "21"
        ],
        [
         "United States",
         "Estonia",
         "1"
        ],
        [
         "Germany",
         "United States",
         "1468"
        ],
        [
         "United States",
         "South Korea",
         "827"
        ],
        [
         "United States",
         "El Salvador",
         "508"
        ],
        [
         "Ireland",
         "United States",
         "335"
        ],
        [
         "United States",
         "Hungary",
         "3"
        ],
        [
         "Zambia",
         "United States",
         "1"
        ],
        [
         "Malaysia",
         "United States",
         "2"
        ],
        [
         "United States",
         "Ethiopia",
         "12"
        ],
        [
         "United States",
         "Panama",
         "465"
        ],
        [
         "United States",
         "Aruba",
         "342"
        ],
        [
         "United States",
         "Thailand",
         "4"
        ],
        [
         "United States",
         "Turks and Caicos Islands",
         "236"
        ],
        [
         "Croatia",
         "United States",
         "2"
        ],
        [
         "United States",
         "Pakistan",
         "12"
        ],
        [
         "Cyprus",
         "United States",
         "1"
        ],
        [
         "United States",
         "Honduras",
         "407"
        ],
        [
         "Fiji",
         "United States",
         "24"
        ],
        [
         "Qatar",
         "United States",
         "108"
        ],
        [
         "Saint Kitts and Nevis",
         "United States",
         "139"
        ],
        [
         "Kuwait",
         "United States",
         "32"
        ],
        [
         "Taiwan",
         "United States",
         "266"
        ],
        [
         "Haiti",
         "United States",
         "226"
        ],
        [
         "Canada",
         "United States",
         "8399"
        ],
        [
         "Federated States of Micronesia",
         "United States",
         "69"
        ],
        [
         "United States",
         "Liberia",
         "2"
        ],
        [
         "Jamaica",
         "United States",
         "666"
        ],
        [
         "United States",
         "Malta",
         "2"
        ],
        [
         "Dominican Republic",
         "United States",
         "1353"
        ],
        [
         "Japan",
         "United States",
         "1548"
        ],
        [
         "United States",
         "Lithuania",
         "1"
        ],
        [
         "Finland",
         "United States",
         "26"
        ],
        [
         "United States",
         "Guadeloupe",
         "59"
        ],
        [
         "United States",
         "Ukraine",
         "13"
        ],
        [
         "United States",
         "France",
         "952"
        ],
        [
         "United States",
         "Norway",
         "115"
        ],
        [
         "Aruba",
         "United States",
         "346"
        ],
        [
         "French Guiana",
         "United States",
         "5"
        ],
        [
         "United States",
         "Kiribati",
         "35"
        ],
        [
         "India",
         "United States",
         "61"
        ],
        [
         "British Virgin Islands",
         "United States",
         "107"
        ],
        [
         "Brazil",
         "United States",
         "853"
        ],
        [
         "United States",
         "Germany",
         "1336"
        ],
        [
         "United States",
         "New Zealand",
         "74"
        ],
        [
         "French Polynesia",
         "United States",
         "43"
        ],
        [
         "United Arab Emirates",
         "United States",
         "320"
        ],
        [
         "Singapore",
         "United States",
         "3"
        ],
        [
         "United States",
         "Mexico",
         "7187"
        ],
        [
         "United States",
         "Sweden",
         "119"
        ],
        [
         "Netherlands",
         "United States",
         "776"
        ],
        [
         "United States",
         "Martinique",
         "43"
        ],
        [
         "United States",
         "United Arab Emirates",
         "313"
        ],
        [
         "United States",
         "Bulgaria",
         "1"
        ],
        [
         "Denmark",
         "United States",
         "153"
        ],
        [
         "China",
         "United States",
         "772"
        ],
        [
         "United States",
         "Nicaragua",
         "201"
        ],
        [
         "United States",
         "Philippines",
         "126"
        ],
        [
         "United States",
         "Georgia",
         "1"
        ],
        [
         "United States",
         "Belgium",
         "228"
        ],
        [
         "Cayman Islands",
         "United States",
         "314"
        ],
        [
         "Argentina",
         "United States",
         "180"
        ],
        [
         "Peru",
         "United States",
         "279"
        ],
        [
         "South Africa",
         "United States",
         "36"
        ],
        [
         "United States",
         "Iceland",
         "202"
        ],
        [
         "United States",
         "Argentina",
         "141"
        ],
        [
         "Spain",
         "United States",
         "420"
        ],
        [
         "Bermuda",
         "United States",
         "183"
        ],
        [
         "United States",
         "Nigeria",
         "50"
        ],
        [
         "United States",
         "Austria",
         "63"
        ],
        [
         "United States",
         "Bonaire, Sint Eustatius, and Saba",
         "59"
        ],
        [
         "Kiribati",
         "United States",
         "26"
        ],
        [
         "Saudi Arabia",
         "United States",
         "83"
        ],
        [
         "Czech Republic",
         "United States",
         "13"
        ],
        [
         "United States",
         "Israel",
         "127"
        ],
        [
         "Belgium",
         "United States",
         "259"
        ],
        [
         "United States",
         "Saint Lucia",
         "136"
        ],
        [
         "United States",
         "Bahrain",
         "1"
        ],
        [
         "United States",
         "British Virgin Islands",
         "80"
        ],
        [
         "Curacao",
         "United States",
         "90"
        ],
        [
         "Georgia",
         "United States",
         "2"
        ],
        [
         "United States",
         "Denmark",
         "152"
        ],
        [
         "United States",
         "Guyana",
         "63"
        ],
        [
         "Philippines",
         "United States",
         "134"
        ],
        [
         "Grenada",
         "United States",
         "53"
        ],
        [
         "Cape Verde",
         "United States",
         "20"
        ],
        [
         "Cote d'Ivoire",
         "United States",
         "1"
        ],
        [
         "Ukraine",
         "United States",
         "14"
        ],
        [
         "United States",
         "Papua New Guinea",
         "1"
        ],
        [
         "Russia",
         "United States",
         "176"
        ],
        [
         "United States",
         "Saudi Arabia",
         "70"
        ],
        [
         "Guatemala",
         "United States",
         "397"
        ],
        [
         "Saint Lucia",
         "United States",
         "123"
        ],
        [
         "Paraguay",
         "United States",
         "60"
        ],
        [
         "United States",
         "Curacao",
         "83"
        ],
        [
         "Kosovo",
         "United States",
         "1"
        ],
        [
         "United States",
         "Taiwan",
         "235"
        ],
        [
         "Tunisia",
         "United States",
         "3"
        ],
        [
         "United States",
         "South Africa",
         "40"
        ],
        [
         "Niger",
         "United States",
         "2"
        ],
        [
         "Turkey",
         "United States",
         "138"
        ],
        [
         "United Kingdom",
         "United States",
         "2025"
        ],
        [
         "Romania",
         "United States",
         "14"
        ],
        [
         "United States",
         "Greenland",
         "4"
        ],
        [
         "Papua New Guinea",
         "United States",
         "3"
        ],
        [
         "United States",
         "Spain",
         "442"
        ],
        [
         "Iraq",
         "United States",
         "1"
        ],
        [
         "United States",
         "Italy",
         "438"
        ],
        [
         "Cuba",
         "United States",
         "466"
        ],
        [
         "United States",
         "Switzerland",
         "305"
        ],
        [
         "Dominica",
         "United States",
         "20"
        ],
        [
         "United States",
         "Japan",
         "1496"
        ],
        [
         "Portugal",
         "United States",
         "127"
        ],
        [
         "United States",
         "Brazil",
         "619"
        ],
        [
         "Bahrain",
         "United States",
         "19"
        ],
        [
         "United States",
         "Peru",
         "337"
        ],
        [
         "Indonesia",
         "United States",
         "1"
        ],
        [
         "United States",
         "Belize",
         "193"
        ],
        [
         "United States",
         "United Kingdom",
         "1970"
        ],
        [
         "Belize",
         "United States",
         "188"
        ],
        [
         "United States",
         "Ghana",
         "20"
        ],
        [
         "United States",
         "Indonesia",
         "2"
        ],
        [
         "United States",
         "Fiji",
         "25"
        ],
        [
         "United States",
         "Canada",
         "8483"
        ],
        [
         "United States",
         "Antigua and Barbuda",
         "117"
        ],
        [
         "United States",
         "French Polynesia",
         "40"
        ],
        [
         "Nicaragua",
         "United States",
         "179"
        ],
        [
         "United States",
         "Latvia",
         "15"
        ],
        [
         "United States",
         "Dominica",
         "27"
        ],
        [
         "United States",
         "Czech Republic",
         "12"
        ],
        [
         "United States",
         "Australia",
         "258"
        ],
        [
         "United States",
         "Cook Islands",
         "13"
        ],
        [
         "Austria",
         "United States",
         "62"
        ],
        [
         "Jordan",
         "United States",
         "44"
        ],
        [
         "Palau",
         "United States",
         "30"
        ],
        [
         "South Korea",
         "United States",
         "1048"
        ],
        [
         "Angola",
         "United States",
         "15"
        ],
        [
         "Ghana",
         "United States",
         "18"
        ],
        [
         "New Caledonia",
         "United States",
         "1"
        ],
        [
         "Guadeloupe",
         "United States",
         "56"
        ],
        [
         "France",
         "United States",
         "935"
        ],
        [
         "Poland",
         "United States",
         "32"
        ],
        [
         "Nigeria",
         "United States",
         "59"
        ],
        [
         "United States",
         "Uruguay",
         "13"
        ],
        [
         "Greenland",
         "United States",
         "2"
        ],
        [
         "United States",
         "Bermuda",
         "193"
        ],
        [
         "Chile",
         "United States",
         "174"
        ],
        [
         "United States",
         "Cuba",
         "478"
        ],
        [
         "United States",
         "Montenegro",
         "1"
        ],
        [
         "United States",
         "Colombia",
         "867"
        ],
        [
         "United States",
         "Barbados",
         "130"
        ],
        [
         "United States",
         "Qatar",
         "109"
        ],
        [
         "Australia",
         "United States",
         "329"
        ],
        [
         "United States",
         "Cayman Islands",
         "310"
        ],
        [
         "United States",
         "Jordan",
         "44"
        ],
        [
         "United States",
         "Namibia",
         "1"
        ],
        [
         "United States",
         "Trinidad and Tobago",
         "217"
        ],
        [
         "United States",
         "Bolivia",
         "13"
        ],
        [
         "Cook Islands",
         "United States",
         "13"
        ],
        [
         "Bulgaria",
         "United States",
         "3"
        ],
        [
         "United States",
         "Saint Kitts and Nevis",
         "145"
        ],
        [
         "Uruguay",
         "United States",
         "43"
        ],
        [
         "United States",
         "Haiti",
         "225"
        ],
        [
         "Bonaire, Sint Eustatius, and Saba",
         "United States",
         "58"
        ],
        [
         "Greece",
         "United States",
         "30"
        ],
        [
         "United States",
         "Romania",
         "15"
        ],
        [
         "United States",
         "Croatia",
         "1"
        ],
        [
         "United States",
         "Ireland",
         "344"
        ],
        [
         "Egypt",
         "United States",
         "15"
        ],
        [
         "United States",
         "India",
         "62"
        ],
        [
         "United States",
         "Singapore",
         "1"
        ],
        [
         "United States",
         "Grenada",
         "62"
        ],
        [
         "Costa Rica",
         "United States",
         "588"
        ],
        [
         "Senegal",
         "United States",
         "40"
        ],
        [
         "Moldova",
         "United States",
         "1"
        ],
        [
         "United States",
         "Sint Maarten",
         "325"
        ],
        [
         "United States",
         "Marshall Islands",
         "39"
        ],
        [
         "Guyana",
         "United States",
         "64"
        ],
        [
         "Malta",
         "United States",
         "1"
        ],
        [
         "Anguilla",
         "United States",
         "41"
        ],
        [
         "Bolivia",
         "United States",
         "30"
        ],
        [
         "United States",
         "Paraguay",
         "6"
        ],
        [
         "Algeria",
         "United States",
         "4"
        ],
        [
         "Turks and Caicos Islands",
         "United States",
         "230"
        ],
        [
         "United States",
         "Gibraltar",
         "1"
        ],
        [
         "Saint Vincent and the Grenadines",
         "United States",
         "1"
        ],
        [
         "Italy",
         "United States",
         "382"
        ],
        [
         "United States",
         "Federated States of Micronesia",
         "69"
        ],
        [
         "United States",
         "Russia",
         "161"
        ],
        [
         "Pakistan",
         "United States",
         "12"
        ],
        [
         "United States",
         "Netherlands",
         "660"
        ],
        [
         "Iceland",
         "United States",
         "181"
        ],
        [
         "Marshall Islands",
         "United States",
         "42"
        ],
        [
         "Luxembourg",
         "United States",
         "155"
        ],
        [
         "Honduras",
         "United States",
         "362"
        ],
        [
         "The Bahamas",
         "United States",
         "955"
        ],
        [
         "United States",
         "Senegal",
         "42"
        ],
        [
         "El Salvador",
         "United States",
         "561"
        ],
        [
         "Samoa",
         "United States",
         "25"
        ],
        [
         "United States",
         "Angola",
         "13"
        ],
        [
         "Switzerland",
         "United States",
         "294"
        ],
        [
         "United States",
         "Anguilla",
         "38"
        ],
        [
         "Sint Maarten",
         "United States",
         "325"
        ],
        [
         "Hong Kong",
         "United States",
         "332"
        ],
        [
         "Trinidad and Tobago",
         "United States",
         "211"
        ],
        [
         "Latvia",
         "United States",
         "19"
        ],
        [
         "United States",
         "Ecuador",
         "300"
        ],
        [
         "Suriname",
         "United States",
         "1"
        ],
        [
         "Mexico",
         "United States",
         "7140"
        ],
        [
         "United States",
         "Cyprus",
         "1"
        ],
        [
         "Ecuador",
         "United States",
         "268"
        ],
        [
         "United States",
         "Portugal",
         "134"
        ],
        [
         "United States",
         "Costa Rica",
         "608"
        ],
        [
         "United States",
         "Guatemala",
         "318"
        ],
        [
         "United States",
         "Suriname",
         "34"
        ],
        [
         "Colombia",
         "United States",
         "873"
        ],
        [
         "United States",
         "Cape Verde",
         "14"
        ],
        [
         "United States",
         "Jamaica",
         "712"
        ],
        [
         "Norway",
         "United States",
         "121"
        ],
        [
         "United States",
         "Malaysia",
         "3"
        ],
        [
         "United States",
         "Morocco",
         "19"
        ],
        [
         "Thailand",
         "United States",
         "3"
        ],
        [
         "United States",
         "Samoa",
         "25"
        ],
        [
         "Venezuela",
         "United States",
         "290"
        ],
        [
         "United States",
         "Palau",
         "31"
        ],
        [
         "United States",
         "Venezuela",
         "246"
        ],
        [
         "Panama",
         "United States",
         "510"
        ],
        [
         "Antigua and Barbuda",
         "United States",
         "126"
        ],
        [
         "United States",
         "Chile",
         "185"
        ],
        [
         "Morocco",
         "United States",
         "15"
        ],
        [
         "United States",
         "Finland",
         "28"
        ],
        [
         "Azerbaijan",
         "United States",
         "21"
        ],
        [
         "United States",
         "Greece",
         "23"
        ],
        [
         "United States",
         "The Bahamas",
         "986"
        ],
        [
         "New Zealand",
         "United States",
         "111"
        ],
        [
         "Liberia",
         "United States",
         "2"
        ],
        [
         "United States",
         "Hong Kong",
         "414"
        ],
        [
         "Hungary",
         "United States",
         "2"
        ],
        [
         "United States",
         "China",
         "920"
        ],
        [
         "United States",
         "Vietnam",
         "2"
        ],
        [
         "Burkina Faso",
         "United States",
         "1"
        ],
        [
         "Sweden",
         "United States",
         "118"
        ],
        [
         "United States",
         "Kuwait",
         "28"
        ],
        [
         "United States",
         "Dominican Republic",
         "1420"
        ],
        [
         "United States",
         "Egypt",
         "12"
        ],
        [
         "Israel",
         "United States",
         "134"
        ],
        [
         "United States",
         "United States",
         "370002"
        ],
        [
         "Ethiopia",
         "United States",
         "13"
        ],
        [
         "United States",
         "Luxembourg",
         "134"
        ],
        [
         "United States",
         "Poland",
         "33"
        ],
        [
         "Martinique",
         "United States",
         "44"
        ],
        [
         "United States",
         "Saint Barthelemy",
         "41"
        ],
        [
         "Saint Barthelemy",
         "United States",
         "39"
        ],
        [
         "Barbados",
         "United States",
         "154"
        ],
        [
         "United States",
         "Turkey",
         "129"
        ],
        [
         "Djibouti",
         "United States",
         "1"
        ],
        [
         "United States",
         "Azerbaijan",
         "21"
        ],
        [
         "United States",
         "Estonia",
         "1"
        ],
        [
         "Germany",
         "United States",
         "1468"
        ],
        [
         "United States",
         "South Korea",
         "827"
        ],
        [
         "United States",
         "El Salvador",
         "508"
        ],
        [
         "Ireland",
         "United States",
         "335"
        ],
        [
         "United States",
         "Hungary",
         "3"
        ],
        [
         "Zambia",
         "United States",
         "1"
        ],
        [
         "Malaysia",
         "United States",
         "2"
        ],
        [
         "United States",
         "Ethiopia",
         "12"
        ],
        [
         "United States",
         "Panama",
         "465"
        ],
        [
         "United States",
         "Aruba",
         "342"
        ],
        [
         "United States",
         "Thailand",
         "4"
        ],
        [
         "United States",
         "Turks and Caicos Islands",
         "236"
        ],
        [
         "Croatia",
         "United States",
         "2"
        ],
        [
         "United States",
         "Pakistan",
         "12"
        ],
        [
         "Cyprus",
         "United States",
         "1"
        ],
        [
         "United States",
         "Honduras",
         "407"
        ],
        [
         "Fiji",
         "United States",
         "24"
        ],
        [
         "Qatar",
         "United States",
         "108"
        ],
        [
         "Saint Kitts and Nevis",
         "United States",
         "139"
        ],
        [
         "Kuwait",
         "United States",
         "32"
        ],
        [
         "Taiwan",
         "United States",
         "266"
        ],
        [
         "Haiti",
         "United States",
         "226"
        ],
        [
         "Canada",
         "United States",
         "8399"
        ],
        [
         "Federated States of Micronesia",
         "United States",
         "69"
        ],
        [
         "United States",
         "Liberia",
         "2"
        ],
        [
         "Jamaica",
         "United States",
         "666"
        ],
        [
         "United States",
         "Malta",
         "2"
        ],
        [
         "Dominican Republic",
         "United States",
         "1353"
        ],
        [
         "Japan",
         "United States",
         "1548"
        ],
        [
         "United States",
         "Lithuania",
         "1"
        ],
        [
         "Finland",
         "United States",
         "26"
        ],
        [
         "United States",
         "Guadeloupe",
         "59"
        ],
        [
         "United States",
         "Ukraine",
         "13"
        ],
        [
         "United States",
         "France",
         "952"
        ],
        [
         "United States",
         "Norway",
         "115"
        ],
        [
         "Aruba",
         "United States",
         "346"
        ],
        [
         "French Guiana",
         "United States",
         "5"
        ],
        [
         "United States",
         "Kiribati",
         "35"
        ],
        [
         "India",
         "United States",
         "61"
        ],
        [
         "British Virgin Islands",
         "United States",
         "107"
        ],
        [
         "Brazil",
         "United States",
         "853"
        ],
        [
         "United States",
         "Germany",
         "1336"
        ],
        [
         "United States",
         "New Zealand",
         "74"
        ],
        [
         "French Polynesia",
         "United States",
         "43"
        ],
        [
         "United Arab Emirates",
         "United States",
         "320"
        ],
        [
         "Singapore",
         "United States",
         "3"
        ],
        [
         "United States",
         "Mexico",
         "7187"
        ],
        [
         "United States",
         "Sweden",
         "119"
        ],
        [
         "Netherlands",
         "United States",
         "776"
        ],
        [
         "United States",
         "Martinique",
         "43"
        ],
        [
         "United States",
         "United Arab Emirates",
         "313"
        ],
        [
         "United States",
         "Bulgaria",
         "1"
        ],
        [
         "Denmark",
         "United States",
         "153"
        ],
        [
         "China",
         "United States",
         "772"
        ],
        [
         "United States",
         "Nicaragua",
         "201"
        ],
        [
         "United States",
         "Philippines",
         "126"
        ],
        [
         "United States",
         "Georgia",
         "1"
        ],
        [
         "United States",
         "Belgium",
         "228"
        ],
        [
         "Cayman Islands",
         "United States",
         "314"
        ],
        [
         "Argentina",
         "United States",
         "180"
        ],
        [
         "Peru",
         "United States",
         "279"
        ],
        [
         "South Africa",
         "United States",
         "36"
        ],
        [
         "United States",
         "Iceland",
         "202"
        ],
        [
         "United States",
         "Argentina",
         "141"
        ],
        [
         "Spain",
         "United States",
         "420"
        ],
        [
         "Bermuda",
         "United States",
         "183"
        ],
        [
         "United States",
         "Nigeria",
         "50"
        ],
        [
         "United States",
         "Austria",
         "63"
        ],
        [
         "United States",
         "Bonaire, Sint Eustatius, and Saba",
         "59"
        ],
        [
         "Kiribati",
         "United States",
         "26"
        ],
        [
         "Saudi Arabia",
         "United States",
         "83"
        ],
        [
         "Czech Republic",
         "United States",
         "13"
        ],
        [
         "United States",
         "Israel",
         "127"
        ],
        [
         "Belgium",
         "United States",
         "259"
        ],
        [
         "United States",
         "Saint Lucia",
         "136"
        ],
        [
         "United States",
         "Bahrain",
         "1"
        ],
        [
         "United States",
         "British Virgin Islands",
         "80"
        ],
        [
         "Curacao",
         "United States",
         "90"
        ],
        [
         "Georgia",
         "United States",
         "2"
        ],
        [
         "United States",
         "Denmark",
         "152"
        ],
        [
         "United States",
         "Guyana",
         "63"
        ],
        [
         "Philippines",
         "United States",
         "134"
        ],
        [
         "Grenada",
         "United States",
         "53"
        ],
        [
         "Cape Verde",
         "United States",
         "20"
        ],
        [
         "Cote d'Ivoire",
         "United States",
         "1"
        ],
        [
         "Ukraine",
         "United States",
         "14"
        ],
        [
         "United States",
         "Papua New Guinea",
         "1"
        ],
        [
         "Russia",
         "United States",
         "176"
        ],
        [
         "United States",
         "Saudi Arabia",
         "70"
        ],
        [
         "Guatemala",
         "United States",
         "397"
        ],
        [
         "Saint Lucia",
         "United States",
         "123"
        ],
        [
         "Paraguay",
         "United States",
         "60"
        ],
        [
         "United States",
         "Curacao",
         "83"
        ],
        [
         "Kosovo",
         "United States",
         "1"
        ],
        [
         "United States",
         "Taiwan",
         "235"
        ],
        [
         "Tunisia",
         "United States",
         "3"
        ],
        [
         "United States",
         "South Africa",
         "40"
        ],
        [
         "Niger",
         "United States",
         "2"
        ],
        [
         "Turkey",
         "United States",
         "138"
        ],
        [
         "United Kingdom",
         "United States",
         "2025"
        ],
        [
         "Romania",
         "United States",
         "14"
        ],
        [
         "United States",
         "Greenland",
         "4"
        ],
        [
         "Papua New Guinea",
         "United States",
         "3"
        ],
        [
         "United States",
         "Spain",
         "442"
        ],
        [
         "Iraq",
         "United States",
         "1"
        ],
        [
         "United States",
         "Italy",
         "438"
        ],
        [
         "Cuba",
         "United States",
         "466"
        ],
        [
         "United States",
         "Switzerland",
         "305"
        ],
        [
         "Dominica",
         "United States",
         "20"
        ],
        [
         "United States",
         "Japan",
         "1496"
        ],
        [
         "Portugal",
         "United States",
         "127"
        ],
        [
         "United States",
         "Brazil",
         "619"
        ],
        [
         "Bahrain",
         "United States",
         "19"
        ],
        [
         "United States",
         "Peru",
         "337"
        ],
        [
         "Indonesia",
         "United States",
         "1"
        ],
        [
         "United States",
         "Belize",
         "193"
        ],
        [
         "United States",
         "United Kingdom",
         "1970"
        ],
        [
         "Belize",
         "United States",
         "188"
        ],
        [
         "United States",
         "Ghana",
         "20"
        ],
        [
         "United States",
         "Indonesia",
         "2"
        ],
        [
         "United States",
         "Fiji",
         "25"
        ],
        [
         "United States",
         "Canada",
         "8483"
        ],
        [
         "United States",
         "Antigua and Barbuda",
         "117"
        ],
        [
         "United States",
         "French Polynesia",
         "40"
        ],
        [
         "Nicaragua",
         "United States",
         "179"
        ],
        [
         "United States",
         "Latvia",
         "15"
        ],
        [
         "United States",
         "Dominica",
         "27"
        ],
        [
         "United States",
         "Czech Republic",
         "12"
        ],
        [
         "United States",
         "Australia",
         "258"
        ],
        [
         "United States",
         "Cook Islands",
         "13"
        ],
        [
         "Austria",
         "United States",
         "62"
        ],
        [
         "Jordan",
         "United States",
         "44"
        ],
        [
         "Palau",
         "United States",
         "30"
        ],
        [
         "South Korea",
         "United States",
         "1048"
        ],
        [
         "Angola",
         "United States",
         "15"
        ],
        [
         "Ghana",
         "United States",
         "18"
        ],
        [
         "New Caledonia",
         "United States",
         "1"
        ],
        [
         "Guadeloupe",
         "United States",
         "56"
        ],
        [
         "France",
         "United States",
         "935"
        ],
        [
         "Poland",
         "United States",
         "32"
        ],
        [
         "Nigeria",
         "United States",
         "59"
        ],
        [
         "United States",
         "Uruguay",
         "13"
        ],
        [
         "Greenland",
         "United States",
         "2"
        ],
        [
         "United States",
         "Bermuda",
         "193"
        ],
        [
         "Chile",
         "United States",
         "174"
        ],
        [
         "United States",
         "Cuba",
         "478"
        ],
        [
         "United States",
         "Montenegro",
         "1"
        ],
        [
         "United States",
         "Colombia",
         "867"
        ],
        [
         "United States",
         "Barbados",
         "130"
        ],
        [
         "United States",
         "Qatar",
         "109"
        ],
        [
         "Australia",
         "United States",
         "329"
        ],
        [
         "United States",
         "Cayman Islands",
         "310"
        ],
        [
         "United States",
         "Jordan",
         "44"
        ],
        [
         "United States",
         "Namibia",
         "1"
        ],
        [
         "United States",
         "Trinidad and Tobago",
         "217"
        ],
        [
         "United States",
         "Bolivia",
         "13"
        ],
        [
         "Cook Islands",
         "United States",
         "13"
        ],
        [
         "Bulgaria",
         "United States",
         "3"
        ],
        [
         "United States",
         "Saint Kitts and Nevis",
         "145"
        ],
        [
         "Uruguay",
         "United States",
         "43"
        ],
        [
         "United States",
         "Haiti",
         "225"
        ],
        [
         "Bonaire, Sint Eustatius, and Saba",
         "United States",
         "58"
        ],
        [
         "Greece",
         "United States",
         "30"
        ],
        [
         "United States",
         "Romania",
         "15"
        ],
        [
         "United States",
         "Croatia",
         "1"
        ],
        [
         "United States",
         "Ireland",
         "344"
        ],
        [
         "Egypt",
         "United States",
         "15"
        ],
        [
         "United States",
         "India",
         "62"
        ],
        [
         "United States",
         "Singapore",
         "1"
        ],
        [
         "United States",
         "Grenada",
         "62"
        ],
        [
         "Costa Rica",
         "United States",
         "588"
        ],
        [
         "Senegal",
         "United States",
         "40"
        ],
        [
         "Moldova",
         "United States",
         "1"
        ],
        [
         "United States",
         "Sint Maarten",
         "325"
        ],
        [
         "United States",
         "Marshall Islands",
         "39"
        ],
        [
         "Guyana",
         "United States",
         "64"
        ],
        [
         "Malta",
         "United States",
         "1"
        ],
        [
         "Anguilla",
         "United States",
         "41"
        ],
        [
         "Bolivia",
         "United States",
         "30"
        ],
        [
         "United States",
         "Paraguay",
         "6"
        ],
        [
         "Algeria",
         "United States",
         "4"
        ],
        [
         "Turks and Caicos Islands",
         "United States",
         "230"
        ],
        [
         "United States",
         "Gibraltar",
         "1"
        ],
        [
         "Saint Vincent and the Grenadines",
         "United States",
         "1"
        ],
        [
         "Italy",
         "United States",
         "382"
        ],
        [
         "United States",
         "Federated States of Micronesia",
         "69"
        ],
        [
         "United States",
         "Russia",
         "161"
        ],
        [
         "Pakistan",
         "United States",
         "12"
        ],
        [
         "United States",
         "Netherlands",
         "660"
        ],
        [
         "Iceland",
         "United States",
         "181"
        ],
        [
         "Marshall Islands",
         "United States",
         "42"
        ],
        [
         "Luxembourg",
         "United States",
         "155"
        ],
        [
         "Honduras",
         "United States",
         "362"
        ],
        [
         "The Bahamas",
         "United States",
         "955"
        ],
        [
         "United States",
         "Senegal",
         "42"
        ],
        [
         "El Salvador",
         "United States",
         "561"
        ],
        [
         "Samoa",
         "United States",
         "25"
        ],
        [
         "United States",
         "Angola",
         "13"
        ],
        [
         "Switzerland",
         "United States",
         "294"
        ],
        [
         "United States",
         "Anguilla",
         "38"
        ],
        [
         "Sint Maarten",
         "United States",
         "325"
        ],
        [
         "Hong Kong",
         "United States",
         "332"
        ],
        [
         "Trinidad and Tobago",
         "United States",
         "211"
        ],
        [
         "Latvia",
         "United States",
         "19"
        ],
        [
         "United States",
         "Ecuador",
         "300"
        ],
        [
         "Suriname",
         "United States",
         "1"
        ],
        [
         "Mexico",
         "United States",
         "7140"
        ],
        [
         "United States",
         "Cyprus",
         "1"
        ],
        [
         "Ecuador",
         "United States",
         "268"
        ],
        [
         "United States",
         "Portugal",
         "134"
        ],
        [
         "United States",
         "Costa Rica",
         "608"
        ],
        [
         "United States",
         "Guatemala",
         "318"
        ],
        [
         "United States",
         "Suriname",
         "34"
        ],
        [
         "Colombia",
         "United States",
         "873"
        ],
        [
         "United States",
         "Cape Verde",
         "14"
        ],
        [
         "United States",
         "Jamaica",
         "712"
        ],
        [
         "Norway",
         "United States",
         "121"
        ],
        [
         "United States",
         "Malaysia",
         "3"
        ],
        [
         "United States",
         "Morocco",
         "19"
        ],
        [
         "Thailand",
         "United States",
         "3"
        ],
        [
         "United States",
         "Samoa",
         "25"
        ],
        [
         "Venezuela",
         "United States",
         "290"
        ],
        [
         "United States",
         "Palau",
         "31"
        ],
        [
         "United States",
         "Venezuela",
         "246"
        ],
        [
         "Panama",
         "United States",
         "510"
        ],
        [
         "Antigua and Barbuda",
         "United States",
         "126"
        ],
        [
         "United States",
         "Chile",
         "185"
        ],
        [
         "Morocco",
         "United States",
         "15"
        ],
        [
         "United States",
         "Finland",
         "28"
        ],
        [
         "Azerbaijan",
         "United States",
         "21"
        ],
        [
         "United States",
         "Greece",
         "23"
        ],
        [
         "United States",
         "The Bahamas",
         "986"
        ],
        [
         "New Zealand",
         "United States",
         "111"
        ],
        [
         "Liberia",
         "United States",
         "2"
        ],
        [
         "United States",
         "Hong Kong",
         "414"
        ],
        [
         "Hungary",
         "United States",
         "2"
        ],
        [
         "United States",
         "China",
         "920"
        ],
        [
         "United States",
         "Vietnam",
         "2"
        ],
        [
         "Burkina Faso",
         "United States",
         "1"
        ],
        [
         "Sweden",
         "United States",
         "118"
        ],
        [
         "United States",
         "Kuwait",
         "28"
        ],
        [
         "United States",
         "Dominican Republic",
         "1420"
        ],
        [
         "United States",
         "Egypt",
         "12"
        ],
        [
         "Israel",
         "United States",
         "134"
        ],
        [
         "United States",
         "United States",
         "370002"
        ],
        [
         "Ethiopia",
         "United States",
         "13"
        ],
        [
         "United States",
         "Luxembourg",
         "134"
        ],
        [
         "United States",
         "Poland",
         "33"
        ],
        [
         "Martinique",
         "United States",
         "44"
        ],
        [
         "United States",
         "Saint Barthelemy",
         "41"
        ],
        [
         "Saint Barthelemy",
         "United States",
         "39"
        ],
        [
         "Barbados",
         "United States",
         "154"
        ],
        [
         "United States",
         "Turkey",
         "129"
        ],
        [
         "Djibouti",
         "United States",
         "1"
        ],
        [
         "United States",
         "Azerbaijan",
         "21"
        ],
        [
         "United States",
         "Estonia",
         "1"
        ],
        [
         "Germany",
         "United States",
         "1468"
        ],
        [
         "United States",
         "South Korea",
         "827"
        ],
        [
         "United States",
         "El Salvador",
         "508"
        ],
        [
         "Ireland",
         "United States",
         "335"
        ],
        [
         "United States",
         "Hungary",
         "3"
        ],
        [
         "Zambia",
         "United States",
         "1"
        ],
        [
         "Malaysia",
         "United States",
         "2"
        ],
        [
         "United States",
         "Ethiopia",
         "12"
        ],
        [
         "United States",
         "Panama",
         "465"
        ],
        [
         "United States",
         "Aruba",
         "342"
        ],
        [
         "United States",
         "Thailand",
         "4"
        ],
        [
         "United States",
         "Turks and Caicos Islands",
         "236"
        ],
        [
         "Croatia",
         "United States",
         "2"
        ],
        [
         "United States",
         "Pakistan",
         "12"
        ],
        [
         "Cyprus",
         "United States",
         "1"
        ],
        [
         "United States",
         "Honduras",
         "407"
        ],
        [
         "Fiji",
         "United States",
         "24"
        ],
        [
         "Qatar",
         "United States",
         "108"
        ],
        [
         "Saint Kitts and Nevis",
         "United States",
         "139"
        ],
        [
         "Kuwait",
         "United States",
         "32"
        ],
        [
         "Taiwan",
         "United States",
         "266"
        ],
        [
         "Haiti",
         "United States",
         "226"
        ],
        [
         "Canada",
         "United States",
         "8399"
        ],
        [
         "Federated States of Micronesia",
         "United States",
         "69"
        ],
        [
         "United States",
         "Liberia",
         "2"
        ],
        [
         "Jamaica",
         "United States",
         "666"
        ],
        [
         "United States",
         "Malta",
         "2"
        ],
        [
         "Dominican Republic",
         "United States",
         "1353"
        ],
        [
         "Japan",
         "United States",
         "1548"
        ],
        [
         "United States",
         "Lithuania",
         "1"
        ],
        [
         "Finland",
         "United States",
         "26"
        ],
        [
         "United States",
         "Guadeloupe",
         "59"
        ],
        [
         "United States",
         "Ukraine",
         "13"
        ],
        [
         "United States",
         "France",
         "952"
        ],
        [
         "United States",
         "Norway",
         "115"
        ],
        [
         "Aruba",
         "United States",
         "346"
        ],
        [
         "French Guiana",
         "United States",
         "5"
        ],
        [
         "United States",
         "Kiribati",
         "35"
        ],
        [
         "India",
         "United States",
         "61"
        ],
        [
         "British Virgin Islands",
         "United States",
         "107"
        ],
        [
         "Brazil",
         "United States",
         "853"
        ],
        [
         "United States",
         "Germany",
         "1336"
        ],
        [
         "United States",
         "New Zealand",
         "74"
        ],
        [
         "French Polynesia",
         "United States",
         "43"
        ],
        [
         "United Arab Emirates",
         "United States",
         "320"
        ],
        [
         "Singapore",
         "United States",
         "3"
        ],
        [
         "United States",
         "Mexico",
         "7187"
        ],
        [
         "United States",
         "Sweden",
         "119"
        ],
        [
         "Netherlands",
         "United States",
         "776"
        ],
        [
         "United States",
         "Martinique",
         "43"
        ],
        [
         "United States",
         "United Arab Emirates",
         "313"
        ],
        [
         "United States",
         "Bulgaria",
         "1"
        ],
        [
         "Denmark",
         "United States",
         "153"
        ],
        [
         "China",
         "United States",
         "772"
        ],
        [
         "United States",
         "Nicaragua",
         "201"
        ],
        [
         "United States",
         "Philippines",
         "126"
        ],
        [
         "United States",
         "Georgia",
         "1"
        ],
        [
         "United States",
         "Belgium",
         "228"
        ],
        [
         "Cayman Islands",
         "United States",
         "314"
        ],
        [
         "Argentina",
         "United States",
         "180"
        ],
        [
         "Peru",
         "United States",
         "279"
        ],
        [
         "South Africa",
         "United States",
         "36"
        ],
        [
         "United States",
         "Iceland",
         "202"
        ],
        [
         "United States",
         "Argentina",
         "141"
        ],
        [
         "Spain",
         "United States",
         "420"
        ],
        [
         "Bermuda",
         "United States",
         "183"
        ],
        [
         "United States",
         "Nigeria",
         "50"
        ],
        [
         "United States",
         "Austria",
         "63"
        ],
        [
         "United States",
         "Bonaire, Sint Eustatius, and Saba",
         "59"
        ],
        [
         "Kiribati",
         "United States",
         "26"
        ],
        [
         "Saudi Arabia",
         "United States",
         "83"
        ],
        [
         "Czech Republic",
         "United States",
         "13"
        ],
        [
         "United States",
         "Israel",
         "127"
        ],
        [
         "Belgium",
         "United States",
         "259"
        ],
        [
         "United States",
         "Saint Lucia",
         "136"
        ],
        [
         "United States",
         "Bahrain",
         "1"
        ],
        [
         "United States",
         "British Virgin Islands",
         "80"
        ],
        [
         "Curacao",
         "United States",
         "90"
        ],
        [
         "Georgia",
         "United States",
         "2"
        ],
        [
         "United States",
         "Denmark",
         "152"
        ],
        [
         "United States",
         "Guyana",
         "63"
        ],
        [
         "Philippines",
         "United States",
         "134"
        ],
        [
         "Grenada",
         "United States",
         "53"
        ],
        [
         "Cape Verde",
         "United States",
         "20"
        ],
        [
         "Cote d'Ivoire",
         "United States",
         "1"
        ],
        [
         "Ukraine",
         "United States",
         "14"
        ],
        [
         "United States",
         "Papua New Guinea",
         "1"
        ],
        [
         "Russia",
         "United States",
         "176"
        ],
        [
         "United States",
         "Saudi Arabia",
         "70"
        ],
        [
         "Guatemala",
         "United States",
         "397"
        ],
        [
         "Saint Lucia",
         "United States",
         "123"
        ],
        [
         "Paraguay",
         "United States",
         "60"
        ],
        [
         "United States",
         "Curacao",
         "83"
        ],
        [
         "Kosovo",
         "United States",
         "1"
        ],
        [
         "United States",
         "Taiwan",
         "235"
        ],
        [
         "Tunisia",
         "United States",
         "3"
        ],
        [
         "United States",
         "South Africa",
         "40"
        ],
        [
         "Niger",
         "United States",
         "2"
        ],
        [
         "Turkey",
         "United States",
         "138"
        ],
        [
         "United Kingdom",
         "United States",
         "2025"
        ],
        [
         "Romania",
         "United States",
         "14"
        ],
        [
         "United States",
         "Greenland",
         "4"
        ],
        [
         "Papua New Guinea",
         "United States",
         "3"
        ],
        [
         "United States",
         "Spain",
         "442"
        ],
        [
         "Iraq",
         "United States",
         "1"
        ],
        [
         "United States",
         "Italy",
         "438"
        ],
        [
         "Cuba",
         "United States",
         "466"
        ],
        [
         "United States",
         "Switzerland",
         "305"
        ],
        [
         "Dominica",
         "United States",
         "20"
        ],
        [
         "United States",
         "Japan",
         "1496"
        ],
        [
         "Portugal",
         "United States",
         "127"
        ],
        [
         "United States",
         "Brazil",
         "619"
        ],
        [
         "Bahrain",
         "United States",
         "19"
        ],
        [
         "United States",
         "Peru",
         "337"
        ],
        [
         "Indonesia",
         "United States",
         "1"
        ],
        [
         "United States",
         "Belize",
         "193"
        ],
        [
         "United States",
         "United Kingdom",
         "1970"
        ],
        [
         "Belize",
         "United States",
         "188"
        ],
        [
         "United States",
         "Ghana",
         "20"
        ],
        [
         "United States",
         "Indonesia",
         "2"
        ],
        [
         "United States",
         "Fiji",
         "25"
        ],
        [
         "United States",
         "Canada",
         "8483"
        ],
        [
         "United States",
         "Antigua and Barbuda",
         "117"
        ],
        [
         "United States",
         "French Polynesia",
         "40"
        ],
        [
         "Nicaragua",
         "United States",
         "179"
        ],
        [
         "United States",
         "Latvia",
         "15"
        ],
        [
         "United States",
         "Dominica",
         "27"
        ],
        [
         "United States",
         "Czech Republic",
         "12"
        ],
        [
         "United States",
         "Australia",
         "258"
        ],
        [
         "United States",
         "Cook Islands",
         "13"
        ],
        [
         "Austria",
         "United States",
         "62"
        ],
        [
         "Jordan",
         "United States",
         "44"
        ],
        [
         "Palau",
         "United States",
         "30"
        ],
        [
         "South Korea",
         "United States",
         "1048"
        ],
        [
         "Angola",
         "United States",
         "15"
        ],
        [
         "Ghana",
         "United States",
         "18"
        ],
        [
         "New Caledonia",
         "United States",
         "1"
        ],
        [
         "Guadeloupe",
         "United States",
         "56"
        ],
        [
         "France",
         "United States",
         "935"
        ],
        [
         "Poland",
         "United States",
         "32"
        ],
        [
         "Nigeria",
         "United States",
         "59"
        ],
        [
         "United States",
         "Uruguay",
         "13"
        ],
        [
         "Greenland",
         "United States",
         "2"
        ],
        [
         "United States",
         "Bermuda",
         "193"
        ],
        [
         "Chile",
         "United States",
         "174"
        ],
        [
         "United States",
         "Cuba",
         "478"
        ],
        [
         "United States",
         "Montenegro",
         "1"
        ],
        [
         "United States",
         "Colombia",
         "867"
        ],
        [
         "United States",
         "Barbados",
         "130"
        ],
        [
         "United States",
         "Qatar",
         "109"
        ],
        [
         "Australia",
         "United States",
         "329"
        ],
        [
         "United States",
         "Cayman Islands",
         "310"
        ],
        [
         "United States",
         "Jordan",
         "44"
        ],
        [
         "United States",
         "Namibia",
         "1"
        ],
        [
         "United States",
         "Trinidad and Tobago",
         "217"
        ],
        [
         "United States",
         "Bolivia",
         "13"
        ],
        [
         "Cook Islands",
         "United States",
         "13"
        ],
        [
         "Bulgaria",
         "United States",
         "3"
        ],
        [
         "United States",
         "Saint Kitts and Nevis",
         "145"
        ],
        [
         "Uruguay",
         "United States",
         "43"
        ],
        [
         "United States",
         "Haiti",
         "225"
        ],
        [
         "Bonaire, Sint Eustatius, and Saba",
         "United States",
         "58"
        ],
        [
         "Greece",
         "United States",
         "30"
        ],
        [
         "United States",
         "Saint Martin",
         "2"
        ],
        [
         "United States",
         "Guinea",
         "2"
        ],
        [
         "United States",
         "Croatia",
         "1"
        ],
        [
         "United States",
         "Romania",
         "3"
        ],
        [
         "United States",
         "Ireland",
         "268"
        ],
        [
         "Egypt",
         "United States",
         "13"
        ],
        [
         "United States",
         "India",
         "76"
        ],
        [
         "United States",
         "Singapore",
         "24"
        ],
        [
         "United States",
         "Grenada",
         "59"
        ],
        [
         "Costa Rica",
         "United States",
         "494"
        ],
        [
         "Senegal",
         "United States",
         "29"
        ],
        [
         "Guyana",
         "United States",
         "26"
        ],
        [
         "United States",
         "Marshall Islands",
         "49"
        ],
        [
         "United States",
         "Sint Maarten",
         "223"
        ],
        [
         "Malta",
         "United States",
         "1"
        ],
        [
         "Bolivia",
         "United States",
         "61"
        ],
        [
         "Anguilla",
         "United States",
         "21"
        ],
        [
         "United States",
         "Paraguay",
         "3"
        ],
        [
         "United States",
         "Gibraltar",
         "1"
        ],
        [
         "Turks and Caicos Islands",
         "United States",
         "163"
        ],
        [
         "United States",
         "Afghanistan",
         "3"
        ],
        [
         "Saint Vincent and the Grenadines",
         "United States",
         "6"
        ],
        [
         "Italy",
         "United States",
         "428"
        ],
        [
         "United States",
         "Russia",
         "153"
        ],
        [
         "United States",
         "Federated States of Micronesia",
         "54"
        ],
        [
         "Pakistan",
         "United States",
         "12"
        ],
        [
         "Iceland",
         "United States",
         "113"
        ],
        [
         "United States",
         "Netherlands",
         "622"
        ],
        [
         "Marshall Islands",
         "United States",
         "81"
        ],
        [
         "Luxembourg",
         "United States",
         "120"
        ],
        [
         "Honduras",
         "United States",
         "386"
        ],
        [
         "The Bahamas",
         "United States",
         "811"
        ],
        [
         "El Salvador",
         "United States",
         "495"
        ],
        [
         "United States",
         "Senegal",
         "33"
        ],
        [
         "Samoa",
         "United States",
         "25"
        ],
        [
         "United States",
         "Angola",
         "12"
        ],
        [
         "Switzerland",
         "United States",
         "314"
        ],
        [
         "United States",
         "Anguilla",
         "20"
        ],
        [
         "Sint Maarten",
         "United States",
         "240"
        ],
        [
         "Hong Kong",
         "United States",
         "282"
        ],
        [
         "Trinidad and Tobago",
         "United States",
         "205"
        ],
        [
         "Latvia",
         "United States",
         "12"
        ],
        [
         "Yemen",
         "United States",
         "1"
        ],
        [
         "United States",
         "Ecuador",
         "351"
        ],
        [
         "Suriname",
         "United States",
         "11"
        ],
        [
         "Mexico",
         "United States",
         "5953"
        ],
        [
         "United States",
         "Cyprus",
         "1"
        ],
        [
         "Ecuador",
         "United States",
         "280"
        ],
        [
         "United States",
         "Portugal",
         "109"
        ],
        [
         "United States",
         "Guatemala",
         "340"
        ],
        [
         "United States",
         "Costa Rica",
         "526"
        ],
        [
         "United States",
         "Suriname",
         "20"
        ],
        [
         "Colombia",
         "United States",
         "707"
        ],
        [
         "United States",
         "Cape Verde",
         "19"
        ],
        [
         "United States",
         "Jamaica",
         "695"
        ],
        [
         "Norway",
         "United States",
         "25"
        ],
        [
         "United States",
         "Malaysia",
         "1"
        ],
        [
         "The Gambia",
         "United States",
         "1"
        ],
        [
         "United States",
         "Morocco",
         "17"
        ],
        [
         "Thailand",
         "United States",
         "12"
        ],
        [
         "United States",
         "Palau",
         "41"
        ],
        [
         "Venezuela",
         "United States",
         "373"
        ],
        [
         "United States",
         "Samoa",
         "25"
        ],
        [
         "United States",
         "Algeria",
         "1"
        ],
        [
         "Panama",
         "United States",
         "397"
        ],
        [
         "United States",
         "Venezuela",
         "352"
        ],
        [
         "Guinea",
         "United States",
         "5"
        ],
        [
         "Antigua and Barbuda",
         "United States",
         "146"
        ],
        [
         "United States",
         "Finland",
         "32"
        ],
        [
         "United States",
         "Chile",
         "182"
        ],
        [
         "United States",
         "Greece",
         "45"
        ],
        [
         "Morocco",
         "United States",
         "19"
        ],
        [
         "United States",
         "The Bahamas",
         "888"
        ],
        [
         "United States",
         "Brunei",
         "1"
        ],
        [
         "New Zealand",
         "United States",
         "96"
        ],
        [
         "United States",
         "Hong Kong",
         "317"
        ],
        [
         "Hungary",
         "United States",
         "13"
        ],
        [
         "United States",
         "China",
         "605"
        ],
        [
         "Sweden",
         "United States",
         "59"
        ],
        [
         "United States",
         "Kuwait",
         "27"
        ],
        [
         "United States",
         "Dominican Republic",
         "1100"
        ],
        [
         "United States",
         "Egypt",
         "15"
        ],
        [
         "Israel",
         "United States",
         "121"
        ],
        [
         "United States",
         "United States",
         "352742"
        ],
        [
         "United States",
         "Luxembourg",
         "170"
        ],
        [
         "Ethiopia",
         "United States",
         "12"
        ],
        [
         "United States",
         "Poland",
         "42"
        ],
        [
         "Martinique",
         "United States",
         "20"
        ],
        [
         "Saint Barthelemy",
         "United States",
         "38"
        ],
        [
         "United States",
         "Saint Barthelemy",
         "39"
        ],
        [
         "Barbados",
         "United States",
         "129"
        ],
        [
         "United States",
         "Turkey",
         "99"
        ],
        [
         "United States",
         "Azerbaijan",
         "3"
        ],
        [
         "Germany",
         "United States",
         "1423"
        ],
        [
         "United States",
         "South Korea",
         "661"
        ],
        [
         "United States",
         "El Salvador",
         "443"
        ],
        [
         "Ireland",
         "United States",
         "250"
        ],
        [
         "United States",
         "Hungary",
         "17"
        ],
        [
         "Malaysia",
         "United States",
         "2"
        ],
        [
         "United States",
         "Panama",
         "380"
        ],
        [
         "United States",
         "Ethiopia",
         "12"
        ],
        [
         "United States",
         "Thailand",
         "14"
        ],
        [
         "United States",
         "Aruba",
         "332"
        ],
        [
         "United States",
         "Turks and Caicos Islands",
         "177"
        ],
        [
         "Croatia",
         "United States",
         "2"
        ],
        [
         "United States",
         "Pakistan",
         "24"
        ],
        [
         "United States",
         "Honduras",
         "388"
        ],
        [
         "Qatar",
         "United States",
         "48"
        ],
        [
         "Fiji",
         "United States",
         "49"
        ],
        [
         "Saint Kitts and Nevis",
         "United States",
         "105"
        ],
        [
         "Taiwan",
         "United States",
         "248"
        ],
        [
         "Haiti",
         "United States",
         "188"
        ],
        [
         "Kuwait",
         "United States",
         "27"
        ],
        [
         "Canada",
         "United States",
         "8514"
        ],
        [
         "Belarus",
         "United States",
         "1"
        ],
        [
         "Federated States of Micronesia",
         "United States",
         "48"
        ],
        [
         "Jamaica",
         "United States",
         "675"
        ],
        [
         "United States",
         "Malta",
         "3"
        ],
        [
         "Dominican Republic",
         "United States",
         "1020"
        ],
        [
         "Japan",
         "United States",
         "1532"
        ],
        [
         "United States",
         "Lithuania",
         "1"
        ],
        [
         "United States",
         "Saint Vincent and the Grenadines",
         "17"
        ],
        [
         "Finland",
         "United States",
         "33"
        ],
        [
         "United States",
         "Ukraine",
         "15"
        ],
        [
         "United States",
         "Guadeloupe",
         "31"
        ],
        [
         "United States",
         "France",
         "914"
        ],
        [
         "Aruba",
         "United States",
         "347"
        ],
        [
         "French Guiana",
         "United States",
         "14"
        ],
        [
         "United States",
         "Norway",
         "33"
        ],
        [
         "United States",
         "Kiribati",
         "28"
        ],
        [
         "India",
         "United States",
         "73"
        ],
        [
         "British Virgin Islands",
         "United States",
         "73"
        ],
        [
         "United States",
         "Germany",
         "1480"
        ],
        [
         "Brazil",
         "United States",
         "969"
        ],
        [
         "United States",
         "New Zealand",
         "77"
        ],
        [
         "French Polynesia",
         "United States",
         "36"
        ],
        [
         "United Arab Emirates",
         "United States",
         "157"
        ],
        [
         "Singapore",
         "United States",
         "27"
        ],
        [
         "United States",
         "Mexico",
         "6000"
        ],
        [
         "Netherlands",
         "United States",
         "635"
        ],
        [
         "United States",
         "Sweden",
         "68"
        ],
        [
         "United States",
         "Martinique",
         "20"
        ],
        [
         "United States",
         "United Arab Emirates",
         "142"
        ],
        [
         "China",
         "United States",
         "504"
        ],
        [
         "United States",
         "Philippines",
         "109"
        ],
        [
         "United States",
         "Nicaragua",
         "173"
        ],
        [
         "Denmark",
         "United States",
         "95"
        ],
        [
         "United States",
         "Georgia",
         "1"
        ],
        [
         "United States",
         "Belgium",
         "369"
        ],
        [
         "Libya",
         "United States",
         "1"
        ],
        [
         "Argentina",
         "United States",
         "183"
        ],
        [
         "Peru",
         "United States",
         "246"
        ],
        [
         "Cayman Islands",
         "United States",
         "251"
        ],
        [
         "South Africa",
         "United States",
         "24"
        ],
        [
         "United States",
         "Argentina",
         "152"
        ],
        [
         "United States",
         "Iceland",
         "138"
        ],
        [
         "Spain",
         "United States",
         "445"
        ],
        [
         "Bermuda",
         "United States",
         "191"
        ],
        [
         "United States",
         "Austria",
         "34"
        ],
        [
         "United States",
         "Nigeria",
         "26"
        ],
        [
         "United States",
         "Bonaire, Sint Eustatius, and Saba",
         "49"
        ],
        [
         "Kiribati",
         "United States",
         "28"
        ],
        [
         "Czech Republic",
         "United States",
         "23"
        ],
        [
         "Saudi Arabia",
         "United States",
         "83"
        ],
        [
         "Macau",
         "United States",
         "2"
        ],
        [
         "Belgium",
         "United States",
         "376"
        ],
        [
         "United States",
         "Israel",
         "126"
        ],
        [
         "United States",
         "Saint Lucia",
         "102"
        ],
        [
         "United States",
         "Bahrain",
         "2"
        ],
        [
         "United States",
         "British Virgin Islands",
         "65"
        ],
        [
         "Afghanistan",
         "United States",
         "8"
        ],
        [
         "Curacao",
         "United States",
         "106"
        ],
        [
         "Georgia",
         "United States",
         "1"
        ],
        [
         "United States",
         "Guyana",
         "29"
        ],
        [
         "Philippines",
         "United States",
         "127"
        ],
        [
         "United States",
         "Denmark",
         "103"
        ],
        [
         "Grenada",
         "United States",
         "67"
        ],
        [
         "Cape Verde",
         "United States",
         "13"
        ],
        [
         "Ukraine",
         "United States",
         "15"
        ],
        [
         "United States",
         "Papua New Guinea",
         "1"
        ],
        [
         "Russia",
         "United States",
         "199"
        ],
        [
         "United States",
         "Saudi Arabia",
         "77"
        ],
        [
         "Guatemala",
         "United States",
         "407"
        ],
        [
         "Saint Lucia",
         "United States",
         "102"
        ],
        [
         "Paraguay",
         "United States",
         "85"
        ],
        [
         "United States",
         "Curacao",
         "97"
        ],
        [
         "United States",
         "Taiwan",
         "231"
        ],
        [
         "United States",
         "South Africa",
         "21"
        ],
        [
         "Togo",
         "United States",
         "1"
        ],
        [
         "Turkey",
         "United States",
         "104"
        ],
        [
         "United Kingdom",
         "United States",
         "1726"
        ],
        [
         "Romania",
         "United States",
         "4"
        ],
        [
         "United States",
         "Greenland",
         "2"
        ],
        [
         "United States",
         "Spain",
         "472"
        ],
        [
         "Cuba",
         "United States",
         "320"
        ],
        [
         "United States",
         "Italy",
         "447"
        ],
        [
         "United States",
         "Switzerland",
         "319"
        ],
        [
         "Dominica",
         "United States",
         "25"
        ],
        [
         "United States",
         "Japan",
         "1412"
        ],
        [
         "Portugal",
         "United States",
         "95"
        ],
        [
         "United States",
         "Brazil",
         "575"
        ],
        [
         "Bahrain",
         "United States",
         "40"
        ],
        [
         "United States",
         "Peru",
         "288"
        ],
        [
         "Vietnam",
         "United States",
         "1"
        ],
        [
         "United States",
         "United Kingdom",
         "1649"
        ],
        [
         "United States",
         "Belize",
         "112"
        ],
        [
         "Belize",
         "United States",
         "113"
        ],
        [
         "United States",
         "Ghana",
         "39"
        ],
        [
         "Mauritania",
         "United States",
         "1"
        ],
        [
         "Saint Martin",
         "United States",
         "1"
        ],
        [
         "United States",
         "Indonesia",
         "1"
        ],
        [
         "United States",
         "Fiji",
         "48"
        ],
        [
         "United States",
         "Mauritania",
         "1"
        ],
        [
         "United States",
         "Canada",
         "8650"
        ],
        [
         "United States",
         "Antigua and Barbuda",
         "152"
        ],
        [
         "United States",
         "French Polynesia",
         "36"
        ],
        [
         "Nicaragua",
         "United States",
         "180"
        ],
        [
         "Namibia",
         "United States",
         "1"
        ],
        [
         "United States",
         "Latvia",
         "12"
        ],
        [
         "United States",
         "Dominica",
         "29"
        ],
        [
         "United States",
         "Czech Republic",
         "25"
        ],
        [
         "United States",
         "Australia",
         "231"
        ],
        [
         "United States",
         "Cook Islands",
         "12"
        ],
        [
         "Austria",
         "United States",
         "34"
        ],
        [
         "Palau",
         "United States",
         "41"
        ],
        [
         "Jordan",
         "United States",
         "42"
        ],
        [
         "South Korea",
         "United States",
         "713"
        ],
        [
         "Ghana",
         "United States",
         "39"
        ],
        [
         "Angola",
         "United States",
         "13"
        ],
        [
         "Guadeloupe",
         "United States",
         "33"
        ],
        [
         "France",
         "United States",
         "876"
        ],
        [
         "Nigeria",
         "United States",
         "31"
        ],
        [
         "Poland",
         "United States",
         "39"
        ],
        [
         "United States",
         "Uruguay",
         "27"
        ],
        [
         "Greenland",
         "United States",
         "1"
        ],
        [
         "Chile",
         "United States",
         "178"
        ],
        [
         "United States",
         "Bermuda",
         "196"
        ],
        [
         "Lebanon",
         "United States",
         "1"
        ],
        [
         "United States",
         "Cuba",
         "326"
        ],
        [
         "United States",
         "Colombia",
         "777"
        ],
        [
         "United States",
         "Barbados",
         "125"
        ],
        [
         "United States",
         "Qatar",
         "48"
        ],
        [
         "Australia",
         "United States",
         "280"
        ],
        [
         "United States",
         "Cayman Islands",
         "262"
        ],
        [
         "United States",
         "Jordan",
         "45"
        ],
        [
         "United States",
         "Bolivia",
         "51"
        ],
        [
         "United States",
         "Trinidad and Tobago",
         "213"
        ],
        [
         "Uruguay",
         "United States",
         "50"
        ],
        [
         "Cook Islands",
         "United States",
         "12"
        ],
        [
         "United States",
         "Saint Kitts and Nevis",
         "120"
        ],
        [
         "Bulgaria",
         "United States",
         "4"
        ],
        [
         "United States",
         "French Guiana",
         "11"
        ],
        [
         "United States",
         "Haiti",
         "197"
        ],
        [
         "Bonaire, Sint Eustatius, and Saba",
         "United States",
         "50"
        ],
        [
         "Greece",
         "United States",
         "38"
        ],
        [
         "United States",
         "Romania",
         "12"
        ],
        [
         "United States",
         "Croatia",
         "1"
        ],
        [
         "United States",
         "Ireland",
         "266"
        ],
        [
         "Egypt",
         "United States",
         "13"
        ],
        [
         "United States",
         "India",
         "60"
        ],
        [
         "Equatorial Guinea",
         "United States",
         "1"
        ],
        [
         "United States",
         "Niger",
         "1"
        ],
        [
         "United States",
         "Singapore",
         "22"
        ],
        [
         "United States",
         "Grenada",
         "40"
        ],
        [
         "Costa Rica",
         "United States",
         "509"
        ],
        [
         "Senegal",
         "United States",
         "28"
        ],
        [
         "Guyana",
         "United States",
         "34"
        ],
        [
         "United States",
         "Sint Maarten",
         "260"
        ],
        [
         "United States",
         "Marshall Islands",
         "33"
        ],
        [
         "Bolivia",
         "United States",
         "33"
        ],
        [
         "Anguilla",
         "United States",
         "22"
        ],
        [
         "United States",
         "Paraguay",
         "15"
        ],
        [
         "Algeria",
         "United States",
         "2"
        ],
        [
         "Turks and Caicos Islands",
         "United States",
         "181"
        ],
        [
         "Saint Vincent and the Grenadines",
         "United States",
         "4"
        ],
        [
         "Lithuania",
         "United States",
         "1"
        ],
        [
         "Pakistan",
         "United States",
         "14"
        ],
        [
         "Italy",
         "United States",
         "327"
        ],
        [
         "United States",
         "Russia",
         "167"
        ],
        [
         "United States",
         "Federated States of Micronesia",
         "62"
        ],
        [
         "United States",
         "Netherlands",
         "618"
        ],
        [
         "Iceland",
         "United States",
         "146"
        ],
        [
         "Marshall Islands",
         "United States",
         "50"
        ],
        [
         "Luxembourg",
         "United States",
         "160"
        ],
        [
         "Honduras",
         "United States",
         "423"
        ],
        [
         "Rwanda",
         "United States",
         "1"
        ],
        [
         "The Bahamas",
         "United States",
         "865"
        ],
        [
         "El Salvador",
         "United States",
         "551"
        ],
        [
         "United States",
         "Senegal",
         "32"
        ],
        [
         "Samoa",
         "United States",
         "25"
        ],
        [
         "United States",
         "Angola",
         "12"
        ],
        [
         "Kazakhstan",
         "United States",
         "2"
        ],
        [
         "Switzerland",
         "United States",
         "288"
        ],
        [
         "United States",
         "Anguilla",
         "18"
        ],
        [
         "United States",
         "Mali",
         "1"
        ],
        [
         "Sint Maarten",
         "United States",
         "271"
        ],
        [
         "Hong Kong",
         "United States",
         "282"
        ],
        [
         "Trinidad and Tobago",
         "United States",
         "183"
        ],
        [
         "Latvia",
         "United States",
         "29"
        ],
        [
         "United States",
         "Ecuador",
         "307"
        ],
        [
         "Suriname",
         "United States",
         "15"
        ],
        [
         "Mexico",
         "United States",
         "6372"
        ],
        [
         "Ecuador",
         "United States",
         "252"
        ],
        [
         "United States",
         "Portugal",
         "126"
        ],
        [
         "United States",
         "Costa Rica",
         "549"
        ],
        [
         "United States",
         "Guatemala",
         "331"
        ],
        [
         "United States",
         "Suriname",
         "21"
        ],
        [
         "Colombia",
         "United States",
         "798"
        ],
        [
         "United States",
         "Cape Verde",
         "15"
        ],
        [
         "Norway",
         "United States",
         "48"
        ],
        [
         "United States",
         "Jamaica",
         "599"
        ],
        [
         "United States",
         "Malaysia",
         "1"
        ],
        [
         "United States",
         "Morocco",
         "16"
        ],
        [
         "Thailand",
         "United States",
         "2"
        ],
        [
         "Burundi",
         "United States",
         "1"
        ],
        [
         "Venezuela",
         "United States",
         "350"
        ],
        [
         "United States",
         "Samoa",
         "25"
        ],
        [
         "United States",
         "Palau",
         "35"
        ],
        [
         "United States",
         "Venezuela",
         "295"
        ],
        [
         "Panama",
         "United States",
         "418"
        ],
        [
         "United States",
         "Finland",
         "15"
        ],
        [
         "Morocco",
         "United States",
         "18"
        ],
        [
         "Antigua and Barbuda",
         "United States",
         "123"
        ],
        [
         "United States",
         "Chile",
         "171"
        ],
        [
         "Azerbaijan",
         "United States",
         "3"
        ],
        [
         "United States",
         "Greece",
         "14"
        ],
        [
         "United States",
         "The Bahamas",
         "897"
        ],
        [
         "New Zealand",
         "United States",
         "114"
        ],
        [
         "United States",
         "Hong Kong",
         "344"
        ],
        [
         "Hungary",
         "United States",
         "1"
        ],
        [
         "United States",
         "China",
         "614"
        ],
        [
         "United States",
         "Kuwait",
         "24"
        ],
        [
         "Sweden",
         "United States",
         "70"
        ],
        [
         "United States",
         "Egypt",
         "12"
        ],
        [
         "United States",
         "Dominican Republic",
         "1119"
        ],
        [
         "Israel",
         "United States",
         "119"
        ],
        [
         "United States",
         "United States",
         "343132"
        ],
        [
         "United States",
         "Luxembourg",
         "134"
        ],
        [
         "Ethiopia",
         "United States",
         "12"
        ],
        [
         "United States",
         "Poland",
         "37"
        ],
        [
         "Martinique",
         "United States",
         "26"
        ],
        [
         "United States",
         "Zimbabwe",
         "2"
        ],
        [
         "United States",
         "Saint Barthelemy",
         "58"
        ],
        [
         "Saint Barthelemy",
         "United States",
         "67"
        ],
        [
         "United States",
         "Turkey",
         "100"
        ],
        [
         "Barbados",
         "United States",
         "97"
        ],
        [
         "Germany",
         "United States",
         "1423"
        ],
        [
         "Kyrgyzstan",
         "United States",
         "1"
        ],
        [
         "United States",
         "South Korea",
         "687"
        ],
        [
         "United States",
         "El Salvador",
         "466"
        ],
        [
         "Ireland",
         "United States",
         "255"
        ],
        [
         "Malaysia",
         "United States",
         "2"
        ],
        [
         "United States",
         "Aruba",
         "344"
        ],
        [
         "United States",
         "Panama",
         "419"
        ],
        [
         "United States",
         "Ethiopia",
         "12"
        ],
        [
         "United States",
         "Turks and Caicos Islands",
         "178"
        ],
        [
         "United States",
         "Pakistan",
         "12"
        ],
        [
         "Cyprus",
         "United States",
         "2"
        ],
        [
         "United States",
         "Honduras",
         "392"
        ],
        [
         "Fiji",
         "United States",
         "34"
        ],
        [
         "Qatar",
         "United States",
         "71"
        ],
        [
         "Saint Kitts and Nevis",
         "United States",
         "99"
        ],
        [
         "Kuwait",
         "United States",
         "24"
        ],
        [
         "Haiti",
         "United States",
         "199"
        ],
        [
         "Taiwan",
         "United States",
         "243"
        ],
        [
         "Canada",
         "United States",
         "7860"
        ],
        [
         "Federated States of Micronesia",
         "United States",
         "53"
        ],
        [
         "Jamaica",
         "United States",
         "581"
        ],
        [
         "Dominican Republic",
         "United States",
         "1068"
        ],
        [
         "Japan",
         "United States",
         "1613"
        ],
        [
         "United States",
         "Saint Vincent and the Grenadines",
         "10"
        ],
        [
         "Finland",
         "United States",
         "17"
        ],
        [
         "United States",
         "Ukraine",
         "4"
        ],
        [
         "United States",
         "Guadeloupe",
         "42"
        ],
        [
         "United States",
         "France",
         "848"
        ],
        [
         "United States",
         "Norway",
         "46"
        ],
        [
         "Aruba",
         "United States",
         "352"
        ],
        [
         "French Guiana",
         "United States",
         "7"
        ],
        [
         "United States",
         "Kiribati",
         "29"
        ],
        [
         "Zimbabwe",
         "United States",
         "2"
        ],
        [
         "India",
         "United States",
         "61"
        ],
        [
         "British Virgin Islands",
         "United States",
         "101"
        ],
        [
         "United States",
         "Germany",
         "1402"
        ],
        [
         "United States",
         "New Zealand",
         "77"
        ],
        [
         "Brazil",
         "United States",
         "912"
        ],
        [
         "Saint Helena, Ascension, and Tristan da Cunha",
         "United States",
         "1"
        ],
        [
         "United States",
         "Cambodia",
         "3"
        ],
        [
         "French Polynesia",
         "United States",
         "43"
        ],
        [
         "United Arab Emirates",
         "United States",
         "202"
        ],
        [
         "Singapore",
         "United States",
         "21"
        ],
        [
         "Tanzania",
         "United States",
         "2"
        ],
        [
         "United States",
         "Mexico",
         "6354"
        ],
        [
         "Netherlands",
         "United States",
         "640"
        ],
        [
         "United States",
         "Sweden",
         "73"
        ],
        [
         "United States",
         "Martinique",
         "24"
        ],
        [
         "United States",
         "United Arab Emirates",
         "187"
        ],
        [
         "Denmark",
         "United States",
         "104"
        ],
        [
         "China",
         "United States",
         "543"
        ],
        [
         "United States",
         "Nicaragua",
         "185"
        ],
        [
         "United States",
         "Philippines",
         "112"
        ],
        [
         "United States",
         "Belgium",
         "193"
        ],
        [
         "Nepal",
         "United States",
         "1"
        ],
        [
         "Libya",
         "United States",
         "1"
        ],
        [
         "Argentina",
         "United States",
         "176"
        ],
        [
         "Peru",
         "United States",
         "255"
        ],
        [
         "Cayman Islands",
         "United States",
         "274"
        ],
        [
         "South Africa",
         "United States",
         "24"
        ],
        [
         "United States",
         "Iceland",
         "151"
        ],
        [
         "United States",
         "Argentina",
         "140"
        ],
        [
         "Spain",
         "United States",
         "370"
        ],
        [
         "Bermuda",
         "United States",
         "163"
        ],
        [
         "United States",
         "Nigeria",
         "49"
        ],
        [
         "United States",
         "Austria",
         "39"
        ],
        [
         "United States",
         "Bonaire, Sint Eustatius, and Saba",
         "54"
        ],
        [
         "Kiribati",
         "United States",
         "29"
        ],
        [
         "Saudi Arabia",
         "United States",
         "86"
        ],
        [
         "Czech Republic",
         "United States",
         "10"
        ],
        [
         "Macau",
         "United States",
         "2"
        ],
        [
         "Belgium",
         "United States",
         "265"
        ],
        [
         "United States",
         "Israel",
         "107"
        ],
        [
         "United States",
         "Saint Lucia",
         "92"
        ],
        [
         "Sierra Leone",
         "United States",
         "1"
        ],
        [
         "United States",
         "Bahrain",
         "1"
        ],
        [
         "United States",
         "British Virgin Islands",
         "94"
        ],
        [
         "United States",
         "Saint Helena, Ascension, and Tristan da Cunha",
         "2"
        ],
        [
         "Curacao",
         "United States",
         "97"
        ],
        [
         "United States",
         "Denmark",
         "106"
        ],
        [
         "United States",
         "Guyana",
         "52"
        ],
        [
         "Philippines",
         "United States",
         "136"
        ],
        [
         "Grenada",
         "United States",
         "42"
        ],
        [
         "Cape Verde",
         "United States",
         "21"
        ],
        [
         "Ukraine",
         "United States",
         "4"
        ],
        [
         "Russia",
         "United States",
         "194"
        ],
        [
         "United States",
         "Saudi Arabia",
         "84"
        ],
        [
         "Guatemala",
         "United States",
         "376"
        ],
        [
         "Saint Lucia",
         "United States",
         "91"
        ],
        [
         "Paraguay",
         "United States",
         "75"
        ],
        [
         "United States",
         "Curacao",
         "89"
        ],
        [
         "United States",
         "Taiwan",
         "235"
        ],
        [
         "United States",
         "South Africa",
         "26"
        ],
        [
         "Niger",
         "United States",
         "1"
        ],
        [
         "Turkey",
         "United States",
         "99"
        ],
        [
         "United Kingdom",
         "United States",
         "1802"
        ],
        [
         "Romania",
         "United States",
         "14"
        ],
        [
         "United States",
         "Greenland",
         "3"
        ],
        [
         "Papua New Guinea",
         "United States",
         "2"
        ],
        [
         "United States",
         "Spain",
         "377"
        ],
        [
         "United States",
         "Italy",
         "333"
        ],
        [
         "Cuba",
         "United States",
         "337"
        ],
        [
         "United States",
         "Switzerland",
         "285"
        ],
        [
         "Dominica",
         "United States",
         "19"
        ],
        [
         "Portugal",
         "United States",
         "116"
        ],
        [
         "United States",
         "Japan",
         "1476"
        ],
        [
         "United States",
         "Brazil",
         "510"
        ],
        [
         "Bahrain",
         "United States",
         "50"
        ],
        [
         "United States",
         "Peru",
         "300"
        ],
        [
         "Indonesia",
         "United States",
         "1"
        ],
        [
         "United States",
         "United Kingdom",
         "1711"
        ],
        [
         "United States",
         "Belize",
         "127"
        ],
        [
         "Belize",
         "United States",
         "137"
        ],
        [
         "Kenya",
         "United States",
         "1"
        ],
        [
         "United States",
         "Ghana",
         "16"
        ],
        [
         "United States",
         "Fiji",
         "30"
        ],
        [
         "United States",
         "Canada",
         "7983"
        ],
        [
         "United States",
         "French Polynesia",
         "40"
        ],
        [
         "United States",
         "Antigua and Barbuda",
         "123"
        ],
        [
         "Brunei",
         "United States",
         "1"
        ],
        [
         "Nicaragua",
         "United States",
         "178"
        ],
        [
         "United States",
         "Latvia",
         "12"
        ],
        [
         "United States",
         "Dominica",
         "25"
        ],
        [
         "United States",
         "Czech Republic",
         "9"
        ],
        [
         "United States",
         "Cook Islands",
         "12"
        ],
        [
         "Austria",
         "United States",
         "35"
        ],
        [
         "United States",
         "Australia",
         "222"
        ],
        [
         "Jordan",
         "United States",
         "74"
        ],
        [
         "Palau",
         "United States",
         "35"
        ],
        [
         "South Korea",
         "United States",
         "842"
        ],
        [
         "Angola",
         "United States",
         "12"
        ],
        [
         "Ghana",
         "United States",
         "16"
        ],
        [
         "New Caledonia",
         "United States",
         "1"
        ],
        [
         "Guadeloupe",
         "United States",
         "41"
        ],
        [
         "France",
         "United States",
         "837"
        ],
        [
         "Poland",
         "United States",
         "40"
        ],
        [
         "Nigeria",
         "United States",
         "58"
        ],
        [
         "United States",
         "Uruguay",
         "20"
        ],
        [
         "Greenland",
         "United States",
         "1"
        ],
        [
         "Chile",
         "United States",
         "147"
        ],
        [
         "United States",
         "Bermuda",
         "166"
        ],
        [
         "Lebanon",
         "United States",
         "1"
        ],
        [
         "United States",
         "Cuba",
         "336"
        ],
        [
         "United States",
         "Colombia",
         "811"
        ],
        [
         "United States",
         "Qatar",
         "72"
        ],
        [
         "United States",
         "Barbados",
         "78"
        ],
        [
         "Australia",
         "United States",
         "295"
        ],
        [
         "United States",
         "Cayman Islands",
         "274"
        ],
        [
         "United States",
         "Jordan",
         "77"
        ],
        [
         "United States",
         "Trinidad and Tobago",
         "184"
        ],
        [
         "United States",
         "Bolivia",
         "13"
        ],
        [
         "Uruguay",
         "United States",
         "57"
        ],
        [
         "Cook Islands",
         "United States",
         "12"
        ],
        [
         "United States",
         "Saint Kitts and Nevis",
         "115"
        ],
        [
         "United States",
         "French Guiana",
         "3"
        ],
        [
         "United States",
         "Haiti",
         "186"
        ],
        [
         "Bonaire, Sint Eustatius, and Saba",
         "United States",
         "53"
        ],
        [
         "Greece",
         "United States",
         "12"
        ],
        [
         "United States",
         "Croatia",
         "1"
        ],
        [
         "United States",
         "Ireland",
         "252"
        ],
        [
         "Egypt",
         "United States",
         "13"
        ],
        [
         "United States",
         "India",
         "62"
        ],
        [
         "United States",
         "Singapore",
         "25"
        ],
        [
         "United States",
         "Grenada",
         "46"
        ],
        [
         "Costa Rica",
         "United States",
         "522"
        ],
        [
         "Senegal",
         "United States",
         "31"
        ],
        [
         "Guyana",
         "United States",
         "65"
        ],
        [
         "United States",
         "Marshall Islands",
         "30"
        ],
        [
         "United States",
         "Sint Maarten",
         "245"
        ],
        [
         "Bolivia",
         "United States",
         "35"
        ],
        [
         "Anguilla",
         "United States",
         "19"
        ],
        [
         "United States",
         "Paraguay",
         "5"
        ],
        [
         "United States",
         "Afghanistan",
         "5"
        ],
        [
         "Turks and Caicos Islands",
         "United States",
         "183"
        ],
        [
         "Saint Vincent and the Grenadines",
         "United States",
         "6"
        ],
        [
         "Italy",
         "United States",
         "381"
        ],
        [
         "Pakistan",
         "United States",
         "12"
        ],
        [
         "United States",
         "Russia",
         "148"
        ],
        [
         "United States",
         "Federated States of Micronesia",
         "63"
        ],
        [
         "United States",
         "Netherlands",
         "607"
        ],
        [
         "Iceland",
         "United States",
         "137"
        ],
        [
         "Marshall Islands",
         "United States",
         "60"
        ],
        [
         "United States",
         "Togo",
         "1"
        ],
        [
         "Luxembourg",
         "United States",
         "111"
        ],
        [
         "Honduras",
         "United States",
         "413"
        ],
        [
         "The Bahamas",
         "United States",
         "975"
        ],
        [
         "El Salvador",
         "United States",
         "539"
        ],
        [
         "United States",
         "Senegal",
         "33"
        ],
        [
         "United States",
         "Solomon Islands",
         "1"
        ],
        [
         "United States",
         "Angola",
         "12"
        ],
        [
         "Samoa",
         "United States",
         "25"
        ],
        [
         "Kazakhstan",
         "United States",
         "1"
        ],
        [
         "Switzerland",
         "United States",
         "285"
        ],
        [
         "United States",
         "Anguilla",
         "19"
        ],
        [
         "Sint Maarten",
         "United States",
         "243"
        ],
        [
         "Hong Kong",
         "United States",
         "296"
        ],
        [
         "Trinidad and Tobago",
         "United States",
         "216"
        ],
        [
         "Latvia",
         "United States",
         "13"
        ],
        [
         "United States",
         "Ecuador",
         "321"
        ],
        [
         "Suriname",
         "United States",
         "14"
        ],
        [
         "Mexico",
         "United States",
         "5983"
        ],
        [
         "Ecuador",
         "United States",
         "239"
        ],
        [
         "United States",
         "Portugal",
         "111"
        ],
        [
         "United States",
         "Costa Rica",
         "555"
        ],
        [
         "United States",
         "Guatemala",
         "345"
        ],
        [
         "United States",
         "Suriname",
         "26"
        ],
        [
         "Colombia",
         "United States",
         "759"
        ],
        [
         "United States",
         "The Gambia",
         "1"
        ],
        [
         "United States",
         "Cape Verde",
         "18"
        ],
        [
         "United States",
         "Jamaica",
         "610"
        ],
        [
         "Norway",
         "United States",
         "31"
        ],
        [
         "The Gambia",
         "United States",
         "2"
        ],
        [
         "United States",
         "Morocco",
         "16"
        ],
        [
         "Thailand",
         "United States",
         "6"
        ],
        [
         "Venezuela",
         "United States",
         "389"
        ],
        [
         "United States",
         "Samoa",
         "25"
        ],
        [
         "United States",
         "Palau",
         "35"
        ],
        [
         "United States",
         "Venezuela",
         "360"
        ],
        [
         "Panama",
         "United States",
         "394"
        ],
        [
         "United States",
         "Chile",
         "201"
        ],
        [
         "United States",
         "Finland",
         "21"
        ],
        [
         "Antigua and Barbuda",
         "United States",
         "145"
        ],
        [
         "Morocco",
         "United States",
         "15"
        ],
        [
         "United States",
         "Greece",
         "21"
        ],
        [
         "United States",
         "The Bahamas",
         "1054"
        ],
        [
         "New Zealand",
         "United States",
         "92"
        ],
        [
         "United States",
         "Hong Kong",
         "331"
        ],
        [
         "Hungary",
         "United States",
         "2"
        ],
        [
         "United States",
         "Tunisia",
         "1"
        ],
        [
         "United States",
         "China",
         "610"
        ],
        [
         "Sweden",
         "United States",
         "50"
        ],
        [
         "United States",
         "Kuwait",
         "28"
        ],
        [
         "United States",
         "Dominican Republic",
         "1123"
        ],
        [
         "United States",
         "Egypt",
         "12"
        ],
        [
         "Israel",
         "United States",
         "117"
        ],
        [
         "United States",
         "United States",
         "347452"
        ],
        [
         "United States",
         "Luxembourg",
         "123"
        ],
        [
         "Ethiopia",
         "United States",
         "12"
        ],
        [
         "United States",
         "Poland",
         "40"
        ],
        [
         "Martinique",
         "United States",
         "17"
        ],
        [
         "United States",
         "Saint Barthelemy",
         "49"
        ],
        [
         "Saint Barthelemy",
         "United States",
         "49"
        ],
        [
         "Barbados",
         "United States",
         "121"
        ],
        [
         "United States",
         "Azerbaijan",
         "1"
        ],
        [
         "United States",
         "Turkey",
         "89"
        ],
        [
         "Germany",
         "United States",
         "1404"
        ],
        [
         "Kyrgyzstan",
         "United States",
         "1"
        ],
        [
         "United States",
         "South Korea",
         "703"
        ],
        [
         "United States",
         "El Salvador",
         "465"
        ],
        [
         "Ireland",
         "United States",
         "255"
        ],
        [
         "United States",
         "Panama",
         "393"
        ],
        [
         "United States",
         "Ethiopia",
         "12"
        ],
        [
         "United States",
         "Thailand",
         "6"
        ],
        [
         "United States",
         "Aruba",
         "332"
        ],
        [
         "United States",
         "Turks and Caicos Islands",
         "183"
        ],
        [
         "Croatia",
         "United States",
         "1"
        ],
        [
         "United States",
         "Pakistan",
         "16"
        ],
        [
         "United States",
         "Honduras",
         "372"
        ],
        [
         "Qatar",
         "United States",
         "56"
        ],
        [
         "Fiji",
         "United States",
         "28"
        ],
        [
         "Saint Kitts and Nevis",
         "United States",
         "109"
        ],
        [
         "Taiwan",
         "United States",
         "229"
        ],
        [
         "Haiti",
         "United States",
         "224"
        ],
        [
         "Kuwait",
         "United States",
         "26"
        ],
        [
         "Canada",
         "United States",
         "8034"
        ],
        [
         "Belarus",
         "United States",
         "1"
        ],
        [
         "Federated States of Micronesia",
         "United States",
         "54"
        ],
        [
         "Jamaica",
         "United States",
         "617"
        ],
        [
         "Dominican Republic",
         "United States",
         "1078"
        ],
        [
         "Japan",
         "United States",
         "1538"
        ],
        [
         "United States",
         "Saint Vincent and the Grenadines",
         "11"
        ],
        [
         "Finland",
         "United States",
         "22"
        ],
        [
         "United States",
         "Ukraine",
         "13"
        ],
        [
         "United States",
         "Guadeloupe",
         "34"
        ],
        [
         "United States",
         "France",
         "840"
        ],
        [
         "United States",
         "Norway",
         "33"
        ],
        [
         "Aruba",
         "United States",
         "349"
        ],
        [
         "French Guiana",
         "United States",
         "8"
        ],
        [
         "United States",
         "Kiribati",
         "26"
        ],
        [
         "India",
         "United States",
         "61"
        ],
        [
         "British Virgin Islands",
         "United States",
         "83"
        ],
        [
         "Brazil",
         "United States",
         "979"
        ],
        [
         "United States",
         "Germany",
         "1413"
        ],
        [
         "United States",
         "New Zealand",
         "65"
        ],
        [
         "United States",
         "Cambodia",
         "1"
        ],
        [
         "French Polynesia",
         "United States",
         "39"
        ],
        [
         "United Arab Emirates",
         "United States",
         "188"
        ],
        [
         "Singapore",
         "United States",
         "26"
        ],
        [
         "United States",
         "Mexico",
         "5974"
        ],
        [
         "Netherlands",
         "United States",
         "640"
        ],
        [
         "United States",
         "Sweden",
         "54"
        ],
        [
         "United States",
         "Martinique",
         "17"
        ],
        [
         "United States",
         "United Arab Emirates",
         "176"
        ],
        [
         "China",
         "United States",
         "509"
        ],
        [
         "United States",
         "Philippines",
         "112"
        ],
        [
         "Denmark",
         "United States",
         "83"
        ],
        [
         "United States",
         "Nicaragua",
         "183"
        ],
        [
         "Oman",
         "United States",
         "1"
        ],
        [
         "United States",
         "Belgium",
         "275"
        ],
        [
         "Argentina",
         "United States",
         "208"
        ],
        [
         "Peru",
         "United States",
         "249"
        ],
        [
         "Cayman Islands",
         "United States",
         "258"
        ],
        [
         "South Africa",
         "United States",
         "24"
        ],
        [
         "United States",
         "Argentina",
         "170"
        ],
        [
         "United States",
         "Iceland",
         "150"
        ],
        [
         "Cameroon",
         "United States",
         "1"
        ],
        [
         "Spain",
         "United States",
         "390"
        ],
        [
         "Bermuda",
         "United States",
         "190"
        ],
        [
         "United States",
         "Austria",
         "31"
        ],
        [
         "United States",
         "Nigeria",
         "44"
        ],
        [
         "United States",
         "Bonaire, Sint Eustatius, and Saba",
         "44"
        ],
        [
         "Kiribati",
         "United States",
         "26"
        ],
        [
         "Saudi Arabia",
         "United States",
         "72"
        ],
        [
         "Czech Republic",
         "United States",
         "15"
        ],
        [
         "Macau",
         "United States",
         "1"
        ],
        [
         "United States",
         "Bahrain",
         "2"
        ],
        [
         "Belgium",
         "United States",
         "352"
        ],
        [
         "United States",
         "Israel",
         "117"
        ],
        [
         "United States",
         "Saint Lucia",
         "84"
        ],
        [
         "Sierra Leone",
         "United States",
         "1"
        ],
        [
         "Afghanistan",
         "United States",
         "5"
        ],
        [
         "United States",
         "British Virgin Islands",
         "78"
        ],
        [
         "Curacao",
         "United States",
         "107"
        ],
        [
         "Georgia",
         "United States",
         "2"
        ],
        [
         "United States",
         "Guyana",
         "79"
        ],
        [
         "Philippines",
         "United States",
         "136"
        ],
        [
         "United States",
         "Denmark",
         "82"
        ],
        [
         "Grenada",
         "United States",
         "51"
        ],
        [
         "Cape Verde",
         "United States",
         "19"
        ],
        [
         "Ukraine",
         "United States",
         "14"
        ],
        [
         "United States",
         "Papua New Guinea",
         "2"
        ],
        [
         "Russia",
         "United States",
         "183"
        ],
        [
         "United States",
         "Saudi Arabia",
         "70"
        ],
        [
         "Guatemala",
         "United States",
         "413"
        ],
        [
         "Saint Lucia",
         "United States",
         "81"
        ],
        [
         "Paraguay",
         "United States",
         "85"
        ],
        [
         "United States",
         "Curacao",
         "96"
        ],
        [
         "United States",
         "Taiwan",
         "214"
        ],
        [
         "Tunisia",
         "United States",
         "2"
        ],
        [
         "United States",
         "South Africa",
         "29"
        ],
        [
         "Turkey",
         "United States",
         "94"
        ],
        [
         "United Kingdom",
         "United States",
         "1852"
        ],
        [
         "Solomon Islands",
         "United States",
         "2"
        ],
        [
         "United States",
         "Greenland",
         "1"
        ],
        [
         "United States",
         "Spain",
         "393"
        ],
        [
         "United States",
         "Italy",
         "377"
        ],
        [
         "Cuba",
         "United States",
         "340"
        ],
        [
         "United States",
         "Switzerland",
         "282"
        ],
        [
         "Dominica",
         "United States",
         "26"
        ],
        [
         "United States",
         "Japan",
         "1451"
        ],
        [
         "Portugal",
         "United States",
         "112"
        ],
        [
         "Bahrain",
         "United States",
         "65"
        ],
        [
         "United States",
         "Brazil",
         "567"
        ],
        [
         "United States",
         "Peru",
         "292"
        ],
        [
         "Vietnam",
         "United States",
         "2"
        ],
        [
         "United States",
         "United Kingdom",
         "1713"
        ],
        [
         "United States",
         "Belize",
         "108"
        ],
        [
         "Belize",
         "United States",
         "113"
        ],
        [
         "United States",
         "Ghana",
         "31"
        ],
        [
         "Mauritania",
         "United States",
         "1"
        ],
        [
         "United States",
         "Fiji",
         "26"
        ],
        [
         "United States",
         "Canada",
         "8097"
        ],
        [
         "United States",
         "French Polynesia",
         "38"
        ],
        [
         "United States",
         "Antigua and Barbuda",
         "146"
        ],
        [
         "Nicaragua",
         "United States",
         "174"
        ],
        [
         "United States",
         "Latvia",
         "14"
        ],
        [
         "United States",
         "Dominica",
         "25"
        ],
        [
         "United States",
         "Czech Republic",
         "13"
        ],
        [
         "United States",
         "Australia",
         "211"
        ],
        [
         "United States",
         "Cook Islands",
         "12"
        ],
        [
         "Austria",
         "United States",
         "34"
        ],
        [
         "Jordan",
         "United States",
         "41"
        ],
        [
         "Palau",
         "United States",
         "35"
        ],
        [
         "United States",
         "Equatorial Guinea",
         "4"
        ],
        [
         "South Korea",
         "United States",
         "819"
        ],
        [
         "Angola",
         "United States",
         "12"
        ],
        [
         "Ghana",
         "United States",
         "30"
        ],
        [
         "New Caledonia",
         "United States",
         "1"
        ],
        [
         "Guadeloupe",
         "United States",
         "36"
        ],
        [
         "France",
         "United States",
         "818"
        ],
        [
         "Poland",
         "United States",
         "38"
        ],
        [
         "Nigeria",
         "United States",
         "57"
        ],
        [
         "United States",
         "Uruguay",
         "17"
        ],
        [
         "Greenland",
         "United States",
         "1"
        ],
        [
         "Chile",
         "United States",
         "178"
        ],
        [
         "United States",
         "Bermuda",
         "194"
        ],
        [
         "United States",
         "Cuba",
         "341"
        ],
        [
         "United States",
         "Colombia",
         "806"
        ],
        [
         "United States",
         "Barbados",
         "109"
        ],
        [
         "United States",
         "Qatar",
         "56"
        ],
        [
         "Australia",
         "United States",
         "277"
        ],
        [
         "United States",
         "Cayman Islands",
         "247"
        ],
        [
         "United States",
         "Jordan",
         "43"
        ],
        [
         "United States",
         "Trinidad and Tobago",
         "213"
        ],
        [
         "United States",
         "Bolivia",
         "21"
        ],
        [
         "Uruguay",
         "United States",
         "53"
        ],
        [
         "Cook Islands",
         "United States",
         "12"
        ],
        [
         "United States",
         "Saint Kitts and Nevis",
         "124"
        ],
        [
         "Bulgaria",
         "United States",
         "6"
        ],
        [
         "United States",
         "French Guiana",
         "1"
        ],
        [
         "United States",
         "Haiti",
         "234"
        ],
        [
         "Bonaire, Sint Eustatius, and Saba",
         "United States",
         "46"
        ],
        [
         "Greece",
         "United States",
         "17"
        ],
        [
         "United States",
         "Saint Martin",
         "1"
        ],
        [
         "United States",
         "Romania",
         "12"
        ],
        [
         "United States",
         "Croatia",
         "2"
        ],
        [
         "United States",
         "Ireland",
         "291"
        ],
        [
         "United States",
         "India",
         "62"
        ],
        [
         "Egypt",
         "United States",
         "11"
        ],
        [
         "United States",
         "Grenada",
         "47"
        ],
        [
         "Costa Rica",
         "United States",
         "529"
        ],
        [
         "Senegal",
         "United States",
         "35"
        ],
        [
         "United States",
         "Sint Maarten",
         "290"
        ],
        [
         "Guyana",
         "United States",
         "52"
        ],
        [
         "United States",
         "Marshall Islands",
         "35"
        ],
        [
         "Malta",
         "United States",
         "2"
        ],
        [
         "Malawi",
         "United States",
         "1"
        ],
        [
         "Bolivia",
         "United States",
         "33"
        ],
        [
         "Anguilla",
         "United States",
         "34"
        ],
        [
         "Algeria",
         "United States",
         "9"
        ],
        [
         "United States",
         "Paraguay",
         "14"
        ],
        [
         "Gibraltar",
         "United States",
         "1"
        ],
        [
         "Turks and Caicos Islands",
         "United States",
         "193"
        ],
        [
         "Saint Vincent and the Grenadines",
         "United States",
         "1"
        ],
        [
         "United States",
         "Russia",
         "151"
        ],
        [
         "Italy",
         "United States",
         "366"
        ],
        [
         "Pakistan",
         "United States",
         "12"
        ],
        [
         "United States",
         "Federated States of Micronesia",
         "71"
        ],
        [
         "Iceland",
         "United States",
         "150"
        ],
        [
         "United States",
         "Netherlands",
         "702"
        ],
        [
         "Marshall Islands",
         "United States",
         "46"
        ],
        [
         "Luxembourg",
         "United States",
         "161"
        ],
        [
         "Honduras",
         "United States",
         "411"
        ],
        [
         "The Bahamas",
         "United States",
         "950"
        ],
        [
         "El Salvador",
         "United States",
         "572"
        ],
        [
         "United States",
         "Senegal",
         "28"
        ],
        [
         "Samoa",
         "United States",
         "24"
        ],
        [
         "United States",
         "Angola",
         "12"
        ],
        [
         "Kazakhstan",
         "United States",
         "1"
        ],
        [
         "Switzerland",
         "United States",
         "302"
        ],
        [
         "United States",
         "Anguilla",
         "35"
        ],
        [
         "Sint Maarten",
         "United States",
         "290"
        ],
        [
         "Hong Kong",
         "United States",
         "338"
        ],
        [
         "United States",
         "Congo (Brazaville)",
         "1"
        ],
        [
         "Latvia",
         "United States",
         "40"
        ],
        [
         "Trinidad and Tobago",
         "United States",
         "188"
        ],
        [
         "United States",
         "Ecuador",
         "326"
        ],
        [
         "Slovakia",
         "United States",
         "1"
        ],
        [
         "Suriname",
         "United States",
         "10"
        ],
        [
         "Mexico",
         "United States",
         "6427"
        ],
        [
         "Ecuador",
         "United States",
         "256"
        ],
        [
         "United States",
         "Portugal",
         "122"
        ],
        [
         "United States",
         "Guatemala",
         "327"
        ],
        [
         "United States",
         "Costa Rica",
         "560"
        ],
        [
         "United States",
         "Suriname",
         "27"
        ],
        [
         "Colombia",
         "United States",
         "872"
        ],
        [
         "United States",
         "Cape Verde",
         "16"
        ],
        [
         "United States",
         "Jamaica",
         "714"
        ],
        [
         "Norway",
         "United States",
         "86"
        ],
        [
         "United States",
         "Morocco",
         "15"
        ],
        [
         "Venezuela",
         "United States",
         "335"
        ],
        [
         "United States",
         "Samoa",
         "25"
        ],
        [
         "United States",
         "Palau",
         "38"
        ],
        [
         "United States",
         "Venezuela",
         "258"
        ],
        [
         "Panama",
         "United States",
         "456"
        ],
        [
         "United States",
         "Chile",
         "168"
        ],
        [
         "United States",
         "Finland",
         "19"
        ],
        [
         "Antigua and Barbuda",
         "United States",
         "115"
        ],
        [
         "Morocco",
         "United States",
         "18"
        ],
        [
         "United States",
         "Greece",
         "19"
        ],
        [
         "Azerbaijan",
         "United States",
         "7"
        ],
        [
         "United States",
         "The Bahamas",
         "991"
        ],
        [
         "New Zealand",
         "United States",
         "114"
        ],
        [
         "Liberia",
         "United States",
         "3"
        ],
        [
         "United States",
         "Hong Kong",
         "381"
        ],
        [
         "Hungary",
         "United States",
         "2"
        ],
        [
         "United States",
         "Tunisia",
         "1"
        ],
        [
         "United States",
         "China",
         "767"
        ],
        [
         "Burkina Faso",
         "United States",
         "2"
        ],
        [
         "Sweden",
         "United States",
         "94"
        ],
        [
         "United States",
         "Kuwait",
         "24"
        ],
        [
         "United States",
         "Dominican Republic",
         "1282"
        ],
        [
         "United States",
         "Egypt",
         "11"
        ],
        [
         "Israel",
         "United States",
         "108"
        ],
        [
         "United States",
         "United States",
         "358354"
        ],
        [
         "United States",
         "Luxembourg",
         "115"
        ],
        [
         "Ethiopia",
         "United States",
         "11"
        ],
        [
         "United States",
         "Poland",
         "33"
        ],
        [
         "Martinique",
         "United States",
         "31"
        ],
        [
         "United States",
         "Saint Barthelemy",
         "53"
        ],
        [
         "Saint Barthelemy",
         "United States",
         "53"
        ],
        [
         "United States",
         "Turkey",
         "92"
        ],
        [
         "Barbados",
         "United States",
         "102"
        ],
        [
         "United States",
         "Kazakhstan",
         "1"
        ],
        [
         "United States",
         "Azerbaijan",
         "5"
        ],
        [
         "Germany",
         "United States",
         "1391"
        ],
        [
         "United States",
         "South Korea",
         "754"
        ],
        [
         "United States",
         "El Salvador",
         "486"
        ],
        [
         "Ireland",
         "United States",
         "267"
        ],
        [
         "United States",
         "Hungary",
         "1"
        ],
        [
         "Malaysia",
         "United States",
         "2"
        ],
        [
         "United States",
         "Panama",
         "460"
        ],
        [
         "United States",
         "Aruba",
         "348"
        ],
        [
         "United States",
         "Ethiopia",
         "11"
        ],
        [
         "United States",
         "Turks and Caicos Islands",
         "204"
        ],
        [
         "United States",
         "Pakistan",
         "12"
        ],
        [
         "United States",
         "Honduras",
         "412"
        ],
        [
         "Fiji",
         "United States",
         "25"
        ],
        [
         "Qatar",
         "United States",
         "95"
        ],
        [
         "Saint Kitts and Nevis",
         "United States",
         "118"
        ],
        [
         "Haiti",
         "United States",
         "201"
        ],
        [
         "Taiwan",
         "United States",
         "265"
        ],
        [
         "Kuwait",
         "United States",
         "24"
        ],
        [
         "Canada",
         "United States",
         "7974"
        ],
        [
         "Federated States of Micronesia",
         "United States",
         "60"
        ],
        [
         "Jamaica",
         "United States",
         "673"
        ],
        [
         "United States",
         "Malta",
         "2"
        ],
        [
         "Dominican Republic",
         "United States",
         "1230"
        ],
        [
         "Japan",
         "United States",
         "1591"
        ],
        [
         "United States",
         "Saint Vincent and the Grenadines",
         "3"
        ],
        [
         "Finland",
         "United States",
         "18"
        ],
        [
         "United States",
         "Ukraine",
         "1"
        ],
        [
         "United States",
         "Guadeloupe",
         "47"
        ],
        [
         "United States",
         "France",
         "960"
        ],
        [
         "Aruba",
         "United States",
         "351"
        ],
        [
         "United States",
         "Norway",
         "87"
        ],
        [
         "French Guiana",
         "United States",
         "11"
        ],
        [
         "United States",
         "Kiribati",
         "27"
        ],
        [
         "India",
         "United States",
         "61"
        ],
        [
         "British Virgin Islands",
         "United States",
         "108"
        ],
        [
         "Brazil",
         "United States",
         "927"
        ],
        [
         "United States",
         "Germany",
         "1343"
        ],
        [
         "United States",
         "New Zealand",
         "77"
        ],
        [
         "United States",
         "Cambodia",
         "1"
        ],
        [
         "French Polynesia",
         "United States",
         "39"
        ],
        [
         "United Arab Emirates",
         "United States",
         "247"
        ],
        [
         "United States",
         "Mexico",
         "6490"
        ],
        [
         "Netherlands",
         "United States",
         "773"
        ],
        [
         "United States",
         "Sweden",
         "101"
        ],
        [
         "United States",
         "Martinique",
         "32"
        ],
        [
         "United States",
         "United Arab Emirates",
         "226"
        ],
        [
         "United States",
         "Bulgaria",
         "1"
        ],
        [
         "Denmark",
         "United States",
         "114"
        ],
        [
         "China",
         "United States",
         "653"
        ],
        [
         "United States",
         "Nicaragua",
         "170"
        ],
        [
         "United States",
         "Philippines",
         "116"
        ],
        [
         "United States",
         "Belgium",
         "230"
        ],
        [
         "Peru",
         "United States",
         "277"
        ],
        [
         "Argentina",
         "United States",
         "195"
        ],
        [
         "Cayman Islands",
         "United States",
         "283"
        ],
        [
         "South Africa",
         "United States",
         "32"
        ],
        [
         "United States",
         "Argentina",
         "153"
        ],
        [
         "United States",
         "Iceland",
         "177"
        ],
        [
         "Chad",
         "United States",
         "1"
        ],
        [
         "Spain",
         "United States",
         "388"
        ],
        [
         "Bermuda",
         "United States",
         "185"
        ],
        [
         "United States",
         "Nigeria",
         "43"
        ],
        [
         "United States",
         "Austria",
         "46"
        ],
        [
         "United States",
         "Bonaire, Sint Eustatius, and Saba",
         "63"
        ],
        [
         "Kiribati",
         "United States",
         "26"
        ],
        [
         "Saudi Arabia",
         "United States",
         "79"
        ],
        [
         "Czech Republic",
         "United States",
         "11"
        ],
        [
         "Macau",
         "United States",
         "3"
        ],
        [
         "Belgium",
         "United States",
         "259"
        ],
        [
         "United States",
         "Israel",
         "112"
        ],
        [
         "United States",
         "Saint Lucia",
         "109"
        ],
        [
         "United States",
         "British Virgin Islands",
         "101"
        ],
        [
         "Curacao",
         "United States",
         "74"
        ],
        [
         "United States",
         "Denmark",
         "116"
        ],
        [
         "United States",
         "Guyana",
         "55"
        ],
        [
         "Philippines",
         "United States",
         "134"
        ],
        [
         "Grenada",
         "United States",
         "43"
        ],
        [
         "Cape Verde",
         "United States",
         "24"
        ],
        [
         "Ukraine",
         "United States",
         "11"
        ],
        [
         "Russia",
         "United States",
         "213"
        ],
        [
         "United States",
         "Saudi Arabia",
         "74"
        ],
        [
         "Guatemala",
         "United States",
         "383"
        ],
        [
         "Saint Lucia",
         "United States",
         "107"
        ],
        [
         "Paraguay",
         "United States",
         "90"
        ],
        [
         "United States",
         "Curacao",
         "77"
        ],
        [
         "United States",
         "Taiwan",
         "240"
        ],
        [
         "Tunisia",
         "United States",
         "2"
        ],
        [
         "United States",
         "South Africa",
         "32"
        ],
        [
         "Turkey",
         "United States",
         "91"
        ],
        [
         "United Kingdom",
         "United States",
         "1912"
        ],
        [
         "Romania",
         "United States",
         "11"
        ],
        [
         "United States",
         "Greenland",
         "1"
        ],
        [
         "United States",
         "Spain",
         "424"
        ],
        [
         "Cuba",
         "United States",
         "417"
        ],
        [
         "United States",
         "Italy",
         "385"
        ],
        [
         "United States",
         "Switzerland",
         "300"
        ],
        [
         "Dominica",
         "United States",
         "25"
        ],
        [
         "United States",
         "Japan",
         "1501"
        ],
        [
         "Portugal",
         "United States",
         "124"
        ],
        [
         "United States",
         "Brazil",
         "578"
        ],
        [
         "Bahrain",
         "United States",
         "41"
        ],
        [
         "United States",
         "Peru",
         "315"
        ],
        [
         "Indonesia",
         "United States",
         "1"
        ],
        [
         "United States",
         "United Kingdom",
         "1812"
        ],
        [
         "United States",
         "Belize",
         "143"
        ],
        [
         "Belize",
         "United States",
         "142"
        ],
        [
         "United States",
         "Ghana",
         "15"
        ],
        [
         "Mauritania",
         "United States",
         "1"
        ],
        [
         "United States",
         "Indonesia",
         "1"
        ],
        [
         "United States",
         "Fiji",
         "27"
        ],
        [
         "United States",
         "Canada",
         "8177"
        ],
        [
         "United States",
         "Antigua and Barbuda",
         "112"
        ],
        [
         "United States",
         "French Polynesia",
         "40"
        ],
        [
         "Nicaragua",
         "United States",
         "168"
        ],
        [
         "United States",
         "Latvia",
         "13"
        ],
        [
         "United States",
         "Dominica",
         "36"
        ],
        [
         "United States",
         "Czech Republic",
         "11"
        ],
        [
         "United States",
         "Cook Islands",
         "12"
        ],
        [
         "United States",
         "Australia",
         "235"
        ],
        [
         "Austria",
         "United States",
         "47"
        ],
        [
         "Jordan",
         "United States",
         "65"
        ],
        [
         "Palau",
         "United States",
         "38"
        ],
        [
         "South Korea",
         "United States",
         "968"
        ],
        [
         "Angola",
         "United States",
         "13"
        ],
        [
         "Ghana",
         "United States",
         "13"
        ],
        [
         "Guadeloupe",
         "United States",
         "43"
        ],
        [
         "France",
         "United States",
         "966"
        ],
        [
         "Poland",
         "United States",
         "35"
        ],
        [
         "Nigeria",
         "United States",
         "49"
        ],
        [
         "United States",
         "Uruguay",
         "18"
        ],
        [
         "Greenland",
         "United States",
         "2"
        ],
        [
         "Chile",
         "United States",
         "156"
        ],
        [
         "United States",
         "Bermuda",
         "190"
        ],
        [
         "United States",
         "Cuba",
         "419"
        ],
        [
         "United States",
         "Qatar",
         "96"
        ],
        [
         "United States",
         "Colombia",
         "888"
        ],
        [
         "United States",
         "Barbados",
         "89"
        ],
        [
         "Australia",
         "United States",
         "293"
        ],
        [
         "United States",
         "Cayman Islands",
         "278"
        ],
        [
         "United States",
         "Jordan",
         "64"
        ],
        [
         "United States",
         "Trinidad and Tobago",
         "175"
        ],
        [
         "United States",
         "Bolivia",
         "14"
        ],
        [
         "Uruguay",
         "United States",
         "60"
        ],
        [
         "Cook Islands",
         "United States",
         "12"
        ],
        [
         "United States",
         "French Guiana",
         "4"
        ],
        [
         "United States",
         "Saint Kitts and Nevis",
         "123"
        ],
        [
         "United States",
         "Haiti",
         "193"
        ],
        [
         "Bonaire, Sint Eustatius, and Saba",
         "United States",
         "62"
        ],
        [
         "Greece",
         "United States",
         "20"
        ]
       ],
       "datasetInfos": [],
       "dbfsResultPath": null,
       "isJsonSchema": true,
       "metadata": {
        "dataframeName": "_sqldf",
        "executionCount": 1
       },
       "overflow": false,
       "plotOptions": {
        "customPlotOptions": {},
        "displayType": "table",
        "pivotAggregation": null,
        "pivotColumns": null,
        "xColumns": null,
        "yColumns": null
       },
       "removedWidgets": [],
       "schema": [
        {
         "metadata": "{}",
         "name": "DEST_COUNTRY_NAME",
         "type": "\"string\""
        },
        {
         "metadata": "{}",
         "name": "ORIGIN_COUNTRY_NAME",
         "type": "\"string\""
        },
        {
         "metadata": "{}",
         "name": "count",
         "type": "\"string\""
        }
       ],
       "type": "table"
      }
     },
     "output_type": "display_data"
    }
   ],
   "source": [
    "%sql\n",
    "SELECT * FROM all_files;"
   ]
  },
  {
   "cell_type": "code",
   "execution_count": 0,
   "metadata": {
    "application/vnd.databricks.v1+cell": {
     "cellMetadata": {
      "byteLimit": 2048000,
      "implicitDf": true,
      "rowLimit": 10000
     },
     "inputWidgets": {},
     "nuid": "29d18ff9-17fd-4d09-aed1-1c059c0bc990",
     "showTitle": false,
     "title": ""
    }
   },
   "outputs": [
    {
     "output_type": "display_data",
     "data": {
      "text/html": [
       "<style scoped>\n",
       "  .table-result-container {\n",
       "    max-height: 300px;\n",
       "    overflow: auto;\n",
       "  }\n",
       "  table, th, td {\n",
       "    border: 1px solid black;\n",
       "    border-collapse: collapse;\n",
       "  }\n",
       "  th, td {\n",
       "    padding: 5px;\n",
       "  }\n",
       "  th {\n",
       "    text-align: left;\n",
       "  }\n",
       "</style><div class='table-result-container'><table class='table-result'><thead style='background-color: white'><tr><th>count(1)</th></tr></thead><tbody><tr><td>2270</td></tr></tbody></table></div>"
      ]
     },
     "metadata": {
      "application/vnd.databricks.v1+output": {
       "addedWidgets": {},
       "aggData": [],
       "aggError": "",
       "aggOverflow": false,
       "aggSchema": [],
       "aggSeriesLimitReached": false,
       "aggType": "",
       "arguments": {},
       "columnCustomDisplayInfos": {},
       "data": [
        [
         2270
        ]
       ],
       "datasetInfos": [],
       "dbfsResultPath": null,
       "isJsonSchema": true,
       "metadata": {
        "dataframeName": "_sqldf",
        "executionCount": 2
       },
       "overflow": false,
       "plotOptions": {
        "customPlotOptions": {},
        "displayType": "table",
        "pivotAggregation": null,
        "pivotColumns": null,
        "xColumns": null,
        "yColumns": null
       },
       "removedWidgets": [],
       "schema": [
        {
         "metadata": "{\"__autoGeneratedAlias\":\"true\"}",
         "name": "count(1)",
         "type": "\"long\""
        }
       ],
       "type": "table"
      }
     },
     "output_type": "display_data"
    }
   ],
   "source": [
    "%sql\n",
    "SELECT COUNT(*) FROM all_files;"
   ]
  },
  {
   "cell_type": "code",
   "execution_count": 0,
   "metadata": {
    "application/vnd.databricks.v1+cell": {
     "cellMetadata": {
      "byteLimit": 2048000,
      "implicitDf": true,
      "rowLimit": 10000
     },
     "inputWidgets": {},
     "nuid": "b216edfc-a328-49fd-ad1f-b230eec77055",
     "showTitle": false,
     "title": ""
    }
   },
   "outputs": [
    {
     "output_type": "display_data",
     "data": {
      "text/html": [
       "<style scoped>\n",
       "  .table-result-container {\n",
       "    max-height: 300px;\n",
       "    overflow: auto;\n",
       "  }\n",
       "  table, th, td {\n",
       "    border: 1px solid black;\n",
       "    border-collapse: collapse;\n",
       "  }\n",
       "  th, td {\n",
       "    padding: 5px;\n",
       "  }\n",
       "  th {\n",
       "    text-align: left;\n",
       "  }\n",
       "</style><div class='table-result-container'><table class='table-result'><thead style='background-color: white'><tr><th>DEST_COUNTRY_NAME</th><th>quantidade_paises</th></tr></thead><tbody><tr><td>Afghanistan</td><td>8.0</td></tr><tr><td>Algeria</td><td>4.5</td></tr><tr><td>Angola</td><td>13.777777777777779</td></tr><tr><td>Anguilla</td><td>31.22222222222222</td></tr><tr><td>Antigua and Barbuda</td><td>128.44444444444446</td></tr><tr><td>Argentina</td><td>185.11111111111111</td></tr><tr><td>Aruba</td><td>349.1111111111111</td></tr><tr><td>Australia</td><td>305.6666666666667</td></tr><tr><td>Austria</td><td>48.22222222222222</td></tr><tr><td>Azerbaijan</td><td>13.571428571428571</td></tr><tr><td>Bahrain</td><td>33.55555555555556</td></tr><tr><td>Barbados</td><td>132.77777777777777</td></tr><tr><td>Belarus</td><td>1.0</td></tr><tr><td>Belgium</td><td>299.55555555555554</td></tr><tr><td>Belize</td><td>153.11111111111111</td></tr><tr><td>Bermuda</td><td>182.66666666666666</td></tr><tr><td>Bolivia</td><td>36.44444444444444</td></tr><tr><td>Bonaire, Sint Eustatius, and Saba</td><td>51.0</td></tr><tr><td>Brazil</td><td>910.4444444444445</td></tr><tr><td>British Virgin Islands</td><td>93.55555555555556</td></tr><tr><td>Brunei</td><td>1.0</td></tr><tr><td>Bulgaria</td><td>3.2857142857142856</td></tr><tr><td>Burkina Faso</td><td>1.2</td></tr><tr><td>Burundi</td><td>1.0</td></tr><tr><td>Cameroon</td><td>1.0</td></tr><tr><td>Canada</td><td>8249.888888888889</td></tr><tr><td>Cape Verde</td><td>19.444444444444443</td></tr><tr><td>Cayman Islands</td><td>285.44444444444446</td></tr><tr><td>Chad</td><td>1.0</td></tr><tr><td>Chile</td><td>169.0</td></tr><tr><td>China</td><td>638.3333333333334</td></tr><tr><td>Colombia</td><td>823.6666666666666</td></tr><tr><td>Cook Islands</td><td>12.555555555555555</td></tr><tr><td>Costa Rica</td><td>542.5555555555555</td></tr><tr><td>Cote d'Ivoire</td><td>1.0</td></tr><tr><td>Croatia</td><td>1.8333333333333333</td></tr><tr><td>Cuba</td><td>391.22222222222223</td></tr><tr><td>Curacao</td><td>84.88888888888889</td></tr><tr><td>Cyprus</td><td>1.3333333333333333</td></tr><tr><td>Czech Republic</td><td>14.666666666666666</td></tr><tr><td>Denmark</td><td>122.88888888888889</td></tr><tr><td>Djibouti</td><td>1.0</td></tr><tr><td>Dominica</td><td>22.555555555555557</td></tr><tr><td>Dominican Republic</td><td>1213.0</td></tr><tr><td>Ecuador</td><td>263.44444444444446</td></tr><tr><td>Egypt</td><td>14.88888888888889</td></tr><tr><td>El Salvador</td><td>546.6666666666666</td></tr><tr><td>Equatorial Guinea</td><td>1.0</td></tr><tr><td>Ethiopia</td><td>12.333333333333334</td></tr><tr><td>Federated States of Micronesia</td><td>59.666666666666664</td></tr><tr><td>Fiji</td><td>31.666666666666668</td></tr><tr><td>Finland</td><td>24.22222222222222</td></tr><tr><td>France</td><td>890.1111111111111</td></tr><tr><td>French Guiana</td><td>7.111111111111111</td></tr><tr><td>French Polynesia</td><td>40.77777777777778</td></tr><tr><td>Georgia</td><td>1.8571428571428572</td></tr><tr><td>Germany</td><td>1433.888888888889</td></tr><tr><td>Ghana</td><td>21.88888888888889</td></tr><tr><td>Gibraltar</td><td>1.0</td></tr><tr><td>Greece</td><td>28.555555555555557</td></tr><tr><td>Greenland</td><td>1.6666666666666667</td></tr><tr><td>Grenada</td><td>53.333333333333336</td></tr><tr><td>Guadeloupe</td><td>46.333333333333336</td></tr><tr><td>Guatemala</td><td>394.77777777777777</td></tr><tr><td>Guinea</td><td>5.0</td></tr><tr><td>Guyana</td><td>50.0</td></tr><tr><td>Haiti</td><td>217.11111111111111</td></tr><tr><td>Honduras</td><td>385.77777777777777</td></tr><tr><td>Hong Kong</td><td>308.6666666666667</td></tr><tr><td>Hungary</td><td>4.444444444444445</td></tr><tr><td>Iceland</td><td>154.22222222222223</td></tr><tr><td>India</td><td>62.888888888888886</td></tr><tr><td>Indonesia</td><td>1.0</td></tr><tr><td>Iraq</td><td>1.0</td></tr><tr><td>Ireland</td><td>288.6666666666667</td></tr><tr><td>Israel</td><td>124.22222222222223</td></tr><tr><td>Italy</td><td>380.0</td></tr><tr><td>Jamaica</td><td>660.3333333333334</td></tr><tr><td>Japan</td><td>1538.7777777777778</td></tr><tr><td>Jordan</td><td>49.77777777777778</td></tr><tr><td>Kazakhstan</td><td>1.75</td></tr><tr><td>Kenya</td><td>1.0</td></tr><tr><td>Kiribati</td><td>25.555555555555557</td></tr><tr><td>Kosovo</td><td>1.0</td></tr><tr><td>Kuwait</td><td>28.333333333333332</td></tr><tr><td>Kyrgyzstan</td><td>1.3333333333333333</td></tr><tr><td>Latvia</td><td>20.22222222222222</td></tr><tr><td>Lebanon</td><td>1.0</td></tr><tr><td>Liberia</td><td>2.0</td></tr><tr><td>Libya</td><td>1.0</td></tr><tr><td>Lithuania</td><td>1.0</td></tr><tr><td>Luxembourg</td><td>140.33333333333334</td></tr><tr><td>Macau</td><td>2.0</td></tr><tr><td>Malawi</td><td>1.0</td></tr><tr><td>Malaysia</td><td>1.875</td></tr><tr><td>Malta</td><td>1.1428571428571428</td></tr><tr><td>Marshall Islands</td><td>53.55555555555556</td></tr><tr><td>Martinique</td><td>32.55555555555556</td></tr><tr><td>Mauritania</td><td>1.0</td></tr><tr><td>Mexico</td><td>6610.555555555556</td></tr><tr><td>Moldova</td><td>1.0</td></tr><tr><td>Morocco</td><td>16.22222222222222</td></tr><tr><td>Namibia</td><td>1.0</td></tr><tr><td>Nepal</td><td>1.0</td></tr><tr><td>Netherlands</td><td>708.6666666666666</td></tr><tr><td>Netherlands Antilles</td><td>286.0</td></tr><tr><td>New Caledonia</td><td>1.0</td></tr><tr><td>New Zealand</td><td>105.11111111111111</td></tr><tr><td>Nicaragua</td><td>177.11111111111111</td></tr><tr><td>Niger</td><td>1.8</td></tr><tr><td>Nigeria</td><td>49.666666666666664</td></tr><tr><td>Norway</td><td>78.11111111111111</td></tr><tr><td>Oman</td><td>1.0</td></tr><tr><td>Pakistan</td><td>11.88888888888889</td></tr><tr><td>Palau</td><td>33.333333333333336</td></tr><tr><td>Panama</td><td>451.1111111111111</td></tr><tr><td>Papua New Guinea</td><td>2.8</td></tr><tr><td>Paraguay</td><td>73.88888888888889</td></tr><tr><td>Peru</td><td>261.6666666666667</td></tr><tr><td>Philippines</td><td>133.44444444444446</td></tr><tr><td>Poland</td><td>38.0</td></tr><tr><td>Portugal</td><td>117.44444444444444</td></tr><tr><td>Qatar</td><td>82.55555555555556</td></tr><tr><td>Romania</td><td>12.142857142857142</td></tr><tr><td>Russia</td><td>182.77777777777777</td></tr><tr><td>Rwanda</td><td>1.0</td></tr><tr><td>Saint Barthelemy</td><td>43.44444444444444</td></tr><tr><td>Saint Helena, Ascension, and Tristan da Cunha</td><td>1.0</td></tr><tr><td>Saint Kitts and Nevis</td><td>122.22222222222223</td></tr><tr><td>Saint Lucia</td><td>109.88888888888889</td></tr><tr><td>Saint Martin</td><td>1.0</td></tr><tr><td>Saint Vincent and the Grenadines</td><td>2.4444444444444446</td></tr><tr><td>Samoa</td><td>25.22222222222222</td></tr><tr><td>Saudi Arabia</td><td>77.11111111111111</td></tr><tr><td>Senegal</td><td>34.666666666666664</td></tr><tr><td>Sierra Leone</td><td>1.0</td></tr><tr><td>Singapore</td><td>13.875</td></tr><tr><td>Sint Maarten</td><td>267.22222222222223</td></tr><tr><td>Slovakia</td><td>1.0</td></tr><tr><td>Solomon Islands</td><td>2.0</td></tr><tr><td>South Africa</td><td>30.333333333333332</td></tr><tr><td>South Korea</td><td>913.0</td></tr><tr><td>Spain</td><td>410.55555555555554</td></tr><tr><td>Suriname</td><td>7.333333333333333</td></tr><tr><td>Sweden</td><td>90.0</td></tr><tr><td>Switzerland</td><td>297.77777777777777</td></tr><tr><td>Taiwan</td><td>258.22222222222223</td></tr><tr><td>Tanzania</td><td>2.0</td></tr><tr><td>Thailand</td><td>6.0</td></tr><tr><td>The Bahamas</td><td>924.8888888888889</td></tr><tr><td>The Gambia</td><td>1.5</td></tr><tr><td>Togo</td><td>1.0</td></tr><tr><td>Trinidad and Tobago</td><td>202.55555555555554</td></tr><tr><td>Tunisia</td><td>2.6666666666666665</td></tr><tr><td>Turkey</td><td>112.77777777777777</td></tr><tr><td>Turks and Caicos Islands</td><td>197.33333333333334</td></tr><tr><td>Uganda</td><td>2.0</td></tr><tr><td>Ukraine</td><td>13.222222222222221</td></tr><tr><td>United Arab Emirates</td><td>248.77777777777777</td></tr><tr><td>United Kingdom</td><td>1891.2222222222222</td></tr><tr><td>United States</td><td>3224.4248424842485</td></tr><tr><td>Uruguay</td><td>49.55555555555556</td></tr><tr><td>Venezuela</td><td>331.55555555555554</td></tr><tr><td>Vietnam</td><td>1.3333333333333333</td></tr><tr><td>Yemen</td><td>1.0</td></tr><tr><td>Zambia</td><td>1.0</td></tr><tr><td>Zimbabwe</td><td>2.0</td></tr></tbody></table></div>"
      ]
     },
     "metadata": {
      "application/vnd.databricks.v1+output": {
       "addedWidgets": {},
       "aggData": [],
       "aggError": "",
       "aggOverflow": false,
       "aggSchema": [],
       "aggSeriesLimitReached": false,
       "aggType": "",
       "arguments": {},
       "columnCustomDisplayInfos": {},
       "data": [
        [
         "Afghanistan",
         8.0
        ],
        [
         "Algeria",
         4.5
        ],
        [
         "Angola",
         13.777777777777779
        ],
        [
         "Anguilla",
         31.22222222222222
        ],
        [
         "Antigua and Barbuda",
         128.44444444444446
        ],
        [
         "Argentina",
         185.11111111111111
        ],
        [
         "Aruba",
         349.1111111111111
        ],
        [
         "Australia",
         305.6666666666667
        ],
        [
         "Austria",
         48.22222222222222
        ],
        [
         "Azerbaijan",
         13.571428571428571
        ],
        [
         "Bahrain",
         33.55555555555556
        ],
        [
         "Barbados",
         132.77777777777777
        ],
        [
         "Belarus",
         1.0
        ],
        [
         "Belgium",
         299.55555555555554
        ],
        [
         "Belize",
         153.11111111111111
        ],
        [
         "Bermuda",
         182.66666666666666
        ],
        [
         "Bolivia",
         36.44444444444444
        ],
        [
         "Bonaire, Sint Eustatius, and Saba",
         51.0
        ],
        [
         "Brazil",
         910.4444444444445
        ],
        [
         "British Virgin Islands",
         93.55555555555556
        ],
        [
         "Brunei",
         1.0
        ],
        [
         "Bulgaria",
         3.2857142857142856
        ],
        [
         "Burkina Faso",
         1.2
        ],
        [
         "Burundi",
         1.0
        ],
        [
         "Cameroon",
         1.0
        ],
        [
         "Canada",
         8249.888888888889
        ],
        [
         "Cape Verde",
         19.444444444444443
        ],
        [
         "Cayman Islands",
         285.44444444444446
        ],
        [
         "Chad",
         1.0
        ],
        [
         "Chile",
         169.0
        ],
        [
         "China",
         638.3333333333334
        ],
        [
         "Colombia",
         823.6666666666666
        ],
        [
         "Cook Islands",
         12.555555555555555
        ],
        [
         "Costa Rica",
         542.5555555555555
        ],
        [
         "Cote d'Ivoire",
         1.0
        ],
        [
         "Croatia",
         1.8333333333333333
        ],
        [
         "Cuba",
         391.22222222222223
        ],
        [
         "Curacao",
         84.88888888888889
        ],
        [
         "Cyprus",
         1.3333333333333333
        ],
        [
         "Czech Republic",
         14.666666666666666
        ],
        [
         "Denmark",
         122.88888888888889
        ],
        [
         "Djibouti",
         1.0
        ],
        [
         "Dominica",
         22.555555555555557
        ],
        [
         "Dominican Republic",
         1213.0
        ],
        [
         "Ecuador",
         263.44444444444446
        ],
        [
         "Egypt",
         14.88888888888889
        ],
        [
         "El Salvador",
         546.6666666666666
        ],
        [
         "Equatorial Guinea",
         1.0
        ],
        [
         "Ethiopia",
         12.333333333333334
        ],
        [
         "Federated States of Micronesia",
         59.666666666666664
        ],
        [
         "Fiji",
         31.666666666666668
        ],
        [
         "Finland",
         24.22222222222222
        ],
        [
         "France",
         890.1111111111111
        ],
        [
         "French Guiana",
         7.111111111111111
        ],
        [
         "French Polynesia",
         40.77777777777778
        ],
        [
         "Georgia",
         1.8571428571428572
        ],
        [
         "Germany",
         1433.888888888889
        ],
        [
         "Ghana",
         21.88888888888889
        ],
        [
         "Gibraltar",
         1.0
        ],
        [
         "Greece",
         28.555555555555557
        ],
        [
         "Greenland",
         1.6666666666666667
        ],
        [
         "Grenada",
         53.333333333333336
        ],
        [
         "Guadeloupe",
         46.333333333333336
        ],
        [
         "Guatemala",
         394.77777777777777
        ],
        [
         "Guinea",
         5.0
        ],
        [
         "Guyana",
         50.0
        ],
        [
         "Haiti",
         217.11111111111111
        ],
        [
         "Honduras",
         385.77777777777777
        ],
        [
         "Hong Kong",
         308.6666666666667
        ],
        [
         "Hungary",
         4.444444444444445
        ],
        [
         "Iceland",
         154.22222222222223
        ],
        [
         "India",
         62.888888888888886
        ],
        [
         "Indonesia",
         1.0
        ],
        [
         "Iraq",
         1.0
        ],
        [
         "Ireland",
         288.6666666666667
        ],
        [
         "Israel",
         124.22222222222223
        ],
        [
         "Italy",
         380.0
        ],
        [
         "Jamaica",
         660.3333333333334
        ],
        [
         "Japan",
         1538.7777777777778
        ],
        [
         "Jordan",
         49.77777777777778
        ],
        [
         "Kazakhstan",
         1.75
        ],
        [
         "Kenya",
         1.0
        ],
        [
         "Kiribati",
         25.555555555555557
        ],
        [
         "Kosovo",
         1.0
        ],
        [
         "Kuwait",
         28.333333333333332
        ],
        [
         "Kyrgyzstan",
         1.3333333333333333
        ],
        [
         "Latvia",
         20.22222222222222
        ],
        [
         "Lebanon",
         1.0
        ],
        [
         "Liberia",
         2.0
        ],
        [
         "Libya",
         1.0
        ],
        [
         "Lithuania",
         1.0
        ],
        [
         "Luxembourg",
         140.33333333333334
        ],
        [
         "Macau",
         2.0
        ],
        [
         "Malawi",
         1.0
        ],
        [
         "Malaysia",
         1.875
        ],
        [
         "Malta",
         1.1428571428571428
        ],
        [
         "Marshall Islands",
         53.55555555555556
        ],
        [
         "Martinique",
         32.55555555555556
        ],
        [
         "Mauritania",
         1.0
        ],
        [
         "Mexico",
         6610.555555555556
        ],
        [
         "Moldova",
         1.0
        ],
        [
         "Morocco",
         16.22222222222222
        ],
        [
         "Namibia",
         1.0
        ],
        [
         "Nepal",
         1.0
        ],
        [
         "Netherlands",
         708.6666666666666
        ],
        [
         "Netherlands Antilles",
         286.0
        ],
        [
         "New Caledonia",
         1.0
        ],
        [
         "New Zealand",
         105.11111111111111
        ],
        [
         "Nicaragua",
         177.11111111111111
        ],
        [
         "Niger",
         1.8
        ],
        [
         "Nigeria",
         49.666666666666664
        ],
        [
         "Norway",
         78.11111111111111
        ],
        [
         "Oman",
         1.0
        ],
        [
         "Pakistan",
         11.88888888888889
        ],
        [
         "Palau",
         33.333333333333336
        ],
        [
         "Panama",
         451.1111111111111
        ],
        [
         "Papua New Guinea",
         2.8
        ],
        [
         "Paraguay",
         73.88888888888889
        ],
        [
         "Peru",
         261.6666666666667
        ],
        [
         "Philippines",
         133.44444444444446
        ],
        [
         "Poland",
         38.0
        ],
        [
         "Portugal",
         117.44444444444444
        ],
        [
         "Qatar",
         82.55555555555556
        ],
        [
         "Romania",
         12.142857142857142
        ],
        [
         "Russia",
         182.77777777777777
        ],
        [
         "Rwanda",
         1.0
        ],
        [
         "Saint Barthelemy",
         43.44444444444444
        ],
        [
         "Saint Helena, Ascension, and Tristan da Cunha",
         1.0
        ],
        [
         "Saint Kitts and Nevis",
         122.22222222222223
        ],
        [
         "Saint Lucia",
         109.88888888888889
        ],
        [
         "Saint Martin",
         1.0
        ],
        [
         "Saint Vincent and the Grenadines",
         2.4444444444444446
        ],
        [
         "Samoa",
         25.22222222222222
        ],
        [
         "Saudi Arabia",
         77.11111111111111
        ],
        [
         "Senegal",
         34.666666666666664
        ],
        [
         "Sierra Leone",
         1.0
        ],
        [
         "Singapore",
         13.875
        ],
        [
         "Sint Maarten",
         267.22222222222223
        ],
        [
         "Slovakia",
         1.0
        ],
        [
         "Solomon Islands",
         2.0
        ],
        [
         "South Africa",
         30.333333333333332
        ],
        [
         "South Korea",
         913.0
        ],
        [
         "Spain",
         410.55555555555554
        ],
        [
         "Suriname",
         7.333333333333333
        ],
        [
         "Sweden",
         90.0
        ],
        [
         "Switzerland",
         297.77777777777777
        ],
        [
         "Taiwan",
         258.22222222222223
        ],
        [
         "Tanzania",
         2.0
        ],
        [
         "Thailand",
         6.0
        ],
        [
         "The Bahamas",
         924.8888888888889
        ],
        [
         "The Gambia",
         1.5
        ],
        [
         "Togo",
         1.0
        ],
        [
         "Trinidad and Tobago",
         202.55555555555554
        ],
        [
         "Tunisia",
         2.6666666666666665
        ],
        [
         "Turkey",
         112.77777777777777
        ],
        [
         "Turks and Caicos Islands",
         197.33333333333334
        ],
        [
         "Uganda",
         2.0
        ],
        [
         "Ukraine",
         13.222222222222221
        ],
        [
         "United Arab Emirates",
         248.77777777777777
        ],
        [
         "United Kingdom",
         1891.2222222222222
        ],
        [
         "United States",
         3224.4248424842485
        ],
        [
         "Uruguay",
         49.55555555555556
        ],
        [
         "Venezuela",
         331.55555555555554
        ],
        [
         "Vietnam",
         1.3333333333333333
        ],
        [
         "Yemen",
         1.0
        ],
        [
         "Zambia",
         1.0
        ],
        [
         "Zimbabwe",
         2.0
        ]
       ],
       "datasetInfos": [],
       "dbfsResultPath": null,
       "isJsonSchema": true,
       "metadata": {
        "dataframeName": "_sqldf",
        "executionCount": 4
       },
       "overflow": false,
       "plotOptions": {
        "customPlotOptions": {},
        "displayType": "table",
        "pivotAggregation": null,
        "pivotColumns": null,
        "xColumns": null,
        "yColumns": null
       },
       "removedWidgets": [],
       "schema": [
        {
         "metadata": "{}",
         "name": "DEST_COUNTRY_NAME",
         "type": "\"string\""
        },
        {
         "metadata": "{}",
         "name": "quantidade_paises",
         "type": "\"double\""
        }
       ],
       "type": "table"
      }
     },
     "output_type": "display_data"
    },
    {
     "output_type": "display_data",
     "data": {
      "text/plain": [
       "Databricks visualization. Run in Databricks to view."
      ]
     },
     "metadata": {
      "application/vnd.databricks.v1.subcommand+json": {
       "baseErrorDetails": null,
       "bindings": {},
       "collapsed": false,
       "command": "%sql\nSELECT DEST_COUNTRY_NAME, avg(count) AS quantidade_paises\nFROM all_files\nGROUP BY DEST_COUNTRY_NAME\nORDER BY DEST_COUNTRY_NAME;",
       "commandTitle": "Visualization 1",
       "commandType": "auto",
       "commandVersion": 0,
       "commentThread": [],
       "commentsVisible": false,
       "contentSha256Hex": null,
       "customPlotOptions": {
        "plotlyBar": [
         {
          "key": "grouped",
          "value": true
         },
         {
          "key": "stacked",
          "value": false
         },
         {
          "key": "100_stacked",
          "value": false
         }
        ]
       },
       "datasetPreviewNameToCmdIdMap": {},
       "diffDeletes": [],
       "diffInserts": [],
       "displayType": "plotlyBar",
       "error": null,
       "errorDetails": null,
       "errorSummary": null,
       "errorTraceType": null,
       "finishTime": 0,
       "globalVars": {},
       "guid": "",
       "height": "auto",
       "hideCommandCode": false,
       "hideCommandResult": false,
       "iPythonMetadata": null,
       "inputWidgets": {},
       "isLockedInExamMode": false,
       "latestUser": "a user",
       "latestUserId": null,
       "listResultMetadata": null,
       "metadata": {},
       "nuid": "ee82b884-0f6b-4310-b964-7769c54bdc7c",
       "origId": 0,
       "parentHierarchy": [],
       "pivotAggregation": "sum",
       "pivotColumns": [],
       "position": 6.0,
       "resultDbfsErrorMessage": null,
       "resultDbfsStatus": "INLINED_IN_TREE",
       "results": null,
       "showCommandTitle": false,
       "startTime": 0,
       "state": "input",
       "streamStates": {},
       "subcommandOptions": null,
       "submitTime": 0,
       "subtype": "tableResultSubCmd.visualization",
       "tableResultIndex": 0,
       "useConsistentColors": false,
       "version": "CommandV1",
       "width": "auto",
       "workflows": [],
       "xColumns": [
        "DEST_COUNTRY_NAME"
       ],
       "yColumns": [
        "quantidade_paises"
       ]
      }
     },
     "output_type": "display_data"
    },
    {
     "output_type": "display_data",
     "data": {
      "text/plain": [
       "Databricks visualization. Run in Databricks to view."
      ]
     },
     "metadata": {
      "application/vnd.databricks.v1.subcommand+json": {
       "baseErrorDetails": null,
       "bindings": {},
       "collapsed": false,
       "command": "%sql WITH q AS (SELECT DEST_COUNTRY_NAME, avg(count) AS quantidade_paises\nFROM all_files\nGROUP BY DEST_COUNTRY_NAME\nORDER BY DEST_COUNTRY_NAME) SELECT `DEST_COUNTRY_NAME`,SUM(`quantidade_paises`) `column_baed57d015` FROM q GROUP BY `DEST_COUNTRY_NAME`",
       "commandTitle": "Visualization 2",
       "commandType": "auto",
       "commandVersion": 0,
       "commentThread": [],
       "commentsVisible": false,
       "contentSha256Hex": null,
       "customPlotOptions": {
        "redashChart": [
         {
          "key": "type",
          "value": "CHART"
         },
         {
          "key": "options",
          "value": {
           "alignYAxesAtZero": true,
           "coefficient": 1,
           "columnConfigurationMap": {
            "x": {
             "column": "DEST_COUNTRY_NAME",
             "id": "column_baed57d08"
            },
            "y": [
             {
              "column": "quantidade_paises",
              "id": "column_baed57d015",
              "transform": "SUM"
             }
            ]
           },
           "dateTimeFormat": "DD/MM/YYYY HH:mm",
           "direction": {
            "type": "counterclockwise"
           },
           "error_y": {
            "type": "data",
            "visible": true
           },
           "globalSeriesType": "pie",
           "isAggregationOn": true,
           "legend": {
            "traceorder": "normal"
           },
           "missingValuesAsZero": true,
           "numBins": 10,
           "numberFormat": "0,0.[00000]",
           "percentFormat": "0[.]00%",
           "series": {
            "error_y": {
             "type": "data",
             "visible": true
            },
            "stacking": null
           },
           "seriesOptions": {
            "column_baed57d012": {
             "type": "pie",
             "yAxis": 0
            },
            "column_baed57d015": {
             "type": "pie",
             "yAxis": 0
            }
           },
           "showDataLabels": true,
           "sizemode": "diameter",
           "sortX": true,
           "sortY": true,
           "swappedAxes": false,
           "textFormat": "",
           "useAggregationsUi": true,
           "valuesOptions": {},
           "version": 2,
           "xAxis": {
            "labels": {
             "enabled": true
            },
            "type": "-"
           },
           "yAxis": [
            {
             "type": "-"
            },
            {
             "opposite": true,
             "type": "-"
            }
           ]
          }
         }
        ]
       },
       "datasetPreviewNameToCmdIdMap": {},
       "diffDeletes": [],
       "diffInserts": [],
       "displayType": "redashChart",
       "error": null,
       "errorDetails": null,
       "errorSummary": null,
       "errorTraceType": null,
       "finishTime": 0,
       "globalVars": {},
       "guid": "",
       "height": "auto",
       "hideCommandCode": false,
       "hideCommandResult": false,
       "iPythonMetadata": null,
       "inputWidgets": {},
       "isLockedInExamMode": false,
       "latestUser": "a user",
       "latestUserId": null,
       "listResultMetadata": null,
       "metadata": {},
       "nuid": "cb7e2e48-36e6-4d53-9b15-35960a05e6c1",
       "origId": 0,
       "parentHierarchy": [],
       "pivotAggregation": null,
       "pivotColumns": null,
       "position": 7.0,
       "resultDbfsErrorMessage": null,
       "resultDbfsStatus": "INLINED_IN_TREE",
       "results": null,
       "showCommandTitle": false,
       "startTime": 0,
       "state": "input",
       "streamStates": {},
       "subcommandOptions": {
        "queryPlan": {
         "groups": [
          {
           "column": "DEST_COUNTRY_NAME",
           "type": "column"
          }
         ],
         "selects": [
          {
           "column": "DEST_COUNTRY_NAME",
           "type": "column"
          },
          {
           "alias": "column_baed57d015",
           "args": [
            {
             "column": "quantidade_paises",
             "type": "column"
            }
           ],
           "function": "SUM",
           "type": "function"
          }
         ]
        }
       },
       "submitTime": 0,
       "subtype": "tableResultSubCmd.visualization",
       "tableResultIndex": 0,
       "useConsistentColors": false,
       "version": "CommandV1",
       "width": "auto",
       "workflows": [],
       "xColumns": null,
       "yColumns": null
      }
     },
     "output_type": "display_data"
    },
    {
     "output_type": "display_data",
     "data": {
      "text/plain": [
       "Databricks visualization. Run in Databricks to view."
      ]
     },
     "metadata": {
      "application/vnd.databricks.v1.subcommand+json": {
       "baseErrorDetails": null,
       "bindings": {},
       "collapsed": false,
       "command": "%sql WITH q AS (SELECT DEST_COUNTRY_NAME, avg(count) AS quantidade_paises\nFROM all_files\nGROUP BY DEST_COUNTRY_NAME\nORDER BY DEST_COUNTRY_NAME) SELECT `DEST_COUNTRY_NAME`,SUM(`quantidade_paises`) `column_baed57d019` FROM q GROUP BY `DEST_COUNTRY_NAME`",
       "commandTitle": "Visualization 3",
       "commandType": "auto",
       "commandVersion": 0,
       "commentThread": [],
       "commentsVisible": false,
       "contentSha256Hex": null,
       "customPlotOptions": {
        "redashChart": [
         {
          "key": "type",
          "value": "CHART"
         },
         {
          "key": "options",
          "value": {
           "alignYAxesAtZero": true,
           "coefficient": 1,
           "columnConfigurationMap": {
            "x": {
             "column": "DEST_COUNTRY_NAME",
             "id": "column_baed57d017"
            },
            "y": [
             {
              "column": "quantidade_paises",
              "id": "column_baed57d019",
              "transform": "SUM"
             }
            ]
           },
           "dateTimeFormat": "DD/MM/YYYY HH:mm",
           "direction": {
            "type": "counterclockwise"
           },
           "error_y": {
            "type": "data",
            "visible": true
           },
           "globalSeriesType": "column",
           "isAggregationOn": true,
           "legend": {
            "traceorder": "normal"
           },
           "missingValuesAsZero": true,
           "numberFormat": "0,0.[00000]",
           "percentFormat": "0[.]00%",
           "series": {
            "error_y": {
             "type": "data",
             "visible": true
            },
            "stacking": null
           },
           "seriesOptions": {
            "column_baed57d019": {
             "type": "column",
             "yAxis": 0
            }
           },
           "showDataLabels": false,
           "sizemode": "diameter",
           "sortX": true,
           "sortY": true,
           "swappedAxes": false,
           "textFormat": "",
           "useAggregationsUi": true,
           "valuesOptions": {},
           "version": 2,
           "xAxis": {
            "labels": {
             "enabled": true
            },
            "type": "-"
           },
           "yAxis": [
            {
             "type": "-"
            },
            {
             "opposite": true,
             "type": "-"
            }
           ]
          }
         }
        ]
       },
       "datasetPreviewNameToCmdIdMap": {},
       "diffDeletes": [],
       "diffInserts": [],
       "displayType": "redashChart",
       "error": null,
       "errorDetails": null,
       "errorSummary": null,
       "errorTraceType": null,
       "finishTime": 0,
       "globalVars": {},
       "guid": "",
       "height": "auto",
       "hideCommandCode": false,
       "hideCommandResult": false,
       "iPythonMetadata": null,
       "inputWidgets": {},
       "isLockedInExamMode": false,
       "latestUser": "a user",
       "latestUserId": null,
       "listResultMetadata": null,
       "metadata": {},
       "nuid": "64b66040-c8e6-405b-92d0-96ce303bc068",
       "origId": 0,
       "parentHierarchy": [],
       "pivotAggregation": null,
       "pivotColumns": null,
       "position": 8.0,
       "resultDbfsErrorMessage": null,
       "resultDbfsStatus": "INLINED_IN_TREE",
       "results": null,
       "showCommandTitle": false,
       "startTime": 0,
       "state": "input",
       "streamStates": {},
       "subcommandOptions": {
        "queryPlan": {
         "groups": [
          {
           "column": "DEST_COUNTRY_NAME",
           "type": "column"
          }
         ],
         "selects": [
          {
           "column": "DEST_COUNTRY_NAME",
           "type": "column"
          },
          {
           "alias": "column_baed57d019",
           "args": [
            {
             "column": "quantidade_paises",
             "type": "column"
            }
           ],
           "function": "SUM",
           "type": "function"
          }
         ]
        }
       },
       "submitTime": 0,
       "subtype": "tableResultSubCmd.visualization",
       "tableResultIndex": 0,
       "useConsistentColors": false,
       "version": "CommandV1",
       "width": "auto",
       "workflows": [],
       "xColumns": null,
       "yColumns": null
      }
     },
     "output_type": "display_data"
    }
   ],
   "source": [
    "%sql\n",
    "SELECT DEST_COUNTRY_NAME, avg(count) AS quantidade_paises\n",
    "FROM all_files\n",
    "GROUP BY DEST_COUNTRY_NAME\n",
    "ORDER BY DEST_COUNTRY_NAME;"
   ]
  }
 ],
 "metadata": {
  "application/vnd.databricks.v1+notebook": {
   "dashboards": [],
   "language": "python",
   "notebookMetadata": {
    "mostRecentlyExecutedCommandWithImplicitDF": {
     "commandId": 4132432938651819,
     "dataframes": [
      "_sqldf"
     ]
    },
    "pythonIndentUnit": 4
   },
   "notebookName": "notebookSQL",
   "widgets": {}
  }
 },
 "nbformat": 4,
 "nbformat_minor": 0
}
