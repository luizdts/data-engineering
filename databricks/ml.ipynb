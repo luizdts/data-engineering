{
 "cells": [
  {
   "cell_type": "code",
   "execution_count": 0,
   "metadata": {
    "application/vnd.databricks.v1+cell": {
     "cellMetadata": {
      "byteLimit": 2048000,
      "rowLimit": 10000
     },
     "inputWidgets": {},
     "nuid": "a3d51b70-5036-462e-9e9a-3abd06f384a1",
     "showTitle": false,
     "title": ""
    }
   },
   "outputs": [],
   "source": [
    "from pyspark.ml.regression import LinearRegression, RandomForestRegressor\n",
    "from pyspark.ml.evaluation import RegressionEvaluator\n",
    "from pyspark.ml.feature import VectorAssembler"
   ]
  },
  {
   "cell_type": "code",
   "execution_count": 0,
   "metadata": {
    "application/vnd.databricks.v1+cell": {
     "cellMetadata": {
      "byteLimit": 2048000,
      "rowLimit": 10000
     },
     "inputWidgets": {},
     "nuid": "f21dfa94-0067-4862-921d-635ca4a3f5b8",
     "showTitle": false,
     "title": ""
    }
   },
   "outputs": [
    {
     "output_type": "stream",
     "name": "stdout",
     "output_type": "stream",
     "text": [
      "+-------+---------+-----------+---------------+----+-----+---------+-----------+-------+-----------+---+\n|Consumo|Cilindros|Cilindradas|RelEixoTraseiro|Peso|Tempo|TipoMotor|Transmissao|Marchas|Carburadors| HP|\n+-------+---------+-----------+---------------+----+-----+---------+-----------+-------+-----------+---+\n|     21|        6|        160|             39| 262| 1646|        0|          1|      4|          4|110|\n|     21|        6|        160|             39|2875| 1702|        0|          1|      4|          4|110|\n|    228|        4|        108|            385| 232| 1861|        1|          1|      4|          1| 93|\n|    214|        6|        258|            308|3215| 1944|        1|          0|      3|          1|110|\n|    187|        8|        360|            315| 344| 1702|        0|          0|      3|          2|175|\n+-------+---------+-----------+---------------+----+-----+---------+-----------+-------+-----------+---+\nonly showing top 5 rows\n\n"
     ]
    }
   ],
   "source": [
    "Carros_temp = spark.read.csv(\"/FileStore/tables/Carros.csv\", inferSchema=True, header=True, sep=\";\")\n",
    "Carros_temp.show(5)"
   ]
  },
  {
   "cell_type": "code",
   "execution_count": 0,
   "metadata": {
    "application/vnd.databricks.v1+cell": {
     "cellMetadata": {
      "byteLimit": 2048000,
      "rowLimit": 10000
     },
     "inputWidgets": {},
     "nuid": "3f1692a8-f67b-4d21-b745-b92656e54e36",
     "showTitle": false,
     "title": ""
    }
   },
   "outputs": [
    {
     "output_type": "stream",
     "name": "stdout",
     "output_type": "stream",
     "text": [
      "+-------+---------+-----------+---+\n|Consumo|Cilindros|Cilindradas| HP|\n+-------+---------+-----------+---+\n|     21|        6|        160|110|\n|     21|        6|        160|110|\n|    228|        4|        108| 93|\n|    214|        6|        258|110|\n|    187|        8|        360|175|\n+-------+---------+-----------+---+\nonly showing top 5 rows\n\n"
     ]
    }
   ],
   "source": [
    "Carros = Carros_temp.select(\"Consumo\",\"Cilindros\",\"Cilindradas\",\"HP\")\n",
    "Carros.show(5)"
   ]
  },
  {
   "cell_type": "code",
   "execution_count": 0,
   "metadata": {
    "application/vnd.databricks.v1+cell": {
     "cellMetadata": {
      "byteLimit": 2048000,
      "rowLimit": 10000
     },
     "inputWidgets": {},
     "nuid": "68b2901c-5e7d-4c8e-a1d3-56164ec01f97",
     "showTitle": false,
     "title": ""
    }
   },
   "outputs": [
    {
     "output_type": "stream",
     "name": "stdout",
     "output_type": "stream",
     "text": [
      "+-------+---------+-----------+---+-----------------+\n|Consumo|Cilindros|Cilindradas| HP|  caracteristicas|\n+-------+---------+-----------+---+-----------------+\n|     21|        6|        160|110| [21.0,6.0,160.0]|\n|     21|        6|        160|110| [21.0,6.0,160.0]|\n|    228|        4|        108| 93|[228.0,4.0,108.0]|\n|    214|        6|        258|110|[214.0,6.0,258.0]|\n|    187|        8|        360|175|[187.0,8.0,360.0]|\n+-------+---------+-----------+---+-----------------+\nonly showing top 5 rows\n\n"
     ]
    }
   ],
   "source": [
    "veccaracs = VectorAssembler(inputCols=[(\"Consumo\"),(\"Cilindros\"),(\"Cilindradas\")], outputCol=\"caracteristicas\")\n",
    "Carros = veccaracs.transform(Carros)\n",
    "Carros.show(5)"
   ]
  },
  {
   "cell_type": "code",
   "execution_count": 0,
   "metadata": {
    "application/vnd.databricks.v1+cell": {
     "cellMetadata": {
      "byteLimit": 2048000,
      "rowLimit": 10000
     },
     "inputWidgets": {},
     "nuid": "d2dafbac-67e7-4920-b604-b40b24515b6a",
     "showTitle": false,
     "title": ""
    }
   },
   "outputs": [
    {
     "output_type": "stream",
     "name": "stdout",
     "output_type": "stream",
     "text": [
      "22\n10\n"
     ]
    }
   ],
   "source": [
    "CarrosTreino, CarrosTeste = Carros.randomSplit([0.7,0.3])\n",
    "print(CarrosTreino.count())\n",
    "print(CarrosTeste.count())"
   ]
  },
  {
   "cell_type": "code",
   "execution_count": 0,
   "metadata": {
    "application/vnd.databricks.v1+cell": {
     "cellMetadata": {
      "byteLimit": 2048000,
      "rowLimit": 10000
     },
     "inputWidgets": {},
     "nuid": "cec2fb3a-8ca2-4c78-9678-1e8a19bc79dc",
     "showTitle": false,
     "title": ""
    }
   },
   "outputs": [],
   "source": [
    "reglin = LinearRegression(featuresCol=\"caracteristicas\", labelCol=\"HP\")\n",
    "modelo = reglin.fit(CarrosTreino)"
   ]
  },
  {
   "cell_type": "code",
   "execution_count": 0,
   "metadata": {
    "application/vnd.databricks.v1+cell": {
     "cellMetadata": {
      "byteLimit": 2048000,
      "rowLimit": 10000
     },
     "inputWidgets": {},
     "nuid": "ed173033-f2bf-4372-96fa-17d5e7597cc6",
     "showTitle": false,
     "title": ""
    }
   },
   "outputs": [
    {
     "output_type": "stream",
     "name": "stdout",
     "output_type": "stream",
     "text": [
      "+-------+---------+-----------+---+------------------+------------------+\n|Consumo|Cilindros|Cilindradas| HP|   caracteristicas|        prediction|\n+-------+---------+-----------+---+------------------+------------------+\n|     21|        6|        160|110|  [21.0,6.0,160.0]|183.01080748917298|\n|     26|        4|       1203| 91| [26.0,4.0,1203.0]|128.62940411787417|\n|    158|        8|        351|264| [158.0,8.0,351.0]|200.52533897086377|\n|    164|        8|       2758|180|[164.0,8.0,2758.0]| 191.4802200330824|\n|    178|        6|       1676|123|[178.0,6.0,1676.0]|141.76737752802202|\n+-------+---------+-----------+---+------------------+------------------+\nonly showing top 5 rows\n\n"
     ]
    }
   ],
   "source": [
    "prev = modelo.transform(CarrosTeste)\n",
    "prev.show(5)"
   ]
  },
  {
   "cell_type": "code",
   "execution_count": 0,
   "metadata": {
    "application/vnd.databricks.v1+cell": {
     "cellMetadata": {
      "byteLimit": 2048000,
      "rowLimit": 10000
     },
     "inputWidgets": {},
     "nuid": "edc03e69-9cc8-4aa8-bbb3-907135c8103c",
     "showTitle": false,
     "title": ""
    }
   },
   "outputs": [
    {
     "output_type": "stream",
     "name": "stdout",
     "output_type": "stream",
     "text": [
      "37.5259579499998\n"
     ]
    }
   ],
   "source": [
    "avaliar = RegressionEvaluator(predictionCol=\"prediction\", labelCol=\"HP\", metricName=\"rmse\")\n",
    "rmse = avaliar.evaluate(prev)\n",
    "print(rmse)"
   ]
  }
 ],
 "metadata": {
  "application/vnd.databricks.v1+notebook": {
   "dashboards": [],
   "language": "python",
   "notebookMetadata": {
    "pythonIndentUnit": 4
   },
   "notebookName": "ml",
   "widgets": {}
  }
 },
 "nbformat": 4,
 "nbformat_minor": 0
}
