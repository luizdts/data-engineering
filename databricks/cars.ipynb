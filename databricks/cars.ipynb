{
 "cells": [
  {
   "cell_type": "code",
   "execution_count": 0,
   "metadata": {
    "application/vnd.databricks.v1+cell": {
     "cellMetadata": {
      "byteLimit": 2048000,
      "rowLimit": 10000
     },
     "inputWidgets": {},
     "nuid": "5eec6df3-0ef3-4593-af7e-2f5b03c47231",
     "showTitle": false,
     "title": ""
    }
   },
   "outputs": [],
   "source": [
    "from pyspark.sql import SparkSession"
   ]
  },
  {
   "cell_type": "code",
   "execution_count": 0,
   "metadata": {
    "application/vnd.databricks.v1+cell": {
     "cellMetadata": {
      "byteLimit": 2048000,
      "rowLimit": 10000
     },
     "inputWidgets": {},
     "nuid": "d6b4b2c9-c1d2-4d35-b287-3fbbfa5ec0b9",
     "showTitle": false,
     "title": ""
    }
   },
   "outputs": [
    {
     "output_type": "stream",
     "name": "stdout",
     "output_type": "stream",
     "text": [
      "+-------+---------+-----------+---------------+----+-----+---------+-----------+-------+-----------+---+\n|Consumo|Cilindros|Cilindradas|RelEixoTraseiro|Peso|Tempo|TipoMotor|Transmissao|Marchas|Carburadors| HP|\n+-------+---------+-----------+---------------+----+-----+---------+-----------+-------+-----------+---+\n|     21|        6|        160|             39| 262| 1646|        0|          1|      4|          4|110|\n|     21|        6|        160|             39|2875| 1702|        0|          1|      4|          4|110|\n|    228|        4|        108|            385| 232| 1861|        1|          1|      4|          1| 93|\n|    214|        6|        258|            308|3215| 1944|        1|          0|      3|          1|110|\n|    187|        8|        360|            315| 344| 1702|        0|          0|      3|          2|175|\n+-------+---------+-----------+---------------+----+-----+---------+-----------+-------+-----------+---+\nonly showing top 5 rows\n\n"
     ]
    }
   ],
   "source": [
    "carros = spark.read.csv(\"/FileStore/tables/Carros.csv\", header=True, sep=\";\", inferSchema=True)\n",
    "carros.show(5)"
   ]
  },
  {
   "cell_type": "code",
   "execution_count": 0,
   "metadata": {
    "application/vnd.databricks.v1+cell": {
     "cellMetadata": {
      "byteLimit": 2048000,
      "rowLimit": 10000
     },
     "inputWidgets": {},
     "nuid": "1f729960-6f20-4638-8083-0b691d5cc7da",
     "showTitle": false,
     "title": ""
    }
   },
   "outputs": [
    {
     "output_type": "stream",
     "name": "stdout",
     "output_type": "stream",
     "text": [
      "Out[3]: StructType([StructField('Consumo', IntegerType(), True), StructField('Cilindros', IntegerType(), True), StructField('Cilindradas', IntegerType(), True), StructField('RelEixoTraseiro', IntegerType(), True), StructField('Peso', IntegerType(), True), StructField('Tempo', IntegerType(), True), StructField('TipoMotor', IntegerType(), True), StructField('Transmissao', IntegerType(), True), StructField('Marchas', IntegerType(), True), StructField('Carburadors', IntegerType(), True), StructField('HP', IntegerType(), True)])"
     ]
    }
   ],
   "source": [
    "carros.schema"
   ]
  },
  {
   "cell_type": "code",
   "execution_count": 0,
   "metadata": {
    "application/vnd.databricks.v1+cell": {
     "cellMetadata": {
      "byteLimit": 2048000,
      "rowLimit": 10000
     },
     "inputWidgets": {},
     "nuid": "4cdc7617-9412-4276-8375-5a56205f8e84",
     "showTitle": false,
     "title": ""
    }
   },
   "outputs": [
    {
     "output_type": "stream",
     "name": "stdout",
     "output_type": "stream",
     "text": [
      "Out[4]: 32"
     ]
    }
   ],
   "source": [
    "carros.count()"
   ]
  },
  {
   "cell_type": "code",
   "execution_count": 0,
   "metadata": {
    "application/vnd.databricks.v1+cell": {
     "cellMetadata": {
      "byteLimit": 2048000,
      "rowLimit": 10000
     },
     "inputWidgets": {},
     "nuid": "8186eb18-7c40-4a60-98a9-2349bb053333",
     "showTitle": false,
     "title": ""
    }
   },
   "outputs": [
    {
     "output_type": "stream",
     "name": "stdout",
     "output_type": "stream",
     "text": [
      "Out[5]: ['Consumo',\n 'Cilindros',\n 'Cilindradas',\n 'RelEixoTraseiro',\n 'Peso',\n 'Tempo',\n 'TipoMotor',\n 'Transmissao',\n 'Marchas',\n 'Carburadors',\n 'HP']"
     ]
    }
   ],
   "source": [
    "carros.columns"
   ]
  },
  {
   "cell_type": "code",
   "execution_count": 0,
   "metadata": {
    "application/vnd.databricks.v1+cell": {
     "cellMetadata": {
      "byteLimit": 2048000,
      "rowLimit": 10000
     },
     "inputWidgets": {},
     "nuid": "d97d5958-9cd5-4559-bee9-f097e319d0f7",
     "showTitle": false,
     "title": ""
    }
   },
   "outputs": [
    {
     "output_type": "stream",
     "name": "stdout",
     "output_type": "stream",
     "text": [
      "+-------+---------+\n|Consumo|Cilindros|\n+-------+---------+\n|     21|        6|\n|     21|        6|\n|    228|        4|\n|    214|        6|\n|    187|        8|\n+-------+---------+\nonly showing top 5 rows\n\n"
     ]
    }
   ],
   "source": [
    "carros.select(\"Consumo\", \"Cilindros\").show(5)"
   ]
  },
  {
   "cell_type": "code",
   "execution_count": 0,
   "metadata": {
    "application/vnd.databricks.v1+cell": {
     "cellMetadata": {
      "byteLimit": 2048000,
      "rowLimit": 10000
     },
     "inputWidgets": {},
     "nuid": "6104a1f6-01d1-4860-9bca-9c7387ca7dd0",
     "showTitle": false,
     "title": ""
    }
   },
   "outputs": [
    {
     "output_type": "stream",
     "name": "stdout",
     "output_type": "stream",
     "text": [
      "+-------+---------+\n|Consumo|Cilindros|\n+-------+---------+\n|    187|        8|\n|    143|        8|\n|    164|        8|\n|    173|        8|\n|    152|        8|\n|    104|        8|\n|    104|        8|\n|    147|        8|\n|    155|        8|\n|    152|        8|\n|    133|        8|\n|    192|        8|\n|    158|        8|\n|     15|        8|\n+-------+---------+\n\n"
     ]
    }
   ],
   "source": [
    "from pyspark.sql import functions as Func\n",
    "carros.select(\"Consumo\",\"Cilindros\").where(Func.col(\"Cilindros\") > 6).show()"
   ]
  },
  {
   "cell_type": "code",
   "execution_count": 0,
   "metadata": {
    "application/vnd.databricks.v1+cell": {
     "cellMetadata": {
      "byteLimit": 2048000,
      "rowLimit": 10000
     },
     "inputWidgets": {},
     "nuid": "d567a9ff-3eb2-432c-9314-9660eb6a1239",
     "showTitle": false,
     "title": ""
    }
   },
   "outputs": [
    {
     "output_type": "stream",
     "name": "stdout",
     "output_type": "stream",
     "text": [
      "+-------+---------+-----------+---------------+----+-----+---------+-----------+-------+-----------+---+\n|Consumo|Cilindros|Cilindradas|RelEixoTraseiro|Peso|Tempo|TipoMotor|Transmissao|Marchas|Carburadors| HP|\n+-------+---------+-----------+---------------+----+-----+---------+-----------+-------+-----------+---+\n|    304|        4|        757|            493|1615| 1852|        1|          1|      4|          2| 52|\n|    244|        4|       1467|            369| 319|   20|        1|          0|      4|          2| 62|\n|    339|        4|        711|            422|1835|  199|        1|          1|      4|          1| 65|\n|    324|        4|        787|            408|  22| 1947|        1|          1|      4|          1| 66|\n|    273|        4|         79|            408|1935|  189|        1|          1|      4|          1| 66|\n+-------+---------+-----------+---------------+----+-----+---------+-----------+-------+-----------+---+\nonly showing top 5 rows\n\n"
     ]
    }
   ],
   "source": [
    "carros.orderBy(\"HP\").show(5)"
   ]
  },
  {
   "cell_type": "code",
   "execution_count": 0,
   "metadata": {
    "application/vnd.databricks.v1+cell": {
     "cellMetadata": {
      "byteLimit": 2048000,
      "rowLimit": 10000
     },
     "inputWidgets": {},
     "nuid": "3e31f16d-7e38-4ce7-b199-6b8a6ba16cf3",
     "showTitle": false,
     "title": ""
    }
   },
   "outputs": [
    {
     "output_type": "stream",
     "name": "stdout",
     "output_type": "stream",
     "text": [
      "+-------+---------+-----------+---------------+----+-----+---------+-----------+-------+-----------+---+\n|Consumo|Cilindros|Cilindradas|RelEixoTraseiro|Peso|Tempo|TipoMotor|Transmissao|Marchas|Carburadors| HP|\n+-------+---------+-----------+---------------+----+-----+---------+-----------+-------+-----------+---+\n|     15|        8|        301|            354| 357|  146|        0|          1|      5|          8|335|\n|    158|        8|        351|            422| 317|  145|        0|          1|      5|          4|264|\n|    143|        8|        360|            321| 357| 1584|        0|          0|      3|          4|245|\n|    133|        8|        350|            373| 384| 1541|        0|          0|      3|          4|245|\n|    147|        8|        440|            323|5345| 1742|        0|          0|      3|          4|230|\n+-------+---------+-----------+---------------+----+-----+---------+-----------+-------+-----------+---+\nonly showing top 5 rows\n\n"
     ]
    }
   ],
   "source": [
    "carros.orderBy(Func.col(\"HP\").desc()).show(5)"
   ]
  },
  {
   "cell_type": "code",
   "execution_count": 0,
   "metadata": {
    "application/vnd.databricks.v1+cell": {
     "cellMetadata": {},
     "inputWidgets": {},
     "nuid": "609c362a-744c-443b-951e-878c07628b86",
     "showTitle": false,
     "title": ""
    }
   },
   "outputs": [],
   "source": []
  }
 ],
 "metadata": {
  "application/vnd.databricks.v1+notebook": {
   "dashboards": [],
   "language": "python",
   "notebookMetadata": {
    "pythonIndentUnit": 4
   },
   "notebookName": "cars",
   "widgets": {}
  }
 },
 "nbformat": 4,
 "nbformat_minor": 0
}
