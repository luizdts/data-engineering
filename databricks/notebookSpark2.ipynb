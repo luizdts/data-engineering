{
 "cells": [
  {
   "cell_type": "code",
   "execution_count": 0,
   "metadata": {
    "application/vnd.databricks.v1+cell": {
     "cellMetadata": {
      "byteLimit": 2048000,
      "rowLimit": 10000
     },
     "inputWidgets": {},
     "nuid": "bc68f9b1-5cf8-4a93-8c17-c02eaf618c53",
     "showTitle": false,
     "title": ""
    }
   },
   "outputs": [],
   "source": [
    "df = spark.read.format(\"csv\")\\\n",
    "    .option(\"mode\", \"failfast\")\\\n",
    "    .option(\"header\", \"True\")\\\n",
    "    .option(\"inferSchema\", \"True\")\\\n",
    "    .load(\"/FileStore/tables/spk/2010_1_1.CSV\")"
   ]
  },
  {
   "cell_type": "code",
   "execution_count": 0,
   "metadata": {
    "application/vnd.databricks.v1+cell": {
     "cellMetadata": {
      "byteLimit": 2048000,
      "rowLimit": 10000
     },
     "inputWidgets": {},
     "nuid": "8d64cc57-912c-451a-ad77-e7fd46ec7d75",
     "showTitle": false,
     "title": ""
    }
   },
   "outputs": [],
   "source": [
    "df = spark.read.format(\"csv\")\\\n",
    "    .option(\"mode\", \"permissive\")\\\n",
    "    .option(\"header\", \"True\")\\\n",
    "    .option(\"inferSchema\", \"True\")\\\n",
    "    .load(\"/FileStore/tables/spk/2010_1_1.CSV\")"
   ]
  },
  {
   "cell_type": "code",
   "execution_count": 0,
   "metadata": {
    "application/vnd.databricks.v1+cell": {
     "cellMetadata": {
      "byteLimit": 2048000,
      "rowLimit": 10000
     },
     "inputWidgets": {},
     "nuid": "11bef9a6-8810-48bc-a8ae-3778d04c7320",
     "showTitle": false,
     "title": ""
    }
   },
   "outputs": [],
   "source": [
    "df = spark.read.format(\"csv\")\\\n",
    "    .option(\"mode\", \"dropMalformed\")\\\n",
    "    .option(\"header\", \"True\")\\\n",
    "    .option(\"inferSchema\", \"True\")\\\n",
    "    .load(\"/FileStore/tables/spk/2010_1_1.CSV\")"
   ]
  },
  {
   "cell_type": "code",
   "execution_count": 0,
   "metadata": {
    "application/vnd.databricks.v1+cell": {
     "cellMetadata": {
      "byteLimit": 2048000,
      "rowLimit": 10000
     },
     "inputWidgets": {},
     "nuid": "44c4edca-5299-4810-b89a-0914fb9d8ca1",
     "showTitle": false,
     "title": ""
    }
   },
   "outputs": [
    {
     "output_type": "display_data",
     "data": {
      "text/html": [
       "<style scoped>\n",
       "  .table-result-container {\n",
       "    max-height: 300px;\n",
       "    overflow: auto;\n",
       "  }\n",
       "  table, th, td {\n",
       "    border: 1px solid black;\n",
       "    border-collapse: collapse;\n",
       "  }\n",
       "  th, td {\n",
       "    padding: 5px;\n",
       "  }\n",
       "  th {\n",
       "    text-align: left;\n",
       "  }\n",
       "</style><div class='table-result-container'><table class='table-result'><thead style='background-color: white'><tr><th>InvoiceNo</th><th>StockCode</th><th>Description</th><th>Quantity</th><th>InvoiceDate</th><th>UnitPrice</th><th>CustomerID</th><th>Country</th></tr></thead><tbody><tr><td>536365</td><td>85123A</td><td>WHITE HANGING HEART T-LIGHT HOLDER</td><td>6</td><td>2010-12-01 08:26:00</td><td>2.55</td><td>17850.0</td><td>United Kingdom</td></tr><tr><td>536365</td><td>71053</td><td>WHITE METAL LANTERN</td><td>6</td><td>2010-12-01 08:26:00</td><td>3.39</td><td>17850.0</td><td>United Kingdom</td></tr><tr><td>536365</td><td>84406B</td><td>CREAM CUPID HEARTS COAT HANGER</td><td>8</td><td>2010-12-01 08:26:00</td><td>2.75</td><td>17850.0</td><td>United Kingdom</td></tr><tr><td>536365</td><td>84029G</td><td>KNITTED UNION FLAG HOT WATER BOTTLE</td><td>6</td><td>2010-12-01 08:26:00</td><td>3.39</td><td>17850.0</td><td>United Kingdom</td></tr><tr><td>536365</td><td>84029E</td><td>RED WOOLLY HOTTIE WHITE HEART.</td><td>6</td><td>2010-12-01 08:26:00</td><td>3.39</td><td>17850.0</td><td>United Kingdom</td></tr><tr><td>536365</td><td>22752</td><td>SET 7 BABUSHKA NESTING BOXES</td><td>2</td><td>2010-12-01 08:26:00</td><td>7.65</td><td>17850.0</td><td>United Kingdom</td></tr><tr><td>536365</td><td>21730</td><td>GLASS STAR FROSTED T-LIGHT HOLDER</td><td>6</td><td>2010-12-01 08:26:00</td><td>4.25</td><td>17850.0</td><td>United Kingdom</td></tr><tr><td>536366</td><td>22633</td><td>HAND WARMER UNION JACK</td><td>6</td><td>2010-12-01 08:28:00</td><td>1.85</td><td>17850.0</td><td>United Kingdom</td></tr><tr><td>536366</td><td>22632</td><td>HAND WARMER RED POLKA DOT</td><td>6</td><td>2010-12-01 08:28:00</td><td>1.85</td><td>17850.0</td><td>United Kingdom</td></tr><tr><td>536367</td><td>84879</td><td>ASSORTED COLOUR BIRD ORNAMENT</td><td>32</td><td>2010-12-01 08:34:00</td><td>1.69</td><td>13047.0</td><td>United Kingdom</td></tr></tbody></table></div>"
      ]
     },
     "metadata": {
      "application/vnd.databricks.v1+output": {
       "addedWidgets": {},
       "aggData": [],
       "aggError": "",
       "aggOverflow": false,
       "aggSchema": [],
       "aggSeriesLimitReached": false,
       "aggType": "",
       "arguments": {},
       "columnCustomDisplayInfos": {},
       "data": [
        [
         "536365",
         "85123A",
         "WHITE HANGING HEART T-LIGHT HOLDER",
         6,
         "2010-12-01 08:26:00",
         2.55,
         17850.0,
         "United Kingdom"
        ],
        [
         "536365",
         "71053",
         "WHITE METAL LANTERN",
         6,
         "2010-12-01 08:26:00",
         3.39,
         17850.0,
         "United Kingdom"
        ],
        [
         "536365",
         "84406B",
         "CREAM CUPID HEARTS COAT HANGER",
         8,
         "2010-12-01 08:26:00",
         2.75,
         17850.0,
         "United Kingdom"
        ],
        [
         "536365",
         "84029G",
         "KNITTED UNION FLAG HOT WATER BOTTLE",
         6,
         "2010-12-01 08:26:00",
         3.39,
         17850.0,
         "United Kingdom"
        ],
        [
         "536365",
         "84029E",
         "RED WOOLLY HOTTIE WHITE HEART.",
         6,
         "2010-12-01 08:26:00",
         3.39,
         17850.0,
         "United Kingdom"
        ],
        [
         "536365",
         "22752",
         "SET 7 BABUSHKA NESTING BOXES",
         2,
         "2010-12-01 08:26:00",
         7.65,
         17850.0,
         "United Kingdom"
        ],
        [
         "536365",
         "21730",
         "GLASS STAR FROSTED T-LIGHT HOLDER",
         6,
         "2010-12-01 08:26:00",
         4.25,
         17850.0,
         "United Kingdom"
        ],
        [
         "536366",
         "22633",
         "HAND WARMER UNION JACK",
         6,
         "2010-12-01 08:28:00",
         1.85,
         17850.0,
         "United Kingdom"
        ],
        [
         "536366",
         "22632",
         "HAND WARMER RED POLKA DOT",
         6,
         "2010-12-01 08:28:00",
         1.85,
         17850.0,
         "United Kingdom"
        ],
        [
         "536367",
         "84879",
         "ASSORTED COLOUR BIRD ORNAMENT",
         32,
         "2010-12-01 08:34:00",
         1.69,
         13047.0,
         "United Kingdom"
        ]
       ],
       "datasetInfos": [],
       "dbfsResultPath": null,
       "isJsonSchema": true,
       "metadata": {},
       "overflow": false,
       "plotOptions": {
        "customPlotOptions": {},
        "displayType": "table",
        "pivotAggregation": null,
        "pivotColumns": null,
        "xColumns": null,
        "yColumns": null
       },
       "removedWidgets": [],
       "schema": [
        {
         "metadata": "{}",
         "name": "InvoiceNo",
         "type": "\"string\""
        },
        {
         "metadata": "{}",
         "name": "StockCode",
         "type": "\"string\""
        },
        {
         "metadata": "{}",
         "name": "Description",
         "type": "\"string\""
        },
        {
         "metadata": "{}",
         "name": "Quantity",
         "type": "\"long\""
        },
        {
         "metadata": "{}",
         "name": "InvoiceDate",
         "type": "\"string\""
        },
        {
         "metadata": "{}",
         "name": "UnitPrice",
         "type": "\"double\""
        },
        {
         "metadata": "{}",
         "name": "CustomerID",
         "type": "\"double\""
        },
        {
         "metadata": "{}",
         "name": "Country",
         "type": "\"string\""
        }
       ],
       "type": "table"
      }
     },
     "output_type": "display_data"
    }
   ],
   "source": [
    "display(df.head(10))"
   ]
  },
  {
   "cell_type": "code",
   "execution_count": 0,
   "metadata": {
    "application/vnd.databricks.v1+cell": {
     "cellMetadata": {
      "byteLimit": 2048000,
      "rowLimit": 10000
     },
     "inputWidgets": {},
     "nuid": "43ee9176-14d3-4a63-baa2-53949462c882",
     "showTitle": false,
     "title": ""
    }
   },
   "outputs": [
    {
     "output_type": "stream",
     "name": "stdout",
     "output_type": "stream",
     "text": [
      "root\n |-- InvoiceNo: string (nullable = true)\n |-- StockCode: string (nullable = true)\n |-- Description: string (nullable = true)\n |-- Quantity: integer (nullable = true)\n |-- InvoiceDate: timestamp (nullable = true)\n |-- UnitPrice: double (nullable = true)\n |-- CustomerID: double (nullable = true)\n |-- Country: string (nullable = true)\n\n"
     ]
    }
   ],
   "source": [
    "df.printSchema()"
   ]
  },
  {
   "cell_type": "code",
   "execution_count": 0,
   "metadata": {
    "application/vnd.databricks.v1+cell": {
     "cellMetadata": {
      "byteLimit": 2048000,
      "rowLimit": 10000
     },
     "inputWidgets": {},
     "nuid": "3fb54302-5607-4b66-b10d-9c95617f3aef",
     "showTitle": false,
     "title": ""
    }
   },
   "outputs": [],
   "source": [
    "from pyspark.sql.types import StructType, StructField, StringType, IntegerType, DateType, DoubleType, TimestampType\n",
    "schema = StructType([\n",
    "    StructField(\"InvoiceNo\", IntegerType()),\n",
    "    StructField(\"StockCode\", StringType()),\n",
    "    StructField(\"Description\", StringType()),\n",
    "    StructField(\"Quantity\", IntegerType()),\n",
    "    StructField(\"InvoiceDate\", TimestampType()),\n",
    "    StructField(\"UnitPrice\", DoubleType()),\n",
    "    StructField(\"CustomerID\", DoubleType()),\n",
    "    StructField(\"Country\", StringType())\n",
    "])"
   ]
  },
  {
   "cell_type": "code",
   "execution_count": 0,
   "metadata": {
    "application/vnd.databricks.v1+cell": {
     "cellMetadata": {
      "byteLimit": 2048000,
      "rowLimit": 10000
     },
     "inputWidgets": {},
     "nuid": "d0cba904-d6ab-4560-9d21-652307cedb31",
     "showTitle": false,
     "title": ""
    }
   },
   "outputs": [
    {
     "output_type": "execute_result",
     "data": {
      "text/plain": [
       "pyspark.sql.types.StructType"
      ]
     },
     "execution_count": 7,
     "metadata": {},
     "output_type": "execute_result"
    }
   ],
   "source": [
    "type(schema_df)"
   ]
  },
  {
   "cell_type": "code",
   "execution_count": 0,
   "metadata": {
    "application/vnd.databricks.v1+cell": {
     "cellMetadata": {
      "byteLimit": 2048000,
      "rowLimit": 10000
     },
     "inputWidgets": {},
     "nuid": "1a631316-ad26-4e91-aa27-c602e9e7ce9d",
     "showTitle": false,
     "title": ""
    }
   },
   "outputs": [],
   "source": [
    "df = spark.read.format(\"csv\")\\\n",
    "    .option(\"header\", \"True\")\\\n",
    "    .schema(schema)\\\n",
    "    .option(\"timestampFormat\",'yyyy/MM/DD hh:mm:ss')\\\n",
    "    .load(\"/FileStore/tables/spk/2010_1_1.CSV\")"
   ]
  },
  {
   "cell_type": "code",
   "execution_count": 0,
   "metadata": {
    "application/vnd.databricks.v1+cell": {
     "cellMetadata": {
      "byteLimit": 2048000,
      "rowLimit": 10000
     },
     "inputWidgets": {},
     "nuid": "b6b29fa6-ac1c-4da1-8d50-f051fc5a95c3",
     "showTitle": false,
     "title": ""
    }
   },
   "outputs": [
    {
     "output_type": "stream",
     "name": "stdout",
     "output_type": "stream",
     "text": [
      "root\n |-- InvoiceNo: integer (nullable = true)\n |-- StockCode: string (nullable = true)\n |-- Description: string (nullable = true)\n |-- Quantity: integer (nullable = true)\n |-- InvoiceDate: timestamp (nullable = true)\n |-- UnitPrice: double (nullable = true)\n |-- CustomerID: double (nullable = true)\n |-- Country: string (nullable = true)\n\n"
     ]
    }
   ],
   "source": [
    "df.printSchema()"
   ]
  },
  {
   "cell_type": "code",
   "execution_count": 0,
   "metadata": {
    "application/vnd.databricks.v1+cell": {
     "cellMetadata": {
      "byteLimit": 2048000,
      "rowLimit": 10000
     },
     "inputWidgets": {},
     "nuid": "736c1961-1be8-44a4-b735-c814757f8839",
     "showTitle": false,
     "title": ""
    }
   },
   "outputs": [
    {
     "output_type": "display_data",
     "data": {
      "text/plain": [
       "\u001B[0;31m---------------------------------------------------------------------------\u001B[0m\n",
       "\u001B[0;31mPySparkValueError\u001B[0m                         Traceback (most recent call last)\n",
       "File \u001B[0;32m<command-684093837395957>, line 1\u001B[0m\n",
       "\u001B[0;32m----> 1\u001B[0m \u001B[43mdisplay\u001B[49m\u001B[43m(\u001B[49m\u001B[43mdf\u001B[49m\u001B[38;5;241;43m.\u001B[39;49m\u001B[43mhead\u001B[49m\u001B[43m(\u001B[49m\u001B[38;5;241;43m10\u001B[39;49m\u001B[43m)\u001B[49m\u001B[43m)\u001B[49m\n",
       "\n",
       "File \u001B[0;32m/databricks/python_shell/dbruntime/display.py:204\u001B[0m, in \u001B[0;36mDisplay.display\u001B[0;34m(self, input, *args, **kwargs)\u001B[0m\n",
       "\u001B[1;32m    202\u001B[0m         \u001B[38;5;28mself\u001B[39m\u001B[38;5;241m.\u001B[39madd_custom_display_data(\u001B[38;5;124m\"\u001B[39m\u001B[38;5;124mtable\u001B[39m\u001B[38;5;124m\"\u001B[39m, serialized_plan)\n",
       "\u001B[1;32m    203\u001B[0m \u001B[38;5;28;01melif\u001B[39;00m \u001B[38;5;28misinstance\u001B[39m(\u001B[38;5;28minput\u001B[39m, \u001B[38;5;28mlist\u001B[39m):\n",
       "\u001B[0;32m--> 204\u001B[0m     \u001B[38;5;28mself\u001B[39m\u001B[38;5;241m.\u001B[39mdisplay(\u001B[38;5;28;43mself\u001B[39;49m\u001B[38;5;241;43m.\u001B[39;49m\u001B[43msparkSession\u001B[49m\u001B[38;5;241;43m.\u001B[39;49m\u001B[43mcreateDataFrame\u001B[49m\u001B[43m(\u001B[49m\u001B[38;5;28;43minput\u001B[39;49m\u001B[43m)\u001B[49m)\n",
       "\u001B[1;32m    205\u001B[0m \u001B[38;5;28;01melif\u001B[39;00m \u001B[38;5;28mtype\u001B[39m(\u001B[38;5;28minput\u001B[39m)\u001B[38;5;241m.\u001B[39m\u001B[38;5;18m__module__\u001B[39m \u001B[38;5;241m==\u001B[39m \u001B[38;5;124m'\u001B[39m\u001B[38;5;124mpandas.core.frame\u001B[39m\u001B[38;5;124m'\u001B[39m \u001B[38;5;129;01mand\u001B[39;00m \u001B[38;5;28mtype\u001B[39m(\u001B[38;5;28minput\u001B[39m)\u001B[38;5;241m.\u001B[39m\u001B[38;5;18m__name__\u001B[39m \u001B[38;5;241m==\u001B[39m \u001B[38;5;124m'\u001B[39m\u001B[38;5;124mDataFrame\u001B[39m\u001B[38;5;124m'\u001B[39m:\n",
       "\u001B[1;32m    206\u001B[0m     \u001B[38;5;28mself\u001B[39m\u001B[38;5;241m.\u001B[39mdisplay(\u001B[38;5;28mself\u001B[39m\u001B[38;5;241m.\u001B[39msparkSession\u001B[38;5;241m.\u001B[39mcreateDataFrame(\u001B[38;5;28minput\u001B[39m))\n",
       "\n",
       "File \u001B[0;32m/databricks/spark/python/pyspark/instrumentation_utils.py:47\u001B[0m, in \u001B[0;36m_wrap_function.<locals>.wrapper\u001B[0;34m(*args, **kwargs)\u001B[0m\n",
       "\u001B[1;32m     45\u001B[0m start \u001B[38;5;241m=\u001B[39m time\u001B[38;5;241m.\u001B[39mperf_counter()\n",
       "\u001B[1;32m     46\u001B[0m \u001B[38;5;28;01mtry\u001B[39;00m:\n",
       "\u001B[0;32m---> 47\u001B[0m     res \u001B[38;5;241m=\u001B[39m \u001B[43mfunc\u001B[49m\u001B[43m(\u001B[49m\u001B[38;5;241;43m*\u001B[39;49m\u001B[43margs\u001B[49m\u001B[43m,\u001B[49m\u001B[43m \u001B[49m\u001B[38;5;241;43m*\u001B[39;49m\u001B[38;5;241;43m*\u001B[39;49m\u001B[43mkwargs\u001B[49m\u001B[43m)\u001B[49m\n",
       "\u001B[1;32m     48\u001B[0m     logger\u001B[38;5;241m.\u001B[39mlog_success(\n",
       "\u001B[1;32m     49\u001B[0m         module_name, class_name, function_name, time\u001B[38;5;241m.\u001B[39mperf_counter() \u001B[38;5;241m-\u001B[39m start, signature\n",
       "\u001B[1;32m     50\u001B[0m     )\n",
       "\u001B[1;32m     51\u001B[0m     \u001B[38;5;28;01mreturn\u001B[39;00m res\n",
       "\n",
       "File \u001B[0;32m/databricks/spark/python/pyspark/sql/session.py:1547\u001B[0m, in \u001B[0;36mSparkSession.createDataFrame\u001B[0;34m(self, data, schema, samplingRatio, verifySchema)\u001B[0m\n",
       "\u001B[1;32m   1542\u001B[0m \u001B[38;5;28;01mif\u001B[39;00m has_pandas \u001B[38;5;129;01mand\u001B[39;00m \u001B[38;5;28misinstance\u001B[39m(data, pd\u001B[38;5;241m.\u001B[39mDataFrame):\n",
       "\u001B[1;32m   1543\u001B[0m     \u001B[38;5;66;03m# Create a DataFrame from pandas DataFrame.\u001B[39;00m\n",
       "\u001B[1;32m   1544\u001B[0m     \u001B[38;5;28;01mreturn\u001B[39;00m \u001B[38;5;28msuper\u001B[39m(SparkSession, \u001B[38;5;28mself\u001B[39m)\u001B[38;5;241m.\u001B[39mcreateDataFrame(  \u001B[38;5;66;03m# type: ignore[call-overload]\u001B[39;00m\n",
       "\u001B[1;32m   1545\u001B[0m         data, schema, samplingRatio, verifySchema\n",
       "\u001B[1;32m   1546\u001B[0m     )\n",
       "\u001B[0;32m-> 1547\u001B[0m \u001B[38;5;28;01mreturn\u001B[39;00m \u001B[38;5;28;43mself\u001B[39;49m\u001B[38;5;241;43m.\u001B[39;49m\u001B[43m_create_dataframe\u001B[49m\u001B[43m(\u001B[49m\n",
       "\u001B[1;32m   1548\u001B[0m \u001B[43m    \u001B[49m\u001B[43mdata\u001B[49m\u001B[43m,\u001B[49m\u001B[43m \u001B[49m\u001B[43mschema\u001B[49m\u001B[43m,\u001B[49m\u001B[43m \u001B[49m\u001B[43msamplingRatio\u001B[49m\u001B[43m,\u001B[49m\u001B[43m \u001B[49m\u001B[43mverifySchema\u001B[49m\u001B[43m  \u001B[49m\u001B[38;5;66;43;03m# type: ignore[arg-type]\u001B[39;49;00m\n",
       "\u001B[1;32m   1549\u001B[0m \u001B[43m\u001B[49m\u001B[43m)\u001B[49m\n",
       "\n",
       "File \u001B[0;32m/databricks/spark/python/pyspark/sql/session.py:1597\u001B[0m, in \u001B[0;36mSparkSession._create_dataframe\u001B[0;34m(self, data, schema, samplingRatio, verifySchema)\u001B[0m\n",
       "\u001B[1;32m   1595\u001B[0m     rdd, struct \u001B[38;5;241m=\u001B[39m \u001B[38;5;28mself\u001B[39m\u001B[38;5;241m.\u001B[39m_createFromRDD(data\u001B[38;5;241m.\u001B[39mmap(prepare), schema, samplingRatio)\n",
       "\u001B[1;32m   1596\u001B[0m \u001B[38;5;28;01melse\u001B[39;00m:\n",
       "\u001B[0;32m-> 1597\u001B[0m     rdd, struct \u001B[38;5;241m=\u001B[39m \u001B[38;5;28;43mself\u001B[39;49m\u001B[38;5;241;43m.\u001B[39;49m\u001B[43m_createFromLocal\u001B[49m\u001B[43m(\u001B[49m\u001B[38;5;28;43mmap\u001B[39;49m\u001B[43m(\u001B[49m\u001B[43mprepare\u001B[49m\u001B[43m,\u001B[49m\u001B[43m \u001B[49m\u001B[43mdata\u001B[49m\u001B[43m)\u001B[49m\u001B[43m,\u001B[49m\u001B[43m \u001B[49m\u001B[43mschema\u001B[49m\u001B[43m)\u001B[49m\n",
       "\u001B[1;32m   1598\u001B[0m jrdd \u001B[38;5;241m=\u001B[39m \u001B[38;5;28mself\u001B[39m\u001B[38;5;241m.\u001B[39m_jvm\u001B[38;5;241m.\u001B[39mSerDeUtil\u001B[38;5;241m.\u001B[39mtoJavaArray(rdd\u001B[38;5;241m.\u001B[39m_to_java_object_rdd())\n",
       "\u001B[1;32m   1599\u001B[0m jdf \u001B[38;5;241m=\u001B[39m \u001B[38;5;28mself\u001B[39m\u001B[38;5;241m.\u001B[39m_jsparkSession\u001B[38;5;241m.\u001B[39mapplySchemaToPythonRDD(jrdd\u001B[38;5;241m.\u001B[39mrdd(), struct\u001B[38;5;241m.\u001B[39mjson())\n",
       "\n",
       "File \u001B[0;32m/databricks/spark/python/pyspark/sql/session.py:1175\u001B[0m, in \u001B[0;36mSparkSession._createFromLocal\u001B[0;34m(self, data, schema)\u001B[0m\n",
       "\u001B[1;32m   1167\u001B[0m \u001B[38;5;28;01mdef\u001B[39;00m \u001B[38;5;21m_createFromLocal\u001B[39m(\n",
       "\u001B[1;32m   1168\u001B[0m     \u001B[38;5;28mself\u001B[39m, data: Iterable[Any], schema: Optional[Union[DataType, List[\u001B[38;5;28mstr\u001B[39m]]]\n",
       "\u001B[1;32m   1169\u001B[0m ) \u001B[38;5;241m-\u001B[39m\u001B[38;5;241m>\u001B[39m Tuple[\u001B[38;5;124m\"\u001B[39m\u001B[38;5;124mRDD[Tuple]\u001B[39m\u001B[38;5;124m\"\u001B[39m, StructType]:\n",
       "\u001B[1;32m   1170\u001B[0m     \u001B[38;5;124;03m\"\"\"\u001B[39;00m\n",
       "\u001B[1;32m   1171\u001B[0m \u001B[38;5;124;03m    Create an RDD for DataFrame from a list or pandas.DataFrame, returns the RDD and schema.\u001B[39;00m\n",
       "\u001B[1;32m   1172\u001B[0m \u001B[38;5;124;03m    This would be broken with table acl enabled as user process does not have permission to\u001B[39;00m\n",
       "\u001B[1;32m   1173\u001B[0m \u001B[38;5;124;03m    write temp files.\u001B[39;00m\n",
       "\u001B[1;32m   1174\u001B[0m \u001B[38;5;124;03m    \"\"\"\u001B[39;00m\n",
       "\u001B[0;32m-> 1175\u001B[0m     internal_data, struct \u001B[38;5;241m=\u001B[39m \u001B[38;5;28;43mself\u001B[39;49m\u001B[38;5;241;43m.\u001B[39;49m\u001B[43m_wrap_data_schema\u001B[49m\u001B[43m(\u001B[49m\u001B[43mdata\u001B[49m\u001B[43m,\u001B[49m\u001B[43m \u001B[49m\u001B[43mschema\u001B[49m\u001B[43m)\u001B[49m\n",
       "\u001B[1;32m   1176\u001B[0m     \u001B[38;5;28;01mreturn\u001B[39;00m \u001B[38;5;28mself\u001B[39m\u001B[38;5;241m.\u001B[39m_sc\u001B[38;5;241m.\u001B[39mparallelize(internal_data), struct\n",
       "\n",
       "File \u001B[0;32m/databricks/spark/python/pyspark/sql/session.py:1142\u001B[0m, in \u001B[0;36mSparkSession._wrap_data_schema\u001B[0;34m(self, data, schema)\u001B[0m\n",
       "\u001B[1;32m   1139\u001B[0m     data \u001B[38;5;241m=\u001B[39m \u001B[38;5;28mlist\u001B[39m(data)\n",
       "\u001B[1;32m   1141\u001B[0m \u001B[38;5;28;01mif\u001B[39;00m schema \u001B[38;5;129;01mis\u001B[39;00m \u001B[38;5;28;01mNone\u001B[39;00m \u001B[38;5;129;01mor\u001B[39;00m \u001B[38;5;28misinstance\u001B[39m(schema, (\u001B[38;5;28mlist\u001B[39m, \u001B[38;5;28mtuple\u001B[39m)):\n",
       "\u001B[0;32m-> 1142\u001B[0m     struct \u001B[38;5;241m=\u001B[39m \u001B[38;5;28;43mself\u001B[39;49m\u001B[38;5;241;43m.\u001B[39;49m\u001B[43m_inferSchemaFromList\u001B[49m\u001B[43m(\u001B[49m\u001B[43mdata\u001B[49m\u001B[43m,\u001B[49m\u001B[43m \u001B[49m\u001B[43mnames\u001B[49m\u001B[38;5;241;43m=\u001B[39;49m\u001B[43mschema\u001B[49m\u001B[43m)\u001B[49m\n",
       "\u001B[1;32m   1143\u001B[0m     converter \u001B[38;5;241m=\u001B[39m _create_converter(struct)\n",
       "\u001B[1;32m   1144\u001B[0m     tupled_data: Iterable[Tuple] \u001B[38;5;241m=\u001B[39m \u001B[38;5;28mmap\u001B[39m(converter, data)\n",
       "\n",
       "File \u001B[0;32m/databricks/spark/python/pyspark/sql/session.py:1025\u001B[0m, in \u001B[0;36mSparkSession._inferSchemaFromList\u001B[0;34m(self, data, names)\u001B[0m\n",
       "\u001B[1;32m   1011\u001B[0m schema \u001B[38;5;241m=\u001B[39m reduce(\n",
       "\u001B[1;32m   1012\u001B[0m     _merge_type,\n",
       "\u001B[1;32m   1013\u001B[0m     (\n",
       "\u001B[0;32m   (...)\u001B[0m\n",
       "\u001B[1;32m   1022\u001B[0m     ),\n",
       "\u001B[1;32m   1023\u001B[0m )\n",
       "\u001B[1;32m   1024\u001B[0m \u001B[38;5;28;01mif\u001B[39;00m _has_nulltype(schema):\n",
       "\u001B[0;32m-> 1025\u001B[0m     \u001B[38;5;28;01mraise\u001B[39;00m PySparkValueError(\n",
       "\u001B[1;32m   1026\u001B[0m         error_class\u001B[38;5;241m=\u001B[39m\u001B[38;5;124m\"\u001B[39m\u001B[38;5;124mCANNOT_DETERMINE_TYPE\u001B[39m\u001B[38;5;124m\"\u001B[39m,\n",
       "\u001B[1;32m   1027\u001B[0m         message_parameters\u001B[38;5;241m=\u001B[39m{},\n",
       "\u001B[1;32m   1028\u001B[0m     )\n",
       "\u001B[1;32m   1029\u001B[0m \u001B[38;5;28;01mreturn\u001B[39;00m schema\n",
       "\n",
       "\u001B[0;31mPySparkValueError\u001B[0m: [CANNOT_DETERMINE_TYPE] Some of types cannot be determined after inferring."
      ]
     },
     "metadata": {
      "application/vnd.databricks.v1+output": {
       "addedWidgets": {},
       "arguments": {},
       "datasetInfos": [],
       "jupyterProps": {
        "ename": "PySparkValueError",
        "evalue": "[CANNOT_DETERMINE_TYPE] Some of types cannot be determined after inferring."
       },
       "metadata": {
        "errorSummary": "[CANNOT_DETERMINE_TYPE] Some of types cannot be determined after inferring."
       },
       "removedWidgets": [],
       "sqlProps": {
        "errorClass": "CANNOT_DETERMINE_TYPE",
        "sqlState": null,
        "startIndex": null,
        "stopIndex": null
       },
       "stackFrames": [
        "\u001B[0;31m---------------------------------------------------------------------------\u001B[0m",
        "\u001B[0;31mPySparkValueError\u001B[0m                         Traceback (most recent call last)",
        "File \u001B[0;32m<command-684093837395957>, line 1\u001B[0m\n\u001B[0;32m----> 1\u001B[0m \u001B[43mdisplay\u001B[49m\u001B[43m(\u001B[49m\u001B[43mdf\u001B[49m\u001B[38;5;241;43m.\u001B[39;49m\u001B[43mhead\u001B[49m\u001B[43m(\u001B[49m\u001B[38;5;241;43m10\u001B[39;49m\u001B[43m)\u001B[49m\u001B[43m)\u001B[49m\n",
        "File \u001B[0;32m/databricks/python_shell/dbruntime/display.py:204\u001B[0m, in \u001B[0;36mDisplay.display\u001B[0;34m(self, input, *args, **kwargs)\u001B[0m\n\u001B[1;32m    202\u001B[0m         \u001B[38;5;28mself\u001B[39m\u001B[38;5;241m.\u001B[39madd_custom_display_data(\u001B[38;5;124m\"\u001B[39m\u001B[38;5;124mtable\u001B[39m\u001B[38;5;124m\"\u001B[39m, serialized_plan)\n\u001B[1;32m    203\u001B[0m \u001B[38;5;28;01melif\u001B[39;00m \u001B[38;5;28misinstance\u001B[39m(\u001B[38;5;28minput\u001B[39m, \u001B[38;5;28mlist\u001B[39m):\n\u001B[0;32m--> 204\u001B[0m     \u001B[38;5;28mself\u001B[39m\u001B[38;5;241m.\u001B[39mdisplay(\u001B[38;5;28;43mself\u001B[39;49m\u001B[38;5;241;43m.\u001B[39;49m\u001B[43msparkSession\u001B[49m\u001B[38;5;241;43m.\u001B[39;49m\u001B[43mcreateDataFrame\u001B[49m\u001B[43m(\u001B[49m\u001B[38;5;28;43minput\u001B[39;49m\u001B[43m)\u001B[49m)\n\u001B[1;32m    205\u001B[0m \u001B[38;5;28;01melif\u001B[39;00m \u001B[38;5;28mtype\u001B[39m(\u001B[38;5;28minput\u001B[39m)\u001B[38;5;241m.\u001B[39m\u001B[38;5;18m__module__\u001B[39m \u001B[38;5;241m==\u001B[39m \u001B[38;5;124m'\u001B[39m\u001B[38;5;124mpandas.core.frame\u001B[39m\u001B[38;5;124m'\u001B[39m \u001B[38;5;129;01mand\u001B[39;00m \u001B[38;5;28mtype\u001B[39m(\u001B[38;5;28minput\u001B[39m)\u001B[38;5;241m.\u001B[39m\u001B[38;5;18m__name__\u001B[39m \u001B[38;5;241m==\u001B[39m \u001B[38;5;124m'\u001B[39m\u001B[38;5;124mDataFrame\u001B[39m\u001B[38;5;124m'\u001B[39m:\n\u001B[1;32m    206\u001B[0m     \u001B[38;5;28mself\u001B[39m\u001B[38;5;241m.\u001B[39mdisplay(\u001B[38;5;28mself\u001B[39m\u001B[38;5;241m.\u001B[39msparkSession\u001B[38;5;241m.\u001B[39mcreateDataFrame(\u001B[38;5;28minput\u001B[39m))\n",
        "File \u001B[0;32m/databricks/spark/python/pyspark/instrumentation_utils.py:47\u001B[0m, in \u001B[0;36m_wrap_function.<locals>.wrapper\u001B[0;34m(*args, **kwargs)\u001B[0m\n\u001B[1;32m     45\u001B[0m start \u001B[38;5;241m=\u001B[39m time\u001B[38;5;241m.\u001B[39mperf_counter()\n\u001B[1;32m     46\u001B[0m \u001B[38;5;28;01mtry\u001B[39;00m:\n\u001B[0;32m---> 47\u001B[0m     res \u001B[38;5;241m=\u001B[39m \u001B[43mfunc\u001B[49m\u001B[43m(\u001B[49m\u001B[38;5;241;43m*\u001B[39;49m\u001B[43margs\u001B[49m\u001B[43m,\u001B[49m\u001B[43m \u001B[49m\u001B[38;5;241;43m*\u001B[39;49m\u001B[38;5;241;43m*\u001B[39;49m\u001B[43mkwargs\u001B[49m\u001B[43m)\u001B[49m\n\u001B[1;32m     48\u001B[0m     logger\u001B[38;5;241m.\u001B[39mlog_success(\n\u001B[1;32m     49\u001B[0m         module_name, class_name, function_name, time\u001B[38;5;241m.\u001B[39mperf_counter() \u001B[38;5;241m-\u001B[39m start, signature\n\u001B[1;32m     50\u001B[0m     )\n\u001B[1;32m     51\u001B[0m     \u001B[38;5;28;01mreturn\u001B[39;00m res\n",
        "File \u001B[0;32m/databricks/spark/python/pyspark/sql/session.py:1547\u001B[0m, in \u001B[0;36mSparkSession.createDataFrame\u001B[0;34m(self, data, schema, samplingRatio, verifySchema)\u001B[0m\n\u001B[1;32m   1542\u001B[0m \u001B[38;5;28;01mif\u001B[39;00m has_pandas \u001B[38;5;129;01mand\u001B[39;00m \u001B[38;5;28misinstance\u001B[39m(data, pd\u001B[38;5;241m.\u001B[39mDataFrame):\n\u001B[1;32m   1543\u001B[0m     \u001B[38;5;66;03m# Create a DataFrame from pandas DataFrame.\u001B[39;00m\n\u001B[1;32m   1544\u001B[0m     \u001B[38;5;28;01mreturn\u001B[39;00m \u001B[38;5;28msuper\u001B[39m(SparkSession, \u001B[38;5;28mself\u001B[39m)\u001B[38;5;241m.\u001B[39mcreateDataFrame(  \u001B[38;5;66;03m# type: ignore[call-overload]\u001B[39;00m\n\u001B[1;32m   1545\u001B[0m         data, schema, samplingRatio, verifySchema\n\u001B[1;32m   1546\u001B[0m     )\n\u001B[0;32m-> 1547\u001B[0m \u001B[38;5;28;01mreturn\u001B[39;00m \u001B[38;5;28;43mself\u001B[39;49m\u001B[38;5;241;43m.\u001B[39;49m\u001B[43m_create_dataframe\u001B[49m\u001B[43m(\u001B[49m\n\u001B[1;32m   1548\u001B[0m \u001B[43m    \u001B[49m\u001B[43mdata\u001B[49m\u001B[43m,\u001B[49m\u001B[43m \u001B[49m\u001B[43mschema\u001B[49m\u001B[43m,\u001B[49m\u001B[43m \u001B[49m\u001B[43msamplingRatio\u001B[49m\u001B[43m,\u001B[49m\u001B[43m \u001B[49m\u001B[43mverifySchema\u001B[49m\u001B[43m  \u001B[49m\u001B[38;5;66;43;03m# type: ignore[arg-type]\u001B[39;49;00m\n\u001B[1;32m   1549\u001B[0m \u001B[43m\u001B[49m\u001B[43m)\u001B[49m\n",
        "File \u001B[0;32m/databricks/spark/python/pyspark/sql/session.py:1597\u001B[0m, in \u001B[0;36mSparkSession._create_dataframe\u001B[0;34m(self, data, schema, samplingRatio, verifySchema)\u001B[0m\n\u001B[1;32m   1595\u001B[0m     rdd, struct \u001B[38;5;241m=\u001B[39m \u001B[38;5;28mself\u001B[39m\u001B[38;5;241m.\u001B[39m_createFromRDD(data\u001B[38;5;241m.\u001B[39mmap(prepare), schema, samplingRatio)\n\u001B[1;32m   1596\u001B[0m \u001B[38;5;28;01melse\u001B[39;00m:\n\u001B[0;32m-> 1597\u001B[0m     rdd, struct \u001B[38;5;241m=\u001B[39m \u001B[38;5;28;43mself\u001B[39;49m\u001B[38;5;241;43m.\u001B[39;49m\u001B[43m_createFromLocal\u001B[49m\u001B[43m(\u001B[49m\u001B[38;5;28;43mmap\u001B[39;49m\u001B[43m(\u001B[49m\u001B[43mprepare\u001B[49m\u001B[43m,\u001B[49m\u001B[43m \u001B[49m\u001B[43mdata\u001B[49m\u001B[43m)\u001B[49m\u001B[43m,\u001B[49m\u001B[43m \u001B[49m\u001B[43mschema\u001B[49m\u001B[43m)\u001B[49m\n\u001B[1;32m   1598\u001B[0m jrdd \u001B[38;5;241m=\u001B[39m \u001B[38;5;28mself\u001B[39m\u001B[38;5;241m.\u001B[39m_jvm\u001B[38;5;241m.\u001B[39mSerDeUtil\u001B[38;5;241m.\u001B[39mtoJavaArray(rdd\u001B[38;5;241m.\u001B[39m_to_java_object_rdd())\n\u001B[1;32m   1599\u001B[0m jdf \u001B[38;5;241m=\u001B[39m \u001B[38;5;28mself\u001B[39m\u001B[38;5;241m.\u001B[39m_jsparkSession\u001B[38;5;241m.\u001B[39mapplySchemaToPythonRDD(jrdd\u001B[38;5;241m.\u001B[39mrdd(), struct\u001B[38;5;241m.\u001B[39mjson())\n",
        "File \u001B[0;32m/databricks/spark/python/pyspark/sql/session.py:1175\u001B[0m, in \u001B[0;36mSparkSession._createFromLocal\u001B[0;34m(self, data, schema)\u001B[0m\n\u001B[1;32m   1167\u001B[0m \u001B[38;5;28;01mdef\u001B[39;00m \u001B[38;5;21m_createFromLocal\u001B[39m(\n\u001B[1;32m   1168\u001B[0m     \u001B[38;5;28mself\u001B[39m, data: Iterable[Any], schema: Optional[Union[DataType, List[\u001B[38;5;28mstr\u001B[39m]]]\n\u001B[1;32m   1169\u001B[0m ) \u001B[38;5;241m-\u001B[39m\u001B[38;5;241m>\u001B[39m Tuple[\u001B[38;5;124m\"\u001B[39m\u001B[38;5;124mRDD[Tuple]\u001B[39m\u001B[38;5;124m\"\u001B[39m, StructType]:\n\u001B[1;32m   1170\u001B[0m     \u001B[38;5;124;03m\"\"\"\u001B[39;00m\n\u001B[1;32m   1171\u001B[0m \u001B[38;5;124;03m    Create an RDD for DataFrame from a list or pandas.DataFrame, returns the RDD and schema.\u001B[39;00m\n\u001B[1;32m   1172\u001B[0m \u001B[38;5;124;03m    This would be broken with table acl enabled as user process does not have permission to\u001B[39;00m\n\u001B[1;32m   1173\u001B[0m \u001B[38;5;124;03m    write temp files.\u001B[39;00m\n\u001B[1;32m   1174\u001B[0m \u001B[38;5;124;03m    \"\"\"\u001B[39;00m\n\u001B[0;32m-> 1175\u001B[0m     internal_data, struct \u001B[38;5;241m=\u001B[39m \u001B[38;5;28;43mself\u001B[39;49m\u001B[38;5;241;43m.\u001B[39;49m\u001B[43m_wrap_data_schema\u001B[49m\u001B[43m(\u001B[49m\u001B[43mdata\u001B[49m\u001B[43m,\u001B[49m\u001B[43m \u001B[49m\u001B[43mschema\u001B[49m\u001B[43m)\u001B[49m\n\u001B[1;32m   1176\u001B[0m     \u001B[38;5;28;01mreturn\u001B[39;00m \u001B[38;5;28mself\u001B[39m\u001B[38;5;241m.\u001B[39m_sc\u001B[38;5;241m.\u001B[39mparallelize(internal_data), struct\n",
        "File \u001B[0;32m/databricks/spark/python/pyspark/sql/session.py:1142\u001B[0m, in \u001B[0;36mSparkSession._wrap_data_schema\u001B[0;34m(self, data, schema)\u001B[0m\n\u001B[1;32m   1139\u001B[0m     data \u001B[38;5;241m=\u001B[39m \u001B[38;5;28mlist\u001B[39m(data)\n\u001B[1;32m   1141\u001B[0m \u001B[38;5;28;01mif\u001B[39;00m schema \u001B[38;5;129;01mis\u001B[39;00m \u001B[38;5;28;01mNone\u001B[39;00m \u001B[38;5;129;01mor\u001B[39;00m \u001B[38;5;28misinstance\u001B[39m(schema, (\u001B[38;5;28mlist\u001B[39m, \u001B[38;5;28mtuple\u001B[39m)):\n\u001B[0;32m-> 1142\u001B[0m     struct \u001B[38;5;241m=\u001B[39m \u001B[38;5;28;43mself\u001B[39;49m\u001B[38;5;241;43m.\u001B[39;49m\u001B[43m_inferSchemaFromList\u001B[49m\u001B[43m(\u001B[49m\u001B[43mdata\u001B[49m\u001B[43m,\u001B[49m\u001B[43m \u001B[49m\u001B[43mnames\u001B[49m\u001B[38;5;241;43m=\u001B[39;49m\u001B[43mschema\u001B[49m\u001B[43m)\u001B[49m\n\u001B[1;32m   1143\u001B[0m     converter \u001B[38;5;241m=\u001B[39m _create_converter(struct)\n\u001B[1;32m   1144\u001B[0m     tupled_data: Iterable[Tuple] \u001B[38;5;241m=\u001B[39m \u001B[38;5;28mmap\u001B[39m(converter, data)\n",
        "File \u001B[0;32m/databricks/spark/python/pyspark/sql/session.py:1025\u001B[0m, in \u001B[0;36mSparkSession._inferSchemaFromList\u001B[0;34m(self, data, names)\u001B[0m\n\u001B[1;32m   1011\u001B[0m schema \u001B[38;5;241m=\u001B[39m reduce(\n\u001B[1;32m   1012\u001B[0m     _merge_type,\n\u001B[1;32m   1013\u001B[0m     (\n\u001B[0;32m   (...)\u001B[0m\n\u001B[1;32m   1022\u001B[0m     ),\n\u001B[1;32m   1023\u001B[0m )\n\u001B[1;32m   1024\u001B[0m \u001B[38;5;28;01mif\u001B[39;00m _has_nulltype(schema):\n\u001B[0;32m-> 1025\u001B[0m     \u001B[38;5;28;01mraise\u001B[39;00m PySparkValueError(\n\u001B[1;32m   1026\u001B[0m         error_class\u001B[38;5;241m=\u001B[39m\u001B[38;5;124m\"\u001B[39m\u001B[38;5;124mCANNOT_DETERMINE_TYPE\u001B[39m\u001B[38;5;124m\"\u001B[39m,\n\u001B[1;32m   1027\u001B[0m         message_parameters\u001B[38;5;241m=\u001B[39m{},\n\u001B[1;32m   1028\u001B[0m     )\n\u001B[1;32m   1029\u001B[0m \u001B[38;5;28;01mreturn\u001B[39;00m schema\n",
        "\u001B[0;31mPySparkValueError\u001B[0m: [CANNOT_DETERMINE_TYPE] Some of types cannot be determined after inferring."
       ],
       "type": "baseError"
      }
     },
     "output_type": "display_data"
    }
   ],
   "source": [
    "display(df.head(10))"
   ]
  },
  {
   "cell_type": "code",
   "execution_count": 0,
   "metadata": {
    "application/vnd.databricks.v1+cell": {
     "cellMetadata": {
      "byteLimit": 2048000,
      "rowLimit": 10000
     },
     "inputWidgets": {},
     "nuid": "72fd495d-a2bd-4c26-be5f-6e4b546a9387",
     "showTitle": false,
     "title": ""
    }
   },
   "outputs": [],
   "source": [
    "df_json = spark.read.format(\"json\")\\\n",
    "    .option(\"mode\", \"FAILFAST\")\\\n",
    "    .option(\"inferSchema\", \"True\")\\\n",
    "    .load(\"/FileStore/tables/2010_S_1.JSO\")"
   ]
  },
  {
   "cell_type": "code",
   "execution_count": 0,
   "metadata": {
    "application/vnd.databricks.v1+cell": {
     "cellMetadata": {
      "byteLimit": 2048000,
      "rowLimit": 10000
     },
     "inputWidgets": {},
     "nuid": "a3295d2a-7f2f-4fc2-927c-74e909afd670",
     "showTitle": false,
     "title": ""
    }
   },
   "outputs": [
    {
     "output_type": "stream",
     "name": "stdout",
     "output_type": "stream",
     "text": [
      "root\n |-- DEST_COUNTRY_NAME: string (nullable = true)\n |-- ORIGIN_COUNTRY_NAME: string (nullable = true)\n |-- count: long (nullable = true)\n\n"
     ]
    }
   ],
   "source": [
    "df_json.printSchema()"
   ]
  },
  {
   "cell_type": "code",
   "execution_count": 0,
   "metadata": {
    "application/vnd.databricks.v1+cell": {
     "cellMetadata": {
      "byteLimit": 2048000,
      "rowLimit": 10000
     },
     "inputWidgets": {},
     "nuid": "8bc61c58-69d0-46d2-8aa8-bd113d6959c4",
     "showTitle": false,
     "title": ""
    }
   },
   "outputs": [
    {
     "output_type": "display_data",
     "data": {
      "text/html": [
       "<style scoped>\n",
       "  .table-result-container {\n",
       "    max-height: 300px;\n",
       "    overflow: auto;\n",
       "  }\n",
       "  table, th, td {\n",
       "    border: 1px solid black;\n",
       "    border-collapse: collapse;\n",
       "  }\n",
       "  th, td {\n",
       "    padding: 5px;\n",
       "  }\n",
       "  th {\n",
       "    text-align: left;\n",
       "  }\n",
       "</style><div class='table-result-container'><table class='table-result'><thead style='background-color: white'><tr><th>DEST_COUNTRY_NAME</th><th>ORIGIN_COUNTRY_NAME</th><th>count</th></tr></thead><tbody><tr><td>United States</td><td>Romania</td><td>1</td></tr><tr><td>United States</td><td>Ireland</td><td>264</td></tr><tr><td>United States</td><td>India</td><td>69</td></tr><tr><td>Egypt</td><td>United States</td><td>24</td></tr><tr><td>Equatorial Guinea</td><td>United States</td><td>1</td></tr><tr><td>United States</td><td>Singapore</td><td>25</td></tr><tr><td>United States</td><td>Grenada</td><td>54</td></tr><tr><td>Costa Rica</td><td>United States</td><td>477</td></tr><tr><td>Senegal</td><td>United States</td><td>29</td></tr><tr><td>United States</td><td>Marshall Islands</td><td>44</td></tr><tr><td>Guyana</td><td>United States</td><td>17</td></tr><tr><td>United States</td><td>Sint Maarten</td><td>53</td></tr><tr><td>Malta</td><td>United States</td><td>1</td></tr><tr><td>Bolivia</td><td>United States</td><td>46</td></tr><tr><td>Anguilla</td><td>United States</td><td>21</td></tr><tr><td>Turks and Caicos Islands</td><td>United States</td><td>136</td></tr><tr><td>United States</td><td>Afghanistan</td><td>2</td></tr><tr><td>Saint Vincent and the Grenadines</td><td>United States</td><td>1</td></tr><tr><td>Italy</td><td>United States</td><td>390</td></tr><tr><td>United States</td><td>Russia</td><td>156</td></tr><tr><td>United States</td><td>Federated States of Micronesia</td><td>48</td></tr><tr><td>Pakistan</td><td>United States</td><td>9</td></tr><tr><td>United States</td><td>Netherlands</td><td>570</td></tr><tr><td>Iceland</td><td>United States</td><td>118</td></tr><tr><td>Marshall Islands</td><td>United States</td><td>77</td></tr><tr><td>Luxembourg</td><td>United States</td><td>91</td></tr><tr><td>Honduras</td><td>United States</td><td>391</td></tr><tr><td>The Bahamas</td><td>United States</td><td>903</td></tr><tr><td>El Salvador</td><td>United States</td><td>519</td></tr><tr><td>United States</td><td>Senegal</td><td>46</td></tr><tr><td>Samoa</td><td>United States</td><td>28</td></tr><tr><td>United States</td><td>Angola</td><td>18</td></tr><tr><td>Kazakhstan</td><td>United States</td><td>3</td></tr><tr><td>Switzerland</td><td>United States</td><td>315</td></tr><tr><td>United States</td><td>Anguilla</td><td>20</td></tr><tr><td>Sint Maarten</td><td>United States</td><td>61</td></tr><tr><td>Hong Kong</td><td>United States</td><td>252</td></tr><tr><td>Trinidad and Tobago</td><td>United States</td><td>187</td></tr><tr><td>Latvia</td><td>United States</td><td>12</td></tr><tr><td>United States</td><td>Ecuador</td><td>345</td></tr><tr><td>Slovakia</td><td>United States</td><td>1</td></tr><tr><td>Suriname</td><td>United States</td><td>12</td></tr><tr><td>Mexico</td><td>United States</td><td>6200</td></tr><tr><td>United States</td><td>Cyprus</td><td>1</td></tr><tr><td>Ecuador</td><td>United States</td><td>272</td></tr><tr><td>United States</td><td>Bosnia and Herzegovina</td><td>1</td></tr><tr><td>United States</td><td>Portugal</td><td>104</td></tr><tr><td>United States</td><td>Costa Rica</td><td>501</td></tr><tr><td>United States</td><td>Guatemala</td><td>333</td></tr><tr><td>United States</td><td>Suriname</td><td>13</td></tr><tr><td>Colombia</td><td>United States</td><td>785</td></tr><tr><td>United States</td><td>Cape Verde</td><td>18</td></tr><tr><td>United States</td><td>Jamaica</td><td>757</td></tr><tr><td>United States</td><td>Malaysia</td><td>3</td></tr><tr><td>Norway</td><td>United States</td><td>29</td></tr><tr><td>United States</td><td>Morocco</td><td>16</td></tr><tr><td>Thailand</td><td>United States</td><td>16</td></tr><tr><td>Venezuela</td><td>United States</td><td>377</td></tr><tr><td>United States</td><td>Palau</td><td>30</td></tr><tr><td>United States</td><td>Samoa</td><td>28</td></tr><tr><td>United States</td><td>Algeria</td><td>1</td></tr><tr><td>United States</td><td>Venezuela</td><td>341</td></tr><tr><td>Panama</td><td>United States</td><td>355</td></tr><tr><td>United States</td><td>Finland</td><td>20</td></tr><tr><td>United States</td><td>Chile</td><td>176</td></tr><tr><td>Morocco</td><td>United States</td><td>16</td></tr><tr><td>United States</td><td>Greece</td><td>61</td></tr><tr><td>Antigua and Barbuda</td><td>United States</td><td>123</td></tr><tr><td>Azerbaijan</td><td>United States</td><td>1</td></tr><tr><td>United States</td><td>The Bahamas</td><td>959</td></tr><tr><td>New Zealand</td><td>United States</td><td>86</td></tr><tr><td>Liberia</td><td>United States</td><td>1</td></tr><tr><td>United States</td><td>Hong Kong</td><td>293</td></tr><tr><td>Hungary</td><td>United States</td><td>14</td></tr><tr><td>United States</td><td>China</td><td>505</td></tr><tr><td>United States</td><td>Vietnam</td><td>1</td></tr><tr><td>Sweden</td><td>United States</td><td>65</td></tr><tr><td>United States</td><td>Kuwait</td><td>25</td></tr><tr><td>United States</td><td>Dominican Republic</td><td>1150</td></tr><tr><td>United States</td><td>Egypt</td><td>25</td></tr><tr><td>Israel</td><td>United States</td><td>117</td></tr><tr><td>United States</td><td>United States</td><td>348113</td></tr><tr><td>United States</td><td>Luxembourg</td><td>90</td></tr><tr><td>Ethiopia</td><td>United States</td><td>12</td></tr><tr><td>United States</td><td>Poland</td><td>61</td></tr><tr><td>Martinique</td><td>United States</td><td>23</td></tr><tr><td>Saint Barthelemy</td><td>United States</td><td>28</td></tr><tr><td>United States</td><td>Saint Barthelemy</td><td>29</td></tr><tr><td>United States</td><td>Turkey</td><td>87</td></tr><tr><td>Barbados</td><td>United States</td><td>130</td></tr><tr><td>United States</td><td>Estonia</td><td>1</td></tr><tr><td>United States</td><td>Azerbaijan</td><td>1</td></tr><tr><td>Germany</td><td>United States</td><td>1392</td></tr><tr><td>Kyrgyzstan</td><td>United States</td><td>2</td></tr><tr><td>United States</td><td>South Korea</td><td>621</td></tr><tr><td>United States</td><td>El Salvador</td><td>464</td></tr><tr><td>Ireland</td><td>United States</td><td>231</td></tr><tr><td>United States</td><td>Hungary</td><td>15</td></tr><tr><td>United States</td><td>Serbia</td><td>1</td></tr><tr><td>Malaysia</td><td>United States</td><td>1</td></tr><tr><td>United States</td><td>Panama</td><td>363</td></tr><tr><td>United States</td><td>Ethiopia</td><td>12</td></tr><tr><td>United States</td><td>Aruba</td><td>349</td></tr><tr><td>United States</td><td>Thailand</td><td>13</td></tr><tr><td>United States</td><td>Netherlands Antilles</td><td>289</td></tr><tr><td>United States</td><td>Turks and Caicos Islands</td><td>147</td></tr><tr><td>Cyprus</td><td>United States</td><td>2</td></tr><tr><td>United States</td><td>Pakistan</td><td>15</td></tr><tr><td>United States</td><td>Honduras</td><td>393</td></tr><tr><td>Qatar</td><td>United States</td><td>41</td></tr><tr><td>Fiji</td><td>United States</td><td>53</td></tr><tr><td>Saint Kitts and Nevis</td><td>United States</td><td>113</td></tr><tr><td>Taiwan</td><td>United States</td><td>275</td></tr><tr><td>Haiti</td><td>United States</td><td>238</td></tr><tr><td>Kuwait</td><td>United States</td><td>26</td></tr><tr><td>Canada</td><td>United States</td><td>8271</td></tr><tr><td>Federated States of Micronesia</td><td>United States</td><td>46</td></tr><tr><td>United States</td><td>Liberia</td><td>1</td></tr><tr><td>Jamaica</td><td>United States</td><td>733</td></tr><tr><td>United States</td><td>Malta</td><td>2</td></tr><tr><td>Dominican Republic</td><td>United States</td><td>1109</td></tr><tr><td>Japan</td><td>United States</td><td>1383</td></tr><tr><td>United States</td><td>Saint Vincent and the Grenadines</td><td>16</td></tr><tr><td>United States</td><td>Guadeloupe</td><td>33</td></tr><tr><td>Finland</td><td>United States</td><td>24</td></tr><tr><td>United States</td><td>Ukraine</td><td>17</td></tr><tr><td>United States</td><td>France</td><td>776</td></tr><tr><td>United States</td><td>Norway</td><td>36</td></tr><tr><td>Aruba</td><td>United States</td><td>359</td></tr><tr><td>French Guiana</td><td>United States</td><td>4</td></tr><tr><td>United States</td><td>Kiribati</td><td>18</td></tr><tr><td>India</td><td>United States</td><td>66</td></tr><tr><td>British Virgin Islands</td><td>United States</td><td>49</td></tr><tr><td>United States</td><td>Germany</td><td>1406</td></tr><tr><td>Brazil</td><td>United States</td><td>995</td></tr><tr><td>United States</td><td>New Zealand</td><td>71</td></tr><tr><td>French Polynesia</td><td>United States</td><td>38</td></tr><tr><td>United Arab Emirates</td><td>United States</td><td>165</td></tr><tr><td>Singapore</td><td>United States</td><td>25</td></tr><tr><td>United States</td><td>Mexico</td><td>6220</td></tr><tr><td>Netherlands</td><td>United States</td><td>586</td></tr><tr><td>United States</td><td>Sweden</td><td>73</td></tr><tr><td>United States</td><td>Gabon</td><td>1</td></tr><tr><td>United States</td><td>Martinique</td><td>20</td></tr><tr><td>United States</td><td>United Arab Emirates</td><td>156</td></tr><tr><td>United States</td><td>Bulgaria</td><td>2</td></tr><tr><td>China</td><td>United States</td><td>448</td></tr><tr><td>Denmark</td><td>United States</td><td>98</td></tr><tr><td>United States</td><td>Philippines</td><td>116</td></tr><tr><td>United States</td><td>Nicaragua</td><td>181</td></tr><tr><td>United States</td><td>Belgium</td><td>355</td></tr><tr><td>Peru</td><td>United States</td><td>212</td></tr><tr><td>Argentina</td><td>United States</td><td>184</td></tr><tr><td>Cayman Islands</td><td>United States</td><td>247</td></tr><tr><td>South Africa</td><td>United States</td><td>25</td></tr><tr><td>United States</td><td>Iceland</td><td>129</td></tr><tr><td>United States</td><td>Argentina</td><td>159</td></tr><tr><td>Spain</td><td>United States</td><td>422</td></tr><tr><td>Netherlands Antilles</td><td>United States</td><td>286</td></tr><tr><td>Bermuda</td><td>United States</td><td>183</td></tr><tr><td>United States</td><td>Austria</td><td>34</td></tr><tr><td>United States</td><td>Nigeria</td><td>18</td></tr><tr><td>United States</td><td>Bonaire, Sint Eustatius, and Saba</td><td>16</td></tr><tr><td>Kiribati</td><td>United States</td><td>17</td></tr><tr><td>Saudi Arabia</td><td>United States</td><td>42</td></tr><tr><td>Czech Republic</td><td>United States</td><td>21</td></tr><tr><td>Belgium</td><td>United States</td><td>408</td></tr><tr><td>United States</td><td>Israel</td><td>122</td></tr><tr><td>United States</td><td>Bahrain</td><td>1</td></tr><tr><td>United States</td><td>Saint Lucia</td><td>121</td></tr><tr><td>Afghanistan</td><td>United States</td><td>11</td></tr><tr><td>United States</td><td>British Virgin Islands</td><td>47</td></tr><tr><td>Curacao</td><td>United States</td><td>20</td></tr><tr><td>Georgia</td><td>United States</td><td>2</td></tr><tr><td>United States</td><td>Guyana</td><td>20</td></tr><tr><td>United States</td><td>Denmark</td><td>107</td></tr><tr><td>Philippines</td><td>United States</td><td>132</td></tr><tr><td>Grenada</td><td>United States</td><td>65</td></tr><tr><td>Cape Verde</td><td>United States</td><td>18</td></tr><tr><td>Ukraine</td><td>United States</td><td>19</td></tr><tr><td>United States</td><td>Papua New Guinea</td><td>1</td></tr><tr><td>United States</td><td>Saudi Arabia</td><td>54</td></tr><tr><td>Russia</td><td>United States</td><td>152</td></tr><tr><td>Guatemala</td><td>United States</td><td>386</td></tr><tr><td>Saint Lucia</td><td>United States</td><td>116</td></tr><tr><td>Paraguay</td><td>United States</td><td>90</td></tr><tr><td>United States</td><td>Curacao</td><td>14</td></tr><tr><td>United States</td><td>Taiwan</td><td>252</td></tr><tr><td>United States</td><td>South Africa</td><td>15</td></tr><tr><td>Turkey</td><td>United States</td><td>75</td></tr><tr><td>United Kingdom</td><td>United States</td><td>1629</td></tr><tr><td>United States</td><td>Greenland</td><td>2</td></tr><tr><td>United States</td><td>Spain</td><td>442</td></tr><tr><td>Cuba</td><td>United States</td><td>243</td></tr><tr><td>United States</td><td>Italy</td><td>433</td></tr><tr><td>United States</td><td>Switzerland</td><td>334</td></tr><tr><td>Dominica</td><td>United States</td><td>28</td></tr><tr><td>United States</td><td>Japan</td><td>1307</td></tr><tr><td>Portugal</td><td>United States</td><td>102</td></tr><tr><td>United States</td><td>Brazil</td><td>578</td></tr><tr><td>Bahrain</td><td>United States</td><td>30</td></tr><tr><td>United States</td><td>Peru</td><td>284</td></tr><tr><td>Vietnam</td><td>United States</td><td>1</td></tr><tr><td>United States</td><td>United Kingdom</td><td>1503</td></tr><tr><td>United States</td><td>Belize</td><td>118</td></tr><tr><td>Belize</td><td>United States</td><td>121</td></tr><tr><td>United States</td><td>Ghana</td><td>28</td></tr><tr><td>United States</td><td>Indonesia</td><td>1</td></tr><tr><td>United States</td><td>Fiji</td><td>51</td></tr><tr><td>United States</td><td>Canada</td><td>8305</td></tr><tr><td>United States</td><td>French Polynesia</td><td>38</td></tr><tr><td>United States</td><td>Antigua and Barbuda</td><td>121</td></tr><tr><td>United States</td><td>Burkina Faso</td><td>1</td></tr><tr><td>Nicaragua</td><td>United States</td><td>178</td></tr><tr><td>United States</td><td>Latvia</td><td>13</td></tr><tr><td>United States</td><td>Dominica</td><td>32</td></tr><tr><td>United States</td><td>Czech Republic</td><td>22</td></tr><tr><td>United States</td><td>Australia</td><td>216</td></tr><tr><td>Austria</td><td>United States</td><td>36</td></tr><tr><td>United States</td><td>Cook Islands</td><td>12</td></tr><tr><td>Jordan</td><td>United States</td><td>50</td></tr><tr><td>Palau</td><td>United States</td><td>31</td></tr><tr><td>Uganda</td><td>United States</td><td>2</td></tr><tr><td>United States</td><td>Cameroon</td><td>1</td></tr><tr><td>South Korea</td><td>United States</td><td>683</td></tr><tr><td>Angola</td><td>United States</td><td>14</td></tr><tr><td>Ghana</td><td>United States</td><td>27</td></tr><tr><td>Guadeloupe</td><td>United States</td><td>40</td></tr><tr><td>France</td><td>United States</td><td>774</td></tr><tr><td>United States</td><td>Kyrgyzstan</td><td>12</td></tr><tr><td>Poland</td><td>United States</td><td>62</td></tr><tr><td>Nigeria</td><td>United States</td><td>16</td></tr><tr><td>United States</td><td>Uruguay</td><td>24</td></tr><tr><td>Greenland</td><td>United States</td><td>2</td></tr><tr><td>Chile</td><td>United States</td><td>166</td></tr><tr><td>United States</td><td>Bermuda</td><td>180</td></tr><tr><td>United States</td><td>Cuba</td><td>235</td></tr><tr><td>United States</td><td>Colombia</td><td>832</td></tr><tr><td>United States</td><td>Qatar</td><td>40</td></tr><tr><td>United States</td><td>Barbados</td><td>119</td></tr><tr><td>Australia</td><td>United States</td><td>290</td></tr><tr><td>United States</td><td>Jordan</td><td>51</td></tr><tr><td>United States</td><td>Cayman Islands</td><td>251</td></tr><tr><td>United States</td><td>Trinidad and Tobago</td><td>200</td></tr><tr><td>United States</td><td>Bolivia</td><td>39</td></tr><tr><td>United States</td><td>Slovakia</td><td>1</td></tr><tr><td>Uruguay</td><td>United States</td><td>54</td></tr><tr><td>Cook Islands</td><td>United States</td><td>13</td></tr><tr><td>United States</td><td>Saint Kitts and Nevis</td><td>127</td></tr><tr><td>Bulgaria</td><td>United States</td><td>1</td></tr><tr><td>United States</td><td>French Guiana</td><td>1</td></tr><tr><td>United States</td><td>Haiti</td><td>226</td></tr><tr><td>United States</td><td>Uganda</td><td>1</td></tr><tr><td>Bonaire, Sint Eustatius, and Saba</td><td>United States</td><td>16</td></tr><tr><td>Greece</td><td>United States</td><td>50</td></tr></tbody></table></div>"
      ]
     },
     "metadata": {
      "application/vnd.databricks.v1+output": {
       "addedWidgets": {},
       "aggData": [],
       "aggError": "",
       "aggOverflow": false,
       "aggSchema": [],
       "aggSeriesLimitReached": false,
       "aggType": "",
       "arguments": {},
       "columnCustomDisplayInfos": {},
       "data": [
        [
         "United States",
         "Romania",
         1
        ],
        [
         "United States",
         "Ireland",
         264
        ],
        [
         "United States",
         "India",
         69
        ],
        [
         "Egypt",
         "United States",
         24
        ],
        [
         "Equatorial Guinea",
         "United States",
         1
        ],
        [
         "United States",
         "Singapore",
         25
        ],
        [
         "United States",
         "Grenada",
         54
        ],
        [
         "Costa Rica",
         "United States",
         477
        ],
        [
         "Senegal",
         "United States",
         29
        ],
        [
         "United States",
         "Marshall Islands",
         44
        ],
        [
         "Guyana",
         "United States",
         17
        ],
        [
         "United States",
         "Sint Maarten",
         53
        ],
        [
         "Malta",
         "United States",
         1
        ],
        [
         "Bolivia",
         "United States",
         46
        ],
        [
         "Anguilla",
         "United States",
         21
        ],
        [
         "Turks and Caicos Islands",
         "United States",
         136
        ],
        [
         "United States",
         "Afghanistan",
         2
        ],
        [
         "Saint Vincent and the Grenadines",
         "United States",
         1
        ],
        [
         "Italy",
         "United States",
         390
        ],
        [
         "United States",
         "Russia",
         156
        ],
        [
         "United States",
         "Federated States of Micronesia",
         48
        ],
        [
         "Pakistan",
         "United States",
         9
        ],
        [
         "United States",
         "Netherlands",
         570
        ],
        [
         "Iceland",
         "United States",
         118
        ],
        [
         "Marshall Islands",
         "United States",
         77
        ],
        [
         "Luxembourg",
         "United States",
         91
        ],
        [
         "Honduras",
         "United States",
         391
        ],
        [
         "The Bahamas",
         "United States",
         903
        ],
        [
         "El Salvador",
         "United States",
         519
        ],
        [
         "United States",
         "Senegal",
         46
        ],
        [
         "Samoa",
         "United States",
         28
        ],
        [
         "United States",
         "Angola",
         18
        ],
        [
         "Kazakhstan",
         "United States",
         3
        ],
        [
         "Switzerland",
         "United States",
         315
        ],
        [
         "United States",
         "Anguilla",
         20
        ],
        [
         "Sint Maarten",
         "United States",
         61
        ],
        [
         "Hong Kong",
         "United States",
         252
        ],
        [
         "Trinidad and Tobago",
         "United States",
         187
        ],
        [
         "Latvia",
         "United States",
         12
        ],
        [
         "United States",
         "Ecuador",
         345
        ],
        [
         "Slovakia",
         "United States",
         1
        ],
        [
         "Suriname",
         "United States",
         12
        ],
        [
         "Mexico",
         "United States",
         6200
        ],
        [
         "United States",
         "Cyprus",
         1
        ],
        [
         "Ecuador",
         "United States",
         272
        ],
        [
         "United States",
         "Bosnia and Herzegovina",
         1
        ],
        [
         "United States",
         "Portugal",
         104
        ],
        [
         "United States",
         "Costa Rica",
         501
        ],
        [
         "United States",
         "Guatemala",
         333
        ],
        [
         "United States",
         "Suriname",
         13
        ],
        [
         "Colombia",
         "United States",
         785
        ],
        [
         "United States",
         "Cape Verde",
         18
        ],
        [
         "United States",
         "Jamaica",
         757
        ],
        [
         "United States",
         "Malaysia",
         3
        ],
        [
         "Norway",
         "United States",
         29
        ],
        [
         "United States",
         "Morocco",
         16
        ],
        [
         "Thailand",
         "United States",
         16
        ],
        [
         "Venezuela",
         "United States",
         377
        ],
        [
         "United States",
         "Palau",
         30
        ],
        [
         "United States",
         "Samoa",
         28
        ],
        [
         "United States",
         "Algeria",
         1
        ],
        [
         "United States",
         "Venezuela",
         341
        ],
        [
         "Panama",
         "United States",
         355
        ],
        [
         "United States",
         "Finland",
         20
        ],
        [
         "United States",
         "Chile",
         176
        ],
        [
         "Morocco",
         "United States",
         16
        ],
        [
         "United States",
         "Greece",
         61
        ],
        [
         "Antigua and Barbuda",
         "United States",
         123
        ],
        [
         "Azerbaijan",
         "United States",
         1
        ],
        [
         "United States",
         "The Bahamas",
         959
        ],
        [
         "New Zealand",
         "United States",
         86
        ],
        [
         "Liberia",
         "United States",
         1
        ],
        [
         "United States",
         "Hong Kong",
         293
        ],
        [
         "Hungary",
         "United States",
         14
        ],
        [
         "United States",
         "China",
         505
        ],
        [
         "United States",
         "Vietnam",
         1
        ],
        [
         "Sweden",
         "United States",
         65
        ],
        [
         "United States",
         "Kuwait",
         25
        ],
        [
         "United States",
         "Dominican Republic",
         1150
        ],
        [
         "United States",
         "Egypt",
         25
        ],
        [
         "Israel",
         "United States",
         117
        ],
        [
         "United States",
         "United States",
         348113
        ],
        [
         "United States",
         "Luxembourg",
         90
        ],
        [
         "Ethiopia",
         "United States",
         12
        ],
        [
         "United States",
         "Poland",
         61
        ],
        [
         "Martinique",
         "United States",
         23
        ],
        [
         "Saint Barthelemy",
         "United States",
         28
        ],
        [
         "United States",
         "Saint Barthelemy",
         29
        ],
        [
         "United States",
         "Turkey",
         87
        ],
        [
         "Barbados",
         "United States",
         130
        ],
        [
         "United States",
         "Estonia",
         1
        ],
        [
         "United States",
         "Azerbaijan",
         1
        ],
        [
         "Germany",
         "United States",
         1392
        ],
        [
         "Kyrgyzstan",
         "United States",
         2
        ],
        [
         "United States",
         "South Korea",
         621
        ],
        [
         "United States",
         "El Salvador",
         464
        ],
        [
         "Ireland",
         "United States",
         231
        ],
        [
         "United States",
         "Hungary",
         15
        ],
        [
         "United States",
         "Serbia",
         1
        ],
        [
         "Malaysia",
         "United States",
         1
        ],
        [
         "United States",
         "Panama",
         363
        ],
        [
         "United States",
         "Ethiopia",
         12
        ],
        [
         "United States",
         "Aruba",
         349
        ],
        [
         "United States",
         "Thailand",
         13
        ],
        [
         "United States",
         "Netherlands Antilles",
         289
        ],
        [
         "United States",
         "Turks and Caicos Islands",
         147
        ],
        [
         "Cyprus",
         "United States",
         2
        ],
        [
         "United States",
         "Pakistan",
         15
        ],
        [
         "United States",
         "Honduras",
         393
        ],
        [
         "Qatar",
         "United States",
         41
        ],
        [
         "Fiji",
         "United States",
         53
        ],
        [
         "Saint Kitts and Nevis",
         "United States",
         113
        ],
        [
         "Taiwan",
         "United States",
         275
        ],
        [
         "Haiti",
         "United States",
         238
        ],
        [
         "Kuwait",
         "United States",
         26
        ],
        [
         "Canada",
         "United States",
         8271
        ],
        [
         "Federated States of Micronesia",
         "United States",
         46
        ],
        [
         "United States",
         "Liberia",
         1
        ],
        [
         "Jamaica",
         "United States",
         733
        ],
        [
         "United States",
         "Malta",
         2
        ],
        [
         "Dominican Republic",
         "United States",
         1109
        ],
        [
         "Japan",
         "United States",
         1383
        ],
        [
         "United States",
         "Saint Vincent and the Grenadines",
         16
        ],
        [
         "United States",
         "Guadeloupe",
         33
        ],
        [
         "Finland",
         "United States",
         24
        ],
        [
         "United States",
         "Ukraine",
         17
        ],
        [
         "United States",
         "France",
         776
        ],
        [
         "United States",
         "Norway",
         36
        ],
        [
         "Aruba",
         "United States",
         359
        ],
        [
         "French Guiana",
         "United States",
         4
        ],
        [
         "United States",
         "Kiribati",
         18
        ],
        [
         "India",
         "United States",
         66
        ],
        [
         "British Virgin Islands",
         "United States",
         49
        ],
        [
         "United States",
         "Germany",
         1406
        ],
        [
         "Brazil",
         "United States",
         995
        ],
        [
         "United States",
         "New Zealand",
         71
        ],
        [
         "French Polynesia",
         "United States",
         38
        ],
        [
         "United Arab Emirates",
         "United States",
         165
        ],
        [
         "Singapore",
         "United States",
         25
        ],
        [
         "United States",
         "Mexico",
         6220
        ],
        [
         "Netherlands",
         "United States",
         586
        ],
        [
         "United States",
         "Sweden",
         73
        ],
        [
         "United States",
         "Gabon",
         1
        ],
        [
         "United States",
         "Martinique",
         20
        ],
        [
         "United States",
         "United Arab Emirates",
         156
        ],
        [
         "United States",
         "Bulgaria",
         2
        ],
        [
         "China",
         "United States",
         448
        ],
        [
         "Denmark",
         "United States",
         98
        ],
        [
         "United States",
         "Philippines",
         116
        ],
        [
         "United States",
         "Nicaragua",
         181
        ],
        [
         "United States",
         "Belgium",
         355
        ],
        [
         "Peru",
         "United States",
         212
        ],
        [
         "Argentina",
         "United States",
         184
        ],
        [
         "Cayman Islands",
         "United States",
         247
        ],
        [
         "South Africa",
         "United States",
         25
        ],
        [
         "United States",
         "Iceland",
         129
        ],
        [
         "United States",
         "Argentina",
         159
        ],
        [
         "Spain",
         "United States",
         422
        ],
        [
         "Netherlands Antilles",
         "United States",
         286
        ],
        [
         "Bermuda",
         "United States",
         183
        ],
        [
         "United States",
         "Austria",
         34
        ],
        [
         "United States",
         "Nigeria",
         18
        ],
        [
         "United States",
         "Bonaire, Sint Eustatius, and Saba",
         16
        ],
        [
         "Kiribati",
         "United States",
         17
        ],
        [
         "Saudi Arabia",
         "United States",
         42
        ],
        [
         "Czech Republic",
         "United States",
         21
        ],
        [
         "Belgium",
         "United States",
         408
        ],
        [
         "United States",
         "Israel",
         122
        ],
        [
         "United States",
         "Bahrain",
         1
        ],
        [
         "United States",
         "Saint Lucia",
         121
        ],
        [
         "Afghanistan",
         "United States",
         11
        ],
        [
         "United States",
         "British Virgin Islands",
         47
        ],
        [
         "Curacao",
         "United States",
         20
        ],
        [
         "Georgia",
         "United States",
         2
        ],
        [
         "United States",
         "Guyana",
         20
        ],
        [
         "United States",
         "Denmark",
         107
        ],
        [
         "Philippines",
         "United States",
         132
        ],
        [
         "Grenada",
         "United States",
         65
        ],
        [
         "Cape Verde",
         "United States",
         18
        ],
        [
         "Ukraine",
         "United States",
         19
        ],
        [
         "United States",
         "Papua New Guinea",
         1
        ],
        [
         "United States",
         "Saudi Arabia",
         54
        ],
        [
         "Russia",
         "United States",
         152
        ],
        [
         "Guatemala",
         "United States",
         386
        ],
        [
         "Saint Lucia",
         "United States",
         116
        ],
        [
         "Paraguay",
         "United States",
         90
        ],
        [
         "United States",
         "Curacao",
         14
        ],
        [
         "United States",
         "Taiwan",
         252
        ],
        [
         "United States",
         "South Africa",
         15
        ],
        [
         "Turkey",
         "United States",
         75
        ],
        [
         "United Kingdom",
         "United States",
         1629
        ],
        [
         "United States",
         "Greenland",
         2
        ],
        [
         "United States",
         "Spain",
         442
        ],
        [
         "Cuba",
         "United States",
         243
        ],
        [
         "United States",
         "Italy",
         433
        ],
        [
         "United States",
         "Switzerland",
         334
        ],
        [
         "Dominica",
         "United States",
         28
        ],
        [
         "United States",
         "Japan",
         1307
        ],
        [
         "Portugal",
         "United States",
         102
        ],
        [
         "United States",
         "Brazil",
         578
        ],
        [
         "Bahrain",
         "United States",
         30
        ],
        [
         "United States",
         "Peru",
         284
        ],
        [
         "Vietnam",
         "United States",
         1
        ],
        [
         "United States",
         "United Kingdom",
         1503
        ],
        [
         "United States",
         "Belize",
         118
        ],
        [
         "Belize",
         "United States",
         121
        ],
        [
         "United States",
         "Ghana",
         28
        ],
        [
         "United States",
         "Indonesia",
         1
        ],
        [
         "United States",
         "Fiji",
         51
        ],
        [
         "United States",
         "Canada",
         8305
        ],
        [
         "United States",
         "French Polynesia",
         38
        ],
        [
         "United States",
         "Antigua and Barbuda",
         121
        ],
        [
         "United States",
         "Burkina Faso",
         1
        ],
        [
         "Nicaragua",
         "United States",
         178
        ],
        [
         "United States",
         "Latvia",
         13
        ],
        [
         "United States",
         "Dominica",
         32
        ],
        [
         "United States",
         "Czech Republic",
         22
        ],
        [
         "United States",
         "Australia",
         216
        ],
        [
         "Austria",
         "United States",
         36
        ],
        [
         "United States",
         "Cook Islands",
         12
        ],
        [
         "Jordan",
         "United States",
         50
        ],
        [
         "Palau",
         "United States",
         31
        ],
        [
         "Uganda",
         "United States",
         2
        ],
        [
         "United States",
         "Cameroon",
         1
        ],
        [
         "South Korea",
         "United States",
         683
        ],
        [
         "Angola",
         "United States",
         14
        ],
        [
         "Ghana",
         "United States",
         27
        ],
        [
         "Guadeloupe",
         "United States",
         40
        ],
        [
         "France",
         "United States",
         774
        ],
        [
         "United States",
         "Kyrgyzstan",
         12
        ],
        [
         "Poland",
         "United States",
         62
        ],
        [
         "Nigeria",
         "United States",
         16
        ],
        [
         "United States",
         "Uruguay",
         24
        ],
        [
         "Greenland",
         "United States",
         2
        ],
        [
         "Chile",
         "United States",
         166
        ],
        [
         "United States",
         "Bermuda",
         180
        ],
        [
         "United States",
         "Cuba",
         235
        ],
        [
         "United States",
         "Colombia",
         832
        ],
        [
         "United States",
         "Qatar",
         40
        ],
        [
         "United States",
         "Barbados",
         119
        ],
        [
         "Australia",
         "United States",
         290
        ],
        [
         "United States",
         "Jordan",
         51
        ],
        [
         "United States",
         "Cayman Islands",
         251
        ],
        [
         "United States",
         "Trinidad and Tobago",
         200
        ],
        [
         "United States",
         "Bolivia",
         39
        ],
        [
         "United States",
         "Slovakia",
         1
        ],
        [
         "Uruguay",
         "United States",
         54
        ],
        [
         "Cook Islands",
         "United States",
         13
        ],
        [
         "United States",
         "Saint Kitts and Nevis",
         127
        ],
        [
         "Bulgaria",
         "United States",
         1
        ],
        [
         "United States",
         "French Guiana",
         1
        ],
        [
         "United States",
         "Haiti",
         226
        ],
        [
         "United States",
         "Uganda",
         1
        ],
        [
         "Bonaire, Sint Eustatius, and Saba",
         "United States",
         16
        ],
        [
         "Greece",
         "United States",
         50
        ]
       ],
       "datasetInfos": [],
       "dbfsResultPath": null,
       "isJsonSchema": true,
       "metadata": {},
       "overflow": false,
       "plotOptions": {
        "customPlotOptions": {},
        "displayType": "table",
        "pivotAggregation": null,
        "pivotColumns": null,
        "xColumns": null,
        "yColumns": null
       },
       "removedWidgets": [],
       "schema": [
        {
         "metadata": "{}",
         "name": "DEST_COUNTRY_NAME",
         "type": "\"string\""
        },
        {
         "metadata": "{}",
         "name": "ORIGIN_COUNTRY_NAME",
         "type": "\"string\""
        },
        {
         "metadata": "{}",
         "name": "count",
         "type": "\"long\""
        }
       ],
       "type": "table"
      }
     },
     "output_type": "display_data"
    }
   ],
   "source": [
    "display(df_json.collect())"
   ]
  },
  {
   "cell_type": "code",
   "execution_count": 0,
   "metadata": {
    "application/vnd.databricks.v1+cell": {
     "cellMetadata": {
      "byteLimit": 2048000,
      "rowLimit": 10000
     },
     "inputWidgets": {},
     "nuid": "dc370170-768b-4805-bd15-1d4864215b10",
     "showTitle": true,
     "title": "Escrevendo arquivos"
    }
   },
   "outputs": [],
   "source": [
    "df.write.format(\"csv\")\\\n",
    "    .mode(\"overwrite\")\\\n",
    "    .option(\"sep\", \",\")\\\n",
    "    .save(\"/FileStore/tables/spk/saida_1_2_3.csv\")"
   ]
  },
  {
   "cell_type": "code",
   "execution_count": 0,
   "metadata": {
    "application/vnd.databricks.v1+cell": {
     "cellMetadata": {
      "byteLimit": 2048000,
      "rowLimit": 10000
     },
     "inputWidgets": {},
     "nuid": "8bb69c14-bfa8-4ebe-8f9c-38359a895548",
     "showTitle": false,
     "title": ""
    }
   },
   "outputs": [],
   "source": [
    "file = \"dbfs:/FileStore/tables/spk/saida_1_2_3.csv/part-00000-tid-5532013621218704601-ab406a41-d768-474d-9323-ccd8316500a0-90-1-c000.csv\"\n",
    "df = spark.read.format(\"csv\")\\\n",
    "    .option(\"header\", \"true\")\\\n",
    "    .option(\"inferSchema\", \"true\")\\\n",
    "    .option(\"timestampFormat\", \"yyyy/MM/dd hh:mm:ss\")\\\n",
    "    .load(file)"
   ]
  },
  {
   "cell_type": "code",
   "execution_count": 0,
   "metadata": {
    "application/vnd.databricks.v1+cell": {
     "cellMetadata": {
      "byteLimit": 2048000,
      "rowLimit": 10000
     },
     "inputWidgets": {},
     "nuid": "d634baad-b8db-4ff9-ad5c-b349b314102e",
     "showTitle": false,
     "title": ""
    }
   },
   "outputs": [
    {
     "output_type": "stream",
     "name": "stdout",
     "output_type": "stream",
     "text": [
      "+------+------+----------------------------------+---+----+----+-------+--------------+\n|536365|85123A|WHITE HANGING HEART T-LIGHT HOLDER|  6| _c4|2.55|17850.0|United Kingdom|\n+------+------+----------------------------------+---+----+----+-------+--------------+\n|536365| 71053|               WHITE METAL LANTERN|  6|NULL|3.39|17850.0|United Kingdom|\n|536365|84406B|              CREAM CUPID HEART...|  8|NULL|2.75|17850.0|United Kingdom|\n|536365|84029G|              KNITTED UNION FLA...|  6|NULL|3.39|17850.0|United Kingdom|\n|536365|84029E|              RED WOOLLY HOTTIE...|  6|NULL|3.39|17850.0|United Kingdom|\n|536365| 22752|              SET 7 BABUSHKA NE...|  2|NULL|7.65|17850.0|United Kingdom|\n|536365| 21730|              GLASS STAR FROSTE...|  6|NULL|4.25|17850.0|United Kingdom|\n|536366| 22633|              HAND WARMER UNION...|  6|NULL|1.85|17850.0|United Kingdom|\n|536366| 22632|              HAND WARMER RED P...|  6|NULL|1.85|17850.0|United Kingdom|\n|536367| 84879|              ASSORTED COLOUR B...| 32|NULL|1.69|13047.0|United Kingdom|\n|536367| 22745|              POPPY'S PLAYHOUSE...|  6|NULL| 2.1|13047.0|United Kingdom|\n+------+------+----------------------------------+---+----+----+-------+--------------+\nonly showing top 10 rows\n\n"
     ]
    }
   ],
   "source": [
    "df.show(10)"
   ]
  },
  {
   "cell_type": "code",
   "execution_count": 0,
   "metadata": {
    "application/vnd.databricks.v1+cell": {
     "cellMetadata": {
      "byteLimit": 2048000,
      "rowLimit": 10000
     },
     "inputWidgets": {},
     "nuid": "60d88b09-d5b2-4aeb-8425-2814882627ed",
     "showTitle": false,
     "title": ""
    }
   },
   "outputs": [],
   "source": [
    "df.repartition(5).write.format(\"csv\")\\\n",
    "    .mode(\"overwrite\")\\\n",
    "    .option(\"sep\", \",\")\\\n",
    "    .save(\"/FileStore/tables/spk/saida_json_csv.CSV\")"
   ]
  },
  {
   "cell_type": "code",
   "execution_count": 0,
   "metadata": {
    "application/vnd.databricks.v1+cell": {
     "cellMetadata": {
      "byteLimit": 2048000,
      "rowLimit": 10000
     },
     "inputWidgets": {},
     "nuid": "2d70dae9-f6d6-446c-b317-8607668ac1c8",
     "showTitle": true,
     "title": "Arquivos Parquet"
    }
   },
   "outputs": [],
   "source": [
    "df = spark.read.format(\"csv\")\\\n",
    "    .option(\"header\", \"True\")\\\n",
    "    .option(\"inferSchema\", \"True\")\\\n",
    "    .load(\"/FileStore/tables/bigdata/*.csv\")"
   ]
  },
  {
   "cell_type": "code",
   "execution_count": 0,
   "metadata": {
    "application/vnd.databricks.v1+cell": {
     "cellMetadata": {
      "byteLimit": 2048000,
      "rowLimit": 10000
     },
     "inputWidgets": {},
     "nuid": "7ab095b5-c805-491f-8248-31b570a6ab78",
     "showTitle": false,
     "title": ""
    }
   },
   "outputs": [
    {
     "output_type": "display_data",
     "data": {
      "text/html": [
       "<style scoped>\n",
       "  .table-result-container {\n",
       "    max-height: 300px;\n",
       "    overflow: auto;\n",
       "  }\n",
       "  table, th, td {\n",
       "    border: 1px solid black;\n",
       "    border-collapse: collapse;\n",
       "  }\n",
       "  th, td {\n",
       "    padding: 5px;\n",
       "  }\n",
       "  th {\n",
       "    text-align: left;\n",
       "  }\n",
       "</style><div class='table-result-container'><table class='table-result'><thead style='background-color: white'><tr><th>practice</th><th>bnf_code</th><th>bnf_name</th><th>items</th><th>nic</th><th>act_cost</th><th>quantity</th></tr></thead><tbody><tr><td>5668</td><td>8092</td><td>592</td><td>2</td><td>44.1</td><td>40.84</td><td>189</td></tr><tr><td>1596</td><td>17512</td><td>16983</td><td>2</td><td>1.64</td><td>1.64</td><td>35</td></tr><tr><td>1596</td><td>25587</td><td>16124</td><td>1</td><td>1.26</td><td>1.28</td><td>42</td></tr><tr><td>1596</td><td>12551</td><td>1282</td><td>2</td><td>0.86</td><td>1.02</td><td>42</td></tr><tr><td>1596</td><td>18938</td><td>10575</td><td>1</td><td>1.85</td><td>1.82</td><td>56</td></tr><tr><td>1596</td><td>8777</td><td>21507</td><td>1</td><td>3.31</td><td>3.18</td><td>56</td></tr><tr><td>1596</td><td>9369</td><td>12008</td><td>1</td><td>63.15</td><td>58.56</td><td>56</td></tr><tr><td>1596</td><td>27926</td><td>17643</td><td>2</td><td>158.66</td><td>147.07</td><td>56</td></tr><tr><td>1596</td><td>26148</td><td>10230</td><td>1</td><td>0.35</td><td>0.44</td><td>14</td></tr><tr><td>1596</td><td>9148</td><td>3381</td><td>1</td><td>0.26</td><td>0.35</td><td>7</td></tr></tbody></table></div>"
      ]
     },
     "metadata": {
      "application/vnd.databricks.v1+output": {
       "addedWidgets": {},
       "aggData": [],
       "aggError": "",
       "aggOverflow": false,
       "aggSchema": [],
       "aggSeriesLimitReached": false,
       "aggType": "",
       "arguments": {},
       "columnCustomDisplayInfos": {},
       "data": [
        [
         5668,
         8092,
         592,
         2,
         44.1,
         40.84,
         189
        ],
        [
         1596,
         17512,
         16983,
         2,
         1.64,
         1.64,
         35
        ],
        [
         1596,
         25587,
         16124,
         1,
         1.26,
         1.28,
         42
        ],
        [
         1596,
         12551,
         1282,
         2,
         0.86,
         1.02,
         42
        ],
        [
         1596,
         18938,
         10575,
         1,
         1.85,
         1.82,
         56
        ],
        [
         1596,
         8777,
         21507,
         1,
         3.31,
         3.18,
         56
        ],
        [
         1596,
         9369,
         12008,
         1,
         63.15,
         58.56,
         56
        ],
        [
         1596,
         27926,
         17643,
         2,
         158.66,
         147.07,
         56
        ],
        [
         1596,
         26148,
         10230,
         1,
         0.35,
         0.44,
         14
        ],
        [
         1596,
         9148,
         3381,
         1,
         0.26,
         0.35,
         7
        ]
       ],
       "datasetInfos": [],
       "dbfsResultPath": null,
       "isJsonSchema": true,
       "metadata": {},
       "overflow": false,
       "plotOptions": {
        "customPlotOptions": {},
        "displayType": "table",
        "pivotAggregation": null,
        "pivotColumns": null,
        "xColumns": null,
        "yColumns": null
       },
       "removedWidgets": [],
       "schema": [
        {
         "metadata": "{}",
         "name": "practice",
         "type": "\"long\""
        },
        {
         "metadata": "{}",
         "name": "bnf_code",
         "type": "\"long\""
        },
        {
         "metadata": "{}",
         "name": "bnf_name",
         "type": "\"long\""
        },
        {
         "metadata": "{}",
         "name": "items",
         "type": "\"long\""
        },
        {
         "metadata": "{}",
         "name": "nic",
         "type": "\"double\""
        },
        {
         "metadata": "{}",
         "name": "act_cost",
         "type": "\"double\""
        },
        {
         "metadata": "{}",
         "name": "quantity",
         "type": "\"long\""
        }
       ],
       "type": "table"
      }
     },
     "output_type": "display_data"
    }
   ],
   "source": [
    "display(df.head(10))"
   ]
  },
  {
   "cell_type": "code",
   "execution_count": 0,
   "metadata": {
    "application/vnd.databricks.v1+cell": {
     "cellMetadata": {
      "byteLimit": 2048000,
      "rowLimit": 10000
     },
     "inputWidgets": {},
     "nuid": "7cbed58a-07d3-4eca-ae33-86c92fca4cb3",
     "showTitle": false,
     "title": ""
    }
   },
   "outputs": [
    {
     "output_type": "stream",
     "name": "stdout",
     "output_type": "stream",
     "text": [
      "root\n |-- practice: integer (nullable = true)\n |-- bnf_code: integer (nullable = true)\n |-- bnf_name: integer (nullable = true)\n |-- items: integer (nullable = true)\n |-- nic: double (nullable = true)\n |-- act_cost: double (nullable = true)\n |-- quantity: integer (nullable = true)\n\n"
     ]
    }
   ],
   "source": [
    "df.printSchema()"
   ]
  },
  {
   "cell_type": "code",
   "execution_count": 0,
   "metadata": {
    "application/vnd.databricks.v1+cell": {
     "cellMetadata": {
      "byteLimit": 2048000,
      "rowLimit": 10000
     },
     "inputWidgets": {},
     "nuid": "e1c6583a-7187-43f3-b7ae-1f063ee6828e",
     "showTitle": false,
     "title": ""
    }
   },
   "outputs": [
    {
     "output_type": "execute_result",
     "data": {
      "text/plain": [
       "131004583"
      ]
     },
     "execution_count": 8,
     "metadata": {},
     "output_type": "execute_result"
    }
   ],
   "source": [
    "df.count()"
   ]
  },
  {
   "cell_type": "code",
   "execution_count": 0,
   "metadata": {
    "application/vnd.databricks.v1+cell": {
     "cellMetadata": {
      "byteLimit": 2048000,
      "rowLimit": 10000
     },
     "inputWidgets": {},
     "nuid": "066c6d2e-d6b7-4199-9739-992580e00b59",
     "showTitle": true,
     "title": "Convertendo df para parquet"
    }
   },
   "outputs": [],
   "source": [
    "df.write.format(\"parquet\")\\\n",
    "    .mode(\"overwrite\")\\\n",
    "    .save(\"/FileStore/tables/bigdata/parquet/df-parquet-file.parquet\")"
   ]
  },
  {
   "cell_type": "code",
   "execution_count": 0,
   "metadata": {
    "application/vnd.databricks.v1+cell": {
     "cellMetadata": {
      "byteLimit": 2048000,
      "rowLimit": 10000
     },
     "inputWidgets": {},
     "nuid": "bdd24ca0-ac64-46bd-bcd6-cfc4819096de",
     "showTitle": false,
     "title": ""
    }
   },
   "outputs": [
    {
     "output_type": "display_data",
     "data": {
      "text/html": [
       "<style scoped>\n",
       "  .table-result-container {\n",
       "    max-height: 300px;\n",
       "    overflow: auto;\n",
       "  }\n",
       "  table, th, td {\n",
       "    border: 1px solid black;\n",
       "    border-collapse: collapse;\n",
       "  }\n",
       "  th, td {\n",
       "    padding: 5px;\n",
       "  }\n",
       "  th {\n",
       "    text-align: left;\n",
       "  }\n",
       "</style><div class='table-result-container'><table class='table-result'><thead style='background-color: white'><tr><th>path</th><th>name</th><th>size</th><th>modificationTime</th></tr></thead><tbody><tr><td>dbfs:/FileStore/tables/bigdata/parquet/df-parquet-file.parquet/_SUCCESS</td><td>_SUCCESS</td><td>0</td><td>1708743207000</td></tr><tr><td>dbfs:/FileStore/tables/bigdata/parquet/df-parquet-file.parquet/_committed_7178134061574166413</td><td>_committed_7178134061574166413</td><td>3698</td><td>1708743207000</td></tr><tr><td>dbfs:/FileStore/tables/bigdata/parquet/df-parquet-file.parquet/_started_7178134061574166413</td><td>_started_7178134061574166413</td><td>0</td><td>1708742670000</td></tr><tr><td>dbfs:/FileStore/tables/bigdata/parquet/df-parquet-file.parquet/part-00000-tid-7178134061574166413-e310e25c-7073-42cc-9e54-45548c5083be-74-1-c000.snappy.parquet</td><td>part-00000-tid-7178134061574166413-e310e25c-7073-42cc-9e54-45548c5083be-74-1-c000.snappy.parquet</td><td>43318079</td><td>1708742805000</td></tr><tr><td>dbfs:/FileStore/tables/bigdata/parquet/df-parquet-file.parquet/part-00001-tid-7178134061574166413-e310e25c-7073-42cc-9e54-45548c5083be-75-1-c000.snappy.parquet</td><td>part-00001-tid-7178134061574166413-e310e25c-7073-42cc-9e54-45548c5083be-75-1-c000.snappy.parquet</td><td>43239368</td><td>1708742809000</td></tr><tr><td>dbfs:/FileStore/tables/bigdata/parquet/df-parquet-file.parquet/part-00002-tid-7178134061574166413-e310e25c-7073-42cc-9e54-45548c5083be-76-1-c000.snappy.parquet</td><td>part-00002-tid-7178134061574166413-e310e25c-7073-42cc-9e54-45548c5083be-76-1-c000.snappy.parquet</td><td>43410236</td><td>1708742807000</td></tr><tr><td>dbfs:/FileStore/tables/bigdata/parquet/df-parquet-file.parquet/part-00003-tid-7178134061574166413-e310e25c-7073-42cc-9e54-45548c5083be-77-1-c000.snappy.parquet</td><td>part-00003-tid-7178134061574166413-e310e25c-7073-42cc-9e54-45548c5083be-77-1-c000.snappy.parquet</td><td>43275526</td><td>1708742805000</td></tr><tr><td>dbfs:/FileStore/tables/bigdata/parquet/df-parquet-file.parquet/part-00004-tid-7178134061574166413-e310e25c-7073-42cc-9e54-45548c5083be-78-1-c000.snappy.parquet</td><td>part-00004-tid-7178134061574166413-e310e25c-7073-42cc-9e54-45548c5083be-78-1-c000.snappy.parquet</td><td>43278039</td><td>1708742811000</td></tr><tr><td>dbfs:/FileStore/tables/bigdata/parquet/df-parquet-file.parquet/part-00005-tid-7178134061574166413-e310e25c-7073-42cc-9e54-45548c5083be-79-1-c000.snappy.parquet</td><td>part-00005-tid-7178134061574166413-e310e25c-7073-42cc-9e54-45548c5083be-79-1-c000.snappy.parquet</td><td>43216420</td><td>1708742809000</td></tr><tr><td>dbfs:/FileStore/tables/bigdata/parquet/df-parquet-file.parquet/part-00006-tid-7178134061574166413-e310e25c-7073-42cc-9e54-45548c5083be-80-1-c000.snappy.parquet</td><td>part-00006-tid-7178134061574166413-e310e25c-7073-42cc-9e54-45548c5083be-80-1-c000.snappy.parquet</td><td>43302292</td><td>1708742809000</td></tr><tr><td>dbfs:/FileStore/tables/bigdata/parquet/df-parquet-file.parquet/part-00007-tid-7178134061574166413-e310e25c-7073-42cc-9e54-45548c5083be-81-1-c000.snappy.parquet</td><td>part-00007-tid-7178134061574166413-e310e25c-7073-42cc-9e54-45548c5083be-81-1-c000.snappy.parquet</td><td>43242136</td><td>1708742810000</td></tr><tr><td>dbfs:/FileStore/tables/bigdata/parquet/df-parquet-file.parquet/part-00008-tid-7178134061574166413-e310e25c-7073-42cc-9e54-45548c5083be-82-1-c000.snappy.parquet</td><td>part-00008-tid-7178134061574166413-e310e25c-7073-42cc-9e54-45548c5083be-82-1-c000.snappy.parquet</td><td>43502547</td><td>1708742919000</td></tr><tr><td>dbfs:/FileStore/tables/bigdata/parquet/df-parquet-file.parquet/part-00009-tid-7178134061574166413-e310e25c-7073-42cc-9e54-45548c5083be-83-1-c000.snappy.parquet</td><td>part-00009-tid-7178134061574166413-e310e25c-7073-42cc-9e54-45548c5083be-83-1-c000.snappy.parquet</td><td>43537462</td><td>1708742927000</td></tr><tr><td>dbfs:/FileStore/tables/bigdata/parquet/df-parquet-file.parquet/part-00010-tid-7178134061574166413-e310e25c-7073-42cc-9e54-45548c5083be-84-1-c000.snappy.parquet</td><td>part-00010-tid-7178134061574166413-e310e25c-7073-42cc-9e54-45548c5083be-84-1-c000.snappy.parquet</td><td>43475640</td><td>1708742947000</td></tr><tr><td>dbfs:/FileStore/tables/bigdata/parquet/df-parquet-file.parquet/part-00011-tid-7178134061574166413-e310e25c-7073-42cc-9e54-45548c5083be-85-1-c000.snappy.parquet</td><td>part-00011-tid-7178134061574166413-e310e25c-7073-42cc-9e54-45548c5083be-85-1-c000.snappy.parquet</td><td>43643728</td><td>1708742951000</td></tr><tr><td>dbfs:/FileStore/tables/bigdata/parquet/df-parquet-file.parquet/part-00012-tid-7178134061574166413-e310e25c-7073-42cc-9e54-45548c5083be-86-1-c000.snappy.parquet</td><td>part-00012-tid-7178134061574166413-e310e25c-7073-42cc-9e54-45548c5083be-86-1-c000.snappy.parquet</td><td>43523396</td><td>1708742949000</td></tr><tr><td>dbfs:/FileStore/tables/bigdata/parquet/df-parquet-file.parquet/part-00013-tid-7178134061574166413-e310e25c-7073-42cc-9e54-45548c5083be-87-1-c000.snappy.parquet</td><td>part-00013-tid-7178134061574166413-e310e25c-7073-42cc-9e54-45548c5083be-87-1-c000.snappy.parquet</td><td>43482887</td><td>1708742940000</td></tr><tr><td>dbfs:/FileStore/tables/bigdata/parquet/df-parquet-file.parquet/part-00014-tid-7178134061574166413-e310e25c-7073-42cc-9e54-45548c5083be-88-1-c000.snappy.parquet</td><td>part-00014-tid-7178134061574166413-e310e25c-7073-42cc-9e54-45548c5083be-88-1-c000.snappy.parquet</td><td>43448174</td><td>1708742953000</td></tr><tr><td>dbfs:/FileStore/tables/bigdata/parquet/df-parquet-file.parquet/part-00015-tid-7178134061574166413-e310e25c-7073-42cc-9e54-45548c5083be-89-1-c000.snappy.parquet</td><td>part-00015-tid-7178134061574166413-e310e25c-7073-42cc-9e54-45548c5083be-89-1-c000.snappy.parquet</td><td>43395557</td><td>1708742953000</td></tr><tr><td>dbfs:/FileStore/tables/bigdata/parquet/df-parquet-file.parquet/part-00016-tid-7178134061574166413-e310e25c-7073-42cc-9e54-45548c5083be-90-1-c000.snappy.parquet</td><td>part-00016-tid-7178134061574166413-e310e25c-7073-42cc-9e54-45548c5083be-90-1-c000.snappy.parquet</td><td>43301500</td><td>1708743031000</td></tr><tr><td>dbfs:/FileStore/tables/bigdata/parquet/df-parquet-file.parquet/part-00017-tid-7178134061574166413-e310e25c-7073-42cc-9e54-45548c5083be-91-1-c000.snappy.parquet</td><td>part-00017-tid-7178134061574166413-e310e25c-7073-42cc-9e54-45548c5083be-91-1-c000.snappy.parquet</td><td>43166612</td><td>1708743039000</td></tr><tr><td>dbfs:/FileStore/tables/bigdata/parquet/df-parquet-file.parquet/part-00018-tid-7178134061574166413-e310e25c-7073-42cc-9e54-45548c5083be-92-1-c000.snappy.parquet</td><td>part-00018-tid-7178134061574166413-e310e25c-7073-42cc-9e54-45548c5083be-92-1-c000.snappy.parquet</td><td>43091528</td><td>1708743059000</td></tr><tr><td>dbfs:/FileStore/tables/bigdata/parquet/df-parquet-file.parquet/part-00019-tid-7178134061574166413-e310e25c-7073-42cc-9e54-45548c5083be-93-1-c000.snappy.parquet</td><td>part-00019-tid-7178134061574166413-e310e25c-7073-42cc-9e54-45548c5083be-93-1-c000.snappy.parquet</td><td>43048545</td><td>1708743081000</td></tr><tr><td>dbfs:/FileStore/tables/bigdata/parquet/df-parquet-file.parquet/part-00020-tid-7178134061574166413-e310e25c-7073-42cc-9e54-45548c5083be-94-1-c000.snappy.parquet</td><td>part-00020-tid-7178134061574166413-e310e25c-7073-42cc-9e54-45548c5083be-94-1-c000.snappy.parquet</td><td>43448966</td><td>1708743080000</td></tr><tr><td>dbfs:/FileStore/tables/bigdata/parquet/df-parquet-file.parquet/part-00021-tid-7178134061574166413-e310e25c-7073-42cc-9e54-45548c5083be-95-1-c000.snappy.parquet</td><td>part-00021-tid-7178134061574166413-e310e25c-7073-42cc-9e54-45548c5083be-95-1-c000.snappy.parquet</td><td>43407916</td><td>1708743088000</td></tr><tr><td>dbfs:/FileStore/tables/bigdata/parquet/df-parquet-file.parquet/part-00022-tid-7178134061574166413-e310e25c-7073-42cc-9e54-45548c5083be-96-1-c000.snappy.parquet</td><td>part-00022-tid-7178134061574166413-e310e25c-7073-42cc-9e54-45548c5083be-96-1-c000.snappy.parquet</td><td>43159172</td><td>1708743087000</td></tr><tr><td>dbfs:/FileStore/tables/bigdata/parquet/df-parquet-file.parquet/part-00023-tid-7178134061574166413-e310e25c-7073-42cc-9e54-45548c5083be-97-1-c000.snappy.parquet</td><td>part-00023-tid-7178134061574166413-e310e25c-7073-42cc-9e54-45548c5083be-97-1-c000.snappy.parquet</td><td>43091423</td><td>1708743089000</td></tr><tr><td>dbfs:/FileStore/tables/bigdata/parquet/df-parquet-file.parquet/part-00024-tid-7178134061574166413-e310e25c-7073-42cc-9e54-45548c5083be-98-1-c000.snappy.parquet</td><td>part-00024-tid-7178134061574166413-e310e25c-7073-42cc-9e54-45548c5083be-98-1-c000.snappy.parquet</td><td>43479734</td><td>1708743159000</td></tr><tr><td>dbfs:/FileStore/tables/bigdata/parquet/df-parquet-file.parquet/part-00025-tid-7178134061574166413-e310e25c-7073-42cc-9e54-45548c5083be-99-1-c000.snappy.parquet</td><td>part-00025-tid-7178134061574166413-e310e25c-7073-42cc-9e54-45548c5083be-99-1-c000.snappy.parquet</td><td>43373698</td><td>1708743166000</td></tr><tr><td>dbfs:/FileStore/tables/bigdata/parquet/df-parquet-file.parquet/part-00026-tid-7178134061574166413-e310e25c-7073-42cc-9e54-45548c5083be-100-1-c000.snappy.parquet</td><td>part-00026-tid-7178134061574166413-e310e25c-7073-42cc-9e54-45548c5083be-100-1-c000.snappy.parquet</td><td>23343021</td><td>1708743126000</td></tr><tr><td>dbfs:/FileStore/tables/bigdata/parquet/df-parquet-file.parquet/part-00027-tid-7178134061574166413-e310e25c-7073-42cc-9e54-45548c5083be-101-1-c000.snappy.parquet</td><td>part-00027-tid-7178134061574166413-e310e25c-7073-42cc-9e54-45548c5083be-101-1-c000.snappy.parquet</td><td>22782637</td><td>1708743150000</td></tr><tr><td>dbfs:/FileStore/tables/bigdata/parquet/df-parquet-file.parquet/part-00028-tid-7178134061574166413-e310e25c-7073-42cc-9e54-45548c5083be-102-1-c000.snappy.parquet</td><td>part-00028-tid-7178134061574166413-e310e25c-7073-42cc-9e54-45548c5083be-102-1-c000.snappy.parquet</td><td>21982789</td><td>1708743147000</td></tr><tr><td>dbfs:/FileStore/tables/bigdata/parquet/df-parquet-file.parquet/part-00029-tid-7178134061574166413-e310e25c-7073-42cc-9e54-45548c5083be-103-1-c000.snappy.parquet</td><td>part-00029-tid-7178134061574166413-e310e25c-7073-42cc-9e54-45548c5083be-103-1-c000.snappy.parquet</td><td>21786707</td><td>1708743150000</td></tr><tr><td>dbfs:/FileStore/tables/bigdata/parquet/df-parquet-file.parquet/part-00030-tid-7178134061574166413-e310e25c-7073-42cc-9e54-45548c5083be-104-1-c000.snappy.parquet</td><td>part-00030-tid-7178134061574166413-e310e25c-7073-42cc-9e54-45548c5083be-104-1-c000.snappy.parquet</td><td>21704923</td><td>1708743154000</td></tr><tr><td>dbfs:/FileStore/tables/bigdata/parquet/df-parquet-file.parquet/part-00031-tid-7178134061574166413-e310e25c-7073-42cc-9e54-45548c5083be-105-1-c000.snappy.parquet</td><td>part-00031-tid-7178134061574166413-e310e25c-7073-42cc-9e54-45548c5083be-105-1-c000.snappy.parquet</td><td>21586087</td><td>1708743154000</td></tr><tr><td>dbfs:/FileStore/tables/bigdata/parquet/df-parquet-file.parquet/part-00032-tid-7178134061574166413-e310e25c-7073-42cc-9e54-45548c5083be-106-1-c000.snappy.parquet</td><td>part-00032-tid-7178134061574166413-e310e25c-7073-42cc-9e54-45548c5083be-106-1-c000.snappy.parquet</td><td>21453287</td><td>1708743180000</td></tr><tr><td>dbfs:/FileStore/tables/bigdata/parquet/df-parquet-file.parquet/part-00033-tid-7178134061574166413-e310e25c-7073-42cc-9e54-45548c5083be-107-1-c000.snappy.parquet</td><td>part-00033-tid-7178134061574166413-e310e25c-7073-42cc-9e54-45548c5083be-107-1-c000.snappy.parquet</td><td>21144703</td><td>1708743191000</td></tr><tr><td>dbfs:/FileStore/tables/bigdata/parquet/df-parquet-file.parquet/part-00034-tid-7178134061574166413-e310e25c-7073-42cc-9e54-45548c5083be-108-1-c000.snappy.parquet</td><td>part-00034-tid-7178134061574166413-e310e25c-7073-42cc-9e54-45548c5083be-108-1-c000.snappy.parquet</td><td>41865632</td><td>1708743207000</td></tr><tr><td>dbfs:/FileStore/tables/bigdata/parquet/df-parquet-file.parquet/part-00035-tid-7178134061574166413-e310e25c-7073-42cc-9e54-45548c5083be-109-1-c000.snappy.parquet</td><td>part-00035-tid-7178134061574166413-e310e25c-7073-42cc-9e54-45548c5083be-109-1-c000.snappy.parquet</td><td>38286426</td><td>1708743205000</td></tr><tr><td>dbfs:/FileStore/tables/bigdata/parquet/df-parquet-file.parquet/part-00036-tid-7178134061574166413-e310e25c-7073-42cc-9e54-45548c5083be-110-1-c000.snappy.parquet</td><td>part-00036-tid-7178134061574166413-e310e25c-7073-42cc-9e54-45548c5083be-110-1-c000.snappy.parquet</td><td>17500842</td><td>1708743188000</td></tr></tbody></table></div>"
      ]
     },
     "metadata": {
      "application/vnd.databricks.v1+output": {
       "addedWidgets": {},
       "aggData": [],
       "aggError": "",
       "aggOverflow": false,
       "aggSchema": [],
       "aggSeriesLimitReached": false,
       "aggType": "",
       "arguments": {},
       "columnCustomDisplayInfos": {},
       "data": [
        [
         "dbfs:/FileStore/tables/bigdata/parquet/df-parquet-file.parquet/_SUCCESS",
         "_SUCCESS",
         0,
         1708743207000
        ],
        [
         "dbfs:/FileStore/tables/bigdata/parquet/df-parquet-file.parquet/_committed_7178134061574166413",
         "_committed_7178134061574166413",
         3698,
         1708743207000
        ],
        [
         "dbfs:/FileStore/tables/bigdata/parquet/df-parquet-file.parquet/_started_7178134061574166413",
         "_started_7178134061574166413",
         0,
         1708742670000
        ],
        [
         "dbfs:/FileStore/tables/bigdata/parquet/df-parquet-file.parquet/part-00000-tid-7178134061574166413-e310e25c-7073-42cc-9e54-45548c5083be-74-1-c000.snappy.parquet",
         "part-00000-tid-7178134061574166413-e310e25c-7073-42cc-9e54-45548c5083be-74-1-c000.snappy.parquet",
         43318079,
         1708742805000
        ],
        [
         "dbfs:/FileStore/tables/bigdata/parquet/df-parquet-file.parquet/part-00001-tid-7178134061574166413-e310e25c-7073-42cc-9e54-45548c5083be-75-1-c000.snappy.parquet",
         "part-00001-tid-7178134061574166413-e310e25c-7073-42cc-9e54-45548c5083be-75-1-c000.snappy.parquet",
         43239368,
         1708742809000
        ],
        [
         "dbfs:/FileStore/tables/bigdata/parquet/df-parquet-file.parquet/part-00002-tid-7178134061574166413-e310e25c-7073-42cc-9e54-45548c5083be-76-1-c000.snappy.parquet",
         "part-00002-tid-7178134061574166413-e310e25c-7073-42cc-9e54-45548c5083be-76-1-c000.snappy.parquet",
         43410236,
         1708742807000
        ],
        [
         "dbfs:/FileStore/tables/bigdata/parquet/df-parquet-file.parquet/part-00003-tid-7178134061574166413-e310e25c-7073-42cc-9e54-45548c5083be-77-1-c000.snappy.parquet",
         "part-00003-tid-7178134061574166413-e310e25c-7073-42cc-9e54-45548c5083be-77-1-c000.snappy.parquet",
         43275526,
         1708742805000
        ],
        [
         "dbfs:/FileStore/tables/bigdata/parquet/df-parquet-file.parquet/part-00004-tid-7178134061574166413-e310e25c-7073-42cc-9e54-45548c5083be-78-1-c000.snappy.parquet",
         "part-00004-tid-7178134061574166413-e310e25c-7073-42cc-9e54-45548c5083be-78-1-c000.snappy.parquet",
         43278039,
         1708742811000
        ],
        [
         "dbfs:/FileStore/tables/bigdata/parquet/df-parquet-file.parquet/part-00005-tid-7178134061574166413-e310e25c-7073-42cc-9e54-45548c5083be-79-1-c000.snappy.parquet",
         "part-00005-tid-7178134061574166413-e310e25c-7073-42cc-9e54-45548c5083be-79-1-c000.snappy.parquet",
         43216420,
         1708742809000
        ],
        [
         "dbfs:/FileStore/tables/bigdata/parquet/df-parquet-file.parquet/part-00006-tid-7178134061574166413-e310e25c-7073-42cc-9e54-45548c5083be-80-1-c000.snappy.parquet",
         "part-00006-tid-7178134061574166413-e310e25c-7073-42cc-9e54-45548c5083be-80-1-c000.snappy.parquet",
         43302292,
         1708742809000
        ],
        [
         "dbfs:/FileStore/tables/bigdata/parquet/df-parquet-file.parquet/part-00007-tid-7178134061574166413-e310e25c-7073-42cc-9e54-45548c5083be-81-1-c000.snappy.parquet",
         "part-00007-tid-7178134061574166413-e310e25c-7073-42cc-9e54-45548c5083be-81-1-c000.snappy.parquet",
         43242136,
         1708742810000
        ],
        [
         "dbfs:/FileStore/tables/bigdata/parquet/df-parquet-file.parquet/part-00008-tid-7178134061574166413-e310e25c-7073-42cc-9e54-45548c5083be-82-1-c000.snappy.parquet",
         "part-00008-tid-7178134061574166413-e310e25c-7073-42cc-9e54-45548c5083be-82-1-c000.snappy.parquet",
         43502547,
         1708742919000
        ],
        [
         "dbfs:/FileStore/tables/bigdata/parquet/df-parquet-file.parquet/part-00009-tid-7178134061574166413-e310e25c-7073-42cc-9e54-45548c5083be-83-1-c000.snappy.parquet",
         "part-00009-tid-7178134061574166413-e310e25c-7073-42cc-9e54-45548c5083be-83-1-c000.snappy.parquet",
         43537462,
         1708742927000
        ],
        [
         "dbfs:/FileStore/tables/bigdata/parquet/df-parquet-file.parquet/part-00010-tid-7178134061574166413-e310e25c-7073-42cc-9e54-45548c5083be-84-1-c000.snappy.parquet",
         "part-00010-tid-7178134061574166413-e310e25c-7073-42cc-9e54-45548c5083be-84-1-c000.snappy.parquet",
         43475640,
         1708742947000
        ],
        [
         "dbfs:/FileStore/tables/bigdata/parquet/df-parquet-file.parquet/part-00011-tid-7178134061574166413-e310e25c-7073-42cc-9e54-45548c5083be-85-1-c000.snappy.parquet",
         "part-00011-tid-7178134061574166413-e310e25c-7073-42cc-9e54-45548c5083be-85-1-c000.snappy.parquet",
         43643728,
         1708742951000
        ],
        [
         "dbfs:/FileStore/tables/bigdata/parquet/df-parquet-file.parquet/part-00012-tid-7178134061574166413-e310e25c-7073-42cc-9e54-45548c5083be-86-1-c000.snappy.parquet",
         "part-00012-tid-7178134061574166413-e310e25c-7073-42cc-9e54-45548c5083be-86-1-c000.snappy.parquet",
         43523396,
         1708742949000
        ],
        [
         "dbfs:/FileStore/tables/bigdata/parquet/df-parquet-file.parquet/part-00013-tid-7178134061574166413-e310e25c-7073-42cc-9e54-45548c5083be-87-1-c000.snappy.parquet",
         "part-00013-tid-7178134061574166413-e310e25c-7073-42cc-9e54-45548c5083be-87-1-c000.snappy.parquet",
         43482887,
         1708742940000
        ],
        [
         "dbfs:/FileStore/tables/bigdata/parquet/df-parquet-file.parquet/part-00014-tid-7178134061574166413-e310e25c-7073-42cc-9e54-45548c5083be-88-1-c000.snappy.parquet",
         "part-00014-tid-7178134061574166413-e310e25c-7073-42cc-9e54-45548c5083be-88-1-c000.snappy.parquet",
         43448174,
         1708742953000
        ],
        [
         "dbfs:/FileStore/tables/bigdata/parquet/df-parquet-file.parquet/part-00015-tid-7178134061574166413-e310e25c-7073-42cc-9e54-45548c5083be-89-1-c000.snappy.parquet",
         "part-00015-tid-7178134061574166413-e310e25c-7073-42cc-9e54-45548c5083be-89-1-c000.snappy.parquet",
         43395557,
         1708742953000
        ],
        [
         "dbfs:/FileStore/tables/bigdata/parquet/df-parquet-file.parquet/part-00016-tid-7178134061574166413-e310e25c-7073-42cc-9e54-45548c5083be-90-1-c000.snappy.parquet",
         "part-00016-tid-7178134061574166413-e310e25c-7073-42cc-9e54-45548c5083be-90-1-c000.snappy.parquet",
         43301500,
         1708743031000
        ],
        [
         "dbfs:/FileStore/tables/bigdata/parquet/df-parquet-file.parquet/part-00017-tid-7178134061574166413-e310e25c-7073-42cc-9e54-45548c5083be-91-1-c000.snappy.parquet",
         "part-00017-tid-7178134061574166413-e310e25c-7073-42cc-9e54-45548c5083be-91-1-c000.snappy.parquet",
         43166612,
         1708743039000
        ],
        [
         "dbfs:/FileStore/tables/bigdata/parquet/df-parquet-file.parquet/part-00018-tid-7178134061574166413-e310e25c-7073-42cc-9e54-45548c5083be-92-1-c000.snappy.parquet",
         "part-00018-tid-7178134061574166413-e310e25c-7073-42cc-9e54-45548c5083be-92-1-c000.snappy.parquet",
         43091528,
         1708743059000
        ],
        [
         "dbfs:/FileStore/tables/bigdata/parquet/df-parquet-file.parquet/part-00019-tid-7178134061574166413-e310e25c-7073-42cc-9e54-45548c5083be-93-1-c000.snappy.parquet",
         "part-00019-tid-7178134061574166413-e310e25c-7073-42cc-9e54-45548c5083be-93-1-c000.snappy.parquet",
         43048545,
         1708743081000
        ],
        [
         "dbfs:/FileStore/tables/bigdata/parquet/df-parquet-file.parquet/part-00020-tid-7178134061574166413-e310e25c-7073-42cc-9e54-45548c5083be-94-1-c000.snappy.parquet",
         "part-00020-tid-7178134061574166413-e310e25c-7073-42cc-9e54-45548c5083be-94-1-c000.snappy.parquet",
         43448966,
         1708743080000
        ],
        [
         "dbfs:/FileStore/tables/bigdata/parquet/df-parquet-file.parquet/part-00021-tid-7178134061574166413-e310e25c-7073-42cc-9e54-45548c5083be-95-1-c000.snappy.parquet",
         "part-00021-tid-7178134061574166413-e310e25c-7073-42cc-9e54-45548c5083be-95-1-c000.snappy.parquet",
         43407916,
         1708743088000
        ],
        [
         "dbfs:/FileStore/tables/bigdata/parquet/df-parquet-file.parquet/part-00022-tid-7178134061574166413-e310e25c-7073-42cc-9e54-45548c5083be-96-1-c000.snappy.parquet",
         "part-00022-tid-7178134061574166413-e310e25c-7073-42cc-9e54-45548c5083be-96-1-c000.snappy.parquet",
         43159172,
         1708743087000
        ],
        [
         "dbfs:/FileStore/tables/bigdata/parquet/df-parquet-file.parquet/part-00023-tid-7178134061574166413-e310e25c-7073-42cc-9e54-45548c5083be-97-1-c000.snappy.parquet",
         "part-00023-tid-7178134061574166413-e310e25c-7073-42cc-9e54-45548c5083be-97-1-c000.snappy.parquet",
         43091423,
         1708743089000
        ],
        [
         "dbfs:/FileStore/tables/bigdata/parquet/df-parquet-file.parquet/part-00024-tid-7178134061574166413-e310e25c-7073-42cc-9e54-45548c5083be-98-1-c000.snappy.parquet",
         "part-00024-tid-7178134061574166413-e310e25c-7073-42cc-9e54-45548c5083be-98-1-c000.snappy.parquet",
         43479734,
         1708743159000
        ],
        [
         "dbfs:/FileStore/tables/bigdata/parquet/df-parquet-file.parquet/part-00025-tid-7178134061574166413-e310e25c-7073-42cc-9e54-45548c5083be-99-1-c000.snappy.parquet",
         "part-00025-tid-7178134061574166413-e310e25c-7073-42cc-9e54-45548c5083be-99-1-c000.snappy.parquet",
         43373698,
         1708743166000
        ],
        [
         "dbfs:/FileStore/tables/bigdata/parquet/df-parquet-file.parquet/part-00026-tid-7178134061574166413-e310e25c-7073-42cc-9e54-45548c5083be-100-1-c000.snappy.parquet",
         "part-00026-tid-7178134061574166413-e310e25c-7073-42cc-9e54-45548c5083be-100-1-c000.snappy.parquet",
         23343021,
         1708743126000
        ],
        [
         "dbfs:/FileStore/tables/bigdata/parquet/df-parquet-file.parquet/part-00027-tid-7178134061574166413-e310e25c-7073-42cc-9e54-45548c5083be-101-1-c000.snappy.parquet",
         "part-00027-tid-7178134061574166413-e310e25c-7073-42cc-9e54-45548c5083be-101-1-c000.snappy.parquet",
         22782637,
         1708743150000
        ],
        [
         "dbfs:/FileStore/tables/bigdata/parquet/df-parquet-file.parquet/part-00028-tid-7178134061574166413-e310e25c-7073-42cc-9e54-45548c5083be-102-1-c000.snappy.parquet",
         "part-00028-tid-7178134061574166413-e310e25c-7073-42cc-9e54-45548c5083be-102-1-c000.snappy.parquet",
         21982789,
         1708743147000
        ],
        [
         "dbfs:/FileStore/tables/bigdata/parquet/df-parquet-file.parquet/part-00029-tid-7178134061574166413-e310e25c-7073-42cc-9e54-45548c5083be-103-1-c000.snappy.parquet",
         "part-00029-tid-7178134061574166413-e310e25c-7073-42cc-9e54-45548c5083be-103-1-c000.snappy.parquet",
         21786707,
         1708743150000
        ],
        [
         "dbfs:/FileStore/tables/bigdata/parquet/df-parquet-file.parquet/part-00030-tid-7178134061574166413-e310e25c-7073-42cc-9e54-45548c5083be-104-1-c000.snappy.parquet",
         "part-00030-tid-7178134061574166413-e310e25c-7073-42cc-9e54-45548c5083be-104-1-c000.snappy.parquet",
         21704923,
         1708743154000
        ],
        [
         "dbfs:/FileStore/tables/bigdata/parquet/df-parquet-file.parquet/part-00031-tid-7178134061574166413-e310e25c-7073-42cc-9e54-45548c5083be-105-1-c000.snappy.parquet",
         "part-00031-tid-7178134061574166413-e310e25c-7073-42cc-9e54-45548c5083be-105-1-c000.snappy.parquet",
         21586087,
         1708743154000
        ],
        [
         "dbfs:/FileStore/tables/bigdata/parquet/df-parquet-file.parquet/part-00032-tid-7178134061574166413-e310e25c-7073-42cc-9e54-45548c5083be-106-1-c000.snappy.parquet",
         "part-00032-tid-7178134061574166413-e310e25c-7073-42cc-9e54-45548c5083be-106-1-c000.snappy.parquet",
         21453287,
         1708743180000
        ],
        [
         "dbfs:/FileStore/tables/bigdata/parquet/df-parquet-file.parquet/part-00033-tid-7178134061574166413-e310e25c-7073-42cc-9e54-45548c5083be-107-1-c000.snappy.parquet",
         "part-00033-tid-7178134061574166413-e310e25c-7073-42cc-9e54-45548c5083be-107-1-c000.snappy.parquet",
         21144703,
         1708743191000
        ],
        [
         "dbfs:/FileStore/tables/bigdata/parquet/df-parquet-file.parquet/part-00034-tid-7178134061574166413-e310e25c-7073-42cc-9e54-45548c5083be-108-1-c000.snappy.parquet",
         "part-00034-tid-7178134061574166413-e310e25c-7073-42cc-9e54-45548c5083be-108-1-c000.snappy.parquet",
         41865632,
         1708743207000
        ],
        [
         "dbfs:/FileStore/tables/bigdata/parquet/df-parquet-file.parquet/part-00035-tid-7178134061574166413-e310e25c-7073-42cc-9e54-45548c5083be-109-1-c000.snappy.parquet",
         "part-00035-tid-7178134061574166413-e310e25c-7073-42cc-9e54-45548c5083be-109-1-c000.snappy.parquet",
         38286426,
         1708743205000
        ],
        [
         "dbfs:/FileStore/tables/bigdata/parquet/df-parquet-file.parquet/part-00036-tid-7178134061574166413-e310e25c-7073-42cc-9e54-45548c5083be-110-1-c000.snappy.parquet",
         "part-00036-tid-7178134061574166413-e310e25c-7073-42cc-9e54-45548c5083be-110-1-c000.snappy.parquet",
         17500842,
         1708743188000
        ]
       ],
       "datasetInfos": [],
       "dbfsResultPath": null,
       "isJsonSchema": true,
       "metadata": {},
       "overflow": false,
       "plotOptions": {
        "customPlotOptions": {},
        "displayType": "table",
        "pivotAggregation": null,
        "pivotColumns": null,
        "xColumns": null,
        "yColumns": null
       },
       "removedWidgets": [],
       "schema": [
        {
         "metadata": "{}",
         "name": "path",
         "type": "\"string\""
        },
        {
         "metadata": "{}",
         "name": "name",
         "type": "\"string\""
        },
        {
         "metadata": "{}",
         "name": "size",
         "type": "\"long\""
        },
        {
         "metadata": "{}",
         "name": "modificationTime",
         "type": "\"long\""
        }
       ],
       "type": "table"
      }
     },
     "output_type": "display_data"
    }
   ],
   "source": [
    "%fs\n",
    "ls /FileStore/tables/bigdata/parquet/df-parquet-file.parquet"
   ]
  },
  {
   "cell_type": "code",
   "execution_count": 0,
   "metadata": {
    "application/vnd.databricks.v1+cell": {
     "cellMetadata": {
      "byteLimit": 2048000,
      "rowLimit": 10000
     },
     "inputWidgets": {},
     "nuid": "c42acd68-f4f8-45bd-9584-a4e3879bdc76",
     "showTitle": true,
     "title": "Lendo arquivo parquet"
    }
   },
   "outputs": [],
   "source": [
    "df_parquet = spark.read.format(\"parquet\")\\\n",
    "    .load(\"/FileStore/tables/bigdata/parquet/df-parquet-file.parquet\")\n"
   ]
  },
  {
   "cell_type": "code",
   "execution_count": 0,
   "metadata": {
    "application/vnd.databricks.v1+cell": {
     "cellMetadata": {
      "byteLimit": 2048000,
      "rowLimit": 10000
     },
     "inputWidgets": {},
     "nuid": "19c16000-4418-446b-8c06-aa1524f6720f",
     "showTitle": false,
     "title": ""
    }
   },
   "outputs": [
    {
     "output_type": "execute_result",
     "data": {
      "text/plain": [
       "131004583"
      ]
     },
     "execution_count": 14,
     "metadata": {},
     "output_type": "execute_result"
    }
   ],
   "source": [
    "df_parquet.count()"
   ]
  },
  {
   "cell_type": "code",
   "execution_count": 0,
   "metadata": {
    "application/vnd.databricks.v1+cell": {
     "cellMetadata": {
      "byteLimit": 2048000,
      "rowLimit": 10000
     },
     "inputWidgets": {},
     "nuid": "586d93ca-c6db-4412-819f-aca34a501e5e",
     "showTitle": false,
     "title": ""
    }
   },
   "outputs": [
    {
     "output_type": "display_data",
     "data": {
      "text/html": [
       "<style scoped>\n",
       "  .table-result-container {\n",
       "    max-height: 300px;\n",
       "    overflow: auto;\n",
       "  }\n",
       "  table, th, td {\n",
       "    border: 1px solid black;\n",
       "    border-collapse: collapse;\n",
       "  }\n",
       "  th, td {\n",
       "    padding: 5px;\n",
       "  }\n",
       "  th {\n",
       "    text-align: left;\n",
       "  }\n",
       "</style><div class='table-result-container'><table class='table-result'><thead style='background-color: white'><tr><th>practice</th><th>bnf_code</th><th>bnf_name</th><th>items</th><th>nic</th><th>act_cost</th><th>quantity</th></tr></thead><tbody><tr><td>3626</td><td>12090</td><td>20521</td><td>3</td><td>8.4</td><td>7.82</td><td>168</td></tr><tr><td>3626</td><td>23511</td><td>11576</td><td>1</td><td>32.18</td><td>29.81</td><td>28</td></tr><tr><td>3626</td><td>14802</td><td>14672</td><td>162</td><td>141.13</td><td>133.93</td><td>4760</td></tr><tr><td>3626</td><td>14590</td><td>10011</td><td>17</td><td>15.01</td><td>14.12</td><td>532</td></tr><tr><td>3626</td><td>24483</td><td>13726</td><td>69</td><td>57.57</td><td>54.67</td><td>2121</td></tr><tr><td>3626</td><td>7768</td><td>22070</td><td>155</td><td>113.03</td><td>109.41</td><td>4144</td></tr><tr><td>3626</td><td>1877</td><td>13598</td><td>102</td><td>68.5</td><td>67.4</td><td>2370</td></tr><tr><td>3626</td><td>18110</td><td>3990</td><td>189</td><td>156.66</td><td>150.44</td><td>5222</td></tr><tr><td>3626</td><td>14058</td><td>2144</td><td>23</td><td>23.52</td><td>22.48</td><td>588</td></tr><tr><td>3626</td><td>4558</td><td>5695</td><td>32</td><td>116.64</td><td>109.21</td><td>756</td></tr></tbody></table></div>"
      ]
     },
     "metadata": {
      "application/vnd.databricks.v1+output": {
       "addedWidgets": {},
       "aggData": [],
       "aggError": "",
       "aggOverflow": false,
       "aggSchema": [],
       "aggSeriesLimitReached": false,
       "aggType": "",
       "arguments": {},
       "columnCustomDisplayInfos": {},
       "data": [
        [
         3626,
         12090,
         20521,
         3,
         8.4,
         7.82,
         168
        ],
        [
         3626,
         23511,
         11576,
         1,
         32.18,
         29.81,
         28
        ],
        [
         3626,
         14802,
         14672,
         162,
         141.13,
         133.93,
         4760
        ],
        [
         3626,
         14590,
         10011,
         17,
         15.01,
         14.12,
         532
        ],
        [
         3626,
         24483,
         13726,
         69,
         57.57,
         54.67,
         2121
        ],
        [
         3626,
         7768,
         22070,
         155,
         113.03,
         109.41,
         4144
        ],
        [
         3626,
         1877,
         13598,
         102,
         68.5,
         67.4,
         2370
        ],
        [
         3626,
         18110,
         3990,
         189,
         156.66,
         150.44,
         5222
        ],
        [
         3626,
         14058,
         2144,
         23,
         23.52,
         22.48,
         588
        ],
        [
         3626,
         4558,
         5695,
         32,
         116.64,
         109.21,
         756
        ]
       ],
       "datasetInfos": [],
       "dbfsResultPath": null,
       "isJsonSchema": true,
       "metadata": {},
       "overflow": false,
       "plotOptions": {
        "customPlotOptions": {},
        "displayType": "table",
        "pivotAggregation": null,
        "pivotColumns": null,
        "xColumns": null,
        "yColumns": null
       },
       "removedWidgets": [],
       "schema": [
        {
         "metadata": "{}",
         "name": "practice",
         "type": "\"long\""
        },
        {
         "metadata": "{}",
         "name": "bnf_code",
         "type": "\"long\""
        },
        {
         "metadata": "{}",
         "name": "bnf_name",
         "type": "\"long\""
        },
        {
         "metadata": "{}",
         "name": "items",
         "type": "\"long\""
        },
        {
         "metadata": "{}",
         "name": "nic",
         "type": "\"double\""
        },
        {
         "metadata": "{}",
         "name": "act_cost",
         "type": "\"double\""
        },
        {
         "metadata": "{}",
         "name": "quantity",
         "type": "\"long\""
        }
       ],
       "type": "table"
      }
     },
     "output_type": "display_data"
    }
   ],
   "source": [
    "display(df_parquet.head(10))"
   ]
  },
  {
   "cell_type": "code",
   "execution_count": 0,
   "metadata": {
    "application/vnd.databricks.v1+cell": {
     "cellMetadata": {
      "byteLimit": 2048000,
      "rowLimit": 10000
     },
     "inputWidgets": {},
     "nuid": "b605c74a-e82b-49dc-bb21-7197a99b602c",
     "showTitle": false,
     "title": ""
    }
   },
   "outputs": [
    {
     "output_type": "display_data",
     "data": {
      "text/html": [
       "<style scoped>\n",
       "  .table-result-container {\n",
       "    max-height: 300px;\n",
       "    overflow: auto;\n",
       "  }\n",
       "  table, th, td {\n",
       "    border: 1px solid black;\n",
       "    border-collapse: collapse;\n",
       "  }\n",
       "  th, td {\n",
       "    padding: 5px;\n",
       "  }\n",
       "  th {\n",
       "    text-align: left;\n",
       "  }\n",
       "</style><div class='table-result-container'><table class='table-result'><thead style='background-color: white'><tr><th>path</th><th>name</th><th>size</th><th>modificationTime</th></tr></thead><tbody><tr><td>dbfs:/FileStore/tables/bigdata/parquet/df-parquet-file.parquet/_SUCCESS</td><td>_SUCCESS</td><td>0</td><td>1708743207000</td></tr><tr><td>dbfs:/FileStore/tables/bigdata/parquet/df-parquet-file.parquet/_committed_7178134061574166413</td><td>_committed_7178134061574166413</td><td>3698</td><td>1708743207000</td></tr><tr><td>dbfs:/FileStore/tables/bigdata/parquet/df-parquet-file.parquet/_started_7178134061574166413</td><td>_started_7178134061574166413</td><td>0</td><td>1708742670000</td></tr><tr><td>dbfs:/FileStore/tables/bigdata/parquet/df-parquet-file.parquet/part-00000-tid-7178134061574166413-e310e25c-7073-42cc-9e54-45548c5083be-74-1-c000.snappy.parquet</td><td>part-00000-tid-7178134061574166413-e310e25c-7073-42cc-9e54-45548c5083be-74-1-c000.snappy.parquet</td><td>43318079</td><td>1708742805000</td></tr><tr><td>dbfs:/FileStore/tables/bigdata/parquet/df-parquet-file.parquet/part-00001-tid-7178134061574166413-e310e25c-7073-42cc-9e54-45548c5083be-75-1-c000.snappy.parquet</td><td>part-00001-tid-7178134061574166413-e310e25c-7073-42cc-9e54-45548c5083be-75-1-c000.snappy.parquet</td><td>43239368</td><td>1708742809000</td></tr><tr><td>dbfs:/FileStore/tables/bigdata/parquet/df-parquet-file.parquet/part-00002-tid-7178134061574166413-e310e25c-7073-42cc-9e54-45548c5083be-76-1-c000.snappy.parquet</td><td>part-00002-tid-7178134061574166413-e310e25c-7073-42cc-9e54-45548c5083be-76-1-c000.snappy.parquet</td><td>43410236</td><td>1708742807000</td></tr><tr><td>dbfs:/FileStore/tables/bigdata/parquet/df-parquet-file.parquet/part-00003-tid-7178134061574166413-e310e25c-7073-42cc-9e54-45548c5083be-77-1-c000.snappy.parquet</td><td>part-00003-tid-7178134061574166413-e310e25c-7073-42cc-9e54-45548c5083be-77-1-c000.snappy.parquet</td><td>43275526</td><td>1708742805000</td></tr><tr><td>dbfs:/FileStore/tables/bigdata/parquet/df-parquet-file.parquet/part-00004-tid-7178134061574166413-e310e25c-7073-42cc-9e54-45548c5083be-78-1-c000.snappy.parquet</td><td>part-00004-tid-7178134061574166413-e310e25c-7073-42cc-9e54-45548c5083be-78-1-c000.snappy.parquet</td><td>43278039</td><td>1708742811000</td></tr><tr><td>dbfs:/FileStore/tables/bigdata/parquet/df-parquet-file.parquet/part-00005-tid-7178134061574166413-e310e25c-7073-42cc-9e54-45548c5083be-79-1-c000.snappy.parquet</td><td>part-00005-tid-7178134061574166413-e310e25c-7073-42cc-9e54-45548c5083be-79-1-c000.snappy.parquet</td><td>43216420</td><td>1708742809000</td></tr><tr><td>dbfs:/FileStore/tables/bigdata/parquet/df-parquet-file.parquet/part-00006-tid-7178134061574166413-e310e25c-7073-42cc-9e54-45548c5083be-80-1-c000.snappy.parquet</td><td>part-00006-tid-7178134061574166413-e310e25c-7073-42cc-9e54-45548c5083be-80-1-c000.snappy.parquet</td><td>43302292</td><td>1708742809000</td></tr><tr><td>dbfs:/FileStore/tables/bigdata/parquet/df-parquet-file.parquet/part-00007-tid-7178134061574166413-e310e25c-7073-42cc-9e54-45548c5083be-81-1-c000.snappy.parquet</td><td>part-00007-tid-7178134061574166413-e310e25c-7073-42cc-9e54-45548c5083be-81-1-c000.snappy.parquet</td><td>43242136</td><td>1708742810000</td></tr><tr><td>dbfs:/FileStore/tables/bigdata/parquet/df-parquet-file.parquet/part-00008-tid-7178134061574166413-e310e25c-7073-42cc-9e54-45548c5083be-82-1-c000.snappy.parquet</td><td>part-00008-tid-7178134061574166413-e310e25c-7073-42cc-9e54-45548c5083be-82-1-c000.snappy.parquet</td><td>43502547</td><td>1708742919000</td></tr><tr><td>dbfs:/FileStore/tables/bigdata/parquet/df-parquet-file.parquet/part-00009-tid-7178134061574166413-e310e25c-7073-42cc-9e54-45548c5083be-83-1-c000.snappy.parquet</td><td>part-00009-tid-7178134061574166413-e310e25c-7073-42cc-9e54-45548c5083be-83-1-c000.snappy.parquet</td><td>43537462</td><td>1708742927000</td></tr><tr><td>dbfs:/FileStore/tables/bigdata/parquet/df-parquet-file.parquet/part-00010-tid-7178134061574166413-e310e25c-7073-42cc-9e54-45548c5083be-84-1-c000.snappy.parquet</td><td>part-00010-tid-7178134061574166413-e310e25c-7073-42cc-9e54-45548c5083be-84-1-c000.snappy.parquet</td><td>43475640</td><td>1708742947000</td></tr><tr><td>dbfs:/FileStore/tables/bigdata/parquet/df-parquet-file.parquet/part-00011-tid-7178134061574166413-e310e25c-7073-42cc-9e54-45548c5083be-85-1-c000.snappy.parquet</td><td>part-00011-tid-7178134061574166413-e310e25c-7073-42cc-9e54-45548c5083be-85-1-c000.snappy.parquet</td><td>43643728</td><td>1708742951000</td></tr><tr><td>dbfs:/FileStore/tables/bigdata/parquet/df-parquet-file.parquet/part-00012-tid-7178134061574166413-e310e25c-7073-42cc-9e54-45548c5083be-86-1-c000.snappy.parquet</td><td>part-00012-tid-7178134061574166413-e310e25c-7073-42cc-9e54-45548c5083be-86-1-c000.snappy.parquet</td><td>43523396</td><td>1708742949000</td></tr><tr><td>dbfs:/FileStore/tables/bigdata/parquet/df-parquet-file.parquet/part-00013-tid-7178134061574166413-e310e25c-7073-42cc-9e54-45548c5083be-87-1-c000.snappy.parquet</td><td>part-00013-tid-7178134061574166413-e310e25c-7073-42cc-9e54-45548c5083be-87-1-c000.snappy.parquet</td><td>43482887</td><td>1708742940000</td></tr><tr><td>dbfs:/FileStore/tables/bigdata/parquet/df-parquet-file.parquet/part-00014-tid-7178134061574166413-e310e25c-7073-42cc-9e54-45548c5083be-88-1-c000.snappy.parquet</td><td>part-00014-tid-7178134061574166413-e310e25c-7073-42cc-9e54-45548c5083be-88-1-c000.snappy.parquet</td><td>43448174</td><td>1708742953000</td></tr><tr><td>dbfs:/FileStore/tables/bigdata/parquet/df-parquet-file.parquet/part-00015-tid-7178134061574166413-e310e25c-7073-42cc-9e54-45548c5083be-89-1-c000.snappy.parquet</td><td>part-00015-tid-7178134061574166413-e310e25c-7073-42cc-9e54-45548c5083be-89-1-c000.snappy.parquet</td><td>43395557</td><td>1708742953000</td></tr><tr><td>dbfs:/FileStore/tables/bigdata/parquet/df-parquet-file.parquet/part-00016-tid-7178134061574166413-e310e25c-7073-42cc-9e54-45548c5083be-90-1-c000.snappy.parquet</td><td>part-00016-tid-7178134061574166413-e310e25c-7073-42cc-9e54-45548c5083be-90-1-c000.snappy.parquet</td><td>43301500</td><td>1708743031000</td></tr><tr><td>dbfs:/FileStore/tables/bigdata/parquet/df-parquet-file.parquet/part-00017-tid-7178134061574166413-e310e25c-7073-42cc-9e54-45548c5083be-91-1-c000.snappy.parquet</td><td>part-00017-tid-7178134061574166413-e310e25c-7073-42cc-9e54-45548c5083be-91-1-c000.snappy.parquet</td><td>43166612</td><td>1708743039000</td></tr><tr><td>dbfs:/FileStore/tables/bigdata/parquet/df-parquet-file.parquet/part-00018-tid-7178134061574166413-e310e25c-7073-42cc-9e54-45548c5083be-92-1-c000.snappy.parquet</td><td>part-00018-tid-7178134061574166413-e310e25c-7073-42cc-9e54-45548c5083be-92-1-c000.snappy.parquet</td><td>43091528</td><td>1708743059000</td></tr><tr><td>dbfs:/FileStore/tables/bigdata/parquet/df-parquet-file.parquet/part-00019-tid-7178134061574166413-e310e25c-7073-42cc-9e54-45548c5083be-93-1-c000.snappy.parquet</td><td>part-00019-tid-7178134061574166413-e310e25c-7073-42cc-9e54-45548c5083be-93-1-c000.snappy.parquet</td><td>43048545</td><td>1708743081000</td></tr><tr><td>dbfs:/FileStore/tables/bigdata/parquet/df-parquet-file.parquet/part-00020-tid-7178134061574166413-e310e25c-7073-42cc-9e54-45548c5083be-94-1-c000.snappy.parquet</td><td>part-00020-tid-7178134061574166413-e310e25c-7073-42cc-9e54-45548c5083be-94-1-c000.snappy.parquet</td><td>43448966</td><td>1708743080000</td></tr><tr><td>dbfs:/FileStore/tables/bigdata/parquet/df-parquet-file.parquet/part-00021-tid-7178134061574166413-e310e25c-7073-42cc-9e54-45548c5083be-95-1-c000.snappy.parquet</td><td>part-00021-tid-7178134061574166413-e310e25c-7073-42cc-9e54-45548c5083be-95-1-c000.snappy.parquet</td><td>43407916</td><td>1708743088000</td></tr><tr><td>dbfs:/FileStore/tables/bigdata/parquet/df-parquet-file.parquet/part-00022-tid-7178134061574166413-e310e25c-7073-42cc-9e54-45548c5083be-96-1-c000.snappy.parquet</td><td>part-00022-tid-7178134061574166413-e310e25c-7073-42cc-9e54-45548c5083be-96-1-c000.snappy.parquet</td><td>43159172</td><td>1708743087000</td></tr><tr><td>dbfs:/FileStore/tables/bigdata/parquet/df-parquet-file.parquet/part-00023-tid-7178134061574166413-e310e25c-7073-42cc-9e54-45548c5083be-97-1-c000.snappy.parquet</td><td>part-00023-tid-7178134061574166413-e310e25c-7073-42cc-9e54-45548c5083be-97-1-c000.snappy.parquet</td><td>43091423</td><td>1708743089000</td></tr><tr><td>dbfs:/FileStore/tables/bigdata/parquet/df-parquet-file.parquet/part-00024-tid-7178134061574166413-e310e25c-7073-42cc-9e54-45548c5083be-98-1-c000.snappy.parquet</td><td>part-00024-tid-7178134061574166413-e310e25c-7073-42cc-9e54-45548c5083be-98-1-c000.snappy.parquet</td><td>43479734</td><td>1708743159000</td></tr><tr><td>dbfs:/FileStore/tables/bigdata/parquet/df-parquet-file.parquet/part-00025-tid-7178134061574166413-e310e25c-7073-42cc-9e54-45548c5083be-99-1-c000.snappy.parquet</td><td>part-00025-tid-7178134061574166413-e310e25c-7073-42cc-9e54-45548c5083be-99-1-c000.snappy.parquet</td><td>43373698</td><td>1708743166000</td></tr><tr><td>dbfs:/FileStore/tables/bigdata/parquet/df-parquet-file.parquet/part-00026-tid-7178134061574166413-e310e25c-7073-42cc-9e54-45548c5083be-100-1-c000.snappy.parquet</td><td>part-00026-tid-7178134061574166413-e310e25c-7073-42cc-9e54-45548c5083be-100-1-c000.snappy.parquet</td><td>23343021</td><td>1708743126000</td></tr><tr><td>dbfs:/FileStore/tables/bigdata/parquet/df-parquet-file.parquet/part-00027-tid-7178134061574166413-e310e25c-7073-42cc-9e54-45548c5083be-101-1-c000.snappy.parquet</td><td>part-00027-tid-7178134061574166413-e310e25c-7073-42cc-9e54-45548c5083be-101-1-c000.snappy.parquet</td><td>22782637</td><td>1708743150000</td></tr><tr><td>dbfs:/FileStore/tables/bigdata/parquet/df-parquet-file.parquet/part-00028-tid-7178134061574166413-e310e25c-7073-42cc-9e54-45548c5083be-102-1-c000.snappy.parquet</td><td>part-00028-tid-7178134061574166413-e310e25c-7073-42cc-9e54-45548c5083be-102-1-c000.snappy.parquet</td><td>21982789</td><td>1708743147000</td></tr><tr><td>dbfs:/FileStore/tables/bigdata/parquet/df-parquet-file.parquet/part-00029-tid-7178134061574166413-e310e25c-7073-42cc-9e54-45548c5083be-103-1-c000.snappy.parquet</td><td>part-00029-tid-7178134061574166413-e310e25c-7073-42cc-9e54-45548c5083be-103-1-c000.snappy.parquet</td><td>21786707</td><td>1708743150000</td></tr><tr><td>dbfs:/FileStore/tables/bigdata/parquet/df-parquet-file.parquet/part-00030-tid-7178134061574166413-e310e25c-7073-42cc-9e54-45548c5083be-104-1-c000.snappy.parquet</td><td>part-00030-tid-7178134061574166413-e310e25c-7073-42cc-9e54-45548c5083be-104-1-c000.snappy.parquet</td><td>21704923</td><td>1708743154000</td></tr><tr><td>dbfs:/FileStore/tables/bigdata/parquet/df-parquet-file.parquet/part-00031-tid-7178134061574166413-e310e25c-7073-42cc-9e54-45548c5083be-105-1-c000.snappy.parquet</td><td>part-00031-tid-7178134061574166413-e310e25c-7073-42cc-9e54-45548c5083be-105-1-c000.snappy.parquet</td><td>21586087</td><td>1708743154000</td></tr><tr><td>dbfs:/FileStore/tables/bigdata/parquet/df-parquet-file.parquet/part-00032-tid-7178134061574166413-e310e25c-7073-42cc-9e54-45548c5083be-106-1-c000.snappy.parquet</td><td>part-00032-tid-7178134061574166413-e310e25c-7073-42cc-9e54-45548c5083be-106-1-c000.snappy.parquet</td><td>21453287</td><td>1708743180000</td></tr><tr><td>dbfs:/FileStore/tables/bigdata/parquet/df-parquet-file.parquet/part-00033-tid-7178134061574166413-e310e25c-7073-42cc-9e54-45548c5083be-107-1-c000.snappy.parquet</td><td>part-00033-tid-7178134061574166413-e310e25c-7073-42cc-9e54-45548c5083be-107-1-c000.snappy.parquet</td><td>21144703</td><td>1708743191000</td></tr><tr><td>dbfs:/FileStore/tables/bigdata/parquet/df-parquet-file.parquet/part-00034-tid-7178134061574166413-e310e25c-7073-42cc-9e54-45548c5083be-108-1-c000.snappy.parquet</td><td>part-00034-tid-7178134061574166413-e310e25c-7073-42cc-9e54-45548c5083be-108-1-c000.snappy.parquet</td><td>41865632</td><td>1708743207000</td></tr><tr><td>dbfs:/FileStore/tables/bigdata/parquet/df-parquet-file.parquet/part-00035-tid-7178134061574166413-e310e25c-7073-42cc-9e54-45548c5083be-109-1-c000.snappy.parquet</td><td>part-00035-tid-7178134061574166413-e310e25c-7073-42cc-9e54-45548c5083be-109-1-c000.snappy.parquet</td><td>38286426</td><td>1708743205000</td></tr><tr><td>dbfs:/FileStore/tables/bigdata/parquet/df-parquet-file.parquet/part-00036-tid-7178134061574166413-e310e25c-7073-42cc-9e54-45548c5083be-110-1-c000.snappy.parquet</td><td>part-00036-tid-7178134061574166413-e310e25c-7073-42cc-9e54-45548c5083be-110-1-c000.snappy.parquet</td><td>17500842</td><td>1708743188000</td></tr></tbody></table></div>"
      ]
     },
     "metadata": {
      "application/vnd.databricks.v1+output": {
       "addedWidgets": {},
       "aggData": [],
       "aggError": "",
       "aggOverflow": false,
       "aggSchema": [],
       "aggSeriesLimitReached": false,
       "aggType": "",
       "arguments": {},
       "columnCustomDisplayInfos": {},
       "data": [
        [
         "dbfs:/FileStore/tables/bigdata/parquet/df-parquet-file.parquet/_SUCCESS",
         "_SUCCESS",
         0,
         1708743207000
        ],
        [
         "dbfs:/FileStore/tables/bigdata/parquet/df-parquet-file.parquet/_committed_7178134061574166413",
         "_committed_7178134061574166413",
         3698,
         1708743207000
        ],
        [
         "dbfs:/FileStore/tables/bigdata/parquet/df-parquet-file.parquet/_started_7178134061574166413",
         "_started_7178134061574166413",
         0,
         1708742670000
        ],
        [
         "dbfs:/FileStore/tables/bigdata/parquet/df-parquet-file.parquet/part-00000-tid-7178134061574166413-e310e25c-7073-42cc-9e54-45548c5083be-74-1-c000.snappy.parquet",
         "part-00000-tid-7178134061574166413-e310e25c-7073-42cc-9e54-45548c5083be-74-1-c000.snappy.parquet",
         43318079,
         1708742805000
        ],
        [
         "dbfs:/FileStore/tables/bigdata/parquet/df-parquet-file.parquet/part-00001-tid-7178134061574166413-e310e25c-7073-42cc-9e54-45548c5083be-75-1-c000.snappy.parquet",
         "part-00001-tid-7178134061574166413-e310e25c-7073-42cc-9e54-45548c5083be-75-1-c000.snappy.parquet",
         43239368,
         1708742809000
        ],
        [
         "dbfs:/FileStore/tables/bigdata/parquet/df-parquet-file.parquet/part-00002-tid-7178134061574166413-e310e25c-7073-42cc-9e54-45548c5083be-76-1-c000.snappy.parquet",
         "part-00002-tid-7178134061574166413-e310e25c-7073-42cc-9e54-45548c5083be-76-1-c000.snappy.parquet",
         43410236,
         1708742807000
        ],
        [
         "dbfs:/FileStore/tables/bigdata/parquet/df-parquet-file.parquet/part-00003-tid-7178134061574166413-e310e25c-7073-42cc-9e54-45548c5083be-77-1-c000.snappy.parquet",
         "part-00003-tid-7178134061574166413-e310e25c-7073-42cc-9e54-45548c5083be-77-1-c000.snappy.parquet",
         43275526,
         1708742805000
        ],
        [
         "dbfs:/FileStore/tables/bigdata/parquet/df-parquet-file.parquet/part-00004-tid-7178134061574166413-e310e25c-7073-42cc-9e54-45548c5083be-78-1-c000.snappy.parquet",
         "part-00004-tid-7178134061574166413-e310e25c-7073-42cc-9e54-45548c5083be-78-1-c000.snappy.parquet",
         43278039,
         1708742811000
        ],
        [
         "dbfs:/FileStore/tables/bigdata/parquet/df-parquet-file.parquet/part-00005-tid-7178134061574166413-e310e25c-7073-42cc-9e54-45548c5083be-79-1-c000.snappy.parquet",
         "part-00005-tid-7178134061574166413-e310e25c-7073-42cc-9e54-45548c5083be-79-1-c000.snappy.parquet",
         43216420,
         1708742809000
        ],
        [
         "dbfs:/FileStore/tables/bigdata/parquet/df-parquet-file.parquet/part-00006-tid-7178134061574166413-e310e25c-7073-42cc-9e54-45548c5083be-80-1-c000.snappy.parquet",
         "part-00006-tid-7178134061574166413-e310e25c-7073-42cc-9e54-45548c5083be-80-1-c000.snappy.parquet",
         43302292,
         1708742809000
        ],
        [
         "dbfs:/FileStore/tables/bigdata/parquet/df-parquet-file.parquet/part-00007-tid-7178134061574166413-e310e25c-7073-42cc-9e54-45548c5083be-81-1-c000.snappy.parquet",
         "part-00007-tid-7178134061574166413-e310e25c-7073-42cc-9e54-45548c5083be-81-1-c000.snappy.parquet",
         43242136,
         1708742810000
        ],
        [
         "dbfs:/FileStore/tables/bigdata/parquet/df-parquet-file.parquet/part-00008-tid-7178134061574166413-e310e25c-7073-42cc-9e54-45548c5083be-82-1-c000.snappy.parquet",
         "part-00008-tid-7178134061574166413-e310e25c-7073-42cc-9e54-45548c5083be-82-1-c000.snappy.parquet",
         43502547,
         1708742919000
        ],
        [
         "dbfs:/FileStore/tables/bigdata/parquet/df-parquet-file.parquet/part-00009-tid-7178134061574166413-e310e25c-7073-42cc-9e54-45548c5083be-83-1-c000.snappy.parquet",
         "part-00009-tid-7178134061574166413-e310e25c-7073-42cc-9e54-45548c5083be-83-1-c000.snappy.parquet",
         43537462,
         1708742927000
        ],
        [
         "dbfs:/FileStore/tables/bigdata/parquet/df-parquet-file.parquet/part-00010-tid-7178134061574166413-e310e25c-7073-42cc-9e54-45548c5083be-84-1-c000.snappy.parquet",
         "part-00010-tid-7178134061574166413-e310e25c-7073-42cc-9e54-45548c5083be-84-1-c000.snappy.parquet",
         43475640,
         1708742947000
        ],
        [
         "dbfs:/FileStore/tables/bigdata/parquet/df-parquet-file.parquet/part-00011-tid-7178134061574166413-e310e25c-7073-42cc-9e54-45548c5083be-85-1-c000.snappy.parquet",
         "part-00011-tid-7178134061574166413-e310e25c-7073-42cc-9e54-45548c5083be-85-1-c000.snappy.parquet",
         43643728,
         1708742951000
        ],
        [
         "dbfs:/FileStore/tables/bigdata/parquet/df-parquet-file.parquet/part-00012-tid-7178134061574166413-e310e25c-7073-42cc-9e54-45548c5083be-86-1-c000.snappy.parquet",
         "part-00012-tid-7178134061574166413-e310e25c-7073-42cc-9e54-45548c5083be-86-1-c000.snappy.parquet",
         43523396,
         1708742949000
        ],
        [
         "dbfs:/FileStore/tables/bigdata/parquet/df-parquet-file.parquet/part-00013-tid-7178134061574166413-e310e25c-7073-42cc-9e54-45548c5083be-87-1-c000.snappy.parquet",
         "part-00013-tid-7178134061574166413-e310e25c-7073-42cc-9e54-45548c5083be-87-1-c000.snappy.parquet",
         43482887,
         1708742940000
        ],
        [
         "dbfs:/FileStore/tables/bigdata/parquet/df-parquet-file.parquet/part-00014-tid-7178134061574166413-e310e25c-7073-42cc-9e54-45548c5083be-88-1-c000.snappy.parquet",
         "part-00014-tid-7178134061574166413-e310e25c-7073-42cc-9e54-45548c5083be-88-1-c000.snappy.parquet",
         43448174,
         1708742953000
        ],
        [
         "dbfs:/FileStore/tables/bigdata/parquet/df-parquet-file.parquet/part-00015-tid-7178134061574166413-e310e25c-7073-42cc-9e54-45548c5083be-89-1-c000.snappy.parquet",
         "part-00015-tid-7178134061574166413-e310e25c-7073-42cc-9e54-45548c5083be-89-1-c000.snappy.parquet",
         43395557,
         1708742953000
        ],
        [
         "dbfs:/FileStore/tables/bigdata/parquet/df-parquet-file.parquet/part-00016-tid-7178134061574166413-e310e25c-7073-42cc-9e54-45548c5083be-90-1-c000.snappy.parquet",
         "part-00016-tid-7178134061574166413-e310e25c-7073-42cc-9e54-45548c5083be-90-1-c000.snappy.parquet",
         43301500,
         1708743031000
        ],
        [
         "dbfs:/FileStore/tables/bigdata/parquet/df-parquet-file.parquet/part-00017-tid-7178134061574166413-e310e25c-7073-42cc-9e54-45548c5083be-91-1-c000.snappy.parquet",
         "part-00017-tid-7178134061574166413-e310e25c-7073-42cc-9e54-45548c5083be-91-1-c000.snappy.parquet",
         43166612,
         1708743039000
        ],
        [
         "dbfs:/FileStore/tables/bigdata/parquet/df-parquet-file.parquet/part-00018-tid-7178134061574166413-e310e25c-7073-42cc-9e54-45548c5083be-92-1-c000.snappy.parquet",
         "part-00018-tid-7178134061574166413-e310e25c-7073-42cc-9e54-45548c5083be-92-1-c000.snappy.parquet",
         43091528,
         1708743059000
        ],
        [
         "dbfs:/FileStore/tables/bigdata/parquet/df-parquet-file.parquet/part-00019-tid-7178134061574166413-e310e25c-7073-42cc-9e54-45548c5083be-93-1-c000.snappy.parquet",
         "part-00019-tid-7178134061574166413-e310e25c-7073-42cc-9e54-45548c5083be-93-1-c000.snappy.parquet",
         43048545,
         1708743081000
        ],
        [
         "dbfs:/FileStore/tables/bigdata/parquet/df-parquet-file.parquet/part-00020-tid-7178134061574166413-e310e25c-7073-42cc-9e54-45548c5083be-94-1-c000.snappy.parquet",
         "part-00020-tid-7178134061574166413-e310e25c-7073-42cc-9e54-45548c5083be-94-1-c000.snappy.parquet",
         43448966,
         1708743080000
        ],
        [
         "dbfs:/FileStore/tables/bigdata/parquet/df-parquet-file.parquet/part-00021-tid-7178134061574166413-e310e25c-7073-42cc-9e54-45548c5083be-95-1-c000.snappy.parquet",
         "part-00021-tid-7178134061574166413-e310e25c-7073-42cc-9e54-45548c5083be-95-1-c000.snappy.parquet",
         43407916,
         1708743088000
        ],
        [
         "dbfs:/FileStore/tables/bigdata/parquet/df-parquet-file.parquet/part-00022-tid-7178134061574166413-e310e25c-7073-42cc-9e54-45548c5083be-96-1-c000.snappy.parquet",
         "part-00022-tid-7178134061574166413-e310e25c-7073-42cc-9e54-45548c5083be-96-1-c000.snappy.parquet",
         43159172,
         1708743087000
        ],
        [
         "dbfs:/FileStore/tables/bigdata/parquet/df-parquet-file.parquet/part-00023-tid-7178134061574166413-e310e25c-7073-42cc-9e54-45548c5083be-97-1-c000.snappy.parquet",
         "part-00023-tid-7178134061574166413-e310e25c-7073-42cc-9e54-45548c5083be-97-1-c000.snappy.parquet",
         43091423,
         1708743089000
        ],
        [
         "dbfs:/FileStore/tables/bigdata/parquet/df-parquet-file.parquet/part-00024-tid-7178134061574166413-e310e25c-7073-42cc-9e54-45548c5083be-98-1-c000.snappy.parquet",
         "part-00024-tid-7178134061574166413-e310e25c-7073-42cc-9e54-45548c5083be-98-1-c000.snappy.parquet",
         43479734,
         1708743159000
        ],
        [
         "dbfs:/FileStore/tables/bigdata/parquet/df-parquet-file.parquet/part-00025-tid-7178134061574166413-e310e25c-7073-42cc-9e54-45548c5083be-99-1-c000.snappy.parquet",
         "part-00025-tid-7178134061574166413-e310e25c-7073-42cc-9e54-45548c5083be-99-1-c000.snappy.parquet",
         43373698,
         1708743166000
        ],
        [
         "dbfs:/FileStore/tables/bigdata/parquet/df-parquet-file.parquet/part-00026-tid-7178134061574166413-e310e25c-7073-42cc-9e54-45548c5083be-100-1-c000.snappy.parquet",
         "part-00026-tid-7178134061574166413-e310e25c-7073-42cc-9e54-45548c5083be-100-1-c000.snappy.parquet",
         23343021,
         1708743126000
        ],
        [
         "dbfs:/FileStore/tables/bigdata/parquet/df-parquet-file.parquet/part-00027-tid-7178134061574166413-e310e25c-7073-42cc-9e54-45548c5083be-101-1-c000.snappy.parquet",
         "part-00027-tid-7178134061574166413-e310e25c-7073-42cc-9e54-45548c5083be-101-1-c000.snappy.parquet",
         22782637,
         1708743150000
        ],
        [
         "dbfs:/FileStore/tables/bigdata/parquet/df-parquet-file.parquet/part-00028-tid-7178134061574166413-e310e25c-7073-42cc-9e54-45548c5083be-102-1-c000.snappy.parquet",
         "part-00028-tid-7178134061574166413-e310e25c-7073-42cc-9e54-45548c5083be-102-1-c000.snappy.parquet",
         21982789,
         1708743147000
        ],
        [
         "dbfs:/FileStore/tables/bigdata/parquet/df-parquet-file.parquet/part-00029-tid-7178134061574166413-e310e25c-7073-42cc-9e54-45548c5083be-103-1-c000.snappy.parquet",
         "part-00029-tid-7178134061574166413-e310e25c-7073-42cc-9e54-45548c5083be-103-1-c000.snappy.parquet",
         21786707,
         1708743150000
        ],
        [
         "dbfs:/FileStore/tables/bigdata/parquet/df-parquet-file.parquet/part-00030-tid-7178134061574166413-e310e25c-7073-42cc-9e54-45548c5083be-104-1-c000.snappy.parquet",
         "part-00030-tid-7178134061574166413-e310e25c-7073-42cc-9e54-45548c5083be-104-1-c000.snappy.parquet",
         21704923,
         1708743154000
        ],
        [
         "dbfs:/FileStore/tables/bigdata/parquet/df-parquet-file.parquet/part-00031-tid-7178134061574166413-e310e25c-7073-42cc-9e54-45548c5083be-105-1-c000.snappy.parquet",
         "part-00031-tid-7178134061574166413-e310e25c-7073-42cc-9e54-45548c5083be-105-1-c000.snappy.parquet",
         21586087,
         1708743154000
        ],
        [
         "dbfs:/FileStore/tables/bigdata/parquet/df-parquet-file.parquet/part-00032-tid-7178134061574166413-e310e25c-7073-42cc-9e54-45548c5083be-106-1-c000.snappy.parquet",
         "part-00032-tid-7178134061574166413-e310e25c-7073-42cc-9e54-45548c5083be-106-1-c000.snappy.parquet",
         21453287,
         1708743180000
        ],
        [
         "dbfs:/FileStore/tables/bigdata/parquet/df-parquet-file.parquet/part-00033-tid-7178134061574166413-e310e25c-7073-42cc-9e54-45548c5083be-107-1-c000.snappy.parquet",
         "part-00033-tid-7178134061574166413-e310e25c-7073-42cc-9e54-45548c5083be-107-1-c000.snappy.parquet",
         21144703,
         1708743191000
        ],
        [
         "dbfs:/FileStore/tables/bigdata/parquet/df-parquet-file.parquet/part-00034-tid-7178134061574166413-e310e25c-7073-42cc-9e54-45548c5083be-108-1-c000.snappy.parquet",
         "part-00034-tid-7178134061574166413-e310e25c-7073-42cc-9e54-45548c5083be-108-1-c000.snappy.parquet",
         41865632,
         1708743207000
        ],
        [
         "dbfs:/FileStore/tables/bigdata/parquet/df-parquet-file.parquet/part-00035-tid-7178134061574166413-e310e25c-7073-42cc-9e54-45548c5083be-109-1-c000.snappy.parquet",
         "part-00035-tid-7178134061574166413-e310e25c-7073-42cc-9e54-45548c5083be-109-1-c000.snappy.parquet",
         38286426,
         1708743205000
        ],
        [
         "dbfs:/FileStore/tables/bigdata/parquet/df-parquet-file.parquet/part-00036-tid-7178134061574166413-e310e25c-7073-42cc-9e54-45548c5083be-110-1-c000.snappy.parquet",
         "part-00036-tid-7178134061574166413-e310e25c-7073-42cc-9e54-45548c5083be-110-1-c000.snappy.parquet",
         17500842,
         1708743188000
        ]
       ],
       "datasetInfos": [],
       "dbfsResultPath": null,
       "isJsonSchema": true,
       "metadata": {},
       "overflow": false,
       "plotOptions": {
        "customPlotOptions": {},
        "displayType": "table",
        "pivotAggregation": null,
        "pivotColumns": null,
        "xColumns": null,
        "yColumns": null
       },
       "removedWidgets": [],
       "schema": [
        {
         "metadata": "{}",
         "name": "path",
         "type": "\"string\""
        },
        {
         "metadata": "{}",
         "name": "name",
         "type": "\"string\""
        },
        {
         "metadata": "{}",
         "name": "size",
         "type": "\"long\""
        },
        {
         "metadata": "{}",
         "name": "modificationTime",
         "type": "\"long\""
        }
       ],
       "type": "table"
      }
     },
     "output_type": "display_data"
    }
   ],
   "source": [
    "#Tamanho dos arquivos\n",
    "display(dbutils.fs.ls(\"/FileStore/tables/bigdata/parquet/df-parquet-file.parquet\"))"
   ]
  },
  {
   "cell_type": "code",
   "execution_count": 0,
   "metadata": {
    "application/vnd.databricks.v1+cell": {
     "cellMetadata": {
      "byteLimit": 2048000,
      "rowLimit": 10000
     },
     "inputWidgets": {},
     "nuid": "ac6b513b-a553-472a-acf6-4afb782f9bcd",
     "showTitle": false,
     "title": ""
    }
   },
   "outputs": [
    {
     "output_type": "display_data",
     "data": {
      "text/html": [
       "<style scoped>\n",
       "  .ansiout {\n",
       "    display: block;\n",
       "    unicode-bidi: embed;\n",
       "    white-space: pre-wrap;\n",
       "    word-wrap: break-word;\n",
       "    word-break: break-all;\n",
       "    font-family: \"Menlo\", \"Monaco\", \"Consolas\", \"Ubuntu Mono\", \"Source Code Pro\", monospace;\n",
       "    font-size: 13px;\n",
       "    color: #555;\n",
       "    margin-left: 4px;\n",
       "    line-height: 19px;\n",
       "  }\n",
       "</style>\n",
       "<div class=\"ansiout\">path: String = /FileStore/tables/bigdata/parquet/df-parquet-file.parquet\n",
       "filelist: Seq[com.databricks.backend.daemon.dbutils.FileInfo] = ArrayBuffer(FileInfo(dbfs:/FileStore/tables/bigdata/parquet/df-parquet-file.parquet/_SUCCESS, _SUCCESS, 0, 1708743207000), FileInfo(dbfs:/FileStore/tables/bigdata/parquet/df-parquet-file.parquet/_committed_7178134061574166413, _committed_7178134061574166413, 3698, 1708743207000), FileInfo(dbfs:/FileStore/tables/bigdata/parquet/df-parquet-file.parquet/_started_7178134061574166413, _started_7178134061574166413, 0, 1708742670000), FileInfo(dbfs:/FileStore/tables/bigdata/parquet/df-parquet-file.parquet/part-00000-tid-7178134061574166413-e310e25c-7073-42cc-9e54-45548c5083be-74-1-c000.snappy.parquet, part-00000-tid-7178134061574166413-e310e25c-7073-42cc-9e54-45548c5083be-74-1-c000.snappy.parquet, 43318079, 1708742805000), FileInfo(dbfs:/FileStore/tables/bigdata/parquet/df-parquet-file.parquet/part-00001-tid-7178134061574166413-e310e25c-7073-42cc-9e54-45548c5083be-75-1-c000.snappy.parquet, part-00001-tid-7178134061574166413-e310e25c-7073-42cc-9e54-45548c5083be-75-1-c000.snappy.parquet, 43239368, 1708742809000), FileInfo(dbfs:/FileStore/tables/bigdata/parquet/df-parquet-file.parquet/part-00002-tid-7178134061574166413-e310e25c-7073-42cc-9e54-45548c5083be-76-1-c000.snappy.parquet, part-00002-tid-7178134061574166413-e310e25c-7073-42cc-9e54-45548c5083be-76-1-c000.snappy.parquet, 43410236, 1708742807000), FileInfo(dbfs:/FileStore/tables/bigdata/parquet/df-parquet-file.parquet/part-00003-tid-7178134061574166413-e310e25c-7073-42cc-9e54-45548c5083be-77-1-c000.snappy.parquet, part-00003-tid-7178134061574166413-e310e25c-7073-42cc-9e54-45548c5083be-77-1-c000.snappy.parquet, 43275526, 1708742805000), FileInfo(dbfs:/FileStore/tables/bigdata/parquet/df-parquet-file.parquet/part-00004-tid-7178134061574166413-e310e25c-7073-42cc-9e54-45548c5083be-78-1-c000.snappy.parquet, part-00004-tid-7178134061574166413-e310e25c-7073-42cc-9e54-45548c5083be-78-1-c000.snappy.parquet, 43278039, 1708742811000), FileInfo(dbfs:/FileStore/tables/bigdata/parquet/df-parquet-file.parquet/part-00005-tid-7178134061574166413-e310e25c-7073-42cc-9e54-45548c5083be-79-1-c000.snappy.parquet, part-00005-tid-7178134061574166413-e310e25c-7073-42cc-9e54-45548c5083be-79-1-c000.snappy.parquet, 43216420, 1708742809000), FileInfo(dbfs:/FileStore/tables/bigdata/parquet/df-parquet-file.parquet/part-00006-tid-7178134061574166413-e310e25c-7073-42cc-9e54-45548c5083be-80-1-c000.snappy.parquet, part-00006-tid-7178134061574166413-e310e25c-7073-42cc-9e54-45548c5083be-80-1-c000.snappy.parquet, 43302292, 1708742809000), FileInfo(dbfs:/FileStore/tables/bigdata/parquet/df-parquet-file.parquet/part-00007-tid-7178134061574166413-e310e25c-7073-42cc-9e54-45548c5083be-81-1-c000.snappy.parquet, part-00007-tid-7178134061574166413-e310e25c-7073-42cc-9e54-45548c5083be-81-1-c000.snappy.parquet, 43242136, 1708742810000), FileInfo(dbfs:/FileStore/tables/bigdata/parquet/df-parquet-file.parquet/part-00008-tid-7178134061574166413-e310e25c-7073-42cc-9e54-45548c5083be-82-1-c000.snappy.parquet, part-00008-tid-7178134061574166413-e310e25c-7073-42cc-9e54-45548c5083be-82-1-c000.snappy.parquet, 43502547, 1708742919000), FileInfo(dbfs:/FileStore/tables/bigdata/parquet/df-parquet-file.parquet/part-00009-tid-7178134061574166413-e310e25c-7073-42cc-9e54-45548c5083be-83-1-c000.snappy.parquet, part-00009-tid-7178134061574166413-e310e25c-7073-42cc-9e54-45548c5083be-83-1-c000.snappy.parquet, 43537462, 1708742927000), FileInfo(dbfs:/FileStore/tables/bigdata/parquet/df-parquet-file.parquet/part-00010-tid-7178134061574166413-e310e25c-7073-42cc-9e54-45548c5083be-84-1-c000.snappy.parquet, part-00010-tid-7178134061574166413-e310e25c-7073-42cc-9e54-45548c5083be-84-1-c000.snappy.parquet, 43475640, 1708742947000), FileInfo(dbfs:/FileStore/tables/bigdata/parquet/df-parquet-file.parquet/part-00011-tid-7178134061574166413-e310e25c-7073-42cc-9e54-45548c5083be-85-1-c000.snappy.parquet, part-00011-tid-7178134061574166413-e310e25c-7073-42cc-9e54-45548c5083be-85-1-c000.snappy.parquet, 43643728, 1708742951000), FileInfo(dbfs:/FileStore/tables/bigdata/parquet/df-parquet-file.parquet/part-00012-tid-7178134061574166413-e310e25c-7073-42cc-9e54-45548c5083be-86-1-c000.snappy.parquet, part-00012-tid-7178134061574166413-e310e25c-7073-42cc-9e54-45548c5083be-86-1-c000.snappy.parquet, 43523396, 1708742949000), FileInfo(dbfs:/FileStore/tables/bigdata/parquet/df-parquet-file.parquet/part-00013-tid-7178134061574166413-e310e25c-7073-42cc-9e54-45548c5083be-87-1-c000.snappy.parquet, part-00013-tid-7178134061574166413-e310e25c-7073-42cc-9e54-45548c5083be-87-1-c000.snappy.parquet, 43482887, 1708742940000), FileInfo(dbfs:/FileStore/tables/bigdata/parquet/df-parquet-file.parquet/part-00014-tid-7178134061574166413-e310e25c-7073-42cc-9e54-45548c5083be-88-1-c000.snappy.parquet, part-00014-tid-7178134061574166413-e310e25c-7073-42cc-9e54-45548c5083be-88-1-c000.snappy.parquet, 43448174, 1708742953000), FileInfo(dbfs:/FileStore/tables/bigdata/parquet/df-parquet-file.parquet/part-00015-tid-7178134061574166413-e310e25c-7073-42cc-9e54-45548c5083be-89-1-c000.snappy.parquet, part-00015-tid-7178134061574166413-e310e25c-7073-42cc-9e54-45548c5083be-89-1-c000.snappy.parquet, 43395557, 1708742953000), FileInfo(dbfs:/FileStore/tables/bigdata/parquet/df-parquet-file.parquet/part-00016-tid-7178134061574166413-e310e25c-7073-42cc-9e54-45548c5083be-90-1-c000.snappy.parquet, part-00016-tid-7178134061574166413-e310e25c-7073-42cc-9e54-45548c5083be-90-1-c000.snappy.parquet, 43301500, 1708743031000), FileInfo(dbfs:/FileStore/tables/bigdata/parquet/df-parquet-file.parquet/part-00017-tid-7178134061574166413-e310e25c-7073-42cc-9e54-45548c5083be-91-1-c000.snappy.parquet, part-00017-tid-7178134061574166413-e310e25c-7073-42cc-9e54-45548c5083be-91-1-c000.snappy.parquet, 43166612, 1708743039000), FileInfo(dbfs:/FileStore/tables/bigdata/parquet/df-parquet-file.parquet/part-00018-tid-7178134061574166413-e310e25c-7073-42cc-9e54-45548c5083be-92-1-c000.snappy.parquet, part-00018-tid-7178134061574166413-e310e25c-7073-42cc-9e54-45548c5083be-92-1-c000.snappy.parquet, 43091528, 1708743059000), FileInfo(dbfs:/FileStore/tables/bigdata/parquet/df-parquet-file.parquet/part-00019-tid-7178134061574166413-e310e25c-7073-42cc-9e54-45548c5083be-93-1-c000.snappy.parquet, part-00019-tid-7178134061574166413-e310e25c-7073-42cc-9e54-45548c5083be-93-1-c000.snappy.parquet, 43048545, 1708743081000), FileInfo(dbfs:/FileStore/tables/bigdata/parquet/df-parquet-file.parquet/part-00020-tid-7178134061574166413-e310e25c-7073-42cc-9e54-45548c5083be-94-1-c000.snappy.parquet, part-00020-tid-7178134061574166413-e310e25c-7073-42cc-9e54-45548c5083be-94-1-c000.snappy.parquet, 43448966, 1708743080000), FileInfo(dbfs:/FileStore/tables/bigdata/parquet/df-parquet-file.parquet/part-00021-tid-7178134061574166413-e310e25c-7073-42cc-9e54-45548c5083be-95-1-c000.snappy.parquet, part-00021-tid-7178134061574166413-e310e25c-7073-42cc-9e54-45548c5083be-95-1-c000.snappy.parquet, 43407916, 1708743088000), FileInfo(dbfs:/FileStore/tables/bigdata/parquet/df-parquet-file.parquet/part-00022-tid-7178134061574166413-e310e25c-7073-42cc-9e54-45548c5083be-96-1-c000.snappy.parquet, part-00022-tid-7178134061574166413-e310e25c-7073-42cc-9e54-45548c5083be-96-1-c000.snappy.parquet, 43159172, 1708743087000), FileInfo(dbfs:/FileStore/tables/bigdata/parquet/df-parquet-file.parquet/part-00023-tid-7178134061574166413-e310e25c-7073-42cc-9e54-45548c5083be-97-1-c000.snappy.parquet, part-00023-tid-7178134061574166413-e310e25c-7073-42cc-9e54-45548c5083be-97-1-c000.snappy.parquet, 43091423, 1708743089000), FileInfo(dbfs:/FileStore/tables/bigdata/parquet/df-parquet-file.parquet/part-00024-tid-7178134061574166413-e310e25c-7073-42cc-9e54-45548c5083be-98-1-c000.snappy.parquet, part-00024-tid-7178134061574166413-e310e25c-7073-42cc-9e54-45548c5083be-98-1-c000.snappy.parquet, 43479734, 1708743159000), FileInfo(dbfs:/FileStore/tables/bigdata/parquet/df-parquet-file.parquet/part-00025-tid-7178134061574166413-e310e25c-7073-42cc-9e54-45548c5083be-99-1-c000.snappy.parquet, part-00025-tid-7178134061574166413-e310e25c-7073-42cc-9e54-45548c5083be-99-1-c000.snappy.parquet, 43373698, 1708743166000), FileInfo(dbfs:/FileStore/tables/bigdata/parquet/df-parquet-file.parquet/part-00026-tid-7178134061574166413-e310e25c-7073-42cc-9e54-45548c5083be-100-1-c000.snappy.parquet, part-00026-tid-7178134061574166413-e310e25c-7073-42cc-9e54-45548c5083be-100-1-c000.snappy.parquet, 23343021, 1708743126000), FileInfo(dbfs:/FileStore/tables/bigdata/parquet/df-parquet-file.parquet/part-00027-tid-7178134061574166413-e310e25c-7073-42cc-9e54-45548c5083be-101-1-c000.snappy.parquet, part-00027-tid-7178134061574166413-e310e25c-7073-42cc-9e54-45548c5083be-101-1-c000.snappy.parquet, 22782637, 1708743150000), FileInfo(dbfs:/FileStore/tables/bigdata/parquet/df-parquet-file.parquet/part-00028-tid-7178134061574166413-e310e25c-7073-42cc-9e54-45548c5083be-102-1-c000.snappy.parquet, part-00028-tid-7178134061574166413-e310e25c-7073-42cc-9e54-45548c5083be-102-1-c000.snappy.parquet, 21982789, 1708743147000), FileInfo(dbfs:/FileStore/tables/bigdata/parquet/df-parquet-file.parquet/part-00029-tid-7178134061574166413-e310e25c-7073-42cc-9e54-45548c5083be-103-1-c000.snappy.parquet, part-00029-tid-7178134061574166413-e310e25c-7073-42cc-9e54-45548c5083be-103-1-c000.snappy.parquet, 21786707, 1708743150000), FileInfo(dbfs:/FileStore/tables/bigdata/parquet/df-parquet-file.parquet/part-00030-tid-7178134061574166413-e310e25c-7073-42cc-9e54-45548c5083be-104-1-c000.snappy.parquet, part-00030-tid-7178134061574166413-e310e25c-7073-42cc-9e54-45548c5083be-104-1-c000.snappy.parquet, 21704923, 1708743154000), FileInfo(dbfs:/FileStore/tables/bigdata/parquet/df-parquet-file.parquet/part-00031-tid-7178134061574166413-e310e25c-7073-42cc-9e54-45548c5083be-105-1-c000.snappy.parquet, part-00031-tid-7178134061574166413-e310e25c-7073-42cc-9e54-45548c5083be-105-1-c000.snappy.parquet, 21586087, 1708743154000), FileInfo(dbfs:/FileStore/tables/bigdata/parquet/df-parquet-file.parquet/part-00032-tid-7178134061574166413-e310e25c-7073-42cc-9e54-45548c5083be-106-1-c000.snappy.parquet, part-00032-tid-7178134061574166413-e310e25c-7073-42cc-9e54-45548c5083be-106-1-c000.snappy.parquet, 21453287, 1708743180000), FileInfo(dbfs:/FileStore/tables/bigdata/parquet/df-parquet-file.parquet/part-00033-tid-7178134061574166413-e310e25c-7073-42cc-9e54-45548c5083be-107-1-c000.snappy.parquet, part-00033-tid-7178134061574166413-e310e25c-7073-42cc-9e54-45548c5083be-107-1-c000.snappy.parquet, 21144703, 1708743191000), FileInfo(dbfs:/FileStore/tables/bigdata/parquet/df-parquet-file.parquet/part-00034-tid-7178134061574166413-e310e25c-7073-42cc-9e54-45548c5083be-108-1-c000.snappy.parquet, part-00034-tid-7178134061574166413-e310e25c-7073-42cc-9e54-45548c5083be-108-1-c000.snappy.parquet, 41865632, 1708743207000), FileInfo(dbfs:/FileStore/tables/bigdata/parquet/df-parquet-file.parquet/part-00035-tid-7178134061574166413-e310e25c-7073-42cc-9e54-45548c5083be-109-1-c000.snappy.parquet, part-00035-tid-7178134061574166413-e310e25c-7073-42cc-9e54-45548c5083be-109-1-c000.snappy.parquet, 38286426, 1708743205000), FileInfo(dbfs:/FileStore/tables/bigdata/parquet/df-parquet-file.parquet/part-00036-tid-7178134061574166413-e310e25c-7073-42cc-9e54-45548c5083be-110-1-c000.snappy.parquet, part-00036-tid-7178134061574166413-e310e25c-7073-42cc-9e54-45548c5083be-110-1-c000.snappy.parquet, 17500842, 1708743188000))\n",
       "df_temp: org.apache.spark.sql.DataFrame = [path: string, name: string ... 2 more fields]\n",
       "</div>"
      ]
     },
     "metadata": {
      "application/vnd.databricks.v1+output": {
       "addedWidgets": {},
       "arguments": {},
       "data": "<div class=\"ansiout\">path: String = /FileStore/tables/bigdata/parquet/df-parquet-file.parquet\nfilelist: Seq[com.databricks.backend.daemon.dbutils.FileInfo] = ArrayBuffer(FileInfo(dbfs:/FileStore/tables/bigdata/parquet/df-parquet-file.parquet/_SUCCESS, _SUCCESS, 0, 1708743207000), FileInfo(dbfs:/FileStore/tables/bigdata/parquet/df-parquet-file.parquet/_committed_7178134061574166413, _committed_7178134061574166413, 3698, 1708743207000), FileInfo(dbfs:/FileStore/tables/bigdata/parquet/df-parquet-file.parquet/_started_7178134061574166413, _started_7178134061574166413, 0, 1708742670000), FileInfo(dbfs:/FileStore/tables/bigdata/parquet/df-parquet-file.parquet/part-00000-tid-7178134061574166413-e310e25c-7073-42cc-9e54-45548c5083be-74-1-c000.snappy.parquet, part-00000-tid-7178134061574166413-e310e25c-7073-42cc-9e54-45548c5083be-74-1-c000.snappy.parquet, 43318079, 1708742805000), FileInfo(dbfs:/FileStore/tables/bigdata/parquet/df-parquet-file.parquet/part-00001-tid-7178134061574166413-e310e25c-7073-42cc-9e54-45548c5083be-75-1-c000.snappy.parquet, part-00001-tid-7178134061574166413-e310e25c-7073-42cc-9e54-45548c5083be-75-1-c000.snappy.parquet, 43239368, 1708742809000), FileInfo(dbfs:/FileStore/tables/bigdata/parquet/df-parquet-file.parquet/part-00002-tid-7178134061574166413-e310e25c-7073-42cc-9e54-45548c5083be-76-1-c000.snappy.parquet, part-00002-tid-7178134061574166413-e310e25c-7073-42cc-9e54-45548c5083be-76-1-c000.snappy.parquet, 43410236, 1708742807000), FileInfo(dbfs:/FileStore/tables/bigdata/parquet/df-parquet-file.parquet/part-00003-tid-7178134061574166413-e310e25c-7073-42cc-9e54-45548c5083be-77-1-c000.snappy.parquet, part-00003-tid-7178134061574166413-e310e25c-7073-42cc-9e54-45548c5083be-77-1-c000.snappy.parquet, 43275526, 1708742805000), FileInfo(dbfs:/FileStore/tables/bigdata/parquet/df-parquet-file.parquet/part-00004-tid-7178134061574166413-e310e25c-7073-42cc-9e54-45548c5083be-78-1-c000.snappy.parquet, part-00004-tid-7178134061574166413-e310e25c-7073-42cc-9e54-45548c5083be-78-1-c000.snappy.parquet, 43278039, 1708742811000), FileInfo(dbfs:/FileStore/tables/bigdata/parquet/df-parquet-file.parquet/part-00005-tid-7178134061574166413-e310e25c-7073-42cc-9e54-45548c5083be-79-1-c000.snappy.parquet, part-00005-tid-7178134061574166413-e310e25c-7073-42cc-9e54-45548c5083be-79-1-c000.snappy.parquet, 43216420, 1708742809000), FileInfo(dbfs:/FileStore/tables/bigdata/parquet/df-parquet-file.parquet/part-00006-tid-7178134061574166413-e310e25c-7073-42cc-9e54-45548c5083be-80-1-c000.snappy.parquet, part-00006-tid-7178134061574166413-e310e25c-7073-42cc-9e54-45548c5083be-80-1-c000.snappy.parquet, 43302292, 1708742809000), FileInfo(dbfs:/FileStore/tables/bigdata/parquet/df-parquet-file.parquet/part-00007-tid-7178134061574166413-e310e25c-7073-42cc-9e54-45548c5083be-81-1-c000.snappy.parquet, part-00007-tid-7178134061574166413-e310e25c-7073-42cc-9e54-45548c5083be-81-1-c000.snappy.parquet, 43242136, 1708742810000), FileInfo(dbfs:/FileStore/tables/bigdata/parquet/df-parquet-file.parquet/part-00008-tid-7178134061574166413-e310e25c-7073-42cc-9e54-45548c5083be-82-1-c000.snappy.parquet, part-00008-tid-7178134061574166413-e310e25c-7073-42cc-9e54-45548c5083be-82-1-c000.snappy.parquet, 43502547, 1708742919000), FileInfo(dbfs:/FileStore/tables/bigdata/parquet/df-parquet-file.parquet/part-00009-tid-7178134061574166413-e310e25c-7073-42cc-9e54-45548c5083be-83-1-c000.snappy.parquet, part-00009-tid-7178134061574166413-e310e25c-7073-42cc-9e54-45548c5083be-83-1-c000.snappy.parquet, 43537462, 1708742927000), FileInfo(dbfs:/FileStore/tables/bigdata/parquet/df-parquet-file.parquet/part-00010-tid-7178134061574166413-e310e25c-7073-42cc-9e54-45548c5083be-84-1-c000.snappy.parquet, part-00010-tid-7178134061574166413-e310e25c-7073-42cc-9e54-45548c5083be-84-1-c000.snappy.parquet, 43475640, 1708742947000), FileInfo(dbfs:/FileStore/tables/bigdata/parquet/df-parquet-file.parquet/part-00011-tid-7178134061574166413-e310e25c-7073-42cc-9e54-45548c5083be-85-1-c000.snappy.parquet, part-00011-tid-7178134061574166413-e310e25c-7073-42cc-9e54-45548c5083be-85-1-c000.snappy.parquet, 43643728, 1708742951000), FileInfo(dbfs:/FileStore/tables/bigdata/parquet/df-parquet-file.parquet/part-00012-tid-7178134061574166413-e310e25c-7073-42cc-9e54-45548c5083be-86-1-c000.snappy.parquet, part-00012-tid-7178134061574166413-e310e25c-7073-42cc-9e54-45548c5083be-86-1-c000.snappy.parquet, 43523396, 1708742949000), FileInfo(dbfs:/FileStore/tables/bigdata/parquet/df-parquet-file.parquet/part-00013-tid-7178134061574166413-e310e25c-7073-42cc-9e54-45548c5083be-87-1-c000.snappy.parquet, part-00013-tid-7178134061574166413-e310e25c-7073-42cc-9e54-45548c5083be-87-1-c000.snappy.parquet, 43482887, 1708742940000), FileInfo(dbfs:/FileStore/tables/bigdata/parquet/df-parquet-file.parquet/part-00014-tid-7178134061574166413-e310e25c-7073-42cc-9e54-45548c5083be-88-1-c000.snappy.parquet, part-00014-tid-7178134061574166413-e310e25c-7073-42cc-9e54-45548c5083be-88-1-c000.snappy.parquet, 43448174, 1708742953000), FileInfo(dbfs:/FileStore/tables/bigdata/parquet/df-parquet-file.parquet/part-00015-tid-7178134061574166413-e310e25c-7073-42cc-9e54-45548c5083be-89-1-c000.snappy.parquet, part-00015-tid-7178134061574166413-e310e25c-7073-42cc-9e54-45548c5083be-89-1-c000.snappy.parquet, 43395557, 1708742953000), FileInfo(dbfs:/FileStore/tables/bigdata/parquet/df-parquet-file.parquet/part-00016-tid-7178134061574166413-e310e25c-7073-42cc-9e54-45548c5083be-90-1-c000.snappy.parquet, part-00016-tid-7178134061574166413-e310e25c-7073-42cc-9e54-45548c5083be-90-1-c000.snappy.parquet, 43301500, 1708743031000), FileInfo(dbfs:/FileStore/tables/bigdata/parquet/df-parquet-file.parquet/part-00017-tid-7178134061574166413-e310e25c-7073-42cc-9e54-45548c5083be-91-1-c000.snappy.parquet, part-00017-tid-7178134061574166413-e310e25c-7073-42cc-9e54-45548c5083be-91-1-c000.snappy.parquet, 43166612, 1708743039000), FileInfo(dbfs:/FileStore/tables/bigdata/parquet/df-parquet-file.parquet/part-00018-tid-7178134061574166413-e310e25c-7073-42cc-9e54-45548c5083be-92-1-c000.snappy.parquet, part-00018-tid-7178134061574166413-e310e25c-7073-42cc-9e54-45548c5083be-92-1-c000.snappy.parquet, 43091528, 1708743059000), FileInfo(dbfs:/FileStore/tables/bigdata/parquet/df-parquet-file.parquet/part-00019-tid-7178134061574166413-e310e25c-7073-42cc-9e54-45548c5083be-93-1-c000.snappy.parquet, part-00019-tid-7178134061574166413-e310e25c-7073-42cc-9e54-45548c5083be-93-1-c000.snappy.parquet, 43048545, 1708743081000), FileInfo(dbfs:/FileStore/tables/bigdata/parquet/df-parquet-file.parquet/part-00020-tid-7178134061574166413-e310e25c-7073-42cc-9e54-45548c5083be-94-1-c000.snappy.parquet, part-00020-tid-7178134061574166413-e310e25c-7073-42cc-9e54-45548c5083be-94-1-c000.snappy.parquet, 43448966, 1708743080000), FileInfo(dbfs:/FileStore/tables/bigdata/parquet/df-parquet-file.parquet/part-00021-tid-7178134061574166413-e310e25c-7073-42cc-9e54-45548c5083be-95-1-c000.snappy.parquet, part-00021-tid-7178134061574166413-e310e25c-7073-42cc-9e54-45548c5083be-95-1-c000.snappy.parquet, 43407916, 1708743088000), FileInfo(dbfs:/FileStore/tables/bigdata/parquet/df-parquet-file.parquet/part-00022-tid-7178134061574166413-e310e25c-7073-42cc-9e54-45548c5083be-96-1-c000.snappy.parquet, part-00022-tid-7178134061574166413-e310e25c-7073-42cc-9e54-45548c5083be-96-1-c000.snappy.parquet, 43159172, 1708743087000), FileInfo(dbfs:/FileStore/tables/bigdata/parquet/df-parquet-file.parquet/part-00023-tid-7178134061574166413-e310e25c-7073-42cc-9e54-45548c5083be-97-1-c000.snappy.parquet, part-00023-tid-7178134061574166413-e310e25c-7073-42cc-9e54-45548c5083be-97-1-c000.snappy.parquet, 43091423, 1708743089000), FileInfo(dbfs:/FileStore/tables/bigdata/parquet/df-parquet-file.parquet/part-00024-tid-7178134061574166413-e310e25c-7073-42cc-9e54-45548c5083be-98-1-c000.snappy.parquet, part-00024-tid-7178134061574166413-e310e25c-7073-42cc-9e54-45548c5083be-98-1-c000.snappy.parquet, 43479734, 1708743159000), FileInfo(dbfs:/FileStore/tables/bigdata/parquet/df-parquet-file.parquet/part-00025-tid-7178134061574166413-e310e25c-7073-42cc-9e54-45548c5083be-99-1-c000.snappy.parquet, part-00025-tid-7178134061574166413-e310e25c-7073-42cc-9e54-45548c5083be-99-1-c000.snappy.parquet, 43373698, 1708743166000), FileInfo(dbfs:/FileStore/tables/bigdata/parquet/df-parquet-file.parquet/part-00026-tid-7178134061574166413-e310e25c-7073-42cc-9e54-45548c5083be-100-1-c000.snappy.parquet, part-00026-tid-7178134061574166413-e310e25c-7073-42cc-9e54-45548c5083be-100-1-c000.snappy.parquet, 23343021, 1708743126000), FileInfo(dbfs:/FileStore/tables/bigdata/parquet/df-parquet-file.parquet/part-00027-tid-7178134061574166413-e310e25c-7073-42cc-9e54-45548c5083be-101-1-c000.snappy.parquet, part-00027-tid-7178134061574166413-e310e25c-7073-42cc-9e54-45548c5083be-101-1-c000.snappy.parquet, 22782637, 1708743150000), FileInfo(dbfs:/FileStore/tables/bigdata/parquet/df-parquet-file.parquet/part-00028-tid-7178134061574166413-e310e25c-7073-42cc-9e54-45548c5083be-102-1-c000.snappy.parquet, part-00028-tid-7178134061574166413-e310e25c-7073-42cc-9e54-45548c5083be-102-1-c000.snappy.parquet, 21982789, 1708743147000), FileInfo(dbfs:/FileStore/tables/bigdata/parquet/df-parquet-file.parquet/part-00029-tid-7178134061574166413-e310e25c-7073-42cc-9e54-45548c5083be-103-1-c000.snappy.parquet, part-00029-tid-7178134061574166413-e310e25c-7073-42cc-9e54-45548c5083be-103-1-c000.snappy.parquet, 21786707, 1708743150000), FileInfo(dbfs:/FileStore/tables/bigdata/parquet/df-parquet-file.parquet/part-00030-tid-7178134061574166413-e310e25c-7073-42cc-9e54-45548c5083be-104-1-c000.snappy.parquet, part-00030-tid-7178134061574166413-e310e25c-7073-42cc-9e54-45548c5083be-104-1-c000.snappy.parquet, 21704923, 1708743154000), FileInfo(dbfs:/FileStore/tables/bigdata/parquet/df-parquet-file.parquet/part-00031-tid-7178134061574166413-e310e25c-7073-42cc-9e54-45548c5083be-105-1-c000.snappy.parquet, part-00031-tid-7178134061574166413-e310e25c-7073-42cc-9e54-45548c5083be-105-1-c000.snappy.parquet, 21586087, 1708743154000), FileInfo(dbfs:/FileStore/tables/bigdata/parquet/df-parquet-file.parquet/part-00032-tid-7178134061574166413-e310e25c-7073-42cc-9e54-45548c5083be-106-1-c000.snappy.parquet, part-00032-tid-7178134061574166413-e310e25c-7073-42cc-9e54-45548c5083be-106-1-c000.snappy.parquet, 21453287, 1708743180000), FileInfo(dbfs:/FileStore/tables/bigdata/parquet/df-parquet-file.parquet/part-00033-tid-7178134061574166413-e310e25c-7073-42cc-9e54-45548c5083be-107-1-c000.snappy.parquet, part-00033-tid-7178134061574166413-e310e25c-7073-42cc-9e54-45548c5083be-107-1-c000.snappy.parquet, 21144703, 1708743191000), FileInfo(dbfs:/FileStore/tables/bigdata/parquet/df-parquet-file.parquet/part-00034-tid-7178134061574166413-e310e25c-7073-42cc-9e54-45548c5083be-108-1-c000.snappy.parquet, part-00034-tid-7178134061574166413-e310e25c-7073-42cc-9e54-45548c5083be-108-1-c000.snappy.parquet, 41865632, 1708743207000), FileInfo(dbfs:/FileStore/tables/bigdata/parquet/df-parquet-file.parquet/part-00035-tid-7178134061574166413-e310e25c-7073-42cc-9e54-45548c5083be-109-1-c000.snappy.parquet, part-00035-tid-7178134061574166413-e310e25c-7073-42cc-9e54-45548c5083be-109-1-c000.snappy.parquet, 38286426, 1708743205000), FileInfo(dbfs:/FileStore/tables/bigdata/parquet/df-parquet-file.parquet/part-00036-tid-7178134061574166413-e310e25c-7073-42cc-9e54-45548c5083be-110-1-c000.snappy.parquet, part-00036-tid-7178134061574166413-e310e25c-7073-42cc-9e54-45548c5083be-110-1-c000.snappy.parquet, 17500842, 1708743188000))\ndf_temp: org.apache.spark.sql.DataFrame = [path: string, name: string ... 2 more fields]\n</div>",
       "datasetInfos": [
        {
         "name": "df_temp",
         "schema": {
          "fields": [
           {
            "metadata": {},
            "name": "path",
            "nullable": true,
            "type": "string"
           },
           {
            "metadata": {},
            "name": "name",
            "nullable": true,
            "type": "string"
           },
           {
            "metadata": {},
            "name": "size",
            "nullable": false,
            "type": "long"
           },
           {
            "metadata": {},
            "name": "modificationTime",
            "nullable": false,
            "type": "long"
           }
          ],
          "type": "struct"
         },
         "tableIdentifier": null,
         "typeStr": "org.apache.spark.sql.DataFrame"
        }
       ],
       "metadata": {},
       "removedWidgets": [],
       "type": "html"
      }
     },
     "output_type": "display_data"
    }
   ],
   "source": [
    "%scala\n",
    "val path=\"/FileStore/tables/bigdata/parquet/df-parquet-file.parquet\"\n",
    "val filelist=dbutils.fs.ls(path)\n",
    "val df_temp = filelist.toDF()\n",
    "df_temp.createOrReplaceTempView(\"adlsSize\")"
   ]
  },
  {
   "cell_type": "code",
   "execution_count": 0,
   "metadata": {
    "application/vnd.databricks.v1+cell": {
     "cellMetadata": {
      "byteLimit": 2048000,
      "implicitDf": true,
      "rowLimit": 10000
     },
     "inputWidgets": {},
     "nuid": "75399ef3-1682-41b3-bfe0-258e737deefa",
     "showTitle": false,
     "title": ""
    }
   },
   "outputs": [
    {
     "output_type": "display_data",
     "data": {
      "text/html": [
       "<style scoped>\n",
       "  .table-result-container {\n",
       "    max-height: 300px;\n",
       "    overflow: auto;\n",
       "  }\n",
       "  table, th, td {\n",
       "    border: 1px solid black;\n",
       "    border-collapse: collapse;\n",
       "  }\n",
       "  th, td {\n",
       "    padding: 5px;\n",
       "  }\n",
       "  th {\n",
       "    text-align: left;\n",
       "  }\n",
       "</style><div class='table-result-container'><table class='table-result'><thead style='background-color: white'><tr><th>sizeInGB</th></tr></thead><tbody><tr><td>1.304</td></tr></tbody></table></div>"
      ]
     },
     "metadata": {
      "application/vnd.databricks.v1+output": {
       "addedWidgets": {},
       "aggData": [],
       "aggError": "",
       "aggOverflow": false,
       "aggSchema": [],
       "aggSeriesLimitReached": false,
       "aggType": "",
       "arguments": {},
       "columnCustomDisplayInfos": {},
       "data": [
        [
         1.304
        ]
       ],
       "datasetInfos": [],
       "dbfsResultPath": null,
       "isJsonSchema": true,
       "metadata": {
        "dataframeName": "_sqldf",
        "executionCount": 18
       },
       "overflow": false,
       "plotOptions": {
        "customPlotOptions": {},
        "displayType": "table",
        "pivotAggregation": null,
        "pivotColumns": null,
        "xColumns": null,
        "yColumns": null
       },
       "removedWidgets": [],
       "schema": [
        {
         "metadata": "{}",
         "name": "sizeInGB",
         "type": "\"double\""
        }
       ],
       "type": "table"
      }
     },
     "output_type": "display_data"
    }
   ],
   "source": [
    "%sql\n",
    "select round(sum(size)/(1024*1024*1024),3) as sizeInGB from adlsSize"
   ]
  },
  {
   "cell_type": "code",
   "execution_count": 0,
   "metadata": {
    "application/vnd.databricks.v1+cell": {
     "cellMetadata": {},
     "inputWidgets": {},
     "nuid": "d555962c-488e-4591-93ae-97e29d078a2d",
     "showTitle": false,
     "title": ""
    }
   },
   "outputs": [],
   "source": [
    "#535"
   ]
  }
 ],
 "metadata": {
  "application/vnd.databricks.v1+notebook": {
   "dashboards": [],
   "language": "python",
   "notebookMetadata": {
    "mostRecentlyExecutedCommandWithImplicitDF": {
     "commandId": 455256714272443,
     "dataframes": [
      "_sqldf"
     ]
    },
    "pythonIndentUnit": 4
   },
   "notebookName": "notebookSpark2",
   "widgets": {}
  }
 },
 "nbformat": 4,
 "nbformat_minor": 0
}
