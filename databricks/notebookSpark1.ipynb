{
 "cells": [
  {
   "cell_type": "code",
   "execution_count": 0,
   "metadata": {
    "application/vnd.databricks.v1+cell": {
     "cellMetadata": {
      "byteLimit": 2048000,
      "rowLimit": 10000
     },
     "inputWidgets": {},
     "nuid": "999b5fd1-d076-4092-b0b6-5064ed0cd0eb",
     "showTitle": false,
     "title": ""
    }
   },
   "outputs": [],
   "source": [
    "arquivo = \"/FileStore/tables/spk/2015_S_1-3.CSV\""
   ]
  },
  {
   "cell_type": "code",
   "execution_count": 0,
   "metadata": {
    "application/vnd.databricks.v1+cell": {
     "cellMetadata": {
      "byteLimit": 2048000,
      "rowLimit": 10000
     },
     "inputWidgets": {},
     "nuid": "1d2f24fe-7f23-4aa1-96f5-9daedb17da99",
     "showTitle": false,
     "title": ""
    }
   },
   "outputs": [],
   "source": [
    "flightData2015 = spark\\\n",
    "    .read.format(\"csv\")\\\n",
    "    .option(\"inferSchema\", \"True\")\\\n",
    "    .option(\"header\", \"True\")\\\n",
    "    .csv(arquivo)"
   ]
  },
  {
   "cell_type": "code",
   "execution_count": 0,
   "metadata": {
    "application/vnd.databricks.v1+cell": {
     "cellMetadata": {
      "byteLimit": 2048000,
      "rowLimit": 10000
     },
     "inputWidgets": {},
     "nuid": "e254b682-91fe-4ce8-b08c-0cb704d92887",
     "showTitle": false,
     "title": ""
    }
   },
   "outputs": [
    {
     "output_type": "stream",
     "name": "stdout",
     "output_type": "stream",
     "text": [
      "root\n |-- DEST_COUNTRY_NAME: string (nullable = true)\n |-- ORIGIN_COUNTRY_NAME: string (nullable = true)\n |-- count: integer (nullable = true)\n\n"
     ]
    }
   ],
   "source": [
    "flightData2015.printSchema()"
   ]
  },
  {
   "cell_type": "code",
   "execution_count": 0,
   "metadata": {
    "application/vnd.databricks.v1+cell": {
     "cellMetadata": {
      "byteLimit": 2048000,
      "rowLimit": 10000
     },
     "inputWidgets": {},
     "nuid": "86f11cc0-7610-445b-aea6-d3df9dfc64b3",
     "showTitle": false,
     "title": ""
    }
   },
   "outputs": [
    {
     "output_type": "execute_result",
     "data": {
      "text/plain": [
       "pyspark.sql.dataframe.DataFrame"
      ]
     },
     "execution_count": 28,
     "metadata": {},
     "output_type": "execute_result"
    }
   ],
   "source": [
    "type(flightData2015)"
   ]
  },
  {
   "cell_type": "code",
   "execution_count": 0,
   "metadata": {
    "application/vnd.databricks.v1+cell": {
     "cellMetadata": {
      "byteLimit": 2048000,
      "rowLimit": 10000
     },
     "inputWidgets": {},
     "nuid": "e2533a33-3bd3-4d2e-85c8-5b302bccf152",
     "showTitle": false,
     "title": ""
    }
   },
   "outputs": [
    {
     "output_type": "execute_result",
     "data": {
      "text/plain": [
       "[Row(DEST_COUNTRY_NAME='United States', ORIGIN_COUNTRY_NAME='Romania', count=15),\n",
       " Row(DEST_COUNTRY_NAME='United States', ORIGIN_COUNTRY_NAME='Croatia', count=1),\n",
       " Row(DEST_COUNTRY_NAME='United States', ORIGIN_COUNTRY_NAME='Ireland', count=344),\n",
       " Row(DEST_COUNTRY_NAME='Egypt', ORIGIN_COUNTRY_NAME='United States', count=15),\n",
       " Row(DEST_COUNTRY_NAME='United States', ORIGIN_COUNTRY_NAME='India', count=62)]"
      ]
     },
     "execution_count": 30,
     "metadata": {},
     "output_type": "execute_result"
    }
   ],
   "source": [
    "flightData2015.take(5)"
   ]
  },
  {
   "cell_type": "code",
   "execution_count": 0,
   "metadata": {
    "application/vnd.databricks.v1+cell": {
     "cellMetadata": {
      "byteLimit": 2048000,
      "rowLimit": 10000
     },
     "inputWidgets": {},
     "nuid": "cf0ad15e-67df-45fd-92fa-2008d478ecdb",
     "showTitle": false,
     "title": ""
    }
   },
   "outputs": [
    {
     "output_type": "stream",
     "name": "stdout",
     "output_type": "stream",
     "text": [
      "+-----------------+-------------------+-----+\n|DEST_COUNTRY_NAME|ORIGIN_COUNTRY_NAME|count|\n+-----------------+-------------------+-----+\n|    United States|            Romania|   15|\n|    United States|            Croatia|    1|\n|    United States|            Ireland|  344|\n+-----------------+-------------------+-----+\nonly showing top 3 rows\n\n"
     ]
    }
   ],
   "source": [
    "display(flightData2015.show(3))"
   ]
  },
  {
   "cell_type": "code",
   "execution_count": 0,
   "metadata": {
    "application/vnd.databricks.v1+cell": {
     "cellMetadata": {
      "byteLimit": 2048000,
      "rowLimit": 10000
     },
     "inputWidgets": {},
     "nuid": "d0e5cc2a-4b69-4233-9ccb-bda9a691b650",
     "showTitle": false,
     "title": ""
    }
   },
   "outputs": [
    {
     "output_type": "execute_result",
     "data": {
      "text/plain": [
       "256"
      ]
     },
     "execution_count": 31,
     "metadata": {},
     "output_type": "execute_result"
    }
   ],
   "source": [
    "flightData2015.count()"
   ]
  },
  {
   "cell_type": "code",
   "execution_count": 0,
   "metadata": {
    "application/vnd.databricks.v1+cell": {
     "cellMetadata": {
      "byteLimit": 2048000,
      "rowLimit": 10000
     },
     "inputWidgets": {},
     "nuid": "e1651543-c201-4713-b75b-36acbfcfdc8b",
     "showTitle": false,
     "title": ""
    }
   },
   "outputs": [],
   "source": [
    "flightData2015 = spark\\\n",
    "    .read.format(\"csv\")\\\n",
    "    .option(\"inferSchema\", \"False\")\\\n",
    "    .option(\"header\", \"True\")\\\n",
    "    .csv(arquivo)"
   ]
  },
  {
   "cell_type": "code",
   "execution_count": 0,
   "metadata": {
    "application/vnd.databricks.v1+cell": {
     "cellMetadata": {
      "byteLimit": 2048000,
      "rowLimit": 10000
     },
     "inputWidgets": {},
     "nuid": "a83ed5b0-e155-453f-a3b9-35f39f4f3b9b",
     "showTitle": false,
     "title": ""
    }
   },
   "outputs": [],
   "source": [
    "df = spark\\\n",
    "    .read\\\n",
    "    .option(\"inferSchema\", \"True\")\\\n",
    "    .option(\"header\", \"True\")\\\n",
    "    .csv(\"/FileStore/tables/spk/*.CSV\")"
   ]
  },
  {
   "cell_type": "code",
   "execution_count": 0,
   "metadata": {
    "application/vnd.databricks.v1+cell": {
     "cellMetadata": {
      "byteLimit": 2048000,
      "rowLimit": 10000
     },
     "inputWidgets": {},
     "nuid": "65b19b4f-5c33-4ccd-8ed0-4ef4d3e19716",
     "showTitle": false,
     "title": ""
    }
   },
   "outputs": [
    {
     "output_type": "stream",
     "name": "stdout",
     "output_type": "stream",
     "text": [
      "+-----------------+-------------------+-----+\n|DEST_COUNTRY_NAME|ORIGIN_COUNTRY_NAME|count|\n+-----------------+-------------------+-----+\n|    United States|            Romania|    1|\n|    United States|            Ireland|  264|\n|    United States|              India|   69|\n|            Egypt|      United States|   24|\n|Equatorial Guinea|      United States|    1|\n|    United States|          Singapore|   25|\n|    United States|            Grenada|   54|\n|       Costa Rica|      United States|  477|\n|          Senegal|      United States|   29|\n|    United States|   Marshall Islands|   44|\n+-----------------+-------------------+-----+\nonly showing top 10 rows\n\n"
     ]
    }
   ],
   "source": [
    "df.show(10)"
   ]
  },
  {
   "cell_type": "code",
   "execution_count": 0,
   "metadata": {
    "application/vnd.databricks.v1+cell": {
     "cellMetadata": {
      "byteLimit": 2048000,
      "rowLimit": 10000
     },
     "inputWidgets": {},
     "nuid": "6f71a5e0-3d0c-4229-b727-b9be0c247549",
     "showTitle": false,
     "title": ""
    }
   },
   "outputs": [
    {
     "output_type": "execute_result",
     "data": {
      "text/plain": [
       "2270"
      ]
     },
     "execution_count": 35,
     "metadata": {},
     "output_type": "execute_result"
    }
   ],
   "source": [
    "df.count()"
   ]
  },
  {
   "cell_type": "code",
   "execution_count": 0,
   "metadata": {
    "application/vnd.databricks.v1+cell": {
     "cellMetadata": {
      "byteLimit": 2048000,
      "rowLimit": 10000
     },
     "inputWidgets": {},
     "nuid": "af53a2de-79e6-4bf5-a260-33183380377c",
     "showTitle": false,
     "title": ""
    }
   },
   "outputs": [
    {
     "output_type": "display_data",
     "data": {
      "text/html": [
       "<style scoped>\n",
       "  .table-result-container {\n",
       "    max-height: 300px;\n",
       "    overflow: auto;\n",
       "  }\n",
       "  table, th, td {\n",
       "    border: 1px solid black;\n",
       "    border-collapse: collapse;\n",
       "  }\n",
       "  th, td {\n",
       "    padding: 5px;\n",
       "  }\n",
       "  th {\n",
       "    text-align: left;\n",
       "  }\n",
       "</style><div class='table-result-container'><table class='table-result'><thead style='background-color: white'><tr><th>DEST_COUNTRY_NAME</th><th>ORIGIN_COUNTRY_NAME</th><th>count</th></tr></thead><tbody><tr><td>United States</td><td>Romania</td><td>1</td></tr><tr><td>United States</td><td>Ireland</td><td>264</td></tr><tr><td>United States</td><td>India</td><td>69</td></tr><tr><td>Egypt</td><td>United States</td><td>24</td></tr><tr><td>Equatorial Guinea</td><td>United States</td><td>1</td></tr><tr><td>United States</td><td>Singapore</td><td>25</td></tr><tr><td>United States</td><td>Grenada</td><td>54</td></tr><tr><td>Costa Rica</td><td>United States</td><td>477</td></tr><tr><td>Senegal</td><td>United States</td><td>29</td></tr><tr><td>United States</td><td>Marshall Islands</td><td>44</td></tr></tbody></table></div>"
      ]
     },
     "metadata": {
      "application/vnd.databricks.v1+output": {
       "addedWidgets": {},
       "aggData": [],
       "aggError": "",
       "aggOverflow": false,
       "aggSchema": [],
       "aggSeriesLimitReached": false,
       "aggType": "",
       "arguments": {},
       "columnCustomDisplayInfos": {},
       "data": [
        [
         "United States",
         "Romania",
         1
        ],
        [
         "United States",
         "Ireland",
         264
        ],
        [
         "United States",
         "India",
         69
        ],
        [
         "Egypt",
         "United States",
         24
        ],
        [
         "Equatorial Guinea",
         "United States",
         1
        ],
        [
         "United States",
         "Singapore",
         25
        ],
        [
         "United States",
         "Grenada",
         54
        ],
        [
         "Costa Rica",
         "United States",
         477
        ],
        [
         "Senegal",
         "United States",
         29
        ],
        [
         "United States",
         "Marshall Islands",
         44
        ]
       ],
       "datasetInfos": [],
       "dbfsResultPath": null,
       "isJsonSchema": true,
       "metadata": {},
       "overflow": false,
       "plotOptions": {
        "customPlotOptions": {},
        "displayType": "table",
        "pivotAggregation": null,
        "pivotColumns": null,
        "xColumns": null,
        "yColumns": null
       },
       "removedWidgets": [],
       "schema": [
        {
         "metadata": "{}",
         "name": "DEST_COUNTRY_NAME",
         "type": "\"string\""
        },
        {
         "metadata": "{}",
         "name": "ORIGIN_COUNTRY_NAME",
         "type": "\"string\""
        },
        {
         "metadata": "{}",
         "name": "count",
         "type": "\"long\""
        }
       ],
       "type": "table"
      }
     },
     "output_type": "display_data"
    },
    {
     "output_type": "display_data",
     "data": {
      "text/plain": [
       "Databricks visualization. Run in Databricks to view."
      ]
     },
     "metadata": {
      "application/vnd.databricks.v1.subcommand+json": {
       "baseErrorDetails": null,
       "bindings": {},
       "collapsed": false,
       "command": "%python\n__backend_agg_display_orig = display\n__backend_agg_dfs = []\ndef __backend_agg_display_new(df):\n    __backend_agg_df_modules = [\"pandas.core.frame\", \"databricks.koalas.frame\", \"pyspark.sql.dataframe\", \"pyspark.pandas.frame\", \"pyspark.sql.connect.dataframe\"]\n    if (type(df).__module__ in __backend_agg_df_modules and type(df).__name__ == 'DataFrame') or isinstance(df, list):\n        __backend_agg_dfs.append(df)\n\ndisplay = __backend_agg_display_new\n\ndef __backend_agg_user_code_fn():\n    import base64\n    exec(base64.standard_b64decode(\"ZGlzcGxheShkZi5oZWFkKDEwKSk=\").decode())\n\ntry:\n    # run user code\n    __backend_agg_user_code_fn()\n\n    #reset display function\n    display = __backend_agg_display_orig\n\n    if len(__backend_agg_dfs) > 0:\n        # create a temp view\n        if type(__backend_agg_dfs[0]).__module__ == \"databricks.koalas.frame\":\n            # koalas dataframe\n            __backend_agg_dfs[0].to_spark().createOrReplaceTempView(\"DatabricksView7d7b654\")\n        elif type(__backend_agg_dfs[0]).__module__ == \"pandas.core.frame\" or isinstance(__backend_agg_dfs[0], list):\n            # pandas dataframe\n            spark.createDataFrame(__backend_agg_dfs[0]).createOrReplaceTempView(\"DatabricksView7d7b654\")\n        else:\n            __backend_agg_dfs[0].createOrReplaceTempView(\"DatabricksView7d7b654\")\n        #run backend agg\n        display(spark.sql(\"\"\"WITH q AS (select * from DatabricksView7d7b654) SELECT `DEST_COUNTRY_NAME`,`ORIGIN_COUNTRY_NAME`,SUM(`count`) `column_baed57d03` FROM q GROUP BY `DEST_COUNTRY_NAME`,`ORIGIN_COUNTRY_NAME`\"\"\"))\n    else:\n        displayHTML(\"dataframe no longer exists. If you're using dataframe.display(), use display(dataframe) instead.\")\n\n\nfinally:\n    spark.sql(\"drop view if exists DatabricksView7d7b654\")\n    display = __backend_agg_display_orig\n    del __backend_agg_display_new\n    del __backend_agg_display_orig\n    del __backend_agg_dfs\n    del __backend_agg_user_code_fn\n\n",
       "commandTitle": "Visualization 1",
       "commandType": "auto",
       "commandVersion": 0,
       "commentThread": [],
       "commentsVisible": false,
       "contentSha256Hex": null,
       "customPlotOptions": {
        "redashChart": [
         {
          "key": "type",
          "value": "CHART"
         },
         {
          "key": "options",
          "value": {
           "alignYAxesAtZero": true,
           "coefficient": 1,
           "columnConfigurationMap": {
            "series": {
             "column": "ORIGIN_COUNTRY_NAME",
             "id": "column_baed57d02"
            },
            "x": {
             "column": "DEST_COUNTRY_NAME",
             "id": "column_baed57d01"
            },
            "y": [
             {
              "column": "count",
              "id": "column_baed57d03",
              "transform": "SUM"
             }
            ]
           },
           "dateTimeFormat": "DD/MM/YYYY HH:mm",
           "direction": {
            "type": "counterclockwise"
           },
           "error_y": {
            "type": "data",
            "visible": true
           },
           "globalSeriesType": "line",
           "legend": {
            "traceorder": "normal"
           },
           "missingValuesAsZero": true,
           "numberFormat": "0,0.[00000]",
           "percentFormat": "0[.]00%",
           "series": {
            "error_y": {
             "type": "data",
             "visible": true
            }
           },
           "seriesOptions": {
            "column_baed57d03": {
             "name": "count",
             "type": "line",
             "yAxis": 0
            }
           },
           "showDataLabels": false,
           "sizemode": "diameter",
           "sortX": true,
           "sortY": true,
           "swappedAxes": false,
           "textFormat": "",
           "useAggregationsUi": true,
           "valuesOptions": {},
           "version": 2,
           "xAxis": {
            "labels": {
             "enabled": true
            },
            "type": "-"
           },
           "yAxis": [
            {
             "type": "-"
            },
            {
             "opposite": true,
             "type": "-"
            }
           ]
          }
         }
        ]
       },
       "datasetPreviewNameToCmdIdMap": {},
       "diffDeletes": [],
       "diffInserts": [],
       "displayType": "redashChart",
       "error": null,
       "errorDetails": null,
       "errorSummary": null,
       "errorTraceType": null,
       "finishTime": 0,
       "globalVars": {},
       "guid": "",
       "height": "auto",
       "hideCommandCode": false,
       "hideCommandResult": false,
       "iPythonMetadata": null,
       "inputWidgets": {},
       "isLockedInExamMode": false,
       "latestUser": "a user",
       "latestUserId": null,
       "listResultMetadata": null,
       "metadata": {},
       "nuid": "f63cf1f0-37fd-4a77-afc0-8c76622226d3",
       "origId": 0,
       "parentHierarchy": [],
       "pivotAggregation": null,
       "pivotColumns": null,
       "position": 11.0,
       "resultDbfsErrorMessage": null,
       "resultDbfsStatus": "INLINED_IN_TREE",
       "results": null,
       "showCommandTitle": false,
       "startTime": 0,
       "state": "input",
       "streamStates": {},
       "subcommandOptions": {
        "queryPlan": {
         "groups": [
          {
           "column": "DEST_COUNTRY_NAME",
           "type": "column"
          },
          {
           "column": "ORIGIN_COUNTRY_NAME",
           "type": "column"
          }
         ],
         "selects": [
          {
           "column": "DEST_COUNTRY_NAME",
           "type": "column"
          },
          {
           "column": "ORIGIN_COUNTRY_NAME",
           "type": "column"
          },
          {
           "alias": "column_baed57d03",
           "args": [
            {
             "column": "count",
             "type": "column"
            }
           ],
           "function": "SUM",
           "type": "function"
          }
         ]
        }
       },
       "submitTime": 0,
       "subtype": "tableResultSubCmd.visualization",
       "tableResultIndex": 0,
       "useConsistentColors": false,
       "version": "CommandV1",
       "width": "auto",
       "workflows": [],
       "xColumns": null,
       "yColumns": null
      }
     },
     "output_type": "display_data"
    }
   ],
   "source": [
    "display(df.head(10))"
   ]
  },
  {
   "cell_type": "code",
   "execution_count": 0,
   "metadata": {
    "application/vnd.databricks.v1+cell": {
     "cellMetadata": {
      "byteLimit": 2048000,
      "rowLimit": 10000
     },
     "inputWidgets": {},
     "nuid": "b799f0a8-82f2-45a0-9fd7-82c2e65b4ed5",
     "showTitle": true,
     "title": "Consultando dataframes"
    }
   },
   "outputs": [
    {
     "output_type": "execute_result",
     "data": {
      "text/plain": [
       "[Row(max(count)=370002)]"
      ]
     },
     "execution_count": 40,
     "metadata": {},
     "output_type": "execute_result"
    }
   ],
   "source": [
    "from pyspark.sql.functions import max\n",
    "df.select(max(\"count\")).take(1)"
   ]
  },
  {
   "cell_type": "code",
   "execution_count": 0,
   "metadata": {
    "application/vnd.databricks.v1+cell": {
     "cellMetadata": {
      "byteLimit": 2048000,
      "rowLimit": 10000
     },
     "inputWidgets": {},
     "nuid": "1cc13459-4f34-4b3d-a60e-6c61886d1db6",
     "showTitle": false,
     "title": ""
    }
   },
   "outputs": [
    {
     "output_type": "stream",
     "name": "stdout",
     "output_type": "stream",
     "text": [
      "+-----------------+-------------------+-----+\n|DEST_COUNTRY_NAME|ORIGIN_COUNTRY_NAME|count|\n+-----------------+-------------------+-----+\n|    United States|            Romania|    1|\n|Equatorial Guinea|      United States|    1|\n|            Malta|      United States|    1|\n+-----------------+-------------------+-----+\nonly showing top 3 rows\n\n"
     ]
    }
   ],
   "source": [
    "df.filter(\"count < 2\").show(3)"
   ]
  },
  {
   "cell_type": "code",
   "execution_count": 0,
   "metadata": {
    "application/vnd.databricks.v1+cell": {
     "cellMetadata": {
      "byteLimit": 2048000,
      "rowLimit": 10000
     },
     "inputWidgets": {},
     "nuid": "939e90cc-c4cc-45d6-9606-dd3352453bf4",
     "showTitle": false,
     "title": ""
    }
   },
   "outputs": [
    {
     "output_type": "stream",
     "name": "stdout",
     "output_type": "stream",
     "text": [
      "+-----------------+-------------------+-----+\n|DEST_COUNTRY_NAME|ORIGIN_COUNTRY_NAME|count|\n+-----------------+-------------------+-----+\n|    United States|            Romania|    1|\n|Equatorial Guinea|      United States|    1|\n|            Malta|      United States|    1|\n+-----------------+-------------------+-----+\nonly showing top 3 rows\n\n"
     ]
    }
   ],
   "source": [
    "df.where(\"count < 2\").show(3)"
   ]
  },
  {
   "cell_type": "code",
   "execution_count": 0,
   "metadata": {
    "application/vnd.databricks.v1+cell": {
     "cellMetadata": {
      "byteLimit": 2048000,
      "rowLimit": 10000
     },
     "inputWidgets": {},
     "nuid": "f303ed58-4c98-4670-a4a9-6394e6b0e4bf",
     "showTitle": false,
     "title": ""
    }
   },
   "outputs": [
    {
     "output_type": "execute_result",
     "data": {
      "text/plain": [
       "320"
      ]
     },
     "execution_count": 43,
     "metadata": {},
     "output_type": "execute_result"
    }
   ],
   "source": [
    "df.select(\"ORIGIN_COUNTRY_NAME\", \"DEST_COUNTRY_NAME\").distinct().count()"
   ]
  },
  {
   "cell_type": "code",
   "execution_count": 0,
   "metadata": {
    "application/vnd.databricks.v1+cell": {
     "cellMetadata": {
      "byteLimit": 2048000,
      "rowLimit": 10000
     },
     "inputWidgets": {},
     "nuid": "9a028011-04e8-4fee-9ceb-341bd512c4ca",
     "showTitle": true,
     "title": "Manipulando Dataframes"
    }
   },
   "outputs": [
    {
     "output_type": "stream",
     "name": "stdout",
     "output_type": "stream",
     "text": [
      "+--------------------+-------------------+-----+\n|   DEST_COUNTRY_NAME|ORIGIN_COUNTRY_NAME|count|\n+--------------------+-------------------+-----+\n|Saint Vincent and...|      United States|    1|\n|               Malta|      United States|    1|\n|       United States|               Mali|    1|\n|Saint Vincent and...|      United States|    1|\n|               Malta|      United States|    1|\n+--------------------+-------------------+-----+\nonly showing top 5 rows\n\n"
     ]
    }
   ],
   "source": [
    "df.sort(\"count\").show(5)"
   ]
  },
  {
   "cell_type": "code",
   "execution_count": 0,
   "metadata": {
    "application/vnd.databricks.v1+cell": {
     "cellMetadata": {
      "byteLimit": 2048000,
      "rowLimit": 10000
     },
     "inputWidgets": {},
     "nuid": "8ad43eac-8364-4c2f-bf7f-9b6af2ba3d16",
     "showTitle": false,
     "title": ""
    }
   },
   "outputs": [
    {
     "output_type": "stream",
     "name": "stdout",
     "output_type": "stream",
     "text": [
      "+-----------------+-------------------+-----+\n|DEST_COUNTRY_NAME|ORIGIN_COUNTRY_NAME|count|\n+-----------------+-------------------+-----+\n|         Slovakia|      United States|    1|\n|          Burundi|      United States|    1|\n|    United States|            Algeria|    1|\n|    United States|            Croatia|    1|\n|         Suriname|      United States|    1|\n|Equatorial Guinea|      United States|    1|\n|         Malaysia|      United States|    1|\n|    United States|              Niger|    1|\n|         Suriname|      United States|    1|\n|        Lithuania|      United States|    1|\n+-----------------+-------------------+-----+\nonly showing top 10 rows\n\n"
     ]
    }
   ],
   "source": [
    "from pyspark.sql.functions import expr, desc, asc\n",
    "df.orderBy(expr(\"count asc\")).show(10)"
   ]
  },
  {
   "cell_type": "code",
   "execution_count": 0,
   "metadata": {
    "application/vnd.databricks.v1+cell": {
     "cellMetadata": {
      "byteLimit": 2048000,
      "rowLimit": 10000
     },
     "inputWidgets": {},
     "nuid": "3101a85c-44bf-43fe-b162-7f1f553275d7",
     "showTitle": false,
     "title": ""
    }
   },
   "outputs": [
    {
     "output_type": "stream",
     "name": "stdout",
     "output_type": "stream",
     "text": [
      "+-------+-----------------+-------------------+------------------+\n|summary|DEST_COUNTRY_NAME|ORIGIN_COUNTRY_NAME|             count|\n+-------+-----------------+-------------------+------------------+\n|  count|             2270|               2270|              2270|\n|   mean|             NULL|               NULL|1736.0629955947136|\n| stddev|             NULL|               NULL|22567.734980807112|\n|    min|      Afghanistan|        Afghanistan|                 1|\n|    max|         Zimbabwe|           Zimbabwe|            370002|\n+-------+-----------------+-------------------+------------------+\n\n"
     ]
    }
   ],
   "source": [
    "df.describe().show()"
   ]
  },
  {
   "cell_type": "code",
   "execution_count": 0,
   "metadata": {
    "application/vnd.databricks.v1+cell": {
     "cellMetadata": {
      "byteLimit": 2048000,
      "rowLimit": 10000
     },
     "inputWidgets": {},
     "nuid": "2d1a330e-46cb-4413-a5db-e47b53afbacc",
     "showTitle": false,
     "title": ""
    }
   },
   "outputs": [
    {
     "output_type": "stream",
     "name": "stdout",
     "output_type": "stream",
     "text": [
      "United States Romania 2\nUnited States Ireland 528\nUnited States India 138\nEgypt United States 48\nEquatorial Guinea United States 2\nUnited States Singapore 50\nUnited States Grenada 108\nCosta Rica United States 954\nSenegal United States 58\nUnited States Marshall Islands 88\nGuyana United States 34\nUnited States Sint Maarten 106\nMalta United States 2\nBolivia United States 92\nAnguilla United States 42\nTurks and Caicos Islands United States 272\nUnited States Afghanistan 4\nSaint Vincent and the Grenadines United States 2\nItaly United States 780\nUnited States Russia 312\nUnited States Federated States of Micronesia 96\nPakistan United States 18\nUnited States Netherlands 1140\nIceland United States 236\nMarshall Islands United States 154\nLuxembourg United States 182\nHonduras United States 782\nThe Bahamas United States 1806\nEl Salvador United States 1038\nUnited States Senegal 92\nSamoa United States 56\nUnited States Angola 36\nKazakhstan United States 6\nSwitzerland United States 630\nUnited States Anguilla 40\nSint Maarten United States 122\nHong Kong United States 504\nTrinidad and Tobago United States 374\nLatvia United States 24\nUnited States Ecuador 690\nSlovakia United States 2\nSuriname United States 24\nMexico United States 12400\nUnited States Cyprus 2\nEcuador United States 544\nUnited States Bosnia and Herzegovina 2\nUnited States Portugal 208\nUnited States Costa Rica 1002\nUnited States Guatemala 666\nUnited States Suriname 26\nColombia United States 1570\nUnited States Cape Verde 36\nUnited States Jamaica 1514\nUnited States Malaysia 6\nNorway United States 58\nUnited States Morocco 32\nThailand United States 32\nVenezuela United States 754\nUnited States Palau 60\nUnited States Samoa 56\nUnited States Algeria 2\nUnited States Venezuela 682\nPanama United States 710\nUnited States Finland 40\nUnited States Chile 352\nMorocco United States 32\nUnited States Greece 122\nAntigua and Barbuda United States 246\nAzerbaijan United States 2\nUnited States The Bahamas 1918\nNew Zealand United States 172\nLiberia United States 2\nUnited States Hong Kong 586\nHungary United States 28\nUnited States China 1010\nUnited States Vietnam 2\nSweden United States 130\nUnited States Kuwait 50\nUnited States Dominican Republic 2300\nUnited States Egypt 50\nIsrael United States 234\nUnited States United States 696226\nUnited States Luxembourg 180\nEthiopia United States 24\nUnited States Poland 122\nMartinique United States 46\nSaint Barthelemy United States 56\nUnited States Saint Barthelemy 58\nUnited States Turkey 174\nBarbados United States 260\nUnited States Estonia 2\nUnited States Azerbaijan 2\nGermany United States 2784\nKyrgyzstan United States 4\nUnited States South Korea 1242\nUnited States El Salvador 928\nIreland United States 462\nUnited States Hungary 30\nUnited States Serbia 2\nMalaysia United States 2\nUnited States Panama 726\nUnited States Ethiopia 24\nUnited States Aruba 698\nUnited States Thailand 26\nUnited States Netherlands Antilles 578\nUnited States Turks and Caicos Islands 294\nCyprus United States 4\nUnited States Pakistan 30\nUnited States Honduras 786\nQatar United States 82\nFiji United States 106\nSaint Kitts and Nevis United States 226\nTaiwan United States 550\nHaiti United States 476\nKuwait United States 52\nCanada United States 16542\nFederated States of Micronesia United States 92\nUnited States Liberia 2\nJamaica United States 1466\nUnited States Malta 4\nDominican Republic United States 2218\nJapan United States 2766\nUnited States Saint Vincent and the Grenadines 32\nUnited States Guadeloupe 66\nFinland United States 48\nUnited States Ukraine 34\nUnited States France 1552\nUnited States Norway 72\nAruba United States 718\nFrench Guiana United States 8\nUnited States Kiribati 36\nIndia United States 132\nBritish Virgin Islands United States 98\nUnited States Germany 2812\nBrazil United States 1990\nUnited States New Zealand 142\nFrench Polynesia United States 76\nUnited Arab Emirates United States 330\nSingapore United States 50\nUnited States Mexico 12440\nNetherlands United States 1172\nUnited States Sweden 146\nUnited States Gabon 2\nUnited States Martinique 40\nUnited States United Arab Emirates 312\nUnited States Bulgaria 4\nChina United States 896\nDenmark United States 196\nUnited States Philippines 232\nUnited States Nicaragua 362\nUnited States Belgium 710\nPeru United States 424\nArgentina United States 368\nCayman Islands United States 494\nSouth Africa United States 50\nUnited States Iceland 258\nUnited States Argentina 318\nSpain United States 844\nNetherlands Antilles United States 572\nBermuda United States 366\nUnited States Austria 68\nUnited States Nigeria 36\nUnited States Bonaire, Sint Eustatius, and Saba 32\nKiribati United States 34\nSaudi Arabia United States 84\nCzech Republic United States 42\nBelgium United States 816\nUnited States Israel 244\nUnited States Bahrain 2\nUnited States Saint Lucia 242\nAfghanistan United States 22\nUnited States British Virgin Islands 94\nCuracao United States 40\nGeorgia United States 4\nUnited States Guyana 40\nUnited States Denmark 214\nPhilippines United States 264\nGrenada United States 130\nCape Verde United States 36\nUkraine United States 38\nUnited States Papua New Guinea 2\nUnited States Saudi Arabia 108\nRussia United States 304\nGuatemala United States 772\nSaint Lucia United States 232\nParaguay United States 180\nUnited States Curacao 28\nUnited States Taiwan 504\nUnited States South Africa 30\nTurkey United States 150\nUnited Kingdom United States 3258\nUnited States Greenland 4\nUnited States Spain 884\nCuba United States 486\nUnited States Italy 866\nUnited States Switzerland 668\nDominica United States 56\nUnited States Japan 2614\nPortugal United States 204\nUnited States Brazil 1156\nBahrain United States 60\nUnited States Peru 568\nVietnam United States 2\nUnited States United Kingdom 3006\nUnited States Belize 236\nBelize United States 242\nUnited States Ghana 56\nUnited States Indonesia 2\nUnited States Fiji 102\nUnited States Canada 16610\nUnited States French Polynesia 76\nUnited States Antigua and Barbuda 242\nUnited States Burkina Faso 2\nNicaragua United States 356\nUnited States Latvia 26\nUnited States Dominica 64\nUnited States Czech Republic 44\nUnited States Australia 432\nAustria United States 72\nUnited States Cook Islands 24\nJordan United States 100\nPalau United States 62\nUganda United States 4\nUnited States Cameroon 2\nSouth Korea United States 1366\nAngola United States 28\nGhana United States 54\nGuadeloupe United States 80\nFrance United States 1548\nUnited States Kyrgyzstan 24\nPoland United States 124\nNigeria United States 32\nUnited States Uruguay 48\nGreenland United States 4\nChile United States 332\nUnited States Bermuda 360\nUnited States Cuba 470\nUnited States Colombia 1664\nUnited States Qatar 80\nUnited States Barbados 238\nAustralia United States 580\nUnited States Jordan 102\nUnited States Cayman Islands 502\nUnited States Trinidad and Tobago 400\nUnited States Bolivia 78\nUnited States Slovakia 2\nUruguay United States 108\nCook Islands United States 26\nUnited States Saint Kitts and Nevis 254\nBulgaria United States 2\nUnited States French Guiana 2\nUnited States Haiti 452\nUnited States Uganda 2\nBonaire, Sint Eustatius, and Saba United States 32\nGreece United States 100\nUnited States Romania 30\nUnited States Croatia 2\nUnited States Ireland 688\nEgypt United States 30\nUnited States India 124\nUnited States Singapore 2\nUnited States Grenada 124\nCosta Rica United States 1176\nSenegal United States 80\nMoldova United States 2\nUnited States Sint Maarten 650\nUnited States Marshall Islands 78\nGuyana United States 128\nMalta United States 2\nAnguilla United States 82\nBolivia United States 60\nUnited States Paraguay 12\nAlgeria United States 8\nTurks and Caicos Islands United States 460\nUnited States Gibraltar 2\nSaint Vincent and the Grenadines United States 2\nItaly United States 764\nUnited States Federated States of Micronesia 138\nUnited States Russia 322\nPakistan United States 24\nUnited States Netherlands 1320\nIceland United States 362\nMarshall Islands United States 84\nLuxembourg United States 310\nHonduras United States 724\nThe Bahamas United States 1910\nUnited States Senegal 84\nEl Salvador United States 1122\nSamoa United States 50\nUnited States Angola 26\nSwitzerland United States 588\nUnited States Anguilla 76\nSint Maarten United States 650\nHong Kong United States 664\nTrinidad and Tobago United States 422\nLatvia United States 38\nUnited States Ecuador 600\nSuriname United States 2\nMexico United States 14280\nUnited States Cyprus 2\nEcuador United States 536\nUnited States Portugal 268\nUnited States Costa Rica 1216\nUnited States Guatemala 636\nUnited States Suriname 68\nColombia United States 1746\nUnited States Cape Verde 28\nUnited States Jamaica 1424\nNorway United States 242\nUnited States Malaysia 6\nUnited States Morocco 38\nThailand United States 6\nUnited States Samoa 50\nVenezuela United States 580\nUnited States Palau 62\nUnited States Venezuela 492\nPanama United States 1020\nAntigua and Barbuda United States 252\nUnited States Chile 370\nMorocco United States 30\nUnited States Finland 56\nAzerbaijan United States 42\nUnited States Greece 46\nUnited States The Bahamas 1972\nNew Zealand United States 222\nLiberia United States 4\nUnited States Hong Kong 828\nHungary United States 4\nUnited States China 1840\nUnited States Vietnam 4\nBurkina Faso United States 2\nSweden United States 236\nUnited States Kuwait 56\nUnited States Dominican Republic 2840\nUnited States Egypt 24\nIsrael United States 268\nUnited States United States 740004\nEthiopia United States 26\nUnited States Luxembourg 268\nUnited States Poland 66\nMartinique United States 88\nUnited States Saint Barthelemy 82\nSaint Barthelemy United States 78\nBarbados United States 308\nUnited States Turkey 258\nDjibouti United States 2\nUnited States Azerbaijan 42\nUnited States Estonia 2\nGermany United States 2936\nUnited States South Korea 1654\nUnited States El Salvador 1016\nIreland United States 670\nUnited States Hungary 6\nZambia United States 2\nMalaysia United States 4\nUnited States Ethiopia 24\nUnited States Panama 930\nUnited States Aruba 684\nUnited States Thailand 8\nUnited States Turks and Caicos Islands 472\nCroatia United States 4\nUnited States Pakistan 24\nCyprus United States 2\nUnited States Honduras 814\nFiji United States 48\nQatar United States 216\nSaint Kitts and Nevis United States 278\nKuwait United States 64\nTaiwan United States 532\nHaiti United States 452\nCanada United States 16798\nFederated States of Micronesia United States 138\nUnited States Liberia 4\nJamaica United States 1332\nUnited States Malta 4\nDominican Republic United States 2706\nJapan United States 3096\nUnited States Lithuania 2\nFinland United States 52\nUnited States Guadeloupe 118\nUnited States Ukraine 26\nUnited States France 1904\nUnited States Norway 230\nAruba United States 692\nFrench Guiana United States 10\nUnited States Kiribati 70\nIndia United States 122\nBritish Virgin Islands United States 214\nBrazil United States 1706\nUnited States Germany 2672\nUnited States New Zealand 148\nFrench Polynesia United States 86\nUnited Arab Emirates United States 640\nSingapore United States 6\nUnited States Mexico 14374\nUnited States Sweden 238\nNetherlands United States 1552\nUnited States Martinique 86\nUnited States United Arab Emirates 626\nUnited States Bulgaria 2\nDenmark United States 306\nChina United States 1544\nUnited States Nicaragua 402\nUnited States Philippines 252\nUnited States Georgia 2\nUnited States Belgium 456\nCayman Islands United States 628\nArgentina United States 360\nPeru United States 558\nSouth Africa United States 72\nUnited States Iceland 404\nUnited States Argentina 282\nSpain United States 840\nBermuda United States 366\nUnited States Nigeria 100\nUnited States Austria 126\nUnited States Bonaire, Sint Eustatius, and Saba 118\nKiribati United States 52\nSaudi Arabia United States 166\nCzech Republic United States 26\nUnited States Israel 254\nBelgium United States 518\nUnited States Saint Lucia 272\nUnited States Bahrain 2\nUnited States British Virgin Islands 160\nCuracao United States 180\nGeorgia United States 4\nUnited States Denmark 304\nUnited States Guyana 126\nPhilippines United States 268\nGrenada United States 106\nCape Verde United States 40\nCote d'Ivoire United States 2\nUkraine United States 28\nUnited States Papua New Guinea 2\nRussia United States 352\nUnited States Saudi Arabia 140\nGuatemala United States 794\nSaint Lucia United States 246\nParaguay United States 120\nUnited States Curacao 166\nKosovo United States 2\nUnited States Taiwan 470\nTunisia United States 6\nUnited States South Africa 80\nNiger United States 4\nTurkey United States 276\nUnited Kingdom United States 4050\nRomania United States 28\nUnited States Greenland 8\nPapua New Guinea United States 6\nUnited States Spain 884\nIraq United States 2\nUnited States Italy 876\nCuba United States 932\nUnited States Switzerland 610\nDominica United States 40\nUnited States Japan 2992\nPortugal United States 254\nUnited States Brazil 1238\nBahrain United States 38\nUnited States Peru 674\nIndonesia United States 2\nUnited States Belize 386\nUnited States United Kingdom 3940\nBelize United States 376\nUnited States Ghana 40\nUnited States Indonesia 4\nUnited States Fiji 50\nUnited States Canada 16966\nUnited States Antigua and Barbuda 234\nUnited States French Polynesia 80\nNicaragua United States 358\nUnited States Latvia 30\nUnited States Dominica 54\nUnited States Czech Republic 24\nUnited States Australia 516\nUnited States Cook Islands 26\nAustria United States 124\nJordan United States 88\nPalau United States 60\nSouth Korea United States 2096\nAngola United States 30\nGhana United States 36\nNew Caledonia United States 2\nGuadeloupe United States 112\nFrance United States 1870\nPoland United States 64\nNigeria United States 118\nUnited States Uruguay 26\nGreenland United States 4\nUnited States Bermuda 386\nChile United States 348\nUnited States Cuba 956\nUnited States Montenegro 2\nUnited States Colombia 1734\nUnited States Barbados 260\nUnited States Qatar 218\nAustralia United States 658\nUnited States Cayman Islands 620\nUnited States Jordan 88\nUnited States Namibia 2\nUnited States Trinidad and Tobago 434\nUnited States Bolivia 26\nCook Islands United States 26\nBulgaria United States 6\nUnited States Saint Kitts and Nevis 290\nUruguay United States 86\nUnited States Haiti 450\nBonaire, Sint Eustatius, and Saba United States 116\nGreece United States 60\nUnited States Romania 30\nUnited States Croatia 2\nUnited States Ireland 688\nEgypt United States 30\nUnited States India 124\nUnited States Singapore 2\nUnited States Grenada 124\nCosta Rica United States 1176\nSenegal United States 80\nMoldova United States 2\nUnited States Sint Maarten 650\nUnited States Marshall Islands 78\nGuyana United States 128\nMalta United States 2\nAnguilla United States 82\nBolivia United States 60\nUnited States Paraguay 12\nAlgeria United States 8\nTurks and Caicos Islands United States 460\nUnited States Gibraltar 2\nSaint Vincent and the Grenadines United States 2\nItaly United States 764\nUnited States Federated States of Micronesia 138\nUnited States Russia 322\nPakistan United States 24\nUnited States Netherlands 1320\nIceland United States 362\nMarshall Islands United States 84\nLuxembourg United States 310\nHonduras United States 724\nThe Bahamas United States 1910\nUnited States Senegal 84\nEl Salvador United States 1122\nSamoa United States 50\nUnited States Angola 26\nSwitzerland United States 588\nUnited States Anguilla 76\nSint Maarten United States 650\nHong Kong United States 664\nTrinidad and Tobago United States 422\nLatvia United States 38\nUnited States Ecuador 600\nSuriname United States 2\nMexico United States 14280\nUnited States Cyprus 2\nEcuador United States 536\nUnited States Portugal 268\nUnited States Costa Rica 1216\nUnited States Guatemala 636\nUnited States Suriname 68\nColombia United States 1746\nUnited States Cape Verde 28\nUnited States Jamaica 1424\nNorway United States 242\nUnited States Malaysia 6\nUnited States Morocco 38\nThailand United States 6\nUnited States Samoa 50\nVenezuela United States 580\nUnited States Palau 62\nUnited States Venezuela 492\nPanama United States 1020\nAntigua and Barbuda United States 252\nUnited States Chile 370\nMorocco United States 30\nUnited States Finland 56\nAzerbaijan United States 42\nUnited States Greece 46\nUnited States The Bahamas 1972\nNew Zealand United States 222\nLiberia United States 4\nUnited States Hong Kong 828\nHungary United States 4\nUnited States China 1840\nUnited States Vietnam 4\nBurkina Faso United States 2\nSweden United States 236\nUnited States Kuwait 56\nUnited States Dominican Republic 2840\nUnited States Egypt 24\nIsrael United States 268\nUnited States United States 740004\nEthiopia United States 26\nUnited States Luxembourg 268\nUnited States Poland 66\nMartinique United States 88\nUnited States Saint Barthelemy 82\nSaint Barthelemy United States 78\nBarbados United States 308\nUnited States Turkey 258\nDjibouti United States 2\nUnited States Azerbaijan 42\nUnited States Estonia 2\nGermany United States 2936\nUnited States South Korea 1654\nUnited States El Salvador 1016\nIreland United States 670\nUnited States Hungary 6\nZambia United States 2\nMalaysia United States 4\nUnited States Ethiopia 24\nUnited States Panama 930\nUnited States Aruba 684\nUnited States Thailand 8\nUnited States Turks and Caicos Islands 472\nCroatia United States 4\nUnited States Pakistan 24\nCyprus United States 2\nUnited States Honduras 814\nFiji United States 48\nQatar United States 216\nSaint Kitts and Nevis United States 278\nKuwait United States 64\nTaiwan United States 532\nHaiti United States 452\nCanada United States 16798\nFederated States of Micronesia United States 138\nUnited States Liberia 4\nJamaica United States 1332\nUnited States Malta 4\nDominican Republic United States 2706\nJapan United States 3096\nUnited States Lithuania 2\nFinland United States 52\nUnited States Guadeloupe 118\nUnited States Ukraine 26\nUnited States France 1904\nUnited States Norway 230\nAruba United States 692\nFrench Guiana United States 10\nUnited States Kiribati 70\nIndia United States 122\nBritish Virgin Islands United States 214\nBrazil United States 1706\nUnited States Germany 2672\nUnited States New Zealand 148\nFrench Polynesia United States 86\nUnited Arab Emirates United States 640\nSingapore United States 6\nUnited States Mexico 14374\nUnited States Sweden 238\nNetherlands United States 1552\nUnited States Martinique 86\nUnited States United Arab Emirates 626\nUnited States Bulgaria 2\nDenmark United States 306\nChina United States 1544\nUnited States Nicaragua 402\nUnited States Philippines 252\nUnited States Georgia 2\nUnited States Belgium 456\nCayman Islands United States 628\nArgentina United States 360\nPeru United States 558\nSouth Africa United States 72\nUnited States Iceland 404\nUnited States Argentina 282\nSpain United States 840\nBermuda United States 366\nUnited States Nigeria 100\nUnited States Austria 126\nUnited States Bonaire, Sint Eustatius, and Saba 118\nKiribati United States 52\nSaudi Arabia United States 166\nCzech Republic United States 26\nUnited States Israel 254\nBelgium United States 518\nUnited States Saint Lucia 272\nUnited States Bahrain 2\nUnited States British Virgin Islands 160\nCuracao United States 180\nGeorgia United States 4\nUnited States Denmark 304\nUnited States Guyana 126\nPhilippines United States 268\nGrenada United States 106\nCape Verde United States 40\nCote d'Ivoire United States 2\nUkraine United States 28\nUnited States Papua New Guinea 2\nRussia United States 352\nUnited States Saudi Arabia 140\nGuatemala United States 794\nSaint Lucia United States 246\nParaguay United States 120\nUnited States Curacao 166\nKosovo United States 2\nUnited States Taiwan 470\nTunisia United States 6\nUnited States South Africa 80\nNiger United States 4\nTurkey United States 276\nUnited Kingdom United States 4050\nRomania United States 28\nUnited States Greenland 8\nPapua New Guinea United States 6\nUnited States Spain 884\nIraq United States 2\nUnited States Italy 876\nCuba United States 932\nUnited States Switzerland 610\nDominica United States 40\nUnited States Japan 2992\nPortugal United States 254\nUnited States Brazil 1238\nBahrain United States 38\nUnited States Peru 674\nIndonesia United States 2\nUnited States Belize 386\nUnited States United Kingdom 3940\nBelize United States 376\nUnited States Ghana 40\nUnited States Indonesia 4\nUnited States Fiji 50\nUnited States Canada 16966\nUnited States Antigua and Barbuda 234\nUnited States French Polynesia 80\nNicaragua United States 358\nUnited States Latvia 30\nUnited States Dominica 54\nUnited States Czech Republic 24\nUnited States Australia 516\nUnited States Cook Islands 26\nAustria United States 124\nJordan United States 88\nPalau United States 60\nSouth Korea United States 2096\nAngola United States 30\nGhana United States 36\nNew Caledonia United States 2\nGuadeloupe United States 112\nFrance United States 1870\nPoland United States 64\nNigeria United States 118\nUnited States Uruguay 26\nGreenland United States 4\nUnited States Bermuda 386\nChile United States 348\nUnited States Cuba 956\nUnited States Montenegro 2\nUnited States Colombia 1734\nUnited States Barbados 260\nUnited States Qatar 218\nAustralia United States 658\nUnited States Cayman Islands 620\nUnited States Jordan 88\nUnited States Namibia 2\nUnited States Trinidad and Tobago 434\nUnited States Bolivia 26\nCook Islands United States 26\nBulgaria United States 6\nUnited States Saint Kitts and Nevis 290\nUruguay United States 86\nUnited States Haiti 450\nBonaire, Sint Eustatius, and Saba United States 116\nGreece United States 60\nUnited States Romania 30\nUnited States Croatia 2\nUnited States Ireland 688\nEgypt United States 30\nUnited States India 124\nUnited States Singapore 2\nUnited States Grenada 124\nCosta Rica United States 1176\nSenegal United States 80\nMoldova United States 2\nUnited States Sint Maarten 650\nUnited States Marshall Islands 78\nGuyana United States 128\nMalta United States 2\nAnguilla United States 82\nBolivia United States 60\nUnited States Paraguay 12\nAlgeria United States 8\nTurks and Caicos Islands United States 460\nUnited States Gibraltar 2\nSaint Vincent and the Grenadines United States 2\nItaly United States 764\nUnited States Federated States of Micronesia 138\nUnited States Russia 322\nPakistan United States 24\nUnited States Netherlands 1320\nIceland United States 362\nMarshall Islands United States 84\nLuxembourg United States 310\nHonduras United States 724\nThe Bahamas United States 1910\nUnited States Senegal 84\nEl Salvador United States 1122\nSamoa United States 50\nUnited States Angola 26\nSwitzerland United States 588\nUnited States Anguilla 76\nSint Maarten United States 650\nHong Kong United States 664\nTrinidad and Tobago United States 422\nLatvia United States 38\nUnited States Ecuador 600\nSuriname United States 2\nMexico United States 14280\nUnited States Cyprus 2\nEcuador United States 536\nUnited States Portugal 268\nUnited States Costa Rica 1216\nUnited States Guatemala 636\nUnited States Suriname 68\nColombia United States 1746\nUnited States Cape Verde 28\nUnited States Jamaica 1424\nNorway United States 242\nUnited States Malaysia 6\nUnited States Morocco 38\nThailand United States 6\nUnited States Samoa 50\nVenezuela United States 580\nUnited States Palau 62\nUnited States Venezuela 492\nPanama United States 1020\nAntigua and Barbuda United States 252\nUnited States Chile 370\nMorocco United States 30\nUnited States Finland 56\nAzerbaijan United States 42\nUnited States Greece 46\nUnited States The Bahamas 1972\nNew Zealand United States 222\nLiberia United States 4\nUnited States Hong Kong 828\nHungary United States 4\nUnited States China 1840\nUnited States Vietnam 4\nBurkina Faso United States 2\nSweden United States 236\nUnited States Kuwait 56\nUnited States Dominican Republic 2840\nUnited States Egypt 24\nIsrael United States 268\nUnited States United States 740004\nEthiopia United States 26\nUnited States Luxembourg 268\nUnited States Poland 66\nMartinique United States 88\nUnited States Saint Barthelemy 82\nSaint Barthelemy United States 78\nBarbados United States 308\nUnited States Turkey 258\nDjibouti United States 2\nUnited States Azerbaijan 42\nUnited States Estonia 2\nGermany United States 2936\nUnited States South Korea 1654\nUnited States El Salvador 1016\nIreland United States 670\nUnited States Hungary 6\nZambia United States 2\nMalaysia United States 4\nUnited States Ethiopia 24\nUnited States Panama 930\nUnited States Aruba 684\nUnited States Thailand 8\nUnited States Turks and Caicos Islands 472\nCroatia United States 4\nUnited States Pakistan 24\nCyprus United States 2\nUnited States Honduras 814\nFiji United States 48\nQatar United States 216\nSaint Kitts and Nevis United States 278\nKuwait United States 64\nTaiwan United States 532\nHaiti United States 452\nCanada United States 16798\nFederated States of Micronesia United States 138\nUnited States Liberia 4\nJamaica United States 1332\nUnited States Malta 4\nDominican Republic United States 2706\nJapan United States 3096\nUnited States Lithuania 2\nFinland United States 52\nUnited States Guadeloupe 118\nUnited States Ukraine 26\nUnited States France 1904\nUnited States Norway 230\nAruba United States 692\nFrench Guiana United States 10\nUnited States Kiribati 70\nIndia United States 122\nBritish Virgin Islands United States 214\nBrazil United States 1706\nUnited States Germa\n\n*** WARNING: max output size exceeded, skipping output. ***\n\nngary 34\nMalaysia United States 4\nUnited States Panama 760\nUnited States Ethiopia 24\nUnited States Thailand 28\nUnited States Aruba 664\nUnited States Turks and Caicos Islands 354\nCroatia United States 4\nUnited States Pakistan 48\nUnited States Honduras 776\nQatar United States 96\nFiji United States 98\nSaint Kitts and Nevis United States 210\nTaiwan United States 496\nHaiti United States 376\nKuwait United States 54\nCanada United States 17028\nBelarus United States 2\nFederated States of Micronesia United States 96\nJamaica United States 1350\nUnited States Malta 6\nDominican Republic United States 2040\nJapan United States 3064\nUnited States Lithuania 2\nUnited States Saint Vincent and the Grenadines 34\nFinland United States 66\nUnited States Ukraine 30\nUnited States Guadeloupe 62\nUnited States France 1828\nAruba United States 694\nFrench Guiana United States 28\nUnited States Norway 66\nUnited States Kiribati 56\nIndia United States 146\nBritish Virgin Islands United States 146\nUnited States Germany 2960\nBrazil United States 1938\nUnited States New Zealand 154\nFrench Polynesia United States 72\nUnited Arab Emirates United States 314\nSingapore United States 54\nUnited States Mexico 12000\nNetherlands United States 1270\nUnited States Sweden 136\nUnited States Martinique 40\nUnited States United Arab Emirates 284\nChina United States 1008\nUnited States Philippines 218\nUnited States Nicaragua 346\nDenmark United States 190\nUnited States Georgia 2\nUnited States Belgium 738\nLibya United States 2\nArgentina United States 366\nPeru United States 492\nCayman Islands United States 502\nSouth Africa United States 48\nUnited States Argentina 304\nUnited States Iceland 276\nSpain United States 890\nBermuda United States 382\nUnited States Austria 68\nUnited States Nigeria 52\nUnited States Bonaire, Sint Eustatius, and Saba 98\nKiribati United States 56\nCzech Republic United States 46\nSaudi Arabia United States 166\nMacau United States 4\nBelgium United States 752\nUnited States Israel 252\nUnited States Saint Lucia 204\nUnited States Bahrain 4\nUnited States British Virgin Islands 130\nAfghanistan United States 16\nCuracao United States 212\nGeorgia United States 2\nUnited States Guyana 58\nPhilippines United States 254\nUnited States Denmark 206\nGrenada United States 134\nCape Verde United States 26\nUkraine United States 30\nUnited States Papua New Guinea 2\nRussia United States 398\nUnited States Saudi Arabia 154\nGuatemala United States 814\nSaint Lucia United States 204\nParaguay United States 170\nUnited States Curacao 194\nUnited States Taiwan 462\nUnited States South Africa 42\nTogo United States 2\nTurkey United States 208\nUnited Kingdom United States 3452\nRomania United States 8\nUnited States Greenland 4\nUnited States Spain 944\nCuba United States 640\nUnited States Italy 894\nUnited States Switzerland 638\nDominica United States 50\nUnited States Japan 2824\nPortugal United States 190\nUnited States Brazil 1150\nBahrain United States 80\nUnited States Peru 576\nVietnam United States 2\nUnited States United Kingdom 3298\nUnited States Belize 224\nBelize United States 226\nUnited States Ghana 78\nMauritania United States 2\nSaint Martin United States 2\nUnited States Indonesia 2\nUnited States Fiji 96\nUnited States Mauritania 2\nUnited States Canada 17300\nUnited States Antigua and Barbuda 304\nUnited States French Polynesia 72\nNicaragua United States 360\nNamibia United States 2\nUnited States Latvia 24\nUnited States Dominica 58\nUnited States Czech Republic 50\nUnited States Australia 462\nUnited States Cook Islands 24\nAustria United States 68\nPalau United States 82\nJordan United States 84\nSouth Korea United States 1426\nGhana United States 78\nAngola United States 26\nGuadeloupe United States 66\nFrance United States 1752\nNigeria United States 62\nPoland United States 78\nUnited States Uruguay 54\nGreenland United States 2\nChile United States 356\nUnited States Bermuda 392\nLebanon United States 2\nUnited States Cuba 652\nUnited States Colombia 1554\nUnited States Barbados 250\nUnited States Qatar 96\nAustralia United States 560\nUnited States Cayman Islands 524\nUnited States Jordan 90\nUnited States Bolivia 102\nUnited States Trinidad and Tobago 426\nUruguay United States 100\nCook Islands United States 24\nUnited States Saint Kitts and Nevis 240\nBulgaria United States 8\nUnited States French Guiana 22\nUnited States Haiti 394\nBonaire, Sint Eustatius, and Saba United States 100\nGreece United States 76\nUnited States Romania 24\nUnited States Croatia 2\nUnited States Ireland 532\nEgypt United States 26\nUnited States India 120\nEquatorial Guinea United States 2\nUnited States Niger 2\nUnited States Singapore 44\nUnited States Grenada 80\nCosta Rica United States 1018\nSenegal United States 56\nGuyana United States 68\nUnited States Sint Maarten 520\nUnited States Marshall Islands 66\nBolivia United States 66\nAnguilla United States 44\nUnited States Paraguay 30\nAlgeria United States 4\nTurks and Caicos Islands United States 362\nSaint Vincent and the Grenadines United States 8\nLithuania United States 2\nPakistan United States 28\nItaly United States 654\nUnited States Russia 334\nUnited States Federated States of Micronesia 124\nUnited States Netherlands 1236\nIceland United States 292\nMarshall Islands United States 100\nLuxembourg United States 320\nHonduras United States 846\nRwanda United States 2\nThe Bahamas United States 1730\nEl Salvador United States 1102\nUnited States Senegal 64\nSamoa United States 50\nUnited States Angola 24\nKazakhstan United States 4\nSwitzerland United States 576\nUnited States Anguilla 36\nUnited States Mali 2\nSint Maarten United States 542\nHong Kong United States 564\nTrinidad and Tobago United States 366\nLatvia United States 58\nUnited States Ecuador 614\nSuriname United States 30\nMexico United States 12744\nEcuador United States 504\nUnited States Portugal 252\nUnited States Costa Rica 1098\nUnited States Guatemala 662\nUnited States Suriname 42\nColombia United States 1596\nUnited States Cape Verde 30\nNorway United States 96\nUnited States Jamaica 1198\nUnited States Malaysia 2\nUnited States Morocco 32\nThailand United States 4\nBurundi United States 2\nVenezuela United States 700\nUnited States Samoa 50\nUnited States Palau 70\nUnited States Venezuela 590\nPanama United States 836\nUnited States Finland 30\nMorocco United States 36\nAntigua and Barbuda United States 246\nUnited States Chile 342\nAzerbaijan United States 6\nUnited States Greece 28\nUnited States The Bahamas 1794\nNew Zealand United States 228\nUnited States Hong Kong 688\nHungary United States 2\nUnited States China 1228\nUnited States Kuwait 48\nSweden United States 140\nUnited States Egypt 24\nUnited States Dominican Republic 2238\nIsrael United States 238\nUnited States United States 686264\nUnited States Luxembourg 268\nEthiopia United States 24\nUnited States Poland 74\nMartinique United States 52\nUnited States Zimbabwe 4\nUnited States Saint Barthelemy 116\nSaint Barthelemy United States 134\nUnited States Turkey 200\nBarbados United States 194\nGermany United States 2846\nKyrgyzstan United States 2\nUnited States South Korea 1374\nUnited States El Salvador 932\nIreland United States 510\nMalaysia United States 4\nUnited States Aruba 688\nUnited States Panama 838\nUnited States Ethiopia 24\nUnited States Turks and Caicos Islands 356\nUnited States Pakistan 24\nCyprus United States 4\nUnited States Honduras 784\nFiji United States 68\nQatar United States 142\nSaint Kitts and Nevis United States 198\nKuwait United States 48\nHaiti United States 398\nTaiwan United States 486\nCanada United States 15720\nFederated States of Micronesia United States 106\nJamaica United States 1162\nDominican Republic United States 2136\nJapan United States 3226\nUnited States Saint Vincent and the Grenadines 20\nFinland United States 34\nUnited States Ukraine 8\nUnited States Guadeloupe 84\nUnited States France 1696\nUnited States Norway 92\nAruba United States 704\nFrench Guiana United States 14\nUnited States Kiribati 58\nZimbabwe United States 4\nIndia United States 122\nBritish Virgin Islands United States 202\nUnited States Germany 2804\nUnited States New Zealand 154\nBrazil United States 1824\nSaint Helena, Ascension, and Tristan da Cunha United States 2\nUnited States Cambodia 6\nFrench Polynesia United States 86\nUnited Arab Emirates United States 404\nSingapore United States 42\nTanzania United States 4\nUnited States Mexico 12708\nNetherlands United States 1280\nUnited States Sweden 146\nUnited States Martinique 48\nUnited States United Arab Emirates 374\nDenmark United States 208\nChina United States 1086\nUnited States Nicaragua 370\nUnited States Philippines 224\nUnited States Belgium 386\nNepal United States 2\nLibya United States 2\nArgentina United States 352\nPeru United States 510\nCayman Islands United States 548\nSouth Africa United States 48\nUnited States Iceland 302\nUnited States Argentina 280\nSpain United States 740\nBermuda United States 326\nUnited States Nigeria 98\nUnited States Austria 78\nUnited States Bonaire, Sint Eustatius, and Saba 108\nKiribati United States 58\nSaudi Arabia United States 172\nCzech Republic United States 20\nMacau United States 4\nBelgium United States 530\nUnited States Israel 214\nUnited States Saint Lucia 184\nSierra Leone United States 2\nUnited States Bahrain 2\nUnited States British Virgin Islands 188\nUnited States Saint Helena, Ascension, and Tristan da Cunha 4\nCuracao United States 194\nUnited States Denmark 212\nUnited States Guyana 104\nPhilippines United States 272\nGrenada United States 84\nCape Verde United States 42\nUkraine United States 8\nRussia United States 388\nUnited States Saudi Arabia 168\nGuatemala United States 752\nSaint Lucia United States 182\nParaguay United States 150\nUnited States Curacao 178\nUnited States Taiwan 470\nUnited States South Africa 52\nNiger United States 2\nTurkey United States 198\nUnited Kingdom United States 3604\nRomania United States 28\nUnited States Greenland 6\nPapua New Guinea United States 4\nUnited States Spain 754\nUnited States Italy 666\nCuba United States 674\nUnited States Switzerland 570\nDominica United States 38\nPortugal United States 232\nUnited States Japan 2952\nUnited States Brazil 1020\nBahrain United States 100\nUnited States Peru 600\nIndonesia United States 2\nUnited States United Kingdom 3422\nUnited States Belize 254\nBelize United States 274\nKenya United States 2\nUnited States Ghana 32\nUnited States Fiji 60\nUnited States Canada 15966\nUnited States French Polynesia 80\nUnited States Antigua and Barbuda 246\nBrunei United States 2\nNicaragua United States 356\nUnited States Latvia 24\nUnited States Dominica 50\nUnited States Czech Republic 18\nUnited States Cook Islands 24\nAustria United States 70\nUnited States Australia 444\nJordan United States 148\nPalau United States 70\nSouth Korea United States 1684\nAngola United States 24\nGhana United States 32\nNew Caledonia United States 2\nGuadeloupe United States 82\nFrance United States 1674\nPoland United States 80\nNigeria United States 116\nUnited States Uruguay 40\nGreenland United States 2\nChile United States 294\nUnited States Bermuda 332\nLebanon United States 2\nUnited States Cuba 672\nUnited States Colombia 1622\nUnited States Qatar 144\nUnited States Barbados 156\nAustralia United States 590\nUnited States Cayman Islands 548\nUnited States Jordan 154\nUnited States Trinidad and Tobago 368\nUnited States Bolivia 26\nUruguay United States 114\nCook Islands United States 24\nUnited States Saint Kitts and Nevis 230\nUnited States French Guiana 6\nUnited States Haiti 372\nBonaire, Sint Eustatius, and Saba United States 106\nGreece United States 24\nUnited States Croatia 2\nUnited States Ireland 504\nEgypt United States 26\nUnited States India 124\nUnited States Singapore 50\nUnited States Grenada 92\nCosta Rica United States 1044\nSenegal United States 62\nGuyana United States 130\nUnited States Marshall Islands 60\nUnited States Sint Maarten 490\nBolivia United States 70\nAnguilla United States 38\nUnited States Paraguay 10\nUnited States Afghanistan 10\nTurks and Caicos Islands United States 366\nSaint Vincent and the Grenadines United States 12\nItaly United States 762\nPakistan United States 24\nUnited States Russia 296\nUnited States Federated States of Micronesia 126\nUnited States Netherlands 1214\nIceland United States 274\nMarshall Islands United States 120\nUnited States Togo 2\nLuxembourg United States 222\nHonduras United States 826\nThe Bahamas United States 1950\nEl Salvador United States 1078\nUnited States Senegal 66\nUnited States Solomon Islands 2\nUnited States Angola 24\nSamoa United States 50\nKazakhstan United States 2\nSwitzerland United States 570\nUnited States Anguilla 38\nSint Maarten United States 486\nHong Kong United States 592\nTrinidad and Tobago United States 432\nLatvia United States 26\nUnited States Ecuador 642\nSuriname United States 28\nMexico United States 11966\nEcuador United States 478\nUnited States Portugal 222\nUnited States Costa Rica 1110\nUnited States Guatemala 690\nUnited States Suriname 52\nColombia United States 1518\nUnited States The Gambia 2\nUnited States Cape Verde 36\nUnited States Jamaica 1220\nNorway United States 62\nThe Gambia United States 4\nUnited States Morocco 32\nThailand United States 12\nVenezuela United States 778\nUnited States Samoa 50\nUnited States Palau 70\nUnited States Venezuela 720\nPanama United States 788\nUnited States Chile 402\nUnited States Finland 42\nAntigua and Barbuda United States 290\nMorocco United States 30\nUnited States Greece 42\nUnited States The Bahamas 2108\nNew Zealand United States 184\nUnited States Hong Kong 662\nHungary United States 4\nUnited States Tunisia 2\nUnited States China 1220\nSweden United States 100\nUnited States Kuwait 56\nUnited States Dominican Republic 2246\nUnited States Egypt 24\nIsrael United States 234\nUnited States United States 694904\nUnited States Luxembourg 246\nEthiopia United States 24\nUnited States Poland 80\nMartinique United States 34\nUnited States Saint Barthelemy 98\nSaint Barthelemy United States 98\nBarbados United States 242\nUnited States Azerbaijan 2\nUnited States Turkey 178\nGermany United States 2808\nKyrgyzstan United States 2\nUnited States South Korea 1406\nUnited States El Salvador 930\nIreland United States 510\nUnited States Panama 786\nUnited States Ethiopia 24\nUnited States Thailand 12\nUnited States Aruba 664\nUnited States Turks and Caicos Islands 366\nCroatia United States 2\nUnited States Pakistan 32\nUnited States Honduras 744\nQatar United States 112\nFiji United States 56\nSaint Kitts and Nevis United States 218\nTaiwan United States 458\nHaiti United States 448\nKuwait United States 52\nCanada United States 16068\nBelarus United States 2\nFederated States of Micronesia United States 108\nJamaica United States 1234\nDominican Republic United States 2156\nJapan United States 3076\nUnited States Saint Vincent and the Grenadines 22\nFinland United States 44\nUnited States Ukraine 26\nUnited States Guadeloupe 68\nUnited States France 1680\nUnited States Norway 66\nAruba United States 698\nFrench Guiana United States 16\nUnited States Kiribati 52\nIndia United States 122\nBritish Virgin Islands United States 166\nBrazil United States 1958\nUnited States Germany 2826\nUnited States New Zealand 130\nUnited States Cambodia 2\nFrench Polynesia United States 78\nUnited Arab Emirates United States 376\nSingapore United States 52\nUnited States Mexico 11948\nNetherlands United States 1280\nUnited States Sweden 108\nUnited States Martinique 34\nUnited States United Arab Emirates 352\nChina United States 1018\nUnited States Philippines 224\nDenmark United States 166\nUnited States Nicaragua 366\nOman United States 2\nUnited States Belgium 550\nArgentina United States 416\nPeru United States 498\nCayman Islands United States 516\nSouth Africa United States 48\nUnited States Argentina 340\nUnited States Iceland 300\nCameroon United States 2\nSpain United States 780\nBermuda United States 380\nUnited States Austria 62\nUnited States Nigeria 88\nUnited States Bonaire, Sint Eustatius, and Saba 88\nKiribati United States 52\nSaudi Arabia United States 144\nCzech Republic United States 30\nMacau United States 2\nUnited States Bahrain 4\nBelgium United States 704\nUnited States Israel 234\nUnited States Saint Lucia 168\nSierra Leone United States 2\nAfghanistan United States 10\nUnited States British Virgin Islands 156\nCuracao United States 214\nGeorgia United States 4\nUnited States Guyana 158\nPhilippines United States 272\nUnited States Denmark 164\nGrenada United States 102\nCape Verde United States 38\nUkraine United States 28\nUnited States Papua New Guinea 4\nRussia United States 366\nUnited States Saudi Arabia 140\nGuatemala United States 826\nSaint Lucia United States 162\nParaguay United States 170\nUnited States Curacao 192\nUnited States Taiwan 428\nTunisia United States 4\nUnited States South Africa 58\nTurkey United States 188\nUnited Kingdom United States 3704\nSolomon Islands United States 4\nUnited States Greenland 2\nUnited States Spain 786\nUnited States Italy 754\nCuba United States 680\nUnited States Switzerland 564\nDominica United States 52\nUnited States Japan 2902\nPortugal United States 224\nBahrain United States 130\nUnited States Brazil 1134\nUnited States Peru 584\nVietnam United States 4\nUnited States United Kingdom 3426\nUnited States Belize 216\nBelize United States 226\nUnited States Ghana 62\nMauritania United States 2\nUnited States Fiji 52\nUnited States Canada 16194\nUnited States French Polynesia 76\nUnited States Antigua and Barbuda 292\nNicaragua United States 348\nUnited States Latvia 28\nUnited States Dominica 50\nUnited States Czech Republic 26\nUnited States Australia 422\nUnited States Cook Islands 24\nAustria United States 68\nJordan United States 82\nPalau United States 70\nUnited States Equatorial Guinea 8\nSouth Korea United States 1638\nAngola United States 24\nGhana United States 60\nNew Caledonia United States 2\nGuadeloupe United States 72\nFrance United States 1636\nPoland United States 76\nNigeria United States 114\nUnited States Uruguay 34\nGreenland United States 2\nChile United States 356\nUnited States Bermuda 388\nUnited States Cuba 682\nUnited States Colombia 1612\nUnited States Barbados 218\nUnited States Qatar 112\nAustralia United States 554\nUnited States Cayman Islands 494\nUnited States Jordan 86\nUnited States Trinidad and Tobago 426\nUnited States Bolivia 42\nUruguay United States 106\nCook Islands United States 24\nUnited States Saint Kitts and Nevis 248\nBulgaria United States 12\nUnited States French Guiana 2\nUnited States Haiti 468\nBonaire, Sint Eustatius, and Saba United States 92\nGreece United States 34\nUnited States Saint Martin 2\nUnited States Romania 24\nUnited States Croatia 4\nUnited States Ireland 582\nUnited States India 124\nEgypt United States 22\nUnited States Grenada 94\nCosta Rica United States 1058\nSenegal United States 70\nUnited States Sint Maarten 580\nGuyana United States 104\nUnited States Marshall Islands 70\nMalta United States 4\nMalawi United States 2\nBolivia United States 66\nAnguilla United States 68\nAlgeria United States 18\nUnited States Paraguay 28\nGibraltar United States 2\nTurks and Caicos Islands United States 386\nSaint Vincent and the Grenadines United States 2\nUnited States Russia 302\nItaly United States 732\nPakistan United States 24\nUnited States Federated States of Micronesia 142\nIceland United States 300\nUnited States Netherlands 1404\nMarshall Islands United States 92\nLuxembourg United States 322\nHonduras United States 822\nThe Bahamas United States 1900\nEl Salvador United States 1144\nUnited States Senegal 56\nSamoa United States 48\nUnited States Angola 24\nKazakhstan United States 2\nSwitzerland United States 604\nUnited States Anguilla 70\nSint Maarten United States 580\nHong Kong United States 676\nUnited States Congo (Brazaville) 2\nLatvia United States 80\nTrinidad and Tobago United States 376\nUnited States Ecuador 652\nSlovakia United States 2\nSuriname United States 20\nMexico United States 12854\nEcuador United States 512\nUnited States Portugal 244\nUnited States Guatemala 654\nUnited States Costa Rica 1120\nUnited States Suriname 54\nColombia United States 1744\nUnited States Cape Verde 32\nUnited States Jamaica 1428\nNorway United States 172\nUnited States Morocco 30\nVenezuela United States 670\nUnited States Samoa 50\nUnited States Palau 76\nUnited States Venezuela 516\nPanama United States 912\nUnited States Chile 336\nUnited States Finland 38\nAntigua and Barbuda United States 230\nMorocco United States 36\nUnited States Greece 38\nAzerbaijan United States 14\nUnited States The Bahamas 1982\nNew Zealand United States 228\nLiberia United States 6\nUnited States Hong Kong 762\nHungary United States 4\nUnited States Tunisia 2\nUnited States China 1534\nBurkina Faso United States 4\nSweden United States 188\nUnited States Kuwait 48\nUnited States Dominican Republic 2564\nUnited States Egypt 22\nIsrael United States 216\nUnited States United States 716708\nUnited States Luxembourg 230\nEthiopia United States 22\nUnited States Poland 66\nMartinique United States 62\nUnited States Saint Barthelemy 106\nSaint Barthelemy United States 106\nUnited States Turkey 184\nBarbados United States 204\nUnited States Kazakhstan 2\nUnited States Azerbaijan 10\nGermany United States 2782\nUnited States South Korea 1508\nUnited States El Salvador 972\nIreland United States 534\nUnited States Hungary 2\nMalaysia United States 4\nUnited States Panama 920\nUnited States Aruba 696\nUnited States Ethiopia 22\nUnited States Turks and Caicos Islands 408\nUnited States Pakistan 24\nUnited States Honduras 824\nFiji United States 50\nQatar United States 190\nSaint Kitts and Nevis United States 236\nHaiti United States 402\nTaiwan United States 530\nKuwait United States 48\nCanada United States 15948\nFederated States of Micronesia United States 120\nJamaica United States 1346\nUnited States Malta 4\nDominican Republic United States 2460\nJapan United States 3182\nUnited States Saint Vincent and the Grenadines 6\nFinland United States 36\nUnited States Ukraine 2\nUnited States Guadeloupe 94\nUnited States France 1920\nAruba United States 702\nUnited States Norway 174\nFrench Guiana United States 22\nUnited States Kiribati 54\nIndia United States 122\nBritish Virgin Islands United States 216\nBrazil United States 1854\nUnited States Germany 2686\nUnited States New Zealand 154\nUnited States Cambodia 2\nFrench Polynesia United States 78\nUnited Arab Emirates United States 494\nUnited States Mexico 12980\nNetherlands United States 1546\nUnited States Sweden 202\nUnited States Martinique 64\nUnited States United Arab Emirates 452\nUnited States Bulgaria 2\nDenmark United States 228\nChina United States 1306\nUnited States Nicaragua 340\nUnited States Philippines 232\nUnited States Belgium 460\nPeru United States 554\nArgentina United States 390\nCayman Islands United States 566\nSouth Africa United States 64\nUnited States Argentina 306\nUnited States Iceland 354\nChad United States 2\nSpain United States 776\nBermuda United States 370\nUnited States Nigeria 86\nUnited States Austria 92\nUnited States Bonaire, Sint Eustatius, and Saba 126\nKiribati United States 52\nSaudi Arabia United States 158\nCzech Republic United States 22\nMacau United States 6\nBelgium United States 518\nUnited States Israel 224\nUnited States Saint Lucia 218\nUnited States British Virgin Islands 202\nCuracao United States 148\nUnited States Denmark 232\nUnited States Guyana 110\nPhilippines United States 268\nGrenada United States 86\nCape Verde United States 48\nUkraine United States 22\nRussia United States 426\nUnited States Saudi Arabia 148\nGuatemala United States 766\nSaint Lucia United States 214\nParaguay United States 180\nUnited States Curacao 154\nUnited States Taiwan 480\nTunisia United States 4\nUnited States South Africa 64\nTurkey United States 182\nUnited Kingdom United States 3824\nRomania United States 22\nUnited States Greenland 2\nUnited States Spain 848\nCuba United States 834\nUnited States Italy 770\nUnited States Switzerland 600\nDominica United States 50\nUnited States Japan 3002\nPortugal United States 248\nUnited States Brazil 1156\nBahrain United States 82\nUnited States Peru 630\nIndonesia United States 2\nUnited States United Kingdom 3624\nUnited States Belize 286\nBelize United States 284\nUnited States Ghana 30\nMauritania United States 2\nUnited States Indonesia 2\nUnited States Fiji 54\nUnited States Canada 16354\nUnited States Antigua and Barbuda 224\nUnited States French Polynesia 80\nNicaragua United States 336\nUnited States Latvia 26\nUnited States Dominica 72\nUnited States Czech Republic 22\nUnited States Cook Islands 24\nUnited States Australia 470\nAustria United States 94\nJordan United States 130\nPalau United States 76\nSouth Korea United States 1936\nAngola United States 26\nGhana United States 26\nGuadeloupe United States 86\nFrance United States 1932\nPoland United States 70\nNigeria United States 98\nUnited States Uruguay 36\nGreenland United States 4\nChile United States 312\nUnited States Bermuda 380\nUnited States Cuba 838\nUnited States Qatar 192\nUnited States Colombia 1776\nUnited States Barbados 178\nAustralia United States 586\nUnited States Cayman Islands 556\nUnited States Jordan 128\nUnited States Trinidad and Tobago 350\nUnited States Bolivia 28\nUruguay United States 120\nCook Islands United States 24\nUnited States French Guiana 8\nUnited States Saint Kitts and Nevis 246\nUnited States Haiti 386\nBonaire, Sint Eustatius, and Saba United States 124\nGreece United States 40\n"
     ]
    }
   ],
   "source": [
    "for i in df.collect():\n",
    "    print(i[0], i[1], i[2] * 2)"
   ]
  },
  {
   "cell_type": "code",
   "execution_count": 0,
   "metadata": {
    "application/vnd.databricks.v1+cell": {
     "cellMetadata": {
      "byteLimit": 2048000,
      "rowLimit": 10000
     },
     "inputWidgets": {},
     "nuid": "c1c9b8e6-474f-4c2c-be0b-bcc9063f5486",
     "showTitle": false,
     "title": ""
    }
   },
   "outputs": [
    {
     "output_type": "stream",
     "name": "stdout",
     "output_type": "stream",
     "text": [
      "+-----------------+------------------------+-------------------------------+\n|DEST_COUNTRY_NAME|lower(DEST_COUNTRY_NAME)|upper(lower(DEST_COUNTRY_NAME))|\n+-----------------+------------------------+-------------------------------+\n|    United States|           united states|                  UNITED STATES|\n|    United States|           united states|                  UNITED STATES|\n|    United States|           united states|                  UNITED STATES|\n|            Egypt|                   egypt|                          EGYPT|\n|Equatorial Guinea|       equatorial guinea|              EQUATORIAL GUINEA|\n|    United States|           united states|                  UNITED STATES|\n|    United States|           united states|                  UNITED STATES|\n|       Costa Rica|              costa rica|                     COSTA RICA|\n|          Senegal|                 senegal|                        SENEGAL|\n|    United States|           united states|                  UNITED STATES|\n+-----------------+------------------------+-------------------------------+\nonly showing top 10 rows\n\n"
     ]
    }
   ],
   "source": [
    "from pyspark.sql.functions import lower, upper, col\n",
    "\n",
    "df.select(col(\"DEST_COUNTRY_NAME\"), lower(col(\"DEST_COUNTRY_NAME\")), upper(lower(col(\"DEST_COUNTRY_NAME\")))).show(10)"
   ]
  },
  {
   "cell_type": "code",
   "execution_count": 0,
   "metadata": {
    "application/vnd.databricks.v1+cell": {
     "cellMetadata": {
      "byteLimit": 2048000,
      "rowLimit": 10000
     },
     "inputWidgets": {},
     "nuid": "fcfca69f-9a5b-4c77-83b9-50d82d1da919",
     "showTitle": false,
     "title": ""
    }
   },
   "outputs": [
    {
     "output_type": "stream",
     "name": "stdout",
     "output_type": "stream",
     "text": [
      "+------------------------+\n|ltrim(DEST_COUNTRY_NAME)|\n+------------------------+\n|           United States|\n|           United States|\n|           United States|\n|                   Egypt|\n|       Equatorial Guinea|\n+------------------------+\nonly showing top 5 rows\n\n"
     ]
    }
   ],
   "source": [
    "from pyspark.sql.functions import ltrim, rtrim, rpad, lpad, trim, lit\n",
    "df.select(ltrim(col(\"DEST_COUNTRY_NAME\"))).show(5)"
   ]
  },
  {
   "cell_type": "code",
   "execution_count": 0,
   "metadata": {
    "application/vnd.databricks.v1+cell": {
     "cellMetadata": {
      "byteLimit": 2048000,
      "rowLimit": 10000
     },
     "inputWidgets": {},
     "nuid": "fbd9e153-878a-431b-b132-42de9afd4e3b",
     "showTitle": false,
     "title": ""
    }
   },
   "outputs": [
    {
     "output_type": "stream",
     "name": "stdout",
     "output_type": "stream",
     "text": [
      "+------------------------+\n|rtrim(DEST_COUNTRY_NAME)|\n+------------------------+\n|           United States|\n|           United States|\n|           United States|\n|                   Egypt|\n|       Equatorial Guinea|\n+------------------------+\nonly showing top 5 rows\n\n"
     ]
    }
   ],
   "source": [
    "df.select(rtrim(col(\"DEST_COUNTRY_NAME\"))).show(5)"
   ]
  },
  {
   "cell_type": "code",
   "execution_count": 0,
   "metadata": {
    "application/vnd.databricks.v1+cell": {
     "cellMetadata": {
      "byteLimit": 2048000,
      "rowLimit": 10000
     },
     "inputWidgets": {},
     "nuid": "b01b535d-26f8-43fb-a011-3e34a2586167",
     "showTitle": false,
     "title": ""
    }
   },
   "outputs": [
    {
     "output_type": "stream",
     "name": "stdout",
     "output_type": "stream",
     "text": [
      "+------+------+-----+---+----------+\n| ltrim| rtrim| trim| lp|        rp|\n+------+------+-----+---+----------+\n|HELLO | HELLO|HELLO|HEL|HELLO     |\n|HELLO | HELLO|HELLO|HEL|HELLO     |\n|HELLO | HELLO|HELLO|HEL|HELLO     |\n|HELLO | HELLO|HELLO|HEL|HELLO     |\n|HELLO | HELLO|HELLO|HEL|HELLO     |\n+------+------+-----+---+----------+\nonly showing top 5 rows\n\n"
     ]
    }
   ],
   "source": [
    "df.select(\n",
    "    ltrim(lit(\" HELLO \")).alias(\"ltrim\"),\n",
    "    rtrim(lit(\" HELLO \")).alias(\"rtrim\"),\n",
    "    trim(lit(\" HELLO \")).alias(\"trim\"),\n",
    "    lpad(lit(\"HELLO\"), 3, \" \").alias(\"lp\"),\n",
    "    rpad(lit(\"HELLO\"), 10, \" \").alias(\"rp\")).show(5)"
   ]
  },
  {
   "cell_type": "code",
   "execution_count": 0,
   "metadata": {
    "application/vnd.databricks.v1+cell": {
     "cellMetadata": {
      "byteLimit": 2048000,
      "rowLimit": 10000
     },
     "inputWidgets": {},
     "nuid": "cc4f6bdb-ad5d-413d-bb9d-f38f48ea5599",
     "showTitle": false,
     "title": ""
    }
   },
   "outputs": [
    {
     "output_type": "stream",
     "name": "stdout",
     "output_type": "stream",
     "text": [
      "+-----------------+-------------------+-----+\n|DEST_COUNTRY_NAME|ORIGIN_COUNTRY_NAME|count|\n+-----------------+-------------------+-----+\n|       Azerbaijan|      United States|    1|\n|          Belarus|      United States|    1|\n|          Belarus|      United States|    1|\n|           Brunei|      United States|    1|\n|         Bulgaria|      United States|    1|\n+-----------------+-------------------+-----+\nonly showing top 5 rows\n\n"
     ]
    }
   ],
   "source": [
    "df.orderBy(\"count\", \"DEST_COUNTRY_NAME\").show(5)"
   ]
  },
  {
   "cell_type": "code",
   "execution_count": 0,
   "metadata": {
    "application/vnd.databricks.v1+cell": {
     "cellMetadata": {
      "byteLimit": 2048000,
      "rowLimit": 10000
     },
     "inputWidgets": {},
     "nuid": "025cdc50-1eec-40e3-a660-92f2f7bd36ce",
     "showTitle": false,
     "title": ""
    }
   },
   "outputs": [
    {
     "output_type": "stream",
     "name": "stdout",
     "output_type": "stream",
     "text": [
      "+--------------------+-------------------+-----+\n|   DEST_COUNTRY_NAME|ORIGIN_COUNTRY_NAME|count|\n+--------------------+-------------------+-----+\n|Saint Vincent and...|      United States|    1|\n|            Slovakia|      United States|    1|\n|       United States|               Mali|    1|\n|             Liberia|      United States|    1|\n|               Malta|      United States|    1|\n+--------------------+-------------------+-----+\nonly showing top 5 rows\n\n+-----------------+-------------------+------+\n|DEST_COUNTRY_NAME|ORIGIN_COUNTRY_NAME| count|\n+-----------------+-------------------+------+\n|    United States|      United States|370002|\n|    United States|      United States|370002|\n|    United States|      United States|370002|\n|    United States|      United States|370002|\n|    United States|      United States|358354|\n+-----------------+-------------------+------+\nonly showing top 5 rows\n\n"
     ]
    }
   ],
   "source": [
    "from pyspark.sql.functions import desc, asc\n",
    "df.orderBy(expr(\"count desc\")).show(5)\n",
    "df.orderBy(col(\"count\").desc(), col(\"DEST_COUNTRY_NAME\").asc()).show(5)"
   ]
  },
  {
   "cell_type": "code",
   "execution_count": 0,
   "metadata": {
    "application/vnd.databricks.v1+cell": {
     "cellMetadata": {
      "byteLimit": 2048000,
      "rowLimit": 10000
     },
     "inputWidgets": {},
     "nuid": "8e909022-e6f3-4ab2-99fa-3f9f50a35f98",
     "showTitle": false,
     "title": ""
    }
   },
   "outputs": [],
   "source": [
    "dataFrameWay = df.groupBy(\"DEST_COUNTRY_NAME\").count()"
   ]
  },
  {
   "cell_type": "code",
   "execution_count": 0,
   "metadata": {
    "application/vnd.databricks.v1+cell": {
     "cellMetadata": {
      "byteLimit": 2048000,
      "rowLimit": 10000
     },
     "inputWidgets": {},
     "nuid": "dc1f6a71-35ce-472e-943f-d53cc5b301fd",
     "showTitle": false,
     "title": ""
    }
   },
   "outputs": [
    {
     "output_type": "stream",
     "name": "stdout",
     "output_type": "stream",
     "text": [
      "== Physical Plan ==\nAdaptiveSparkPlan isFinalPlan=true\n+- == Final Plan ==\n   ResultQueryStage 1, Statistics(sizeInBytes=24.2 KiB, rowCount=688, ColumnStat: N/A, isRuntime=true)\n   +- *(2) HashAggregate(keys=[DEST_COUNTRY_NAME#1608], functions=[finalmerge_count(merge count#2670L) AS count(1)#2665L])\n      +- AQEShuffleRead coalesced\n         +- ShuffleQueryStage 0, Statistics(sizeInBytes=24.1 KiB, rowCount=688, ColumnStat: N/A, isRuntime=true)\n            +- Exchange hashpartitioning(DEST_COUNTRY_NAME#1608, 200), ENSURE_REQUIREMENTS, [plan_id=1594]\n               +- *(1) HashAggregate(keys=[DEST_COUNTRY_NAME#1608], functions=[partial_count(1) AS count#2670L])\n                  +- FileScan csv [DEST_COUNTRY_NAME#1608] Batched: false, DataFilters: [], Format: CSV, Location: InMemoryFileIndex(9 paths)[dbfs:/FileStore/tables/spk/2010_S_1.CSV, dbfs:/FileStore/tables/spk/20..., PartitionFilters: [], PushedFilters: [], ReadSchema: struct<DEST_COUNTRY_NAME:string>\n+- == Initial Plan ==\n   HashAggregate(keys=[DEST_COUNTRY_NAME#1608], functions=[finalmerge_count(merge count#2670L) AS count(1)#2665L])\n   +- Exchange hashpartitioning(DEST_COUNTRY_NAME#1608, 200), ENSURE_REQUIREMENTS, [plan_id=1582]\n      +- HashAggregate(keys=[DEST_COUNTRY_NAME#1608], functions=[partial_count(1) AS count#2670L])\n         +- FileScan csv [DEST_COUNTRY_NAME#1608] Batched: false, DataFilters: [], Format: CSV, Location: InMemoryFileIndex(9 paths)[dbfs:/FileStore/tables/spk/2010_S_1.CSV, dbfs:/FileStore/tables/spk/20..., PartitionFilters: [], PushedFilters: [], ReadSchema: struct<DEST_COUNTRY_NAME:string>\n\n\n"
     ]
    }
   ],
   "source": [
    "dataFrameWay.explain()"
   ]
  },
  {
   "cell_type": "code",
   "execution_count": 0,
   "metadata": {
    "application/vnd.databricks.v1+cell": {
     "cellMetadata": {
      "byteLimit": 2048000,
      "rowLimit": 10000
     },
     "inputWidgets": {},
     "nuid": "7746df60-143a-42b2-a590-d9851fdc2b8e",
     "showTitle": false,
     "title": ""
    }
   },
   "outputs": [],
   "source": [
    "df_varejo = spark.read.format(\"csv\")\\\n",
    "    .option(\"header\", \"True\")\\\n",
    "    .option(\"inferSchema\", \"True\")\\\n",
    "    .load(\"/FileStore/tables/spk/2010_1_1-1.CSV\")"
   ]
  },
  {
   "cell_type": "code",
   "execution_count": 0,
   "metadata": {
    "application/vnd.databricks.v1+cell": {
     "cellMetadata": {
      "byteLimit": 2048000,
      "rowLimit": 10000
     },
     "inputWidgets": {},
     "nuid": "f897cab6-1251-4581-864a-f17aacf6a033",
     "showTitle": false,
     "title": ""
    }
   },
   "outputs": [
    {
     "output_type": "display_data",
     "data": {
      "text/html": [
       "<style scoped>\n",
       "  .table-result-container {\n",
       "    max-height: 300px;\n",
       "    overflow: auto;\n",
       "  }\n",
       "  table, th, td {\n",
       "    border: 1px solid black;\n",
       "    border-collapse: collapse;\n",
       "  }\n",
       "  th, td {\n",
       "    padding: 5px;\n",
       "  }\n",
       "  th {\n",
       "    text-align: left;\n",
       "  }\n",
       "</style><div class='table-result-container'><table class='table-result'><thead style='background-color: white'><tr><th>InvoiceNo</th><th>StockCode</th><th>Description</th><th>Quantity</th><th>InvoiceDate</th><th>UnitPrice</th><th>CustomerID</th><th>Country</th></tr></thead><tbody><tr><td>536365</td><td>85123A</td><td>WHITE HANGING HEART T-LIGHT HOLDER</td><td>6</td><td>2010-12-01T08:26:00Z</td><td>2.55</td><td>17850.0</td><td>United Kingdom</td></tr><tr><td>536365</td><td>71053</td><td>WHITE METAL LANTERN</td><td>6</td><td>2010-12-01T08:26:00Z</td><td>3.39</td><td>17850.0</td><td>United Kingdom</td></tr><tr><td>536365</td><td>84406B</td><td>CREAM CUPID HEARTS COAT HANGER</td><td>8</td><td>2010-12-01T08:26:00Z</td><td>2.75</td><td>17850.0</td><td>United Kingdom</td></tr><tr><td>536365</td><td>84029G</td><td>KNITTED UNION FLAG HOT WATER BOTTLE</td><td>6</td><td>2010-12-01T08:26:00Z</td><td>3.39</td><td>17850.0</td><td>United Kingdom</td></tr><tr><td>536365</td><td>84029E</td><td>RED WOOLLY HOTTIE WHITE HEART.</td><td>6</td><td>2010-12-01T08:26:00Z</td><td>3.39</td><td>17850.0</td><td>United Kingdom</td></tr><tr><td>536365</td><td>22752</td><td>SET 7 BABUSHKA NESTING BOXES</td><td>2</td><td>2010-12-01T08:26:00Z</td><td>7.65</td><td>17850.0</td><td>United Kingdom</td></tr><tr><td>536365</td><td>21730</td><td>GLASS STAR FROSTED T-LIGHT HOLDER</td><td>6</td><td>2010-12-01T08:26:00Z</td><td>4.25</td><td>17850.0</td><td>United Kingdom</td></tr><tr><td>536366</td><td>22633</td><td>HAND WARMER UNION JACK</td><td>6</td><td>2010-12-01T08:28:00Z</td><td>1.85</td><td>17850.0</td><td>United Kingdom</td></tr><tr><td>536366</td><td>22632</td><td>HAND WARMER RED POLKA DOT</td><td>6</td><td>2010-12-01T08:28:00Z</td><td>1.85</td><td>17850.0</td><td>United Kingdom</td></tr><tr><td>536367</td><td>84879</td><td>ASSORTED COLOUR BIRD ORNAMENT</td><td>32</td><td>2010-12-01T08:34:00Z</td><td>1.69</td><td>13047.0</td><td>United Kingdom</td></tr></tbody></table></div>"
      ]
     },
     "metadata": {
      "application/vnd.databricks.v1+output": {
       "addedWidgets": {},
       "aggData": [],
       "aggError": "",
       "aggOverflow": false,
       "aggSchema": [],
       "aggSeriesLimitReached": false,
       "aggType": "",
       "arguments": {},
       "columnCustomDisplayInfos": {},
       "data": [
        [
         "536365",
         "85123A",
         "WHITE HANGING HEART T-LIGHT HOLDER",
         6,
         "2010-12-01T08:26:00Z",
         2.55,
         17850.0,
         "United Kingdom"
        ],
        [
         "536365",
         "71053",
         "WHITE METAL LANTERN",
         6,
         "2010-12-01T08:26:00Z",
         3.39,
         17850.0,
         "United Kingdom"
        ],
        [
         "536365",
         "84406B",
         "CREAM CUPID HEARTS COAT HANGER",
         8,
         "2010-12-01T08:26:00Z",
         2.75,
         17850.0,
         "United Kingdom"
        ],
        [
         "536365",
         "84029G",
         "KNITTED UNION FLAG HOT WATER BOTTLE",
         6,
         "2010-12-01T08:26:00Z",
         3.39,
         17850.0,
         "United Kingdom"
        ],
        [
         "536365",
         "84029E",
         "RED WOOLLY HOTTIE WHITE HEART.",
         6,
         "2010-12-01T08:26:00Z",
         3.39,
         17850.0,
         "United Kingdom"
        ],
        [
         "536365",
         "22752",
         "SET 7 BABUSHKA NESTING BOXES",
         2,
         "2010-12-01T08:26:00Z",
         7.65,
         17850.0,
         "United Kingdom"
        ],
        [
         "536365",
         "21730",
         "GLASS STAR FROSTED T-LIGHT HOLDER",
         6,
         "2010-12-01T08:26:00Z",
         4.25,
         17850.0,
         "United Kingdom"
        ],
        [
         "536366",
         "22633",
         "HAND WARMER UNION JACK",
         6,
         "2010-12-01T08:28:00Z",
         1.85,
         17850.0,
         "United Kingdom"
        ],
        [
         "536366",
         "22632",
         "HAND WARMER RED POLKA DOT",
         6,
         "2010-12-01T08:28:00Z",
         1.85,
         17850.0,
         "United Kingdom"
        ],
        [
         "536367",
         "84879",
         "ASSORTED COLOUR BIRD ORNAMENT",
         32,
         "2010-12-01T08:34:00Z",
         1.69,
         13047.0,
         "United Kingdom"
        ]
       ],
       "datasetInfos": [],
       "dbfsResultPath": null,
       "isJsonSchema": true,
       "metadata": {},
       "overflow": false,
       "plotOptions": {
        "customPlotOptions": {},
        "displayType": "table",
        "pivotAggregation": null,
        "pivotColumns": null,
        "xColumns": null,
        "yColumns": null
       },
       "removedWidgets": [],
       "schema": [
        {
         "metadata": "{}",
         "name": "InvoiceNo",
         "type": "\"string\""
        },
        {
         "metadata": "{}",
         "name": "StockCode",
         "type": "\"string\""
        },
        {
         "metadata": "{}",
         "name": "Description",
         "type": "\"string\""
        },
        {
         "metadata": "{}",
         "name": "Quantity",
         "type": "\"long\""
        },
        {
         "metadata": "{}",
         "name": "InvoiceDate",
         "type": "\"timestamp\""
        },
        {
         "metadata": "{}",
         "name": "UnitPrice",
         "type": "\"double\""
        },
        {
         "metadata": "{}",
         "name": "CustomerID",
         "type": "\"double\""
        },
        {
         "metadata": "{}",
         "name": "Country",
         "type": "\"string\""
        }
       ],
       "type": "table"
      }
     },
     "output_type": "display_data"
    }
   ],
   "source": [
    "display(df_varejo.head(10))"
   ]
  },
  {
   "cell_type": "code",
   "execution_count": 0,
   "metadata": {
    "application/vnd.databricks.v1+cell": {
     "cellMetadata": {
      "byteLimit": 2048000,
      "rowLimit": 10000
     },
     "inputWidgets": {},
     "nuid": "ae2a5008-aad1-4f89-b067-f9684aac6ed1",
     "showTitle": false,
     "title": ""
    }
   },
   "outputs": [
    {
     "output_type": "stream",
     "name": "stdout",
     "output_type": "stream",
     "text": [
      "+---------+--------------------+\n|InvoiceNo|         Description|\n+---------+--------------------+\n|   536366|HAND WARMER UNION...|\n|   536366|HAND WARMER RED P...|\n|   536367|ASSORTED COLOUR B...|\n|   536367|POPPY'S PLAYHOUSE...|\n|   536367|POPPY'S PLAYHOUSE...|\n+---------+--------------------+\nonly showing top 5 rows\n\n"
     ]
    }
   ],
   "source": [
    "df_varejo.where(col(\"InvoiceNo\") != 536365)\\\n",
    "    .select(\"InvoiceNo\", \"Description\").show(5)"
   ]
  },
  {
   "cell_type": "code",
   "execution_count": 0,
   "metadata": {
    "application/vnd.databricks.v1+cell": {
     "cellMetadata": {
      "byteLimit": 2048000,
      "rowLimit": 10000
     },
     "inputWidgets": {},
     "nuid": "c22ef9f9-97ef-4eff-bcfe-ff29ee680aed",
     "showTitle": false,
     "title": ""
    }
   },
   "outputs": [],
   "source": [
    "df_varejo.createOrReplaceTempView(\"dfVarejo\")"
   ]
  },
  {
   "cell_type": "code",
   "execution_count": 0,
   "metadata": {
    "application/vnd.databricks.v1+cell": {
     "cellMetadata": {
      "byteLimit": 2048000,
      "rowLimit": 10000
     },
     "inputWidgets": {},
     "nuid": "cf00e0de-edc7-4694-8c70-03ee1d7db6b5",
     "showTitle": false,
     "title": ""
    }
   },
   "outputs": [
    {
     "output_type": "stream",
     "name": "stdout",
     "output_type": "stream",
     "text": [
      "+---------+---------+--------------------+--------+-------------------+---------+----------+--------------+\n|InvoiceNo|StockCode|         Description|Quantity|        InvoiceDate|UnitPrice|CustomerID|       Country|\n+---------+---------+--------------------+--------+-------------------+---------+----------+--------------+\n|   536366|    22633|HAND WARMER UNION...|       6|2010-12-01 08:28:00|     1.85|   17850.0|United Kingdom|\n|   536366|    22632|HAND WARMER RED P...|       6|2010-12-01 08:28:00|     1.85|   17850.0|United Kingdom|\n|   536367|    84879|ASSORTED COLOUR B...|      32|2010-12-01 08:34:00|     1.69|   13047.0|United Kingdom|\n|   536367|    22745|POPPY'S PLAYHOUSE...|       6|2010-12-01 08:34:00|      2.1|   13047.0|United Kingdom|\n|   536367|    22748|POPPY'S PLAYHOUSE...|       6|2010-12-01 08:34:00|      2.1|   13047.0|United Kingdom|\n+---------+---------+--------------------+--------+-------------------+---------+----------+--------------+\nonly showing top 5 rows\n\n"
     ]
    }
   ],
   "source": [
    "df_varejo.where(\"InvoiceNo <> 536365\").show(5)"
   ]
  },
  {
   "cell_type": "code",
   "execution_count": 0,
   "metadata": {
    "application/vnd.databricks.v1+cell": {
     "cellMetadata": {
      "byteLimit": 2048000,
      "rowLimit": 10000
     },
     "inputWidgets": {},
     "nuid": "622a121d-cbdc-4a1c-b09b-62fd27216f5d",
     "showTitle": false,
     "title": ""
    }
   },
   "outputs": [
    {
     "output_type": "stream",
     "name": "stdout",
     "output_type": "stream",
     "text": [
      "+---------+---------+--------------------+--------+-------------------+---------+----------+--------------+\n|InvoiceNo|StockCode|         Description|Quantity|        InvoiceDate|UnitPrice|CustomerID|       Country|\n+---------+---------+--------------------+--------+-------------------+---------+----------+--------------+\n|   536365|   85123A|WHITE HANGING HEA...|       6|2010-12-01 08:26:00|     2.55|   17850.0|United Kingdom|\n|   536365|    71053| WHITE METAL LANTERN|       6|2010-12-01 08:26:00|     3.39|   17850.0|United Kingdom|\n|   536365|   84406B|CREAM CUPID HEART...|       8|2010-12-01 08:26:00|     2.75|   17850.0|United Kingdom|\n|   536365|   84029G|KNITTED UNION FLA...|       6|2010-12-01 08:26:00|     3.39|   17850.0|United Kingdom|\n|   536365|   84029E|RED WOOLLY HOTTIE...|       6|2010-12-01 08:26:00|     3.39|   17850.0|United Kingdom|\n+---------+---------+--------------------+--------+-------------------+---------+----------+--------------+\nonly showing top 5 rows\n\n"
     ]
    }
   ],
   "source": [
    "df_varejo.where(\"InvoiceNo = 536365\").show(5)"
   ]
  },
  {
   "cell_type": "code",
   "execution_count": 0,
   "metadata": {
    "application/vnd.databricks.v1+cell": {
     "cellMetadata": {
      "byteLimit": 2048000,
      "rowLimit": 10000
     },
     "inputWidgets": {},
     "nuid": "c4f86e7f-0022-4f29-9aed-a0b0ef5d3099",
     "showTitle": false,
     "title": ""
    }
   },
   "outputs": [],
   "source": [
    "from pyspark.sql.functions import instr\n",
    "priceFilter = col(\"UnitPrice\") > 600\n",
    "descripFilter = instr(df_varejo.Description, \"POSTAGE\") >= 1"
   ]
  },
  {
   "cell_type": "code",
   "execution_count": 0,
   "metadata": {
    "application/vnd.databricks.v1+cell": {
     "cellMetadata": {
      "byteLimit": 2048000,
      "rowLimit": 10000
     },
     "inputWidgets": {},
     "nuid": "abcbdf2e-e875-49a1-9a5f-8213082445d0",
     "showTitle": false,
     "title": ""
    }
   },
   "outputs": [
    {
     "output_type": "stream",
     "name": "stdout",
     "output_type": "stream",
     "text": [
      "+---------+---------+--------------+--------+-------------------+---------+----------+--------------+\n|InvoiceNo|StockCode|   Description|Quantity|        InvoiceDate|UnitPrice|CustomerID|       Country|\n+---------+---------+--------------+--------+-------------------+---------+----------+--------------+\n|   536544|      DOT|DOTCOM POSTAGE|       1|2010-12-01 14:32:00|   569.77|      NULL|United Kingdom|\n|   536592|      DOT|DOTCOM POSTAGE|       1|2010-12-01 17:06:00|   607.49|      NULL|United Kingdom|\n+---------+---------+--------------+--------+-------------------+---------+----------+--------------+\n\n"
     ]
    }
   ],
   "source": [
    "df_varejo.where(df_varejo.StockCode.isin(\"DOT\")).where(priceFilter | descripFilter).show()"
   ]
  },
  {
   "cell_type": "code",
   "execution_count": 0,
   "metadata": {
    "application/vnd.databricks.v1+cell": {
     "cellMetadata": {
      "byteLimit": 2048000,
      "rowLimit": 10000
     },
     "inputWidgets": {},
     "nuid": "36d08d47-b06a-4b56-91d1-991d78007e92",
     "showTitle": false,
     "title": ""
    }
   },
   "outputs": [],
   "source": [
    "DOTCodeFilter = col(\"StockCode\") == \"DOT\"\n",
    "priceFilter = col(\"UnitPrice\") > 600\n",
    "descripFilter = instr(col(\"Description\"), \"POSTAGE\") >= 1"
   ]
  },
  {
   "cell_type": "code",
   "execution_count": 0,
   "metadata": {
    "application/vnd.databricks.v1+cell": {
     "cellMetadata": {
      "byteLimit": 2048000,
      "rowLimit": 10000
     },
     "inputWidgets": {},
     "nuid": "70bba6ac-acd7-477f-ae52-42c935c29689",
     "showTitle": false,
     "title": ""
    }
   },
   "outputs": [
    {
     "output_type": "stream",
     "name": "stdout",
     "output_type": "stream",
     "text": [
      "+---------+-----------+\n|unitPrice|isExpensive|\n+---------+-----------+\n|   569.77|       true|\n|   607.49|       true|\n+---------+-----------+\n\n"
     ]
    }
   ],
   "source": [
    "df_varejo.withColumn(\"isExpensive\", DOTCodeFilter & (priceFilter | descripFilter))\\\n",
    "    .where(\"isExpensive\").select(\"unitPrice\", \"isExpensive\").show(5)"
   ]
  }
 ],
 "metadata": {
  "application/vnd.databricks.v1+notebook": {
   "dashboards": [
    {
     "elements": [
      {
       "dashboardResultIndex": 0,
       "elementNUID": "af53a2de-79e6-4bf5-a260-33183380377c",
       "elementType": "command",
       "guid": "5b09ce87-a465-459d-877a-8fc471d021e3",
       "options": null,
       "position": null,
       "resultIndex": null
      }
     ],
     "globalVars": {},
     "guid": "",
     "layoutOption": {
      "grid": true,
      "stack": true
     },
     "nuid": "b9e1db5d-5aea-4abe-9862-05902a393913",
     "origId": 4132432938651816,
     "title": "Untitled",
     "version": "DashboardViewV1",
     "width": 1024
    }
   ],
   "language": "python",
   "notebookMetadata": {
    "pythonIndentUnit": 4
   },
   "notebookName": "notebookSpark1",
   "widgets": {}
  }
 },
 "nbformat": 4,
 "nbformat_minor": 0
}
